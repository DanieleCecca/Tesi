{
 "cells": [
  {
   "attachments": {},
   "cell_type": "markdown",
   "metadata": {},
   "source": [
    "# **Progetto di Tesi: Classificazione e Correzione delle pose di yoga**"
   ]
  },
  {
   "attachments": {},
   "cell_type": "markdown",
   "metadata": {},
   "source": [
    "Questo progetto si pone come obbiettivo quello di creare un sistema, che poi verrà utilizzato all'interno di una web-app, che permette la classificazione e la successiva correzione delle pose di yoga sia in real-time che in differita;\n",
    "\n",
    "Pertanto questo progetto si articolerà in 2 fasi principali:\n",
    "\n",
    "1. **Classificazione delle pose**\n",
    "2. **Correzione delle pose**"
   ]
  },
  {
   "attachments": {},
   "cell_type": "markdown",
   "metadata": {},
   "source": [
    "## **1. Classificazione delle pose**"
   ]
  },
  {
   "attachments": {},
   "cell_type": "markdown",
   "metadata": {},
   "source": [
    "In questa prima fase del sistema verrà implementato un sistema che, come anticipato, permetterà la classificazione delle varie pose eseguite.\n",
    "\n",
    "In questa fase non verrà utilizzato un solo modello per la classificazione ma verranno confrontati una serie di modelli, per determinare quale tra questi risulta il migliore non solo in termini di efficacia ma anche in termini di efficienza, ossia in relazione alla complessità spaziale e temporale e quindi alle risorse utilizzate.\n",
    "\n",
    "I modelli confrontati saranno sia modelli di **Deep Learning**, sia modelli di **Machine Learning** più semplici:\n",
    "\n",
    "- **SVM**\n",
    "- **Random Forest**\n",
    "- **LSTM**\n",
    "- **GRU**\n",
    "- **RNN**\n"
   ]
  },
  {
   "attachments": {},
   "cell_type": "markdown",
   "metadata": {},
   "source": [
    "Importo i moduli e le librerie di interesse, utili per la realizzazione di questa fase del sistema."
   ]
  },
  {
   "cell_type": "code",
   "execution_count": 2,
   "metadata": {},
   "outputs": [],
   "source": [
    "import cv2\n",
    "import tensorflow as tf\n",
    "import numpy as np\n",
    "import os \n",
    "from matplotlib import pyplot as plt\n",
    "import time\n",
    "import seaborn as sns\n",
    "import pandas as pd\n",
    "\n",
    "from sklearn.model_selection import train_test_split \n",
    "from tensorflow.keras.utils import to_categorical\n",
    "from sklearn.preprocessing import LabelEncoder\n",
    "\n",
    "#Deep Learning\n",
    "from tensorflow.keras.models import Sequential\n",
    "from tensorflow.keras.layers import Input,LSTM,Dense, GRU,SimpleRNN\n",
    "from tensorflow.keras.callbacks import TensorBoard\n",
    "\n",
    "#Metriche di valutazione\n",
    "from sklearn.metrics import ConfusionMatrixDisplay \n",
    "from sklearn.metrics import precision_score\n",
    "from sklearn.metrics import recall_score\n",
    "from sklearn.metrics import f1_score\n",
    "from sklearn.metrics import accuracy_score"
   ]
  },
  {
   "attachments": {},
   "cell_type": "markdown",
   "metadata": {},
   "source": [
    "### **Dataset**"
   ]
  },
  {
   "attachments": {},
   "cell_type": "markdown",
   "metadata": {},
   "source": [
    "#### **Organizzazione & Analisi Esplorativa dei Dati video**"
   ]
  },
  {
   "attachments": {},
   "cell_type": "markdown",
   "metadata": {},
   "source": [
    "Il nostro dataset si compone di una serie di video(al momento 88) , rappresentati sia uomini che donne di diversa età, che svolgono diverse pose di yoga(al momento 6).\n",
    "\n",
    "Tali video sono stati poi ripartiti manualmente in 6 diverse cartelle rappresentati le 6 diverse pose.\n",
    "\n",
    "Per poter garantire una futura aggiunta di video e pose, sono stati realizzati una serie di script che permettono di lavorare con cartelle e file."
   ]
  },
  {
   "attachments": {},
   "cell_type": "markdown",
   "metadata": {},
   "source": [
    "Innazitutto definiamo il percorso del nostro dataset"
   ]
  },
  {
   "cell_type": "code",
   "execution_count": 3,
   "metadata": {},
   "outputs": [
    {
     "name": "stdout",
     "output_type": "stream",
     "text": [
      "\\progetto_tesi\\dataset\n"
     ]
    }
   ],
   "source": [
    "DATA_PATH = os.path.join('\\progetto_tesi','dataset')\n",
    "print(DATA_PATH)"
   ]
  },
  {
   "attachments": {},
   "cell_type": "markdown",
   "metadata": {},
   "source": [
    "Raccogliamo le pose disponibili all'interno di una lista, in modo tale che in futuro sia più facile aggiungere nuove posizioni, sfruttando questa lista.\n",
    "\n",
    "In particolare in questo momento avremo le seguenti 6 pose:\n",
    "\n",
    "- **Cobra (Bhuj)**\n",
    "- **Tree (Vriksh)**\n",
    "- **Mountain (Tada)**\n",
    "- **Lotus (Padam)**\n",
    "- **Triangle (Trik)**\n",
    "- **Corpse (Shav)**"
   ]
  },
  {
   "cell_type": "code",
   "execution_count": 4,
   "metadata": {},
   "outputs": [
    {
     "name": "stdout",
     "output_type": "stream",
     "text": [
      "['Cobra' 'Corpse' 'Lotus' 'Mountain' 'Tree' 'Triangle']\n"
     ]
    }
   ],
   "source": [
    "dir_list = os.listdir(DATA_PATH) \n",
    "actions = dir_list\n",
    "actions=np.array(actions)\n",
    "print(actions)"
   ]
  },
  {
   "attachments": {},
   "cell_type": "markdown",
   "metadata": {},
   "source": [
    "Creiamo una funzione che, sfruttando gli script prima creati, ci permetta di raccogliere tutti i video all'interno di una lista(il percorso dei video)."
   ]
  },
  {
   "cell_type": "code",
   "execution_count": 5,
   "metadata": {},
   "outputs": [],
   "source": [
    "def get_video_list(data_path,actions):\n",
    "        video_list = []\n",
    "        for file in actions:\n",
    "                file_path = os.path.join(DATA_PATH, file)\n",
    "                \n",
    "                for f in os.listdir(file_path):\n",
    "                        name, ext = os.path.splitext(f)\n",
    "                        if ext == '.mp4':\n",
    "                                video_list.append(f)\n",
    "\n",
    "        return video_list"
   ]
  },
  {
   "attachments": {},
   "cell_type": "markdown",
   "metadata": {},
   "source": [
    "Analizziamo ora il nostro dataset in maniera più approfondita, creando una serie di funzioni che ci permettarà una serie di informazioni che ci potranno risultare utili anche in fasi più avanzate del nostro sistema."
   ]
  },
  {
   "attachments": {},
   "cell_type": "markdown",
   "metadata": {},
   "source": [
    "Definisco una funzione che mi permette di contare il numero di video presenti nel nostro dataset, per ognuna delle quali è stata creata, come anticipato prima, una cartella."
   ]
  },
  {
   "cell_type": "code",
   "execution_count": 6,
   "metadata": {},
   "outputs": [],
   "source": [
    "def count_videos(directory_path, actions):\n",
    "    num_videos = 0\n",
    "    for file in actions:\n",
    "        file_path = os.path.join(directory_path, file)\n",
    "        for f in os.listdir(file_path):\n",
    "            name, ext = os.path.splitext(f)\n",
    "            if ext == '.mp4':\n",
    "                num_videos+=1\n",
    "    return num_videos\n",
    "\n",
    "    "
   ]
  },
  {
   "attachments": {},
   "cell_type": "markdown",
   "metadata": {},
   "source": [
    "Definisco la funzione che mi permette di ottenere per ogni video la seguente tupla:\n",
    "\n",
    "**[nome video, frames totali, fps, durata in sec]**.\n",
    "\n",
    "Pertanto questa funzione restituirà una matrice che raccoglierà tutte queste tuple per ogni tipo di posa:\n",
    "\n",
    "**[nome posa [tupla precedente]]**"
   ]
  },
  {
   "cell_type": "code",
   "execution_count": 7,
   "metadata": {},
   "outputs": [],
   "source": [
    "def videos_lenght(directory_path, actions):\n",
    "    \n",
    "    all_videos=[]\n",
    "    for file in actions:\n",
    "        file_path = os.path.join(directory_path, file)\n",
    "        \n",
    "        video_list = []\n",
    "        for f in os.listdir(file_path):\n",
    "            name, ext = os.path.splitext(f)\n",
    "            if ext == '.mp4':\n",
    "                video_list.append(f)\n",
    "        \n",
    "        directory_videos = []\n",
    "        for video in video_list:\n",
    "            video_path = os.path.join(file_path,video)\n",
    "            \n",
    "            cap = cv2.VideoCapture(video_path)   \n",
    "            \n",
    "            frames = cap.get(cv2.CAP_PROP_FRAME_COUNT)\n",
    "            fps = cap.get(cv2.CAP_PROP_FPS)\n",
    "            \n",
    "            # calculate duration of the video\n",
    "            seconds = round(frames / fps)\n",
    "\n",
    "            directory_videos.append([video, int(frames), int(fps), int(seconds)])\n",
    "            \n",
    "            cap.release()\n",
    "            \n",
    "        all_videos.append([file, directory_videos])\n",
    "        \n",
    "    return all_videos\n",
    "    \n",
    "    \n",
    "    "
   ]
  },
  {
   "attachments": {},
   "cell_type": "markdown",
   "metadata": {},
   "source": [
    "Osserviamo quindi il nostro dataset stampando il risultato delle due funzioni precedenti."
   ]
  },
  {
   "cell_type": "code",
   "execution_count": 8,
   "metadata": {},
   "outputs": [
    {
     "name": "stdout",
     "output_type": "stream",
     "text": [
      "88\n",
      "[['Cobra', [['Abhay_Bhuj.mp4', 545, 30, 18], ['Kaustuk_Bhuj.mp4', 1263, 30, 42], ['Santosh_Bhuj2.mp4', 932, 30, 31], ['Veena_Bhu.mp4', 1489, 30, 50], ['Ameya_Bhuj.mp4', 1413, 30, 47], ['Bhumi_Bhuj.mp4', 1227, 30, 41], ['deepa_bhujan.mp4', 1257, 30, 42], ['Dristi_Bhuj.mp4', 1607, 30, 54], ['Harshav_Bhuj.mp4', 1468, 30, 49], ['lakshmi_bhujang.mp4', 1254, 30, 42], ['Piyush_Bhuj.mp4', 1411, 30, 47], ['Pranshul_Bhuj.mp4', 1242, 30, 41], ['Rakesh_Bhuj.mp4', 1774, 30, 59], ['Santosh_Bhuj.mp4', 818, 30, 27], ['Sarthak_Bhuj.mp4', 1140, 30, 38], ['Shiv_bhuj.mp4', 1897, 30, 63]]], ['Corpse', [['Shiva_Shavasana.mp4', 1391, 30, 46], ['Dristi_Shav.mp4', 1764, 30, 59], ['Harshav_Shav.mp4', 1262, 30, 42], ['Piyush_Shav.mp4', 1247, 30, 42], ['Santosh_Shav.mp4', 929, 30, 31], ['Sathak_shav.mp4', 937, 30, 31], ['Veena_Shav.mp4', 1345, 30, 45], ['Abhay_Shav.mp4', 1307, 30, 44], ['Ameya_Shav.mp4', 1592, 30, 53], ['Bhumi_Shav.mp4', 1239, 30, 41], ['deepa_shava.mp4', 1258, 30, 42], ['Kaustuk_Shav.mp4', 1606, 30, 54], ['Pranshul_Shav.mp4', 1352, 30, 45], ['Rakesh_Shav.mp4', 1973, 30, 66], ['lakshmi_savasan.mp4', 1305, 30, 43]]], ['Lotus', [['veena_padmasan.mp4', 1281, 30, 43], ['Ameya_Padam.mp4', 1338, 30, 45], ['Abhay_Padam.mp4', 867, 30, 29], ['Harshav_Padam.mp4', 1280, 30, 43], ['lakshmi_padam.mp4', 1258, 30, 42], ['Piyush_Padam.mp4', 1250, 30, 42], ['Rakesh_Padam.mp4', 1421, 30, 47], ['Santosh_Padam.mp4', 767, 30, 26], ['Sarthak_padam.mp4', 1409, 30, 47], ['deepa_padmasan.mp4', 1258, 30, 42], ['Bhumi_Padam.mp4', 1330, 30, 44], ['Dristi_Padam.mp4', 1807, 30, 60], ['Shiv_Padam.mp4', 1322, 30, 44], ['Kaustuk_Padam.mp4', 1310, 30, 44]]], ['Mountain', [['Shiva_Tadasana.mp4', 1291, 30, 43], ['veena_tadasna.mp4', 1297, 30, 43], ['Abhay_Tada.mp4', 1521, 30, 51], ['Ameya_Tadasan.mp4', 1563, 30, 52], ['deepa_tadasan.mp4', 1247, 30, 42], ['Dristi_Tadasan.mp4', 1509, 30, 50], ['Pranshul_Tad.mp4', 1232, 30, 41], ['Rakesh_Tadasna.mp4', 1548, 30, 52], ['Bhumi_Tad.mp4', 1234, 30, 41], ['Kaustuk_Tadasan.mp4', 1294, 30, 43], ['Piyush_Tad.mp4', 1233, 30, 41], ['Santosh_Tada.mp4', 927, 30, 31], ['Sarthak_Tada.mp4', 1636, 30, 55], ['Harshav_Tad.mp4', 1278, 30, 43], ['lakshmi_tadasan.mp4', 1266, 30, 42]]], ['Tree', [['Abhay_Vriksh.mp4', 1776, 30, 59], ['Ameya_Vriksh.mp4', 1557, 30, 52], ['Bhumi_Vriksh.mp4', 1530, 30, 51], ['deepa_vriksh.mp4', 1243, 30, 41], ['Dristi_Vriksh.mp4', 1727, 30, 58], ['Harshav_Vriksh.mp4', 1462, 30, 49], ['Kaustuk_Vriksh.mp4', 1344, 30, 45], ['lakshmi_vriksh.mp4', 1262, 30, 42], ['Piyush_Vriksh.mp4', 1234, 30, 41], ['Rakesh_Vriksh.mp4', 1560, 30, 52], ['Santosh_vriksh.mp4', 1553, 30, 52], ['Sarthak_Vriksh.mp4', 1610, 30, 54], ['Shiva_Vriksh.mp4', 1877, 30, 63], ['veena_vriksh.mp4', 1253, 30, 42], ['Pranshul_Vriksh.mp4', 1231, 30, 41]]], ['Triangle', [['Pranshul_Trik.mp4', 1217, 30, 41], ['Rakesh_Trik.mp4', 1457, 30, 49], ['Sarthak_Trik.mp4', 1228, 30, 41], ['Shiva_Trik.mp4', 1474, 30, 49], ['Piyush_Trikon.mp4', 1243, 30, 41], ['Abhay_Trik.mp4', 1332, 30, 44], ['Bhumi_Trik.mp4', 1262, 30, 42], ['deepa_trikon.mp4', 1179, 30, 39], ['Dristi_Trik.mp4', 1550, 30, 52], ['Harshav_Trikon.mp4', 1448, 30, 48], ['Kaustuk_Trik.mp4', 1383, 30, 46], ['Ameya_Trikonasana.mp4', 1514, 30, 50], ['Santosh_Trik.mp4', 1243, 30, 41]]]]\n"
     ]
    }
   ],
   "source": [
    "num_videos = count_videos(DATA_PATH, actions)\n",
    "print(num_videos)\n",
    "\n",
    "info_videos = videos_lenght(DATA_PATH, actions)\n",
    "print(info_videos)\n"
   ]
  },
  {
   "cell_type": "code",
   "execution_count": 9,
   "metadata": {},
   "outputs": [],
   "source": [
    "info_videos=np.array(info_videos,dtype=object)"
   ]
  },
  {
   "cell_type": "code",
   "execution_count": 10,
   "metadata": {},
   "outputs": [],
   "source": [
    "#info_videos[5][1][3][1]# tip_posa tuple/nomeposa qualetuple nome/frame/fps/"
   ]
  },
  {
   "attachments": {},
   "cell_type": "markdown",
   "metadata": {},
   "source": [
    "#### **Human Pose Estimation: MoveNet**"
   ]
  },
  {
   "attachments": {},
   "cell_type": "markdown",
   "metadata": {},
   "source": [
    "Il nostro dataset si compone di una serie di video ripartiti in diverse cartelle, a seconda della posa, in cui vengono eseguite le diverse pose.\n",
    "Per poter effettuare però una classificazione dei video, dobbiamo affrontare il problema della **Human pose Estimation**.\n",
    "\n",
    "Per risolvere tale problema si è decisio di utilizzare **MoveNet**:\n",
    "\n",
    "\n",
    "**MoveNet** è un modello ultra veloce e preciso che rileva **17 punti chiave** di un corpo. Il modello è offerto su *TF Hub* con due varianti, note come *Lightning* e *Thunder*.\n",
    "Lightning è destinato ad applicazioni critiche per la latenza, mentre Thunder è destinato ad applicazioni che richiedono un'elevata precisione. \n",
    "Entrambi i modelli funzionano più velocemente del tempo reale (oltre 30 FPS) sulla maggior parte dei desktop, laptop e telefoni moderni, il che si rivela fondamentale per le applicazioni di fitness, salute e benessere dal vivo."
   ]
  },
  {
   "attachments": {
    "image.png": {
     "image/png": "[encoded data removed]"
    }
   },
   "cell_type": "markdown",
   "metadata": {},
   "source": [
    "![image.png](attachment:image.png)"
   ]
  },
  {
   "attachments": {},
   "cell_type": "markdown",
   "metadata": {},
   "source": [
    "Carico il modello MoveNet scaricato dall'hub di tensorflow"
   ]
  },
  {
   "cell_type": "code",
   "execution_count": 11,
   "metadata": {},
   "outputs": [],
   "source": [
    "# Initialize the TFLite interpreter\n",
    "interpreter = tf.lite.Interpreter(model_path=\"lite-model_movenet_singlepose_thunder_3.tflite\")\n",
    "interpreter.allocate_tensors()"
   ]
  },
  {
   "attachments": {},
   "cell_type": "markdown",
   "metadata": {},
   "source": [
    "Definisco una funzione che effettui la predizioze dei landmarks che in questo caso saranno i joints"
   ]
  },
  {
   "cell_type": "code",
   "execution_count": 12,
   "metadata": {},
   "outputs": [],
   "source": [
    "def movenet(input_image):\n",
    "    \n",
    "    input_image = tf.cast(input_image, dtype = tf.float32)\n",
    "        \n",
    "    # Setup input and output\n",
    "    input_details = interpreter.get_input_details()\n",
    "    output_details = interpreter.get_output_details()\n",
    "    \n",
    "    # Make Predictions\n",
    "    interpreter.set_tensor(input_details[0]['index'], input_image.numpy())\n",
    "    interpreter.invoke()\n",
    "    keypoints_with_scores = interpreter.get_tensor(output_details[0]['index'])\n",
    "    \n",
    "    return keypoints_with_scores\n",
    "\n",
    "    "
   ]
  },
  {
   "attachments": {},
   "cell_type": "markdown",
   "metadata": {},
   "source": [
    "Definisco un dizionario che mappi i joint trovati al corrispettivo termine che rappresenta il joint."
   ]
  },
  {
   "cell_type": "code",
   "execution_count": 13,
   "metadata": {},
   "outputs": [],
   "source": [
    "# Dictionary that maps from joint names to keypoint indices.\n",
    "KEYPOINT_DICT = {\n",
    "    'nose': 0,\n",
    "    'left_eye': 1,\n",
    "    'right_eye': 2,\n",
    "    'left_ear': 3,\n",
    "    'right_ear': 4,\n",
    "    'left_shoulder': 5,\n",
    "    'right_shoulder': 6,\n",
    "    'left_elbow': 7,\n",
    "    'right_elbow': 8,\n",
    "    'left_wrist': 9,\n",
    "    'right_wrist': 10,\n",
    "    'left_hip': 11,\n",
    "    'right_hip': 12,\n",
    "    'left_knee': 13,\n",
    "    'right_knee': 14,\n",
    "    'left_ankle': 15,\n",
    "    'right_ankle': 16\n",
    "}"
   ]
  },
  {
   "attachments": {},
   "cell_type": "markdown",
   "metadata": {},
   "source": [
    "Poichè movenet lavora con immagini in input di dimensione molto bassa affinchè funzioni in maniera corretta, specialmente nel caso dei video definisco una serie di funzioni che mi permette di croppare le immagini sul soggetto di interesse, in modo tale che i keypoint vengano individuati in maniera corretta."
   ]
  },
  {
   "cell_type": "code",
   "execution_count": 14,
   "metadata": {},
   "outputs": [],
   "source": [
    "# Confidence score to determine whether a keypoint prediction is reliable.\n",
    "MIN_CROP_KEYPOINT_SCORE = 0.2\n",
    "\n",
    "def init_crop_region(image_height, image_width):\n",
    "  \"\"\"Defines the default crop region.\n",
    "\n",
    "  The function provides the initial crop region (pads the full image from both\n",
    "  sides to make it a square image) when the algorithm cannot reliably determine\n",
    "  the crop region from the previous frame.\n",
    "  \"\"\"\n",
    "  if image_width > image_height:\n",
    "    box_height = image_width / image_height\n",
    "    box_width = 1.0\n",
    "    y_min = (image_height / 2 - image_width / 2) / image_height\n",
    "    x_min = 0.0\n",
    "  else:\n",
    "    box_height = 1.0\n",
    "    box_width = image_height / image_width\n",
    "    y_min = 0.0\n",
    "    x_min = (image_width / 2 - image_height / 2) / image_width\n",
    "\n",
    "  return {\n",
    "    'y_min': y_min,\n",
    "    'x_min': x_min,\n",
    "    'y_max': y_min + box_height,\n",
    "    'x_max': x_min + box_width,\n",
    "    'height': box_height,\n",
    "    'width': box_width\n",
    "  }\n",
    "\n",
    "def torso_visible(keypoints):\n",
    "  \"\"\"Checks whether there are enough torso keypoints.\n",
    "\n",
    "  This function checks whether the model is confident at predicting one of the\n",
    "  shoulders/hips which is required to determine a good crop region.\n",
    "  \"\"\"\n",
    "  return ((keypoints[0, 0, KEYPOINT_DICT['left_hip'], 2] >\n",
    "           MIN_CROP_KEYPOINT_SCORE or\n",
    "          keypoints[0, 0, KEYPOINT_DICT['right_hip'], 2] >\n",
    "           MIN_CROP_KEYPOINT_SCORE) and\n",
    "          (keypoints[0, 0, KEYPOINT_DICT['left_shoulder'], 2] >\n",
    "           MIN_CROP_KEYPOINT_SCORE or\n",
    "          keypoints[0, 0, KEYPOINT_DICT['right_shoulder'], 2] >\n",
    "           MIN_CROP_KEYPOINT_SCORE))\n",
    "\n",
    "def determine_torso_and_body_range(\n",
    "    keypoints, target_keypoints, center_y, center_x):\n",
    "  \"\"\"Calculates the maximum distance from each keypoints to the center location.\n",
    "\n",
    "  The function returns the maximum distances from the two sets of keypoints:\n",
    "  full 17 keypoints and 4 torso keypoints. The returned information will be\n",
    "  used to determine the crop size. See determineCropRegion for more detail.\n",
    "  \"\"\"\n",
    "  torso_joints = ['left_shoulder', 'right_shoulder', 'left_hip', 'right_hip']\n",
    "  max_torso_yrange = 0.0\n",
    "  max_torso_xrange = 0.0\n",
    "  for joint in torso_joints:\n",
    "    dist_y = abs(center_y - target_keypoints[joint][0])\n",
    "    dist_x = abs(center_x - target_keypoints[joint][1])\n",
    "    if dist_y > max_torso_yrange:\n",
    "      max_torso_yrange = dist_y\n",
    "    if dist_x > max_torso_xrange:\n",
    "      max_torso_xrange = dist_x\n",
    "\n",
    "  max_body_yrange = 0.0\n",
    "  max_body_xrange = 0.0\n",
    "  for joint in KEYPOINT_DICT.keys():\n",
    "    if keypoints[0, 0, KEYPOINT_DICT[joint], 2] < MIN_CROP_KEYPOINT_SCORE:\n",
    "      continue\n",
    "    dist_y = abs(center_y - target_keypoints[joint][0]);\n",
    "    dist_x = abs(center_x - target_keypoints[joint][1]);\n",
    "    if dist_y > max_body_yrange:\n",
    "      max_body_yrange = dist_y\n",
    "\n",
    "    if dist_x > max_body_xrange:\n",
    "      max_body_xrange = dist_x\n",
    "\n",
    "  return [max_torso_yrange, max_torso_xrange, max_body_yrange, max_body_xrange]\n",
    "\n",
    "def determine_crop_region(\n",
    "      keypoints, image_height,\n",
    "      image_width):\n",
    "  \"\"\"Determines the region to crop the image for the model to run inference on.\n",
    "\n",
    "  The algorithm uses the detected joints from the previous frame to estimate\n",
    "  the square region that encloses the full body of the target person and\n",
    "  centers at the midpoint of two hip joints. The crop size is determined by\n",
    "  the distances between each joints and the center point.\n",
    "  When the model is not confident with the four torso joint predictions, the\n",
    "  function returns a default crop which is the full image padded to square.\n",
    "  \"\"\"\n",
    "  target_keypoints = {}\n",
    "  for joint in KEYPOINT_DICT.keys():\n",
    "    target_keypoints[joint] = [\n",
    "      keypoints[0, 0, KEYPOINT_DICT[joint], 0] * image_height,\n",
    "      keypoints[0, 0, KEYPOINT_DICT[joint], 1] * image_width\n",
    "    ]\n",
    "\n",
    "  if torso_visible(keypoints):\n",
    "    center_y = (target_keypoints['left_hip'][0] +\n",
    "                target_keypoints['right_hip'][0]) / 2;\n",
    "    center_x = (target_keypoints['left_hip'][1] +\n",
    "                target_keypoints['right_hip'][1]) / 2;\n",
    "\n",
    "    (max_torso_yrange, max_torso_xrange,\n",
    "      max_body_yrange, max_body_xrange) = determine_torso_and_body_range(\n",
    "          keypoints, target_keypoints, center_y, center_x)\n",
    "\n",
    "    crop_length_half = np.amax(\n",
    "        [max_torso_xrange * 1.9, max_torso_yrange * 1.9,\n",
    "          max_body_yrange * 1.2, max_body_xrange * 1.2])\n",
    "\n",
    "    tmp = np.array(\n",
    "        [center_x, image_width - center_x, center_y, image_height - center_y])\n",
    "    crop_length_half = np.amin(\n",
    "        [crop_length_half, np.amax(tmp)]);\n",
    "\n",
    "    crop_corner = [center_y - crop_length_half, center_x - crop_length_half];\n",
    "\n",
    "    if crop_length_half > max(image_width, image_height) / 2:\n",
    "      return init_crop_region(image_height, image_width)\n",
    "    else:\n",
    "      crop_length = crop_length_half * 2;\n",
    "      return {\n",
    "        'y_min': crop_corner[0] / image_height,\n",
    "        'x_min': crop_corner[1] / image_width,\n",
    "        'y_max': (crop_corner[0] + crop_length) / image_height,\n",
    "        'x_max': (crop_corner[1] + crop_length) / image_width,\n",
    "        'height': (crop_corner[0] + crop_length) / image_height -\n",
    "            crop_corner[0] / image_height,\n",
    "        'width': (crop_corner[1] + crop_length) / image_width -\n",
    "            crop_corner[1] / image_width\n",
    "      }\n",
    "  else:\n",
    "    return init_crop_region(image_height, image_width)\n",
    "\n",
    "def crop_and_resize(image, crop_region, crop_size):\n",
    "  \"\"\"Crops and resize the image to prepare for the model input.\"\"\"\n",
    "  boxes=[[crop_region['y_min'], crop_region['x_min'],\n",
    "          crop_region['y_max'], crop_region['x_max']]]\n",
    "  output_image = tf.image.crop_and_resize(\n",
    "      image, box_indices=[0], boxes=boxes, crop_size=crop_size)\n",
    "  return output_image"
   ]
  },
  {
   "attachments": {},
   "cell_type": "markdown",
   "metadata": {},
   "source": [
    "Definisco la funzione che faccia l'inferenza sull'immagine/video dopo aver effettuato il crop."
   ]
  },
  {
   "cell_type": "code",
   "execution_count": 15,
   "metadata": {},
   "outputs": [],
   "source": [
    "def run_inference(movenet, image, crop_region, crop_size):\n",
    "  \"\"\"Runs model inferece on the cropped region.\n",
    "\n",
    "  The function runs the model inference on the cropped region and updates the\n",
    "  model output to the original image coordinate system.\n",
    "  \"\"\"\n",
    "  image_height, image_width, _ = image.shape\n",
    "  input_image = crop_and_resize(\n",
    "    tf.expand_dims(image, axis=0), crop_region, crop_size=crop_size)\n",
    "  # Run model inference.\n",
    "  keypoints_with_scores = movenet(input_image)\n",
    "  # Update the coordinates.\n",
    "  for idx in range(17):\n",
    "    keypoints_with_scores[0, 0, idx, 0] = (\n",
    "        crop_region['y_min'] * image_height +\n",
    "        crop_region['height'] * image_height *\n",
    "        keypoints_with_scores[0, 0, idx, 0]) / image_height\n",
    "    keypoints_with_scores[0, 0, idx, 1] = (\n",
    "        crop_region['x_min'] * image_width +\n",
    "        crop_region['width'] * image_width *\n",
    "        keypoints_with_scores[0, 0, idx, 1]) / image_width\n",
    "  return keypoints_with_scores"
   ]
  },
  {
   "attachments": {},
   "cell_type": "markdown",
   "metadata": {},
   "source": [
    "Per poter mostare a schermo lo scheletro del corpo umano, definito dai 17 punti e dagli che collegano questi ultimi defino 2 funzioni, una per i punti e una per gli archi.\n"
   ]
  },
  {
   "attachments": {},
   "cell_type": "markdown",
   "metadata": {},
   "source": [
    "Definisco la funzione che disegni i landmarks su schermo. \n",
    "Come si può notare dal codice i landmarks calcolati devono essere denomalizzati per ottenere la loro effettiva posizione su schermo."
   ]
  },
  {
   "cell_type": "code",
   "execution_count": 16,
   "metadata": {},
   "outputs": [],
   "source": [
    "def draw_keypoints(frame, keypoints, threshold):\n",
    "        \n",
    "    y, x, c = frame.shape\n",
    "    # Denormalize the coordinates : multiply the normalized coordinates by the input_size(width,height)\n",
    "    denormalized_coordinates = np.squeeze(np.multiply(keypoints, [y,x,1]))\n",
    "    # Iterate through the points\n",
    "    for keypoint in denormalized_coordinates:\n",
    "        # Unpack the keypoint values : y, x, confidence score\n",
    "        keypoint_y, keypoint_x, keypoint_confidence = keypoint\n",
    "        if keypoint_confidence > threshold:\n",
    "     \n",
    "            cv2.circle(\n",
    "                img=frame, \n",
    "                center=(int(keypoint_x), int(keypoint_y)), \n",
    "                radius=3, \n",
    "                color=(255,0,0),\n",
    "                thickness=-1\n",
    "            )"
   ]
  },
  {
   "attachments": {},
   "cell_type": "markdown",
   "metadata": {},
   "source": [
    "Definisco la funzione che disegna gli archi che collegano i vari joints su schermo.\n",
    "Prima di andare a definire tale funzione però, definisco il dizionario che per ogni coppia di joints, assegna un colore, che verrà poi usato all'interno della funzione.\n",
    "\n",
    "*La definzione delle coppe si trova nella doc*."
   ]
  },
  {
   "cell_type": "code",
   "execution_count": 17,
   "metadata": {},
   "outputs": [],
   "source": [
    "cyan = (255, 255, 0)\n",
    "magenta = (255, 0, 255)\n",
    "\n",
    "EDGE_COLORS = {\n",
    "    (0, 1): magenta,\n",
    "    (0, 2): cyan,\n",
    "    (1, 3): magenta,\n",
    "    (2, 4): cyan,\n",
    "    (0, 5): magenta,\n",
    "    (0, 6): cyan,\n",
    "    (5, 7): magenta,\n",
    "    (7, 9): cyan,\n",
    "    (6, 8): magenta,\n",
    "    (8, 10): cyan,\n",
    "    (5, 6): magenta,\n",
    "    (5, 11): cyan,\n",
    "    (6, 12): magenta,\n",
    "    (11, 12): cyan,\n",
    "    (11, 13): magenta,\n",
    "    (13, 15): cyan,\n",
    "    (12, 14): magenta,\n",
    "    (14, 16): cyan\n",
    "}"
   ]
  },
  {
   "cell_type": "code",
   "execution_count": 18,
   "metadata": {},
   "outputs": [],
   "source": [
    "def draw_edges(denormalized_coordinates,keypoints, frame, edges_colors, threshold):\n",
    "    \n",
    "    y,x,c = frame.shape\n",
    "    denormalized_coordinates = np.squeeze(np.multiply(keypoints, [y,x,1]))\n",
    "    # Iterate through the edges \n",
    "    for edge, color in edges_colors.items():\n",
    "        # Get the dict value associated to the actual edge\n",
    "        p1, p2 = edge\n",
    "        # Get the points\n",
    "        y1, x1, confidence_1 = denormalized_coordinates[p1]\n",
    "        y2, x2, confidence_2 = denormalized_coordinates[p2]\n",
    "        # Draw the line from point 1 to point 2, the confidence > threshold\n",
    "        if (confidence_1 > threshold) & (confidence_2 > threshold):      \n",
    "            cv2.line(\n",
    "                img=frame, \n",
    "                pt1=(int(x1), int(y1)),\n",
    "                pt2=(int(x2), int(y2)), \n",
    "                color=color, \n",
    "                thickness=1, \n",
    "                lineType=cv2.LINE_AA # Gives anti-aliased (smoothed) line which looks great for curves\n",
    "            )"
   ]
  },
  {
   "attachments": {},
   "cell_type": "markdown",
   "metadata": {},
   "source": [
    "Definisco ora una funzione che metta insieme le due funzioni e che effettui quindi il render sia dei punti che degli archi, ossia dello scheletro."
   ]
  },
  {
   "cell_type": "code",
   "execution_count": 19,
   "metadata": {},
   "outputs": [],
   "source": [
    "def draw_skeleton(frame, keypoints_with_scores, threshold):\n",
    "        draw_keypoints(frame , keypoints_with_scores, threshold)\n",
    "        draw_edges(frame,keypoints_with_scores, frame, EDGE_COLORS, threshold)"
   ]
  },
  {
   "attachments": {},
   "cell_type": "markdown",
   "metadata": {},
   "source": [
    "#### **Creazione del dataset**"
   ]
  },
  {
   "attachments": {},
   "cell_type": "markdown",
   "metadata": {},
   "source": [
    "Arrivati a questo punto inizia la parte di creazione del nostro dataset effttivo, che non sarà composto da video o frames ma dai landmarks individuati e restituiti da MoveNet."
   ]
  },
  {
   "attachments": {},
   "cell_type": "markdown",
   "metadata": {},
   "source": [
    "Definisco ora una funzione che effettui l'estrazione dei landmarks;\n",
    "\n",
    "Movenet, per ogni frame restituirà un tensore pertanto trasformo questo tensore in un array bidimensionale che avrà 17 righe corrispondenti ai 17 joints e 3 colonne corrispondenti a x, y e confidence.\n",
    "\n",
    "Rendiamo poi il nostro vettore a 2 dimensioni flatten ossia ad una dimensione.\n",
    "Tale vettore sarà poi ritornato dalla funzione."
   ]
  },
  {
   "attachments": {},
   "cell_type": "markdown",
   "metadata": {},
   "source": [
    "Quindi saremo passati da:\n",
    "- **(1, 1, 17, 3)**\n",
    "- **(17, 3)**\n",
    "- **(51,)**\n",
    "\n",
    "\n",
    "Abbiamo reso il nostro vettore a 2 dimensioni flatten ossia ad una dimensione, perchè le LSTM lavorano con questo tipo di input."
   ]
  },
  {
   "cell_type": "code",
   "execution_count": 20,
   "metadata": {},
   "outputs": [],
   "source": [
    "def extract_keypoints(keypoints_with_scores):\n",
    "    pose = []\n",
    "    i=0\n",
    "    while i < len(keypoints_with_scores[0][0][:]):\n",
    "        #row che sarà composta da x y e confidence dell' i-esimo keypoint/joint\n",
    "        row = np.array([keypoints_with_scores[0][0][i][0], keypoints_with_scores[0][0][i][1], keypoints_with_scores[0][0][i][2]])\n",
    "        pose.append(row)\n",
    "        i+=1\n",
    "    #redo il vettore a 1D\n",
    "    pose = np.array(pose).flatten()\n",
    "    return pose"
   ]
  },
  {
   "attachments": {},
   "cell_type": "markdown",
   "metadata": {},
   "source": [
    "Per organizzare i nostri dati in maniera ordinata e congrua all'organizzazione fino ad ora vista,\n",
    "definisco una funzione che creai una cartella per ogni video, nominata con \"nome video + _landmarks\",all'interno della quale verranno salvati i keypoint raccolti per ogni frame."
   ]
  },
  {
   "cell_type": "code",
   "execution_count": 21,
   "metadata": {},
   "outputs": [],
   "source": [
    "def make_dir_keypoints(directory_path, actions):\n",
    "    for file in actions:\n",
    "        file_path = os.path.join(directory_path, file)\n",
    "        \n",
    "        video_list = []\n",
    "        for f in os.listdir(file_path):\n",
    "            name, ext = os.path.splitext(f)\n",
    "            if ext == '.mp4':\n",
    "                video_list.append(f)\n",
    "\n",
    "        #se esiste già salta\n",
    "        for video in video_list:\n",
    "            try:\n",
    "                os.makedirs(os.path.join(file_path, video +\"_landmarks\"))\n",
    "            except:\n",
    "                pass\n",
    "\n"
   ]
  },
  {
   "cell_type": "code",
   "execution_count": 22,
   "metadata": {},
   "outputs": [],
   "source": [
    "make_dir_keypoints(DATA_PATH,actions)"
   ]
  },
  {
   "attachments": {},
   "cell_type": "markdown",
   "metadata": {},
   "source": [
    "codice per elimnare cartelle create"
   ]
  },
  {
   "cell_type": "markdown",
   "metadata": {},
   "source": [
    "for file in actions:\n",
    "        \n",
    "    file_path = os.path.join(DATA_PATH, file)\n",
    "    video_list = os.listdir(file_path)\n",
    "\n",
    "    video_list = []\n",
    "    for f in os.listdir(file_path):\n",
    "        name, ext = os.path.splitext(f)\n",
    "        if ext == '.npy':\n",
    "            video_list.append(f)\n",
    "    \n",
    "    for video in video_list:\n",
    "        os.remove(os.path.join(file_path, video))\n"
   ]
  },
  {
   "cell_type": "markdown",
   "metadata": {},
   "source": [
    "for file in actions:\n",
    "        \n",
    "    file_path = os.path.join(DATA_PATH, file)\n",
    "    video_list = os.listdir(file_path)\n",
    "\n",
    "    cartella_list = os.listdir(file_path)\n",
    "    \n",
    "    for cartella in cartella_list:\n",
    "        os.remove(os.path.join(file_path, cartella))"
   ]
  },
  {
   "cell_type": "markdown",
   "metadata": {},
   "source": [
    "for file in actions:\n",
    "        \n",
    "    file_path = os.path.join(DATA_PATH, file)\n",
    "    video_list = os.listdir(file_path)\n",
    "\n",
    "    cartelle = []\n",
    "    for f in os.listdir(file_path):\n",
    "        name, ext = os.path.splitext(f)\n",
    "        if not ext == '.mp4':\n",
    "            cartelle.append(f)\n",
    "    \n",
    "   \n",
    "    for cartella in cartelle:\n",
    "        try:\n",
    "            os.remove(os.path.join(file_path,cartella, \"23.npy\"))\n",
    "        except:\n",
    "            pass"
   ]
  },
  {
   "attachments": {},
   "cell_type": "markdown",
   "metadata": {},
   "source": [
    "Definisco ora la funzione che andrà a creare effettivamente il nostro dataset, composto da keyoints.\n",
    "I keypoinyts, per ogni frame verranno salvati sottoforma di numpy array all'interno delle cartelle sopra create."
   ]
  },
  {
   "cell_type": "code",
   "execution_count": 23,
   "metadata": {},
   "outputs": [],
   "source": [
    "def extract_all_keypoints(directory_path,actions):\n",
    "     for file in actions:\n",
    "        \n",
    "        file_path = os.path.join(directory_path, file)\n",
    "\n",
    "        video_list = []\n",
    "        for f in os.listdir(file_path):\n",
    "            name, ext = os.path.splitext(f)\n",
    "            if ext == '.mp4':\n",
    "                video_list.append(f)\n",
    "    \n",
    "        for video in video_list:\n",
    "            \n",
    "            video_path = os.path.join(file_path,video) \n",
    "            cap = cv2.VideoCapture(video_path)\n",
    "            \n",
    "            #Ottengo il numero di frames totali\n",
    "            video_frames_count= int(cap.get(cv2.CAP_PROP_FRAME_COUNT))\n",
    "                        \n",
    "            video_height, video_width = [768, 1366]# sostituire con funzione\n",
    "            crop_region = init_crop_region(video_height, video_width)\n",
    "            \n",
    "            i=1\n",
    "       \n",
    "            for frame_counter in range(video_frames_count):\n",
    "                try:                \n",
    "                    #leggo il frame               \n",
    "                    ret,frame = cap.read()\n",
    "                    \n",
    "                    #se non viene letto esco\n",
    "                    if not ret:\n",
    "                        break\n",
    "                    \n",
    "                    image = frame.copy()\n",
    "                    cv2.cvtColor(image, cv2.COLOR_BGR2RGB)\n",
    "                \n",
    "                    keypoints_with_scores = run_inference(\n",
    "                    movenet, image, crop_region,\n",
    "                    crop_size=[256, 256])# sostituire con variabile\n",
    "\n",
    "                    crop_region = determine_crop_region(\n",
    "                    keypoints_with_scores, video_height, video_width)\n",
    "                    \n",
    "                    keypoints = extract_keypoints(keypoints_with_scores)\n",
    "                \n",
    "                    npy_path = os.path.join(file_path,video +\"_landmarks\",str(i))\n",
    "                    np.save(npy_path, keypoints)                                        \n",
    "                    i+=1\n",
    "                    print(i)\n",
    "                    print(npy_path)\n",
    "                except:\n",
    "                    pass\n",
    "\n",
    "            cap.release()\n",
    "            cv2.destroyAllWindows()\n",
    "\n"
   ]
  },
  {
   "cell_type": "markdown",
   "metadata": {},
   "source": [
    "extract_all_keypoints(DATA_PATH,actions)"
   ]
  },
  {
   "attachments": {},
   "cell_type": "markdown",
   "metadata": {},
   "source": [
    "### **Divisione del Dataset**\n"
   ]
  },
  {
   "attachments": {},
   "cell_type": "markdown",
   "metadata": {},
   "source": [
    "Andiamo a definire un dizionrio che associa ad ogni video una label, che andrà a indicare la classe di appartenenza."
   ]
  },
  {
   "cell_type": "code",
   "execution_count": 24,
   "metadata": {},
   "outputs": [],
   "source": [
    "label_map = {label: num for num, label in enumerate(actions)}\n"
   ]
  },
  {
   "cell_type": "code",
   "execution_count": 25,
   "metadata": {},
   "outputs": [
    {
     "data": {
      "text/plain": [
       "{'Cobra': 0, 'Corpse': 1, 'Lotus': 2, 'Mountain': 3, 'Tree': 4, 'Triangle': 5}"
      ]
     },
     "execution_count": 25,
     "metadata": {},
     "output_type": "execute_result"
    }
   ],
   "source": [
    "label_map"
   ]
  },
  {
   "attachments": {},
   "cell_type": "markdown",
   "metadata": {},
   "source": [
    "In particolare si è deciso di dividere i frames di ogni video in subset di 45 frames, ed assegnare ad ognuno di questi una label."
   ]
  },
  {
   "attachments": {},
   "cell_type": "markdown",
   "metadata": {},
   "source": [
    "Inoltre creo un vettore dove saranno indicati tramite un identificativo numerico quale delle persone presenti nel dataset sta svolgendo l'esercizio.Poichè questo vettore potrà risultare utile per test futuri. "
   ]
  },
  {
   "cell_type": "code",
   "execution_count": 81,
   "metadata": {},
   "outputs": [],
   "source": [
    "#creare una funzione\n",
    "sequences=[]\n",
    "group_sequences=[]\n",
    "group=[]\n",
    "labels=[]\n",
    "j=0\n",
    "for file in actions:\n",
    "        file_path = os.path.join(DATA_PATH, file)\n",
    "        \n",
    "        key_dir_list = []\n",
    "        for f in os.listdir(file_path):\n",
    "            name, ext = os.path.splitext(f)\n",
    "            if not ext == '.mp4':\n",
    "                key_dir_list.append(f)\n",
    "                \n",
    "\n",
    "        i=0\n",
    "        for keypoint_dir in key_dir_list:\n",
    "            window = []\n",
    "            for frame_num in range(1, info_videos[j][1][i][1]):\n",
    "                group=[x for x in range(len(key_dir_list))]\n",
    "                frame_path = np.load(os.path.join(file_path,keypoint_dir,\"{}.npy\".format(frame_num)))\n",
    "                window.append(frame_path)\n",
    "                if frame_num%45==0:    \n",
    "                    sequences.append(window)\n",
    "                    group_sequences.append(group[i])\n",
    "                    labels.append(label_map[file])\n",
    "                    window=[]                             \n",
    "                    \n",
    "            i+=1\n",
    "        j+=1"
   ]
  },
  {
   "attachments": {},
   "cell_type": "markdown",
   "metadata": {},
   "source": [
    "In questo modo avremo quindi un array composto da 2599 video, ognuno dei quali composto da 45 framese.\n",
    "Per ogni frame sono stati calcolati 17 keypoints ognuno composto da x y e c ossia 51 punti, essendo 51 = 17*3"
   ]
  },
  {
   "cell_type": "code",
   "execution_count": 82,
   "metadata": {},
   "outputs": [
    {
     "data": {
      "text/plain": [
       "(2599, 45, 51)"
      ]
     },
     "execution_count": 82,
     "metadata": {},
     "output_type": "execute_result"
    }
   ],
   "source": [
    "np.array(sequences).shape"
   ]
  },
  {
   "attachments": {},
   "cell_type": "markdown",
   "metadata": {},
   "source": [
    "Allo stesso modo ora tutti i vettori di keypoints rappresentati il video avranno la label corrispondente alla posa"
   ]
  },
  {
   "cell_type": "code",
   "execution_count": 44,
   "metadata": {},
   "outputs": [
    {
     "data": {
      "text/plain": [
       "(2599,)"
      ]
     },
     "execution_count": 44,
     "metadata": {},
     "output_type": "execute_result"
    }
   ],
   "source": [
    "np.array(labels).shape"
   ]
  },
  {
   "attachments": {},
   "cell_type": "markdown",
   "metadata": {},
   "source": [
    "Ho quindi creato una colonna rappresentante la persona che sta eseguendo il video.Pertanto la dimensione(il numero di righe) corrisponde al numero di video eseguiti"
   ]
  },
  {
   "cell_type": "code",
   "execution_count": 83,
   "metadata": {},
   "outputs": [
    {
     "data": {
      "text/plain": [
       "(2599,)"
      ]
     },
     "execution_count": 83,
     "metadata": {},
     "output_type": "execute_result"
    }
   ],
   "source": [
    "np.array(group_sequences).shape"
   ]
  },
  {
   "attachments": {},
   "cell_type": "markdown",
   "metadata": {},
   "source": [
    "Quindi ora avremo le nostre **feature input** e la nostra **feature target**"
   ]
  },
  {
   "cell_type": "code",
   "execution_count": 93,
   "metadata": {},
   "outputs": [],
   "source": [
    "X = np.array(sequences)"
   ]
  },
  {
   "cell_type": "code",
   "execution_count": 94,
   "metadata": {},
   "outputs": [],
   "source": [
    "y = np.array(labels)"
   ]
  },
  {
   "attachments": {},
   "cell_type": "markdown",
   "metadata": {},
   "source": [
    "Osserviamo come il nostro dataset sia bilanciato"
   ]
  },
  {
   "cell_type": "code",
   "execution_count": 247,
   "metadata": {},
   "outputs": [
    {
     "name": "stdout",
     "output_type": "stream",
     "text": [
      "Cobra 0: 454\n",
      "Corpse 1: 447\n",
      "Lotus 2: 391\n",
      "Mountain 3: 438\n",
      "Tree 4: 485\n",
      "Triangle 5: 384\n",
      "Percentage of 0: 17.47\n",
      "Percentage of 1: 17.2\n",
      "Percentage of 2: 15.040000000000001\n",
      "Percentage of 3: 16.85\n",
      "Percentage of 4: 18.66\n",
      "Percentage of 5: 14.77\n"
     ]
    },
    {
     "data": {
      "text/plain": [
       "<matplotlib.axes._subplots.AxesSubplot at 0x2020337cd90>"
      ]
     },
     "execution_count": 247,
     "metadata": {},
     "output_type": "execute_result"
    },
    {
     "data": {
      "image/png": "[encoded data removed]",
      "text/plain": [
       "<Figure size 432x288 with 1 Axes>"
      ]
     },
     "metadata": {
      "needs_background": "light"
     },
     "output_type": "display_data"
    }
   ],
   "source": [
    "target_count=pd.DataFrame(data=y)[0].value_counts()\n",
    "print(f'Cobra 0: {target_count[0]}')\n",
    "print(f'Corpse 1: {target_count[1]}')\n",
    "print(f'Lotus 2: {target_count[2]}')\n",
    "print(f'Mountain 3: {target_count[3]}')\n",
    "print(f'Tree 4: {target_count[4]}')\n",
    "print(f'Triangle 5: {target_count[5]}')\n",
    "print(f'Percentage of 0: {round(target_count[0] / sum(target_count), 4)*100}')\n",
    "print(f'Percentage of 1: {round(target_count[1] / sum(target_count), 4)*100}')\n",
    "print(f'Percentage of 2: {round(target_count[2] / sum(target_count), 4)*100}')\n",
    "print(f'Percentage of 3: {round(target_count[3] / sum(target_count), 4)*100}')\n",
    "print(f'Percentage of 4: {round(target_count[4] / sum(target_count), 4)*100}')\n",
    "print(f'Percentage of 5: {round(target_count[5] / sum(target_count), 4)*100}')\n",
    "\n",
    "\n",
    "target_count.plot(kind='bar', title='Count (target)')"
   ]
  },
  {
   "attachments": {},
   "cell_type": "markdown",
   "metadata": {},
   "source": [
    "Splittiamo effetivamente i nostri dati"
   ]
  },
  {
   "cell_type": "code",
   "execution_count": 248,
   "metadata": {},
   "outputs": [],
   "source": [
    "X_train, X_test, y_train, y_test = train_test_split(X, y, test_size=0.2, stratify=y, random_state=11)"
   ]
  },
  {
   "attachments": {},
   "cell_type": "markdown",
   "metadata": {},
   "source": [
    "Osseviamo la dimensione del nostro set di train e di test:\n",
    "- 520 video per il test\n",
    "- 2079 video per il train"
   ]
  },
  {
   "cell_type": "code",
   "execution_count": 249,
   "metadata": {},
   "outputs": [
    {
     "name": "stdout",
     "output_type": "stream",
     "text": [
      "(520, 45, 51)\n",
      "(2079, 45, 51)\n",
      "(520,)\n",
      "(2079,)\n"
     ]
    }
   ],
   "source": [
    "\n",
    "print(X_test.shape)\n",
    "print(X_train.shape)\n",
    "print(y_test.shape)\n",
    "print(y_train.shape)\n"
   ]
  },
  {
   "attachments": {},
   "cell_type": "markdown",
   "metadata": {},
   "source": [
    "### **Costruzione dei modelli & Addestramento**"
   ]
  },
  {
   "attachments": {},
   "cell_type": "markdown",
   "metadata": {},
   "source": [
    "Definiamo gli import che andremo ad utilizzare"
   ]
  },
  {
   "cell_type": "code",
   "execution_count": 256,
   "metadata": {},
   "outputs": [],
   "source": [
    "from sklearn.tree import DecisionTreeClassifier, plot_tree\n",
    "from sklearn.naive_bayes import GaussianNB\n",
    "from sklearn.ensemble import RandomForestClassifier\n",
    "from sklearn.ensemble import GradientBoostingClassifier\n",
    "from sklearn.svm import SVC\n",
    "\n",
    "from imblearn.pipeline import Pipeline as imbpipeline\n",
    "from sklearn.model_selection import train_test_split, GridSearchCV, StratifiedKFold, LeaveOneGroupOut\n",
    "\n",
    "from sklearn.utils import shuffle"
   ]
  },
  {
   "attachments": {},
   "cell_type": "markdown",
   "metadata": {},
   "source": [
    "Valuteremo i modelli sulle seguenti metriche:\n",
    "\n",
    "- accuracy\n",
    "- recall\n",
    "- precision\n",
    "- f1"
   ]
  },
  {
   "attachments": {},
   "cell_type": "markdown",
   "metadata": {},
   "source": [
    "#### **Classificazione con modelli semplici di ML**"
   ]
  },
  {
   "attachments": {},
   "cell_type": "markdown",
   "metadata": {},
   "source": [
    "Per poter addestrare modelli di ML, come i seguenti, devo modificare la struttura delle nostre input features.\n",
    "In particolare dovremo passare da una struttura a 3 dimensioni ad una struttura a 2 dimensioni"
   ]
  },
  {
   "cell_type": "code",
   "execution_count": 250,
   "metadata": {},
   "outputs": [],
   "source": [
    "X_train_ML = X_train.reshape(2079,(45*51))"
   ]
  },
  {
   "cell_type": "code",
   "execution_count": 251,
   "metadata": {},
   "outputs": [],
   "source": [
    "X_test_ML = X_test.reshape(520,(45*51))"
   ]
  },
  {
   "cell_type": "code",
   "execution_count": 252,
   "metadata": {},
   "outputs": [
    {
     "name": "stdout",
     "output_type": "stream",
     "text": [
      "(2079, 2295)\n",
      "(520, 2295)\n"
     ]
    }
   ],
   "source": [
    "print(X_train_ML.shape)\n",
    "print(X_test_ML.shape)"
   ]
  },
  {
   "attachments": {},
   "cell_type": "markdown",
   "metadata": {},
   "source": [
    "Per effettuare le classificazione definiremo una pipeline all'interno della quale andremo adefinire il classifier , ossia il modello utilizzato.\n",
    "\n",
    "Inoltre prima della fase di test, per questi modelli effettueremo una fase di validation in cui verrà effettuata una stratify cross validation, in modo tale che le proporzioni tra le varie classi rimangano le stess.\n",
    "Grazie a queste fase riuscire ad ottenere il modello con i settings migliori."
   ]
  },
  {
   "attachments": {},
   "cell_type": "markdown",
   "metadata": {},
   "source": [
    "##### **Classificazione con SVM**"
   ]
  },
  {
   "attachments": {},
   "cell_type": "markdown",
   "metadata": {},
   "source": [
    "Definiamo la pipeline"
   ]
  },
  {
   "cell_type": "code",
   "execution_count": null,
   "metadata": {},
   "outputs": [],
   "source": [
    "pipeline = imbpipeline(steps = [['classifier',SVC(kernel=None,\n",
    "                                                  gamma=None, \n",
    "                                                  C=None)]])"
   ]
  },
  {
   "attachments": {},
   "cell_type": "markdown",
   "metadata": {},
   "source": [
    "Creiamo un'istanza della classe StratifiedKFold che ci permette di andare a definire un tipo di Cross Validation"
   ]
  },
  {
   "cell_type": "code",
   "execution_count": null,
   "metadata": {},
   "outputs": [],
   "source": [
    "stratified_kfold = StratifiedKFold(n_splits=3,\n",
    "                                       shuffle=True,\n",
    "                                       random_state=11)"
   ]
  },
  {
   "attachments": {},
   "cell_type": "markdown",
   "metadata": {},
   "source": [
    "Definiamo l'insieme degli iper-parametri, su cui verrà effettuato un tuning durante la fase di test.\n",
    "\n",
    "Definiamo anche un'istanza di GridSearchCV, che ci permetterà ci combinare la cross validation con la pipeline."
   ]
  },
  {
   "cell_type": "code",
   "execution_count": null,
   "metadata": {},
   "outputs": [],
   "source": [
    "# in param_grid sono definiti gli iperparametri\n",
    "param_grid = {'C': [0.1, 1, 10, 100, 1000], \n",
    "              'gamma': [1, 0.1, 0.01, 0.001, 0.0001],\n",
    "              'kernel': ['rbf']\n",
    "              }\n",
    "\n",
    "new_params = {'classifier__' + key: param_grid[key] for key in param_grid}\n",
    "\n",
    "grid_search = GridSearchCV(estimator=pipeline,\n",
    "                           param_grid=new_params,\n",
    "                           scoring='accuracy',\n",
    "                           cv=stratified_kfold,\n",
    "                           verbose = 5,\n",
    "                           n_jobs=-1)"
   ]
  },
  {
   "attachments": {},
   "cell_type": "markdown",
   "metadata": {},
   "source": [
    "Adattiamo il nostro modello di training sul set di training e runniamo la funzione grid_search.fit, al termine della quale otterremo il modello migliore."
   ]
  },
  {
   "cell_type": "code",
   "execution_count": null,
   "metadata": {},
   "outputs": [
    {
     "name": "stdout",
     "output_type": "stream",
     "text": [
      "Fitting 3 folds for each of 25 candidates, totalling 75 fits\n",
      "Best parameters: {'classifier__C': 10, 'classifier__gamma': 0.01, 'classifier__kernel': 'rbf'}\n",
      "Cross-validation score: 0.987974987974988\n"
     ]
    }
   ],
   "source": [
    "# troviamo il modello migliore\n",
    "grid_search.fit(X_train_ML, y_train)\n",
    "\n",
    "cv_score = grid_search.best_score_\n",
    "best_params = grid_search.best_params_\n",
    "\n",
    "print(f'Best parameters: {best_params}')\n",
    "print(f'Cross-validation score: {cv_score}')\n"
   ]
  },
  {
   "attachments": {},
   "cell_type": "markdown",
   "metadata": {},
   "source": [
    "Passiamo in seguito alla fase di test e prediciamo le classi di abitabilità sui campioni X_test."
   ]
  },
  {
   "cell_type": "code",
   "execution_count": null,
   "metadata": {},
   "outputs": [],
   "source": [
    "# effetuamo la predizione sul set di test\n",
    "y_test_predict = grid_search.predict(X_test_ML)"
   ]
  },
  {
   "cell_type": "code",
   "execution_count": null,
   "metadata": {},
   "outputs": [
    {
     "name": "stdout",
     "output_type": "stream",
     "text": [
      "accuracy: 0.9826923076923076\n",
      "precision: 0.9839426523297491\n",
      "recall: 0.98250589616569\n",
      "f1: 0.9830119080797531\n"
     ]
    },
    {
     "data": {
      "text/plain": [
       "[]"
      ]
     },
     "execution_count": 42,
     "metadata": {},
     "output_type": "execute_result"
    },
    {
     "data": {
      "image/png": "[encoded data removed]",
      "text/plain": [
       "<Figure size 432x288 with 2 Axes>"
      ]
     },
     "metadata": {
      "needs_background": "light"
     },
     "output_type": "display_data"
    }
   ],
   "source": [
    "# calcoliamo le metriche di valutazione\n",
    "accuracy = accuracy_score(y_test, y_test_predict)\n",
    "precision = precision_score(y_test, y_test_predict, average='macro')\n",
    "recall = recall_score(y_test, y_test_predict, average='macro')\n",
    "f1 = f1_score(y_test, y_test_predict, average='macro')\n",
    "\n",
    "ConfusionMatrixDisplay.from_predictions(y_test, \n",
    "                                        y_test_predict, \n",
    "                                        cmap=plt.cm.Blues)\n",
    "\n",
    "print(f'accuracy: {accuracy}')\n",
    "print(f'precision: {precision}')\n",
    "print(f'recall: {recall}')\n",
    "print(f'f1: {f1}')\n",
    "\n",
    "\n",
    "plt.plot()"
   ]
  },
  {
   "cell_type": "code",
   "execution_count": null,
   "metadata": {},
   "outputs": [],
   "source": [
    "scoring_list = []\n",
    "scoring_list.append(dict([\n",
    "    ('Model', 'SVM'),\n",
    "    ('Test Accuracy', round(accuracy, 3)),\n",
    "    ('Precision', round(precision, 3)),\n",
    "    ('Recall', round(recall, 3)),\n",
    "    ('F1', round(f1, 3))]))"
   ]
  },
  {
   "attachments": {},
   "cell_type": "markdown",
   "metadata": {},
   "source": [
    "##### **Classificazione con Random Forest**"
   ]
  },
  {
   "cell_type": "code",
   "execution_count": null,
   "metadata": {},
   "outputs": [],
   "source": [
    "pipeline = imbpipeline(steps = [['classifier', RandomForestClassifier(max_depth=None, random_state=None)]]) #decidete se mettere q"
   ]
  },
  {
   "cell_type": "code",
   "execution_count": null,
   "metadata": {},
   "outputs": [],
   "source": [
    "stratified_kfold = StratifiedKFold(n_splits=3,\n",
    "                                       shuffle=True,\n",
    "                                       random_state=12)"
   ]
  },
  {
   "cell_type": "code",
   "execution_count": null,
   "metadata": {},
   "outputs": [],
   "source": [
    "# in param_grid sono definiti gli iperparametri\n",
    "param_grid = {\n",
    "                'n_estimators': [50, 100, 200],\n",
    "                'max_depth': [4, 6, 10, 12],\n",
    "                }\n",
    "\n",
    "new_params = {'classifier__' + key: param_grid[key] for key in param_grid}\n",
    "\n",
    "grid_search = GridSearchCV(estimator=pipeline,\n",
    "                           param_grid=new_params,\n",
    "                           scoring='accuracy',\n",
    "                           cv=stratified_kfold,\n",
    "                           verbose = 5,\n",
    "                           n_jobs=-1) # utilizzerà tutti i processori disponibili"
   ]
  },
  {
   "cell_type": "code",
   "execution_count": null,
   "metadata": {},
   "outputs": [
    {
     "name": "stdout",
     "output_type": "stream",
     "text": [
      "Fitting 3 folds for each of 12 candidates, totalling 36 fits\n",
      "Best parameters: {'classifier__max_depth': 10, 'classifier__n_estimators': 200}\n",
      "Cross-validation score: 0.9855699855699855\n"
     ]
    }
   ],
   "source": [
    "# troviamo il modello migliore\n",
    "grid_search.fit(X_train_ML, y_train)\n",
    "\n",
    "cv_score = grid_search.best_score_\n",
    "best_params = grid_search.best_params_\n",
    "\n",
    "print(f'Best parameters: {best_params}')\n",
    "print(f'Cross-validation score: {cv_score}')\n"
   ]
  },
  {
   "cell_type": "code",
   "execution_count": null,
   "metadata": {},
   "outputs": [],
   "source": [
    "# effetuamo la predizione sul set di test\n",
    "y_test_predict = grid_search.predict(X_test_ML)"
   ]
  },
  {
   "cell_type": "code",
   "execution_count": null,
   "metadata": {},
   "outputs": [
    {
     "name": "stdout",
     "output_type": "stream",
     "text": [
      "accuracy: 0.9769230769230769\n",
      "precision: 0.9792209840178696\n",
      "recall: 0.9767320694286985\n",
      "f1: 0.9775113777577754\n"
     ]
    },
    {
     "data": {
      "text/plain": [
       "[]"
      ]
     },
     "execution_count": 49,
     "metadata": {},
     "output_type": "execute_result"
    },
    {
     "data": {
      "image/png": "[encoded data removed]",
      "text/plain": [
       "<Figure size 432x288 with 2 Axes>"
      ]
     },
     "metadata": {
      "needs_background": "light"
     },
     "output_type": "display_data"
    }
   ],
   "source": [
    "# calcoliamo le metriche di valutazione\n",
    "accuracy = accuracy_score(y_test, y_test_predict)\n",
    "precision = precision_score(y_test, y_test_predict, average='macro')\n",
    "recall = recall_score(y_test, y_test_predict, average='macro')\n",
    "f1 = f1_score(y_test, y_test_predict, average='macro')\n",
    "\n",
    "ConfusionMatrixDisplay.from_predictions(y_test, \n",
    "                                        y_test_predict, \n",
    "                                        cmap=plt.cm.Blues)\n",
    "\n",
    "print(f'accuracy: {accuracy}')\n",
    "print(f'precision: {precision}')\n",
    "print(f'recall: {recall}')\n",
    "print(f'f1: {f1}')\n",
    "\n",
    "\n",
    "plt.plot()"
   ]
  },
  {
   "cell_type": "code",
   "execution_count": null,
   "metadata": {},
   "outputs": [],
   "source": [
    "scoring_list.append(dict([\n",
    "    ('Model', 'Random Forest'),\n",
    "    ('Test Accuracy', round(accuracy, 3)),\n",
    "    ('Precision', round(precision, 3)),\n",
    "    ('Recall', round(recall, 3)),\n",
    "    ('F1', round(f1, 3))\n",
    "     ]))"
   ]
  },
  {
   "attachments": {},
   "cell_type": "markdown",
   "metadata": {},
   "source": [
    "#### **Classificazione con modelli di DL**"
   ]
  },
  {
   "attachments": {},
   "cell_type": "markdown",
   "metadata": {},
   "source": [
    "Come già anticipato keras nel caso si tratti di feautures target, lavora con la codifica One-Hot, pertanto modifichiamo le noste target features."
   ]
  },
  {
   "cell_type": "code",
   "execution_count": 253,
   "metadata": {},
   "outputs": [],
   "source": [
    "y_test_DL = to_categorical(y_test).astype(int)\n",
    "y_train_DL= to_categorical(y_train).astype(int)"
   ]
  },
  {
   "cell_type": "code",
   "execution_count": 254,
   "metadata": {},
   "outputs": [
    {
     "name": "stdout",
     "output_type": "stream",
     "text": [
      "(520, 6)\n",
      "(2079, 6)\n"
     ]
    }
   ],
   "source": [
    "print(y_test_DL.shape)\n",
    "print(y_train_DL.shape)"
   ]
  },
  {
   "attachments": {},
   "cell_type": "markdown",
   "metadata": {},
   "source": [
    "##### **Classificazione con Simple RNN**"
   ]
  },
  {
   "cell_type": "code",
   "execution_count": null,
   "metadata": {},
   "outputs": [],
   "source": [
    "log_dir =os.path.join(\"\\\\progetto_tesi\",'Logs_RNN')\n",
    "tb_callback = TensorBoard(log_dir = log_dir)"
   ]
  },
  {
   "cell_type": "code",
   "execution_count": null,
   "metadata": {},
   "outputs": [],
   "source": [
    "#definiamo l'architettura del modello\n",
    "model_Rnn= Sequential()\n",
    "\n",
    "model_Rnn.add(SimpleRNN(64, return_sequences=True, activation='relu', input_shape=(45,51)))\n",
    "model_Rnn.add(SimpleRNN(128, return_sequences=True, activation='relu'))\n",
    "model_Rnn.add(SimpleRNN(64, return_sequences=False, activation='relu'))\n",
    "model_Rnn.add(Dense(64, activation='relu'))\n",
    "model_Rnn.add(Dense(32, activation='relu'))\n",
    "model_Rnn.add(Dense(actions.shape[0], activation='softmax'))"
   ]
  },
  {
   "cell_type": "code",
   "execution_count": null,
   "metadata": {},
   "outputs": [],
   "source": [
    "model_Rnn.compile(optimizer ='Adam', \n",
    "              loss='categorical_crossentropy',\n",
    "              metrics=['categorical_accuracy'])"
   ]
  },
  {
   "cell_type": "code",
   "execution_count": null,
   "metadata": {},
   "outputs": [
    {
     "name": "stdout",
     "output_type": "stream",
     "text": [
      "Epoch 1/100\n",
      "65/65 [==============================] - 12s 52ms/step - loss: 0.9797 - categorical_accuracy: 0.6171\n",
      "Epoch 2/100\n",
      "65/65 [==============================] - 3s 46ms/step - loss: 0.4009 - categorical_accuracy: 0.8475\n",
      "Epoch 3/100\n",
      "65/65 [==============================] - 3s 43ms/step - loss: 0.2685 - categorical_accuracy: 0.9192\n",
      "Epoch 4/100\n",
      "65/65 [==============================] - 3s 44ms/step - loss: 0.2087 - categorical_accuracy: 0.9365\n",
      "Epoch 5/100\n",
      "65/65 [==============================] - 2s 35ms/step - loss: 0.1945 - categorical_accuracy: 0.9432\n",
      "Epoch 6/100\n",
      "65/65 [==============================] - 3s 39ms/step - loss: 0.1545 - categorical_accuracy: 0.9582\n",
      "Epoch 7/100\n",
      "65/65 [==============================] - 2s 38ms/step - loss: 0.1343 - categorical_accuracy: 0.9610\n",
      "Epoch 8/100\n",
      "65/65 [==============================] - 2s 36ms/step - loss: 0.1307 - categorical_accuracy: 0.9668\n",
      "Epoch 9/100\n",
      "65/65 [==============================] - 3s 38ms/step - loss: 0.0951 - categorical_accuracy: 0.9755\n",
      "Epoch 10/100\n",
      "65/65 [==============================] - 2s 35ms/step - loss: 0.1125 - categorical_accuracy: 0.9692\n",
      "Epoch 11/100\n",
      "65/65 [==============================] - 3s 42ms/step - loss: 0.1037 - categorical_accuracy: 0.9735\n",
      "Epoch 12/100\n",
      "65/65 [==============================] - 3s 54ms/step - loss: 0.1196 - categorical_accuracy: 0.9687\n",
      "Epoch 13/100\n",
      "65/65 [==============================] - 3s 45ms/step - loss: 0.1148 - categorical_accuracy: 0.9639\n",
      "Epoch 14/100\n",
      "65/65 [==============================] - 4s 55ms/step - loss: 0.1837 - categorical_accuracy: 0.9577\n",
      "Epoch 15/100\n",
      "65/65 [==============================] - 3s 53ms/step - loss: 0.1298 - categorical_accuracy: 0.9639\n",
      "Epoch 16/100\n",
      "65/65 [==============================] - 4s 56ms/step - loss: 0.0925 - categorical_accuracy: 0.9731\n",
      "Epoch 17/100\n",
      "65/65 [==============================] - 4s 58ms/step - loss: 0.0960 - categorical_accuracy: 0.9735\n",
      "Epoch 18/100\n",
      "65/65 [==============================] - 4s 61ms/step - loss: 0.0704 - categorical_accuracy: 0.9812\n",
      "Epoch 19/100\n",
      "65/65 [==============================] - 3s 46ms/step - loss: 0.0967 - categorical_accuracy: 0.9721\n",
      "Epoch 20/100\n",
      "65/65 [==============================] - 3s 45ms/step - loss: 0.0994 - categorical_accuracy: 0.9745\n",
      "Epoch 21/100\n",
      "65/65 [==============================] - 2s 38ms/step - loss: 0.0890 - categorical_accuracy: 0.9774\n",
      "Epoch 22/100\n",
      "65/65 [==============================] - 2s 37ms/step - loss: 0.1096 - categorical_accuracy: 0.9735\n",
      "Epoch 23/100\n",
      "65/65 [==============================] - 2s 34ms/step - loss: 0.0803 - categorical_accuracy: 0.9779\n",
      "Epoch 24/100\n",
      "65/65 [==============================] - 2s 33ms/step - loss: 0.0911 - categorical_accuracy: 0.9721\n",
      "Epoch 25/100\n",
      "65/65 [==============================] - 2s 33ms/step - loss: 0.0756 - categorical_accuracy: 0.9793\n",
      "Epoch 26/100\n",
      "65/65 [==============================] - 2s 34ms/step - loss: 0.0661 - categorical_accuracy: 0.9817\n",
      "Epoch 27/100\n",
      "65/65 [==============================] - 3s 41ms/step - loss: 0.1624 - categorical_accuracy: 0.9586\n",
      "Epoch 28/100\n",
      "65/65 [==============================] - 3s 53ms/step - loss: 0.1040 - categorical_accuracy: 0.9711\n",
      "Epoch 29/100\n",
      "65/65 [==============================] - 4s 60ms/step - loss: 0.0761 - categorical_accuracy: 0.9784\n",
      "Epoch 30/100\n",
      "65/65 [==============================] - 4s 54ms/step - loss: 0.0675 - categorical_accuracy: 0.9793\n",
      "Epoch 31/100\n",
      "65/65 [==============================] - 3s 53ms/step - loss: 0.0627 - categorical_accuracy: 0.9812\n",
      "Epoch 32/100\n",
      "65/65 [==============================] - 3s 44ms/step - loss: 0.0661 - categorical_accuracy: 0.9817\n",
      "Epoch 33/100\n",
      "65/65 [==============================] - 3s 45ms/step - loss: 0.0866 - categorical_accuracy: 0.9784\n",
      "Epoch 34/100\n",
      "65/65 [==============================] - 3s 47ms/step - loss: 0.0724 - categorical_accuracy: 0.9793\n",
      "Epoch 35/100\n",
      "65/65 [==============================] - 3s 47ms/step - loss: 0.0940 - categorical_accuracy: 0.9760\n",
      "Epoch 36/100\n",
      "65/65 [==============================] - 4s 58ms/step - loss: 0.0814 - categorical_accuracy: 0.9784\n",
      "Epoch 37/100\n",
      "65/65 [==============================] - 4s 67ms/step - loss: 0.0550 - categorical_accuracy: 0.9851\n",
      "Epoch 38/100\n",
      "65/65 [==============================] - 3s 52ms/step - loss: 0.0654 - categorical_accuracy: 0.9793\n",
      "Epoch 39/100\n",
      "65/65 [==============================] - 3s 47ms/step - loss: 0.0747 - categorical_accuracy: 0.9793\n",
      "Epoch 40/100\n",
      "65/65 [==============================] - 3s 48ms/step - loss: 0.1180 - categorical_accuracy: 0.9745\n",
      "Epoch 41/100\n",
      "65/65 [==============================] - 3s 47ms/step - loss: 0.0695 - categorical_accuracy: 0.9808\n",
      "Epoch 42/100\n",
      "65/65 [==============================] - 3s 45ms/step - loss: 0.0896 - categorical_accuracy: 0.9735\n",
      "Epoch 43/100\n",
      "65/65 [==============================] - 3s 45ms/step - loss: 0.0628 - categorical_accuracy: 0.9832\n",
      "Epoch 44/100\n",
      "65/65 [==============================] - 3s 42ms/step - loss: 0.0549 - categorical_accuracy: 0.9846\n",
      "Epoch 45/100\n",
      "65/65 [==============================] - 3s 46ms/step - loss: 0.0636 - categorical_accuracy: 0.9822\n",
      "Epoch 46/100\n",
      "65/65 [==============================] - 3s 53ms/step - loss: 0.0476 - categorical_accuracy: 0.9875\n",
      "Epoch 47/100\n",
      "65/65 [==============================] - 3s 44ms/step - loss: 0.0937 - categorical_accuracy: 0.9764\n",
      "Epoch 48/100\n",
      "65/65 [==============================] - 2s 37ms/step - loss: 0.0672 - categorical_accuracy: 0.9827\n",
      "Epoch 49/100\n",
      "65/65 [==============================] - 2s 33ms/step - loss: 0.0922 - categorical_accuracy: 0.9726\n",
      "Epoch 50/100\n",
      "65/65 [==============================] - 2s 38ms/step - loss: 0.1084 - categorical_accuracy: 0.9735\n",
      "Epoch 51/100\n",
      "65/65 [==============================] - 2s 34ms/step - loss: 0.0515 - categorical_accuracy: 0.9865\n",
      "Epoch 52/100\n",
      "65/65 [==============================] - 2s 35ms/step - loss: 0.0791 - categorical_accuracy: 0.9798\n",
      "Epoch 53/100\n",
      "65/65 [==============================] - 2s 35ms/step - loss: 0.0491 - categorical_accuracy: 0.9856\n",
      "Epoch 54/100\n",
      "65/65 [==============================] - 2s 37ms/step - loss: 0.0415 - categorical_accuracy: 0.9889\n",
      "Epoch 55/100\n",
      "65/65 [==============================] - 2s 35ms/step - loss: 0.0701 - categorical_accuracy: 0.9808\n",
      "Epoch 56/100\n",
      "65/65 [==============================] - 2s 36ms/step - loss: 0.0915 - categorical_accuracy: 0.9764\n",
      "Epoch 57/100\n",
      "65/65 [==============================] - 3s 49ms/step - loss: 0.0512 - categorical_accuracy: 0.9846\n",
      "Epoch 58/100\n",
      "65/65 [==============================] - 3s 50ms/step - loss: 0.0432 - categorical_accuracy: 0.9885\n",
      "Epoch 59/100\n",
      "65/65 [==============================] - 3s 52ms/step - loss: 0.0426 - categorical_accuracy: 0.9889\n",
      "Epoch 60/100\n",
      "65/65 [==============================] - 3s 51ms/step - loss: 0.0351 - categorical_accuracy: 0.9899\n",
      "Epoch 61/100\n",
      "65/65 [==============================] - 3s 50ms/step - loss: 0.0479 - categorical_accuracy: 0.9894\n",
      "Epoch 62/100\n",
      "65/65 [==============================] - 3s 48ms/step - loss: 0.0428 - categorical_accuracy: 0.9885\n",
      "Epoch 63/100\n",
      "65/65 [==============================] - 3s 45ms/step - loss: 0.0645 - categorical_accuracy: 0.9803\n",
      "Epoch 64/100\n",
      "65/65 [==============================] - 3s 41ms/step - loss: 0.1360 - categorical_accuracy: 0.9461\n",
      "Epoch 65/100\n",
      "65/65 [==============================] - 2s 38ms/step - loss: 0.1288 - categorical_accuracy: 0.9697\n",
      "Epoch 66/100\n",
      "65/65 [==============================] - 3s 41ms/step - loss: 0.1069 - categorical_accuracy: 0.9692\n",
      "Epoch 67/100\n",
      "65/65 [==============================] - 3s 39ms/step - loss: 0.0562 - categorical_accuracy: 0.9832\n",
      "Epoch 68/100\n",
      "65/65 [==============================] - 2s 38ms/step - loss: 0.0543 - categorical_accuracy: 0.9827\n",
      "Epoch 69/100\n",
      "65/65 [==============================] - 2s 34ms/step - loss: 0.1106 - categorical_accuracy: 0.9683\n",
      "Epoch 70/100\n",
      "65/65 [==============================] - 2s 38ms/step - loss: 0.0652 - categorical_accuracy: 0.9827\n",
      "Epoch 71/100\n",
      "65/65 [==============================] - 3s 40ms/step - loss: 0.0564 - categorical_accuracy: 0.9846\n",
      "Epoch 72/100\n",
      "65/65 [==============================] - 3s 50ms/step - loss: 0.0810 - categorical_accuracy: 0.9779\n",
      "Epoch 73/100\n",
      "65/65 [==============================] - 3s 51ms/step - loss: 0.0612 - categorical_accuracy: 0.9832\n",
      "Epoch 74/100\n",
      "65/65 [==============================] - 3s 49ms/step - loss: 0.2167 - categorical_accuracy: 0.9389\n",
      "Epoch 75/100\n",
      "65/65 [==============================] - 3s 51ms/step - loss: 0.2634 - categorical_accuracy: 0.9024\n",
      "Epoch 76/100\n",
      "65/65 [==============================] - 3s 47ms/step - loss: 0.1203 - categorical_accuracy: 0.9697\n",
      "Epoch 77/100\n",
      "65/65 [==============================] - 3s 51ms/step - loss: 0.0925 - categorical_accuracy: 0.9755\n",
      "Epoch 78/100\n",
      "65/65 [==============================] - 3s 40ms/step - loss: 0.0810 - categorical_accuracy: 0.9750\n",
      "Epoch 79/100\n",
      "65/65 [==============================] - 3s 42ms/step - loss: 0.0755 - categorical_accuracy: 0.9788\n",
      "Epoch 80/100\n",
      "65/65 [==============================] - 3s 42ms/step - loss: 0.0525 - categorical_accuracy: 0.9832\n",
      "Epoch 81/100\n",
      "65/65 [==============================] - 3s 52ms/step - loss: 0.0549 - categorical_accuracy: 0.9841\n",
      "Epoch 82/100\n",
      "65/65 [==============================] - 4s 56ms/step - loss: 0.1152 - categorical_accuracy: 0.9702\n",
      "Epoch 83/100\n",
      "65/65 [==============================] - 4s 56ms/step - loss: 0.0965 - categorical_accuracy: 0.9774\n",
      "Epoch 84/100\n",
      "65/65 [==============================] - 4s 58ms/step - loss: 0.0497 - categorical_accuracy: 0.9861\n",
      "Epoch 85/100\n",
      "65/65 [==============================] - 4s 61ms/step - loss: 0.0548 - categorical_accuracy: 0.9841\n",
      "Epoch 86/100\n",
      "65/65 [==============================] - 4s 61ms/step - loss: 0.0425 - categorical_accuracy: 0.9889\n",
      "Epoch 87/100\n",
      "65/65 [==============================] - 4s 68ms/step - loss: 0.0411 - categorical_accuracy: 0.9865\n",
      "Epoch 88/100\n",
      "65/65 [==============================] - 4s 68ms/step - loss: 0.0345 - categorical_accuracy: 0.9899\n",
      "Epoch 89/100\n",
      "65/65 [==============================] - 5s 73ms/step - loss: 0.0495 - categorical_accuracy: 0.9865\n",
      "Epoch 90/100\n",
      "65/65 [==============================] - 4s 67ms/step - loss: 0.0523 - categorical_accuracy: 0.9856\n",
      "Epoch 91/100\n",
      "65/65 [==============================] - 4s 58ms/step - loss: 0.0387 - categorical_accuracy: 0.9870\n",
      "Epoch 92/100\n",
      "65/65 [==============================] - 4s 65ms/step - loss: 0.0616 - categorical_accuracy: 0.9851\n",
      "Epoch 93/100\n",
      "65/65 [==============================] - 4s 64ms/step - loss: 0.2113 - categorical_accuracy: 0.9312\n",
      "Epoch 94/100\n",
      "65/65 [==============================] - 4s 60ms/step - loss: 0.0923 - categorical_accuracy: 0.9774\n",
      "Epoch 95/100\n",
      "65/65 [==============================] - 4s 56ms/step - loss: 0.0529 - categorical_accuracy: 0.9851\n",
      "Epoch 96/100\n",
      "65/65 [==============================] - 4s 58ms/step - loss: 0.0686 - categorical_accuracy: 0.9788\n",
      "Epoch 97/100\n",
      "65/65 [==============================] - 3s 52ms/step - loss: 0.1147 - categorical_accuracy: 0.9663\n",
      "Epoch 98/100\n",
      "65/65 [==============================] - 3s 48ms/step - loss: 0.0697 - categorical_accuracy: 0.9832\n",
      "Epoch 99/100\n",
      "65/65 [==============================] - 3s 41ms/step - loss: 0.0498 - categorical_accuracy: 0.9870\n",
      "Epoch 100/100\n",
      "65/65 [==============================] - 2s 35ms/step - loss: 0.0496 - categorical_accuracy: 0.9875\n"
     ]
    }
   ],
   "source": [
    "rnn_h=model_Rnn.fit(X_train, y_train_DL, epochs=100, callbacks =[tb_callback])"
   ]
  },
  {
   "cell_type": "code",
   "execution_count": null,
   "metadata": {},
   "outputs": [
    {
     "name": "stdout",
     "output_type": "stream",
     "text": [
      "Model: \"sequential\"\n",
      "_________________________________________________________________\n",
      " Layer (type)                Output Shape              Param #   \n",
      "=================================================================\n",
      " simple_rnn (SimpleRNN)      (None, 45, 64)            7424      \n",
      "                                                                 \n",
      " simple_rnn_1 (SimpleRNN)    (None, 45, 128)           24704     \n",
      "                                                                 \n",
      " simple_rnn_2 (SimpleRNN)    (None, 64)                12352     \n",
      "                                                                 \n",
      " dense (Dense)               (None, 64)                4160      \n",
      "                                                                 \n",
      " dense_1 (Dense)             (None, 32)                2080      \n",
      "                                                                 \n",
      " dense_2 (Dense)             (None, 6)                 198       \n",
      "                                                                 \n",
      "=================================================================\n",
      "Total params: 50,918\n",
      "Trainable params: 50,918\n",
      "Non-trainable params: 0\n",
      "_________________________________________________________________\n"
     ]
    }
   ],
   "source": [
    "model_Rnn.summary()"
   ]
  },
  {
   "cell_type": "code",
   "execution_count": null,
   "metadata": {},
   "outputs": [
    {
     "name": "stdout",
     "output_type": "stream",
     "text": [
      "17/17 [==============================] - 1s 12ms/step\n"
     ]
    }
   ],
   "source": [
    "y_test_predict = model_Rnn.predict(X_test)"
   ]
  },
  {
   "cell_type": "code",
   "execution_count": null,
   "metadata": {},
   "outputs": [
    {
     "name": "stdout",
     "output_type": "stream",
     "text": [
      "accuracy: 0.9788461538461538\n",
      "accuracy: 0.9788461538461538\n",
      "precision: 0.9785364816472873\n",
      "recall: 0.9794547246837876\n",
      "f1: 0.9789239511677909\n"
     ]
    },
    {
     "data": {
      "image/png": "[encoded data removed]",
      "text/plain": [
       "<Figure size 432x288 with 2 Axes>"
      ]
     },
     "metadata": {
      "needs_background": "light"
     },
     "output_type": "display_data"
    }
   ],
   "source": [
    "accuracy = accuracy_score(actions[np.argmax(y_test_DL,axis =1).tolist()],\n",
    "                          actions[np.argmax(y_test_predict, axis=1).tolist()])\n",
    "\n",
    "precision = precision_score(actions[np.argmax(y_test_DL,axis =1).tolist()],\n",
    "                            actions[np.argmax(y_test_predict, axis=1).tolist()],\n",
    "                            average='macro')\n",
    "\n",
    "recall = recall_score(actions[np.argmax(y_test_DL,axis =1).tolist()],\n",
    "                      actions[np.argmax(y_test_predict, axis=1).tolist()],\n",
    "                      average='macro')\n",
    "\n",
    "f1 = f1_score(actions[np.argmax(y_test_DL,axis =1).tolist()],\n",
    "              actions[np.argmax(y_test_predict, axis=1).tolist()],\n",
    "              average='macro')\n",
    "\n",
    "\n",
    "ConfusionMatrixDisplay.from_predictions(actions[np.argmax(y_test_DL,axis =1).tolist()], \n",
    "                                        actions[np.argmax(y_test_predict, axis=1).tolist()], \n",
    "                                        cmap=plt.cm.Blues)\n",
    "\n",
    "print(f'accuracy: {accuracy}')\n",
    "print(f'accuracy: {accuracy}')\n",
    "print(f'precision: {precision}')\n",
    "print(f'recall: {recall}')\n",
    "print(f'f1: {f1}')"
   ]
  },
  {
   "cell_type": "code",
   "execution_count": null,
   "metadata": {},
   "outputs": [],
   "source": [
    "scoring_list.append(dict([\n",
    "    ('Model', 'RNN'),\n",
    "    ('Test Accuracy', round(accuracy, 3)),\n",
    "    ('Precision', round(precision, 3)),\n",
    "    ('Recall', round(recall, 3)),\n",
    "    ('F1', round(f1, 3))\n",
    "     ]))"
   ]
  },
  {
   "cell_type": "code",
   "execution_count": null,
   "metadata": {},
   "outputs": [
    {
     "name": "stderr",
     "output_type": "stream",
     "text": [
      "WARNING:absl:Found untraced functions such as _update_step_xla while saving (showing 1 of 1). These functions will not be directly callable after loading.\n"
     ]
    },
    {
     "name": "stdout",
     "output_type": "stream",
     "text": [
      "INFO:tensorflow:Assets written to: /progetto_tesi/model_RNN/assets\n"
     ]
    },
    {
     "name": "stderr",
     "output_type": "stream",
     "text": [
      "INFO:tensorflow:Assets written to: /progetto_tesi/model_RNN/assets\n"
     ]
    }
   ],
   "source": [
    "model_Rnn.save('/progetto_tesi/model_RNN/')"
   ]
  },
  {
   "attachments": {},
   "cell_type": "markdown",
   "metadata": {},
   "source": [
    "##### **Classificazione con LSTM**"
   ]
  },
  {
   "cell_type": "code",
   "execution_count": null,
   "metadata": {},
   "outputs": [],
   "source": [
    "log_dir_lst =os.path.join(\"\\\\progetto_tesi\",'Logs_LSTM')\n",
    "tb_callback = TensorBoard(log_dir = log_dir_lst)"
   ]
  },
  {
   "cell_type": "code",
   "execution_count": null,
   "metadata": {},
   "outputs": [],
   "source": [
    "model_lstm= Sequential()\n",
    "\n",
    "model_lstm.add(LSTM(64, return_sequences=True, activation='relu', input_shape=(45,51)))\n",
    "model_lstm.add(LSTM(128, return_sequences=True, activation='relu'))\n",
    "model_lstm.add(LSTM(64, return_sequences=False, activation='relu'))\n",
    "model_lstm.add(Dense(64, activation='relu'))\n",
    "model_lstm.add(Dense(32, activation='relu'))\n",
    "model_lstm.add(Dense(actions.shape[0], activation='softmax'))"
   ]
  },
  {
   "cell_type": "code",
   "execution_count": null,
   "metadata": {},
   "outputs": [],
   "source": [
    "model_lstm.compile(optimizer ='Adam', \n",
    "              loss='categorical_crossentropy',\n",
    "              metrics=['categorical_accuracy'])"
   ]
  },
  {
   "cell_type": "code",
   "execution_count": null,
   "metadata": {},
   "outputs": [
    {
     "name": "stdout",
     "output_type": "stream",
     "text": [
      "Epoch 1/100\n",
      "65/65 [==============================] - 18s 143ms/step - loss: 1.4115 - categorical_accuracy: 0.4815\n",
      "Epoch 2/100\n",
      "65/65 [==============================] - 9s 145ms/step - loss: 0.7404 - categorical_accuracy: 0.6989\n",
      "Epoch 3/100\n",
      "65/65 [==============================] - 10s 155ms/step - loss: 0.8166 - categorical_accuracy: 0.6898\n",
      "Epoch 4/100\n",
      "65/65 [==============================] - 9s 140ms/step - loss: 0.5626 - categorical_accuracy: 0.7850\n",
      "Epoch 5/100\n",
      "65/65 [==============================] - 8s 123ms/step - loss: 0.6087 - categorical_accuracy: 0.7311\n",
      "Epoch 6/100\n",
      "65/65 [==============================] - 7s 115ms/step - loss: 1.0667 - categorical_accuracy: 0.7095\n",
      "Epoch 7/100\n",
      "65/65 [==============================] - 10s 146ms/step - loss: 0.5427 - categorical_accuracy: 0.8004\n",
      "Epoch 8/100\n",
      "65/65 [==============================] - 8s 119ms/step - loss: 0.3953 - categorical_accuracy: 0.8528\n",
      "Epoch 9/100\n",
      "65/65 [==============================] - 8s 117ms/step - loss: 0.3309 - categorical_accuracy: 0.8749\n",
      "Epoch 10/100\n",
      "65/65 [==============================] - 7s 111ms/step - loss: 0.2932 - categorical_accuracy: 0.8879\n",
      "Epoch 11/100\n",
      "65/65 [==============================] - 9s 142ms/step - loss: 0.2160 - categorical_accuracy: 0.9269\n",
      "Epoch 12/100\n",
      "65/65 [==============================] - 9s 136ms/step - loss: 0.2209 - categorical_accuracy: 0.9221\n",
      "Epoch 13/100\n",
      "65/65 [==============================] - 9s 142ms/step - loss: 0.1657 - categorical_accuracy: 0.9524\n",
      "Epoch 14/100\n",
      "65/65 [==============================] - 8s 125ms/step - loss: 0.2005 - categorical_accuracy: 0.9327\n",
      "Epoch 15/100\n",
      "65/65 [==============================] - 9s 135ms/step - loss: 0.2058 - categorical_accuracy: 0.9307\n",
      "Epoch 16/100\n",
      "65/65 [==============================] - 11s 164ms/step - loss: 0.1688 - categorical_accuracy: 0.9533\n",
      "Epoch 17/100\n",
      "65/65 [==============================] - 9s 144ms/step - loss: 0.1599 - categorical_accuracy: 0.9557\n",
      "Epoch 18/100\n",
      "65/65 [==============================] - 9s 132ms/step - loss: 0.1561 - categorical_accuracy: 0.9505\n",
      "Epoch 19/100\n",
      "65/65 [==============================] - 10s 150ms/step - loss: 0.1160 - categorical_accuracy: 0.9716\n",
      "Epoch 20/100\n",
      "65/65 [==============================] - 11s 170ms/step - loss: 0.1170 - categorical_accuracy: 0.9726\n",
      "Epoch 21/100\n",
      "65/65 [==============================] - 8s 122ms/step - loss: 0.1674 - categorical_accuracy: 0.9500\n",
      "Epoch 22/100\n",
      "65/65 [==============================] - 8s 118ms/step - loss: 0.1309 - categorical_accuracy: 0.9634\n",
      "Epoch 23/100\n",
      "65/65 [==============================] - 8s 117ms/step - loss: 0.1222 - categorical_accuracy: 0.9658\n",
      "Epoch 24/100\n",
      "65/65 [==============================] - 7s 107ms/step - loss: 0.1317 - categorical_accuracy: 0.9625\n",
      "Epoch 25/100\n",
      "65/65 [==============================] - 7s 113ms/step - loss: 0.1661 - categorical_accuracy: 0.9466\n",
      "Epoch 26/100\n",
      "65/65 [==============================] - 8s 128ms/step - loss: 0.1451 - categorical_accuracy: 0.9586\n",
      "Epoch 27/100\n",
      "65/65 [==============================] - 7s 111ms/step - loss: 0.1063 - categorical_accuracy: 0.9697\n",
      "Epoch 28/100\n",
      "65/65 [==============================] - 10s 152ms/step - loss: 0.0918 - categorical_accuracy: 0.9774\n",
      "Epoch 29/100\n",
      "65/65 [==============================] - 7s 110ms/step - loss: 0.1236 - categorical_accuracy: 0.9630\n",
      "Epoch 30/100\n",
      "65/65 [==============================] - 7s 115ms/step - loss: 0.0923 - categorical_accuracy: 0.9769\n",
      "Epoch 31/100\n",
      "65/65 [==============================] - 7s 110ms/step - loss: 0.1148 - categorical_accuracy: 0.9663\n",
      "Epoch 32/100\n",
      "65/65 [==============================] - 7s 108ms/step - loss: 0.0962 - categorical_accuracy: 0.9711\n",
      "Epoch 33/100\n",
      "65/65 [==============================] - 7s 107ms/step - loss: 0.1095 - categorical_accuracy: 0.9649\n",
      "Epoch 34/100\n",
      "65/65 [==============================] - 8s 117ms/step - loss: 0.1028 - categorical_accuracy: 0.9683\n",
      "Epoch 35/100\n",
      "65/65 [==============================] - 8s 125ms/step - loss: 0.0864 - categorical_accuracy: 0.9755\n",
      "Epoch 36/100\n",
      "65/65 [==============================] - 8s 118ms/step - loss: 0.1232 - categorical_accuracy: 0.9625\n",
      "Epoch 37/100\n",
      "65/65 [==============================] - 7s 107ms/step - loss: 0.0965 - categorical_accuracy: 0.9711\n",
      "Epoch 38/100\n",
      "65/65 [==============================] - 7s 112ms/step - loss: 0.0874 - categorical_accuracy: 0.9755\n",
      "Epoch 39/100\n",
      "65/65 [==============================] - 8s 121ms/step - loss: 0.0839 - categorical_accuracy: 0.9764\n",
      "Epoch 40/100\n",
      "65/65 [==============================] - 8s 119ms/step - loss: 0.1007 - categorical_accuracy: 0.9716\n",
      "Epoch 41/100\n",
      "65/65 [==============================] - 7s 110ms/step - loss: 0.0907 - categorical_accuracy: 0.9731\n",
      "Epoch 42/100\n",
      "65/65 [==============================] - 10s 159ms/step - loss: 0.0764 - categorical_accuracy: 0.9822\n",
      "Epoch 43/100\n",
      "65/65 [==============================] - 14s 210ms/step - loss: 0.1218 - categorical_accuracy: 0.9634\n",
      "Epoch 44/100\n",
      "65/65 [==============================] - 8s 129ms/step - loss: 0.1145 - categorical_accuracy: 0.9707\n",
      "Epoch 45/100\n",
      "65/65 [==============================] - 8s 124ms/step - loss: 0.1194 - categorical_accuracy: 0.9658\n",
      "Epoch 46/100\n",
      "65/65 [==============================] - 9s 133ms/step - loss: 0.0773 - categorical_accuracy: 0.9817\n",
      "Epoch 47/100\n",
      "65/65 [==============================] - 9s 139ms/step - loss: 0.1251 - categorical_accuracy: 0.9630\n",
      "Epoch 48/100\n",
      "65/65 [==============================] - 8s 123ms/step - loss: 0.0835 - categorical_accuracy: 0.9764\n",
      "Epoch 49/100\n",
      "65/65 [==============================] - 8s 120ms/step - loss: 0.0710 - categorical_accuracy: 0.9812\n",
      "Epoch 50/100\n",
      "65/65 [==============================] - 8s 119ms/step - loss: 0.0950 - categorical_accuracy: 0.9731\n",
      "Epoch 51/100\n",
      "65/65 [==============================] - 7s 113ms/step - loss: 0.0721 - categorical_accuracy: 0.9836\n",
      "Epoch 52/100\n",
      "65/65 [==============================] - 8s 127ms/step - loss: 0.0675 - categorical_accuracy: 0.9827\n",
      "Epoch 53/100\n",
      "65/65 [==============================] - 9s 133ms/step - loss: 0.0806 - categorical_accuracy: 0.9784\n",
      "Epoch 54/100\n",
      "65/65 [==============================] - 8s 123ms/step - loss: 0.0641 - categorical_accuracy: 0.9832\n",
      "Epoch 55/100\n",
      "65/65 [==============================] - 8s 124ms/step - loss: 0.0824 - categorical_accuracy: 0.9793\n",
      "Epoch 56/100\n",
      "65/65 [==============================] - 8s 127ms/step - loss: 0.0788 - categorical_accuracy: 0.9788\n",
      "Epoch 57/100\n",
      "65/65 [==============================] - 8s 118ms/step - loss: 0.0586 - categorical_accuracy: 0.9822\n",
      "Epoch 58/100\n",
      "65/65 [==============================] - 8s 124ms/step - loss: 0.1831 - categorical_accuracy: 0.9442\n",
      "Epoch 59/100\n",
      "65/65 [==============================] - 8s 117ms/step - loss: 0.0805 - categorical_accuracy: 0.9793\n",
      "Epoch 60/100\n",
      "65/65 [==============================] - 9s 143ms/step - loss: 0.0660 - categorical_accuracy: 0.9817\n",
      "Epoch 61/100\n",
      "65/65 [==============================] - 8s 131ms/step - loss: 0.0762 - categorical_accuracy: 0.9769\n",
      "Epoch 62/100\n",
      "65/65 [==============================] - 8s 125ms/step - loss: 0.0788 - categorical_accuracy: 0.9774\n",
      "Epoch 63/100\n",
      "65/65 [==============================] - 9s 132ms/step - loss: 0.0920 - categorical_accuracy: 0.9760\n",
      "Epoch 64/100\n",
      "65/65 [==============================] - 8s 119ms/step - loss: 0.8914 - categorical_accuracy: 0.6999\n",
      "Epoch 65/100\n",
      "65/65 [==============================] - 8s 128ms/step - loss: 0.5059 - categorical_accuracy: 0.7989\n",
      "Epoch 66/100\n",
      "65/65 [==============================] - 8s 126ms/step - loss: 0.2948 - categorical_accuracy: 0.9028\n",
      "Epoch 67/100\n",
      "65/65 [==============================] - 10s 151ms/step - loss: 0.3612 - categorical_accuracy: 0.8793\n",
      "Epoch 68/100\n",
      "65/65 [==============================] - 8s 116ms/step - loss: 0.3049 - categorical_accuracy: 0.8985\n",
      "Epoch 69/100\n",
      "65/65 [==============================] - 7s 110ms/step - loss: 0.2214 - categorical_accuracy: 0.9351\n",
      "Epoch 70/100\n",
      "65/65 [==============================] - 8s 121ms/step - loss: 1.5104 - categorical_accuracy: 0.5512\n",
      "Epoch 71/100\n",
      "65/65 [==============================] - 9s 139ms/step - loss: 1.0124 - categorical_accuracy: 0.5267\n",
      "Epoch 72/100\n",
      "65/65 [==============================] - 10s 150ms/step - loss: 0.3803 - categorical_accuracy: 0.8956\n",
      "Epoch 73/100\n",
      "65/65 [==============================] - 8s 125ms/step - loss: 0.2441 - categorical_accuracy: 0.9216\n",
      "Epoch 74/100\n",
      "65/65 [==============================] - 9s 136ms/step - loss: 0.1832 - categorical_accuracy: 0.9485\n",
      "Epoch 75/100\n",
      "65/65 [==============================] - 9s 134ms/step - loss: 0.1321 - categorical_accuracy: 0.9601\n",
      "Epoch 76/100\n",
      "65/65 [==============================] - 7s 113ms/step - loss: 0.1398 - categorical_accuracy: 0.9591\n",
      "Epoch 77/100\n",
      "65/65 [==============================] - 7s 113ms/step - loss: 0.1097 - categorical_accuracy: 0.9678\n",
      "Epoch 78/100\n",
      "65/65 [==============================] - 8s 118ms/step - loss: 0.0940 - categorical_accuracy: 0.9735\n",
      "Epoch 79/100\n",
      "65/65 [==============================] - 7s 113ms/step - loss: 0.0938 - categorical_accuracy: 0.9726\n",
      "Epoch 80/100\n",
      "65/65 [==============================] - 8s 130ms/step - loss: 0.0985 - categorical_accuracy: 0.9735\n",
      "Epoch 81/100\n",
      "65/65 [==============================] - 8s 122ms/step - loss: 0.1803 - categorical_accuracy: 0.9428\n",
      "Epoch 82/100\n",
      "65/65 [==============================] - 9s 134ms/step - loss: 0.0962 - categorical_accuracy: 0.9755\n",
      "Epoch 83/100\n",
      "65/65 [==============================] - 8s 126ms/step - loss: 0.1015 - categorical_accuracy: 0.9692\n",
      "Epoch 84/100\n",
      "65/65 [==============================] - 9s 133ms/step - loss: 0.0887 - categorical_accuracy: 0.9764\n",
      "Epoch 85/100\n",
      "65/65 [==============================] - 9s 142ms/step - loss: 0.0802 - categorical_accuracy: 0.9769\n",
      "Epoch 86/100\n",
      "65/65 [==============================] - 9s 135ms/step - loss: 0.0831 - categorical_accuracy: 0.9764\n",
      "Epoch 87/100\n",
      "65/65 [==============================] - 8s 130ms/step - loss: 0.0877 - categorical_accuracy: 0.9769\n",
      "Epoch 88/100\n",
      "65/65 [==============================] - 8s 129ms/step - loss: 0.0849 - categorical_accuracy: 0.9760\n",
      "Epoch 89/100\n",
      "65/65 [==============================] - 8s 125ms/step - loss: 0.0705 - categorical_accuracy: 0.9798\n",
      "Epoch 90/100\n",
      "65/65 [==============================] - 8s 117ms/step - loss: 0.0742 - categorical_accuracy: 0.9764\n",
      "Epoch 91/100\n",
      "65/65 [==============================] - 8s 126ms/step - loss: 0.2348 - categorical_accuracy: 0.9447\n",
      "Epoch 92/100\n",
      "65/65 [==============================] - 8s 125ms/step - loss: 0.1682 - categorical_accuracy: 0.9634\n",
      "Epoch 93/100\n",
      "65/65 [==============================] - 7s 109ms/step - loss: 0.0884 - categorical_accuracy: 0.9769\n",
      "Epoch 94/100\n",
      "65/65 [==============================] - 9s 139ms/step - loss: 0.0957 - categorical_accuracy: 0.9707\n",
      "Epoch 95/100\n",
      "65/65 [==============================] - 8s 123ms/step - loss: 0.0780 - categorical_accuracy: 0.9793\n",
      "Epoch 96/100\n",
      "65/65 [==============================] - 7s 116ms/step - loss: 0.0839 - categorical_accuracy: 0.9769\n",
      "Epoch 97/100\n",
      "65/65 [==============================] - 7s 110ms/step - loss: 0.0831 - categorical_accuracy: 0.9760\n",
      "Epoch 98/100\n",
      "65/65 [==============================] - 8s 124ms/step - loss: 0.0968 - categorical_accuracy: 0.9726\n",
      "Epoch 99/100\n",
      "65/65 [==============================] - 8s 120ms/step - loss: 0.0739 - categorical_accuracy: 0.9803\n",
      "Epoch 100/100\n",
      "65/65 [==============================] - 8s 122ms/step - loss: 0.0835 - categorical_accuracy: 0.9750\n"
     ]
    }
   ],
   "source": [
    "lstm_h=model_lstm.fit(X_train, y_train_DL, epochs=100, callbacks =[tb_callback])"
   ]
  },
  {
   "cell_type": "code",
   "execution_count": null,
   "metadata": {},
   "outputs": [
    {
     "name": "stdout",
     "output_type": "stream",
     "text": [
      "Model: \"sequential_1\"\n",
      "_________________________________________________________________\n",
      " Layer (type)                Output Shape              Param #   \n",
      "=================================================================\n",
      " lstm (LSTM)                 (None, 45, 64)            29696     \n",
      "                                                                 \n",
      " lstm_1 (LSTM)               (None, 45, 128)           98816     \n",
      "                                                                 \n",
      " lstm_2 (LSTM)               (None, 64)                49408     \n",
      "                                                                 \n",
      " dense_3 (Dense)             (None, 64)                4160      \n",
      "                                                                 \n",
      " dense_4 (Dense)             (None, 32)                2080      \n",
      "                                                                 \n",
      " dense_5 (Dense)             (None, 6)                 198       \n",
      "                                                                 \n",
      "=================================================================\n",
      "Total params: 184,358\n",
      "Trainable params: 184,358\n",
      "Non-trainable params: 0\n",
      "_________________________________________________________________\n"
     ]
    }
   ],
   "source": [
    "model_lstm.summary()"
   ]
  },
  {
   "cell_type": "code",
   "execution_count": null,
   "metadata": {},
   "outputs": [
    {
     "name": "stdout",
     "output_type": "stream",
     "text": [
      "17/17 [==============================] - 2s 52ms/step\n"
     ]
    }
   ],
   "source": [
    "y_test_predict = model_lstm.predict(X_test)"
   ]
  },
  {
   "cell_type": "code",
   "execution_count": null,
   "metadata": {},
   "outputs": [
    {
     "name": "stdout",
     "output_type": "stream",
     "text": [
      "accuracy: 0.9653846153846154\n",
      "accuracy: 0.9653846153846154\n",
      "precision: 0.9692129344406384\n",
      "recall: 0.9648161888692411\n",
      "f1: 0.9663317642754872\n"
     ]
    },
    {
     "data": {
      "image/png": "[encoded data removed]",
      "text/plain": [
       "<Figure size 432x288 with 2 Axes>"
      ]
     },
     "metadata": {
      "needs_background": "light"
     },
     "output_type": "display_data"
    }
   ],
   "source": [
    "accuracy = accuracy_score(actions[np.argmax(y_test_DL,axis =1).tolist()],\n",
    "                          actions[np.argmax(y_test_predict, axis=1).tolist()])\n",
    "\n",
    "precision = precision_score(actions[np.argmax(y_test_DL,axis =1).tolist()],\n",
    "                            actions[np.argmax(y_test_predict, axis=1).tolist()],\n",
    "                            average='macro')\n",
    "\n",
    "recall = recall_score(actions[np.argmax(y_test_DL,axis =1).tolist()],\n",
    "                      actions[np.argmax(y_test_predict, axis=1).tolist()],\n",
    "                      average='macro')\n",
    "\n",
    "f1 = f1_score(actions[np.argmax(y_test_DL,axis =1).tolist()],\n",
    "              actions[np.argmax(y_test_predict, axis=1).tolist()],\n",
    "              average='macro')\n",
    "\n",
    "\n",
    "ConfusionMatrixDisplay.from_predictions(actions[np.argmax(y_test_DL,axis =1).tolist()], \n",
    "                                        actions[np.argmax(y_test_predict, axis=1).tolist()], \n",
    "                                        cmap=plt.cm.Blues)\n",
    "\n",
    "print(f'accuracy: {accuracy}')\n",
    "print(f'accuracy: {accuracy}')\n",
    "print(f'precision: {precision}')\n",
    "print(f'recall: {recall}')\n",
    "print(f'f1: {f1}')"
   ]
  },
  {
   "cell_type": "code",
   "execution_count": null,
   "metadata": {},
   "outputs": [],
   "source": [
    "scoring_list.append(dict([\n",
    "    ('Model', 'LSTM'),\n",
    "    ('Test Accuracy', round(accuracy, 3)),\n",
    "    ('Precision', round(precision, 3)),\n",
    "    ('Recall', round(recall, 3)),\n",
    "    ('F1', round(f1, 3))\n",
    "     ]))"
   ]
  },
  {
   "cell_type": "code",
   "execution_count": null,
   "metadata": {},
   "outputs": [
    {
     "name": "stderr",
     "output_type": "stream",
     "text": [
      "WARNING:absl:Found untraced functions such as _update_step_xla while saving (showing 1 of 1). These functions will not be directly callable after loading.\n"
     ]
    },
    {
     "name": "stdout",
     "output_type": "stream",
     "text": [
      "INFO:tensorflow:Assets written to: /progetto_tesi/model_LSTM/assets\n"
     ]
    },
    {
     "name": "stderr",
     "output_type": "stream",
     "text": [
      "INFO:tensorflow:Assets written to: /progetto_tesi/model_LSTM/assets\n"
     ]
    }
   ],
   "source": [
    "model_lstm.save('/progetto_tesi/model_LSTM/')"
   ]
  },
  {
   "attachments": {},
   "cell_type": "markdown",
   "metadata": {},
   "source": [
    "##### **Classificazione con GRU**"
   ]
  },
  {
   "cell_type": "code",
   "execution_count": null,
   "metadata": {},
   "outputs": [],
   "source": [
    "log_dir =os.path.join(\"\\\\progetto_tesi\",'Logs_GRU')\n",
    "tb_callback = TensorBoard(log_dir = log_dir)"
   ]
  },
  {
   "cell_type": "code",
   "execution_count": null,
   "metadata": {},
   "outputs": [],
   "source": [
    "model_gru= Sequential()\n",
    "\n",
    "model_gru.add(GRU(64, return_sequences=True, activation='relu', input_shape=(45,51)))\n",
    "model_gru.add(GRU(128, return_sequences=True, activation='relu'))\n",
    "model_gru.add(GRU(64, return_sequences=False, activation='relu'))\n",
    "model_gru.add(Dense(64, activation='relu'))\n",
    "model_gru.add(Dense(32, activation='relu'))\n",
    "model_gru.add(Dense(actions.shape[0], activation='softmax'))\n"
   ]
  },
  {
   "cell_type": "code",
   "execution_count": null,
   "metadata": {},
   "outputs": [],
   "source": [
    "model_gru.compile(optimizer ='Adam', \n",
    "              loss='categorical_crossentropy',\n",
    "              metrics=['categorical_accuracy'])"
   ]
  },
  {
   "cell_type": "code",
   "execution_count": null,
   "metadata": {},
   "outputs": [
    {
     "name": "stdout",
     "output_type": "stream",
     "text": [
      "Model: \"sequential_2\"\n",
      "_________________________________________________________________\n",
      " Layer (type)                Output Shape              Param #   \n",
      "=================================================================\n",
      " gru (GRU)                   (None, 45, 64)            22464     \n",
      "                                                                 \n",
      " gru_1 (GRU)                 (None, 45, 128)           74496     \n",
      "                                                                 \n",
      " gru_2 (GRU)                 (None, 64)                37248     \n",
      "                                                                 \n",
      " dense_6 (Dense)             (None, 64)                4160      \n",
      "                                                                 \n",
      " dense_7 (Dense)             (None, 32)                2080      \n",
      "                                                                 \n",
      " dense_8 (Dense)             (None, 6)                 198       \n",
      "                                                                 \n",
      "=================================================================\n",
      "Total params: 140,646\n",
      "Trainable params: 140,646\n",
      "Non-trainable params: 0\n",
      "_________________________________________________________________\n"
     ]
    }
   ],
   "source": [
    "model_gru.summary()"
   ]
  },
  {
   "cell_type": "code",
   "execution_count": null,
   "metadata": {},
   "outputs": [
    {
     "name": "stdout",
     "output_type": "stream",
     "text": [
      "Epoch 1/100\n",
      "65/65 [==============================] - 14s 90ms/step - loss: 1.3102 - categorical_accuracy: 0.5127\n",
      "Epoch 2/100\n",
      "65/65 [==============================] - 6s 92ms/step - loss: 0.5395 - categorical_accuracy: 0.7912\n",
      "Epoch 3/100\n",
      "65/65 [==============================] - 6s 97ms/step - loss: 0.3044 - categorical_accuracy: 0.8971\n",
      "Epoch 4/100\n",
      "65/65 [==============================] - 7s 112ms/step - loss: 0.2882 - categorical_accuracy: 0.8980\n",
      "Epoch 5/100\n",
      "65/65 [==============================] - 6s 99ms/step - loss: 0.2257 - categorical_accuracy: 0.9216\n",
      "Epoch 6/100\n",
      "65/65 [==============================] - 7s 102ms/step - loss: 0.2418 - categorical_accuracy: 0.9173\n",
      "Epoch 7/100\n",
      "65/65 [==============================] - 6s 99ms/step - loss: 0.2001 - categorical_accuracy: 0.9360\n",
      "Epoch 8/100\n",
      "65/65 [==============================] - 7s 103ms/step - loss: 0.1565 - categorical_accuracy: 0.9543\n",
      "Epoch 9/100\n",
      "65/65 [==============================] - 7s 103ms/step - loss: 0.1539 - categorical_accuracy: 0.9538\n",
      "Epoch 10/100\n",
      "65/65 [==============================] - 8s 128ms/step - loss: 0.1357 - categorical_accuracy: 0.9591\n",
      "Epoch 11/100\n",
      "65/65 [==============================] - 7s 104ms/step - loss: 0.1113 - categorical_accuracy: 0.9716\n",
      "Epoch 12/100\n",
      "65/65 [==============================] - 6s 96ms/step - loss: 0.1330 - categorical_accuracy: 0.9572\n",
      "Epoch 13/100\n",
      "65/65 [==============================] - 6s 97ms/step - loss: 0.1362 - categorical_accuracy: 0.9601\n",
      "Epoch 14/100\n",
      "65/65 [==============================] - 8s 118ms/step - loss: 0.1238 - categorical_accuracy: 0.9654\n",
      "Epoch 15/100\n",
      "65/65 [==============================] - 7s 106ms/step - loss: 0.1352 - categorical_accuracy: 0.9601\n",
      "Epoch 16/100\n",
      "65/65 [==============================] - 7s 104ms/step - loss: 0.1350 - categorical_accuracy: 0.9630\n",
      "Epoch 17/100\n",
      "65/65 [==============================] - 7s 107ms/step - loss: 0.1422 - categorical_accuracy: 0.9538\n",
      "Epoch 18/100\n",
      "65/65 [==============================] - 7s 107ms/step - loss: 0.1099 - categorical_accuracy: 0.9658\n",
      "Epoch 19/100\n",
      "65/65 [==============================] - 7s 111ms/step - loss: 0.0826 - categorical_accuracy: 0.9779\n",
      "Epoch 20/100\n",
      "65/65 [==============================] - 7s 103ms/step - loss: 0.0849 - categorical_accuracy: 0.9784\n",
      "Epoch 21/100\n",
      "65/65 [==============================] - 6s 94ms/step - loss: 0.1083 - categorical_accuracy: 0.9711\n",
      "Epoch 22/100\n",
      "65/65 [==============================] - 6s 97ms/step - loss: 0.0870 - categorical_accuracy: 0.9784\n",
      "Epoch 23/100\n",
      "65/65 [==============================] - 7s 101ms/step - loss: 0.0742 - categorical_accuracy: 0.9788\n",
      "Epoch 24/100\n",
      "65/65 [==============================] - 8s 115ms/step - loss: 0.1027 - categorical_accuracy: 0.9663\n",
      "Epoch 25/100\n",
      "65/65 [==============================] - 7s 105ms/step - loss: 0.0860 - categorical_accuracy: 0.9764\n",
      "Epoch 26/100\n",
      "65/65 [==============================] - 7s 108ms/step - loss: 0.1076 - categorical_accuracy: 0.9687\n",
      "Epoch 27/100\n",
      "65/65 [==============================] - 9s 139ms/step - loss: 0.0757 - categorical_accuracy: 0.9798\n",
      "Epoch 28/100\n",
      "65/65 [==============================] - 9s 144ms/step - loss: 0.0656 - categorical_accuracy: 0.9841\n",
      "Epoch 29/100\n",
      "65/65 [==============================] - 7s 114ms/step - loss: 0.0794 - categorical_accuracy: 0.9745\n",
      "Epoch 30/100\n",
      "65/65 [==============================] - 7s 102ms/step - loss: 0.0750 - categorical_accuracy: 0.9784\n",
      "Epoch 31/100\n",
      "65/65 [==============================] - 6s 98ms/step - loss: 0.0701 - categorical_accuracy: 0.9793\n",
      "Epoch 32/100\n",
      "65/65 [==============================] - 8s 116ms/step - loss: 0.0732 - categorical_accuracy: 0.9808\n",
      "Epoch 33/100\n",
      "65/65 [==============================] - 7s 107ms/step - loss: 0.0635 - categorical_accuracy: 0.9822\n",
      "Epoch 34/100\n",
      "65/65 [==============================] - 7s 108ms/step - loss: 0.0671 - categorical_accuracy: 0.9812\n",
      "Epoch 35/100\n",
      "65/65 [==============================] - 7s 103ms/step - loss: 0.0913 - categorical_accuracy: 0.9750\n",
      "Epoch 36/100\n",
      "65/65 [==============================] - 7s 106ms/step - loss: 0.0942 - categorical_accuracy: 0.9702\n",
      "Epoch 37/100\n",
      "65/65 [==============================] - 7s 101ms/step - loss: 0.0636 - categorical_accuracy: 0.9817\n",
      "Epoch 38/100\n",
      "65/65 [==============================] - 7s 115ms/step - loss: 0.0608 - categorical_accuracy: 0.9832\n",
      "Epoch 39/100\n",
      "65/65 [==============================] - 11s 173ms/step - loss: 0.1105 - categorical_accuracy: 0.9658\n",
      "Epoch 40/100\n",
      "65/65 [==============================] - 11s 167ms/step - loss: 0.0573 - categorical_accuracy: 0.9865\n",
      "Epoch 41/100\n",
      "65/65 [==============================] - 8s 121ms/step - loss: 0.0551 - categorical_accuracy: 0.9836\n",
      "Epoch 42/100\n",
      "65/65 [==============================] - 8s 120ms/step - loss: 0.0675 - categorical_accuracy: 0.9788\n",
      "Epoch 43/100\n",
      "65/65 [==============================] - 7s 113ms/step - loss: 0.0664 - categorical_accuracy: 0.9788\n",
      "Epoch 44/100\n",
      "65/65 [==============================] - 7s 115ms/step - loss: 0.0465 - categorical_accuracy: 0.9870\n",
      "Epoch 45/100\n",
      "65/65 [==============================] - 10s 148ms/step - loss: 0.0499 - categorical_accuracy: 0.9856\n",
      "Epoch 46/100\n",
      "65/65 [==============================] - 8s 123ms/step - loss: 0.0621 - categorical_accuracy: 0.9793\n",
      "Epoch 47/100\n",
      "65/65 [==============================] - 7s 113ms/step - loss: 0.1130 - categorical_accuracy: 0.9683\n",
      "Epoch 48/100\n",
      "65/65 [==============================] - 8s 125ms/step - loss: 0.0609 - categorical_accuracy: 0.9827\n",
      "Epoch 49/100\n",
      "65/65 [==============================] - 6s 93ms/step - loss: 0.0516 - categorical_accuracy: 0.9865\n",
      "Epoch 50/100\n",
      "65/65 [==============================] - 6s 89ms/step - loss: 0.0520 - categorical_accuracy: 0.9841\n",
      "Epoch 51/100\n",
      "65/65 [==============================] - 6s 98ms/step - loss: 0.0475 - categorical_accuracy: 0.9875\n",
      "Epoch 52/100\n",
      "65/65 [==============================] - 6s 92ms/step - loss: 0.0443 - categorical_accuracy: 0.9861\n",
      "Epoch 53/100\n",
      "65/65 [==============================] - 6s 94ms/step - loss: 0.0730 - categorical_accuracy: 0.9784\n",
      "Epoch 54/100\n",
      "65/65 [==============================] - 6s 96ms/step - loss: 0.0574 - categorical_accuracy: 0.9841\n",
      "Epoch 55/100\n",
      "65/65 [==============================] - 5s 84ms/step - loss: 0.0470 - categorical_accuracy: 0.9870\n",
      "Epoch 56/100\n",
      "65/65 [==============================] - 6s 87ms/step - loss: 0.0501 - categorical_accuracy: 0.9865\n",
      "Epoch 57/100\n",
      "65/65 [==============================] - 6s 96ms/step - loss: 0.1144 - categorical_accuracy: 0.9639\n",
      "Epoch 58/100\n",
      "65/65 [==============================] - 6s 85ms/step - loss: 0.0559 - categorical_accuracy: 0.9822\n",
      "Epoch 59/100\n",
      "65/65 [==============================] - 6s 89ms/step - loss: 0.0565 - categorical_accuracy: 0.9846\n",
      "Epoch 60/100\n",
      "65/65 [==============================] - 7s 105ms/step - loss: 0.0607 - categorical_accuracy: 0.9812\n",
      "Epoch 61/100\n",
      "65/65 [==============================] - 7s 108ms/step - loss: 0.0478 - categorical_accuracy: 0.9861\n",
      "Epoch 62/100\n",
      "65/65 [==============================] - 7s 112ms/step - loss: 0.0505 - categorical_accuracy: 0.9856\n",
      "Epoch 63/100\n",
      "65/65 [==============================] - 7s 104ms/step - loss: 0.0405 - categorical_accuracy: 0.9889\n",
      "Epoch 64/100\n",
      "65/65 [==============================] - 6s 91ms/step - loss: 0.0536 - categorical_accuracy: 0.9817\n",
      "Epoch 65/100\n",
      "65/65 [==============================] - 5s 84ms/step - loss: 0.0435 - categorical_accuracy: 0.9865\n",
      "Epoch 66/100\n",
      "65/65 [==============================] - 6s 89ms/step - loss: 0.0332 - categorical_accuracy: 0.9889\n",
      "Epoch 67/100\n",
      "65/65 [==============================] - 7s 101ms/step - loss: 0.0359 - categorical_accuracy: 0.9904\n",
      "Epoch 68/100\n",
      "65/65 [==============================] - 7s 108ms/step - loss: 0.0338 - categorical_accuracy: 0.9894\n",
      "Epoch 69/100\n",
      "65/65 [==============================] - 7s 101ms/step - loss: 0.0414 - categorical_accuracy: 0.9870\n",
      "Epoch 70/100\n",
      "65/65 [==============================] - 7s 103ms/step - loss: 0.0348 - categorical_accuracy: 0.9909\n",
      "Epoch 71/100\n",
      "65/65 [==============================] - 6s 94ms/step - loss: 0.0308 - categorical_accuracy: 0.9923\n",
      "Epoch 72/100\n",
      "65/65 [==============================] - 6s 86ms/step - loss: 0.0459 - categorical_accuracy: 0.9865\n",
      "Epoch 73/100\n",
      "65/65 [==============================] - 6s 86ms/step - loss: 0.1075 - categorical_accuracy: 0.9606\n",
      "Epoch 74/100\n",
      "65/65 [==============================] - 6s 85ms/step - loss: 0.0864 - categorical_accuracy: 0.9716\n",
      "Epoch 75/100\n",
      "65/65 [==============================] - 5s 84ms/step - loss: 0.0332 - categorical_accuracy: 0.9904\n",
      "Epoch 76/100\n",
      "65/65 [==============================] - 5s 83ms/step - loss: 0.0487 - categorical_accuracy: 0.9851\n",
      "Epoch 77/100\n",
      "65/65 [==============================] - 5s 82ms/step - loss: 0.0636 - categorical_accuracy: 0.9784\n",
      "Epoch 78/100\n",
      "65/65 [==============================] - 5s 84ms/step - loss: 0.0378 - categorical_accuracy: 0.9899\n",
      "Epoch 79/100\n",
      "65/65 [==============================] - 6s 96ms/step - loss: 0.0360 - categorical_accuracy: 0.9913\n",
      "Epoch 80/100\n",
      "65/65 [==============================] - 6s 95ms/step - loss: 0.0498 - categorical_accuracy: 0.9880\n",
      "Epoch 81/100\n",
      "65/65 [==============================] - 6s 99ms/step - loss: 0.0365 - categorical_accuracy: 0.9899\n",
      "Epoch 82/100\n",
      "65/65 [==============================] - 6s 95ms/step - loss: 0.0336 - categorical_accuracy: 0.9899\n",
      "Epoch 83/100\n",
      "65/65 [==============================] - 7s 100ms/step - loss: 0.0280 - categorical_accuracy: 0.9937\n",
      "Epoch 84/100\n",
      "65/65 [==============================] - 8s 127ms/step - loss: 0.0326 - categorical_accuracy: 0.9918\n",
      "Epoch 85/100\n",
      "65/65 [==============================] - 6s 95ms/step - loss: 0.0282 - categorical_accuracy: 0.9933\n",
      "Epoch 86/100\n",
      "65/65 [==============================] - 6s 89ms/step - loss: 0.1243 - categorical_accuracy: 0.9654\n",
      "Epoch 87/100\n",
      "65/65 [==============================] - 5s 84ms/step - loss: 0.0575 - categorical_accuracy: 0.9808\n",
      "Epoch 88/100\n",
      "65/65 [==============================] - 7s 110ms/step - loss: 0.0472 - categorical_accuracy: 0.9865\n",
      "Epoch 89/100\n",
      "65/65 [==============================] - 6s 87ms/step - loss: 0.0326 - categorical_accuracy: 0.9913\n",
      "Epoch 90/100\n",
      "65/65 [==============================] - 6s 99ms/step - loss: 0.0377 - categorical_accuracy: 0.9904\n",
      "Epoch 91/100\n",
      "65/65 [==============================] - 6s 89ms/step - loss: 0.0310 - categorical_accuracy: 0.9923\n",
      "Epoch 92/100\n",
      "65/65 [==============================] - 6s 94ms/step - loss: 0.0372 - categorical_accuracy: 0.9894\n",
      "Epoch 93/100\n",
      "65/65 [==============================] - 6s 99ms/step - loss: 0.0285 - categorical_accuracy: 0.9923\n",
      "Epoch 94/100\n",
      "65/65 [==============================] - 6s 87ms/step - loss: 0.0366 - categorical_accuracy: 0.9880\n",
      "Epoch 95/100\n",
      "65/65 [==============================] - 7s 113ms/step - loss: 0.0301 - categorical_accuracy: 0.9913\n",
      "Epoch 96/100\n",
      "65/65 [==============================] - 9s 140ms/step - loss: 0.0392 - categorical_accuracy: 0.9894\n",
      "Epoch 97/100\n",
      "65/65 [==============================] - 9s 135ms/step - loss: 0.0389 - categorical_accuracy: 0.9875\n",
      "Epoch 98/100\n",
      "65/65 [==============================] - 9s 139ms/step - loss: 0.0423 - categorical_accuracy: 0.9865\n",
      "Epoch 99/100\n",
      "65/65 [==============================] - 8s 125ms/step - loss: 0.0274 - categorical_accuracy: 0.9928\n",
      "Epoch 100/100\n",
      "65/65 [==============================] - 7s 109ms/step - loss: 0.0234 - categorical_accuracy: 0.9942\n"
     ]
    }
   ],
   "source": [
    "gru_h=model_gru.fit(X_train, y_train_DL, epochs=100, callbacks =[tb_callback])"
   ]
  },
  {
   "cell_type": "code",
   "execution_count": null,
   "metadata": {},
   "outputs": [
    {
     "name": "stdout",
     "output_type": "stream",
     "text": [
      "17/17 [==============================] - 2s 35ms/step\n"
     ]
    }
   ],
   "source": [
    "y_test_predict = model_gru.predict(X_test)"
   ]
  },
  {
   "cell_type": "code",
   "execution_count": null,
   "metadata": {},
   "outputs": [
    {
     "name": "stdout",
     "output_type": "stream",
     "text": [
      "accuracy: 0.9826923076923076\n",
      "accuracy: 0.9826923076923076\n",
      "precision: 0.9826634118066703\n",
      "recall: 0.9833161596887995\n",
      "f1: 0.9829539964492509\n"
     ]
    },
    {
     "data": {
      "image/png": "[encoded data removed]",
      "text/plain": [
       "<Figure size 432x288 with 2 Axes>"
      ]
     },
     "metadata": {
      "needs_background": "light"
     },
     "output_type": "display_data"
    }
   ],
   "source": [
    "accuracy = accuracy_score(actions[np.argmax(y_test_DL,axis =1).tolist()],\n",
    "                          actions[np.argmax(y_test_predict, axis=1).tolist()])\n",
    "\n",
    "precision = precision_score(actions[np.argmax(y_test_DL,axis =1).tolist()],\n",
    "                            actions[np.argmax(y_test_predict, axis=1).tolist()],\n",
    "                            average='macro')\n",
    "\n",
    "recall = recall_score(actions[np.argmax(y_test_DL,axis =1).tolist()],\n",
    "                      actions[np.argmax(y_test_predict, axis=1).tolist()],\n",
    "                      average='macro')\n",
    "\n",
    "f1 = f1_score(actions[np.argmax(y_test_DL,axis =1).tolist()],\n",
    "              actions[np.argmax(y_test_predict, axis=1).tolist()],\n",
    "              average='macro')\n",
    "\n",
    "\n",
    "ConfusionMatrixDisplay.from_predictions(actions[np.argmax(y_test_DL,axis =1).tolist()], \n",
    "                                        actions[np.argmax(y_test_predict, axis=1).tolist()], \n",
    "                                        cmap=plt.cm.Blues)\n",
    "\n",
    "print(f'accuracy: {accuracy}')\n",
    "print(f'accuracy: {accuracy}')\n",
    "print(f'precision: {precision}')\n",
    "print(f'recall: {recall}')\n",
    "print(f'f1: {f1}')"
   ]
  },
  {
   "cell_type": "code",
   "execution_count": null,
   "metadata": {},
   "outputs": [],
   "source": [
    "scoring_list.append(dict([\n",
    "    ('Model', 'GRU'),\n",
    "    ('Test Accuracy', round(accuracy, 3)),\n",
    "    ('Precision', round(precision, 3)),\n",
    "    ('Recall', round(recall, 3)),\n",
    "    ('F1', round(f1, 3))\n",
    "     ]))"
   ]
  },
  {
   "cell_type": "code",
   "execution_count": null,
   "metadata": {},
   "outputs": [
    {
     "name": "stderr",
     "output_type": "stream",
     "text": [
      "WARNING:absl:Found untraced functions such as _update_step_xla while saving (showing 1 of 1). These functions will not be directly callable after loading.\n"
     ]
    },
    {
     "name": "stdout",
     "output_type": "stream",
     "text": [
      "INFO:tensorflow:Assets written to: /progetto_tesi/model_GRU/assets\n"
     ]
    },
    {
     "name": "stderr",
     "output_type": "stream",
     "text": [
      "INFO:tensorflow:Assets written to: /progetto_tesi/model_GRU/assets\n"
     ]
    }
   ],
   "source": [
    "model_gru.save('/progetto_tesi/model_GRU/')"
   ]
  },
  {
   "attachments": {},
   "cell_type": "markdown",
   "metadata": {},
   "source": [
    "### **Confronto Riassiuntivo**"
   ]
  },
  {
   "attachments": {},
   "cell_type": "markdown",
   "metadata": {},
   "source": [
    "Confrontiamo ora i vari modelli di reti neurali ricorrenti"
   ]
  },
  {
   "cell_type": "code",
   "execution_count": null,
   "metadata": {},
   "outputs": [
    {
     "data": {
      "image/png": "[encoded data removed]",
      "text/plain": [
       "<Figure size 432x288 with 1 Axes>"
      ]
     },
     "metadata": {
      "needs_background": "light"
     },
     "output_type": "display_data"
    },
    {
     "data": {
      "text/plain": [
       "<Figure size 1440x864 with 0 Axes>"
      ]
     },
     "metadata": {},
     "output_type": "display_data"
    }
   ],
   "source": [
    "#grafico del Loss\n",
    "f, ax = plt.subplots()\n",
    "plt.figure(figsize=(20,12))\n",
    "ax.set_title('MSE / Epoche')\n",
    "ax.plot(rnn_h.history['loss'], color='orange')\n",
    "ax.plot(lstm_h.history['loss'], color = 'red')\n",
    "ax.plot(gru_h.history['loss'], color = 'brown')\n",
    "ax.legend(['RNN', 'LSTM', 'GRU'], loc = 0)\n",
    "plt.show()"
   ]
  },
  {
   "cell_type": "code",
   "execution_count": null,
   "metadata": {},
   "outputs": [
    {
     "data": {
      "image/png": "[encoded data removed]",
      "text/plain": [
       "<Figure size 432x288 with 1 Axes>"
      ]
     },
     "metadata": {
      "needs_background": "light"
     },
     "output_type": "display_data"
    },
    {
     "data": {
      "text/plain": [
       "<Figure size 1440x864 with 0 Axes>"
      ]
     },
     "metadata": {},
     "output_type": "display_data"
    }
   ],
   "source": [
    "#grafico dell'accuratezza\n",
    "f, ax = plt.subplots()\n",
    "plt.figure(figsize=(20,12))\n",
    "ax.set_title('MSE / Epoche')\n",
    "ax.plot(rnn_h.history['categorical_accuracy'], color='orange')\n",
    "ax.plot(lstm_h.history['categorical_accuracy'], color = 'red')\n",
    "ax.plot(gru_h.history['categorical_accuracy'], color = 'brown')\n",
    "ax.legend(['RNN', 'LSTM', 'GRU'], loc = 0)\n",
    "plt.show()"
   ]
  },
  {
   "attachments": {},
   "cell_type": "markdown",
   "metadata": {},
   "source": [
    "Ora confrontiamo i vari modelli secondo le metriche usate"
   ]
  },
  {
   "cell_type": "code",
   "execution_count": null,
   "metadata": {},
   "outputs": [
    {
     "data": {
      "text/html": [
       "<div>\n",
       "<style scoped>\n",
       "    .dataframe tbody tr th:only-of-type {\n",
       "        vertical-align: middle;\n",
       "    }\n",
       "\n",
       "    .dataframe tbody tr th {\n",
       "        vertical-align: top;\n",
       "    }\n",
       "\n",
       "    .dataframe thead th {\n",
       "        text-align: right;\n",
       "    }\n",
       "</style>\n",
       "<table border=\"1\" class=\"dataframe\">\n",
       "  <thead>\n",
       "    <tr style=\"text-align: right;\">\n",
       "      <th></th>\n",
       "      <th>Model</th>\n",
       "      <th>Test Accuracy</th>\n",
       "      <th>Precision</th>\n",
       "      <th>Recall</th>\n",
       "      <th>F1</th>\n",
       "    </tr>\n",
       "  </thead>\n",
       "  <tbody>\n",
       "    <tr>\n",
       "      <th>0</th>\n",
       "      <td>SVM</td>\n",
       "      <td>0.983</td>\n",
       "      <td>0.984</td>\n",
       "      <td>0.983</td>\n",
       "      <td>0.983</td>\n",
       "    </tr>\n",
       "    <tr>\n",
       "      <th>4</th>\n",
       "      <td>GRU</td>\n",
       "      <td>0.983</td>\n",
       "      <td>0.983</td>\n",
       "      <td>0.983</td>\n",
       "      <td>0.983</td>\n",
       "    </tr>\n",
       "    <tr>\n",
       "      <th>2</th>\n",
       "      <td>RNN</td>\n",
       "      <td>0.979</td>\n",
       "      <td>0.979</td>\n",
       "      <td>0.979</td>\n",
       "      <td>0.979</td>\n",
       "    </tr>\n",
       "    <tr>\n",
       "      <th>1</th>\n",
       "      <td>Random Forest</td>\n",
       "      <td>0.977</td>\n",
       "      <td>0.979</td>\n",
       "      <td>0.977</td>\n",
       "      <td>0.978</td>\n",
       "    </tr>\n",
       "    <tr>\n",
       "      <th>3</th>\n",
       "      <td>LSTM</td>\n",
       "      <td>0.965</td>\n",
       "      <td>0.969</td>\n",
       "      <td>0.965</td>\n",
       "      <td>0.966</td>\n",
       "    </tr>\n",
       "  </tbody>\n",
       "</table>\n",
       "</div>"
      ],
      "text/plain": [
       "           Model  Test Accuracy  Precision  Recall     F1\n",
       "0            SVM          0.983      0.984   0.983  0.983\n",
       "4            GRU          0.983      0.983   0.983  0.983\n",
       "2            RNN          0.979      0.979   0.979  0.979\n",
       "1  Random Forest          0.977      0.979   0.977  0.978\n",
       "3           LSTM          0.965      0.969   0.965  0.966"
      ]
     },
     "execution_count": 80,
     "metadata": {},
     "output_type": "execute_result"
    }
   ],
   "source": [
    "results = pd.DataFrame(data=scoring_list)\n",
    "results = results[['Model',\n",
    "                   'Test Accuracy',\n",
    "                   'Precision',\n",
    "                   'Recall',\n",
    "                   'F1']]\n",
    "\n",
    "results = results.sort_values(by='Recall', ascending=False)\n",
    "\n",
    "results"
   ]
  },
  {
   "cell_type": "code",
   "execution_count": null,
   "metadata": {},
   "outputs": [
    {
     "data": {
      "image/png": "[encoded data removed]",
      "text/plain": [
       "<Figure size 432x288 with 1 Axes>"
      ]
     },
     "metadata": {},
     "output_type": "display_data"
    }
   ],
   "source": [
    "with sns.axes_style(\"darkgrid\"):\n",
    "    sns.barplot(data = results,\n",
    "                x=results['Model'],\n",
    "                y=results['Precision'],\n",
    "                palette = 'inferno').set(title = \"Confronto Classificatori - Precision\")"
   ]
  },
  {
   "cell_type": "code",
   "execution_count": null,
   "metadata": {},
   "outputs": [
    {
     "data": {
      "image/png": "[encoded data removed]",
      "text/plain": [
       "<Figure size 432x288 with 1 Axes>"
      ]
     },
     "metadata": {},
     "output_type": "display_data"
    }
   ],
   "source": [
    "with sns.axes_style(\"darkgrid\"):\n",
    "    sns.barplot(data = results,\n",
    "                x=results['Model'],\n",
    "                y=results['Recall'],\n",
    "                palette = 'inferno').set(title = \"Confronto Classificatori - Recall\")"
   ]
  },
  {
   "cell_type": "code",
   "execution_count": null,
   "metadata": {},
   "outputs": [
    {
     "data": {
      "image/png": "[encoded data removed]",
      "text/plain": [
       "<Figure size 432x288 with 1 Axes>"
      ]
     },
     "metadata": {},
     "output_type": "display_data"
    }
   ],
   "source": [
    "with sns.axes_style(\"darkgrid\"):\n",
    "    sns.barplot(data = results,\n",
    "                x=results['Model'],\n",
    "                y=results['F1'],\n",
    "                palette = 'inferno').set(title = \"Confronto Classificatori - F1\")"
   ]
  },
  {
   "attachments": {},
   "cell_type": "markdown",
   "metadata": {},
   "source": [
    "### **Conclusioni e approfondimento**"
   ]
  },
  {
   "attachments": {},
   "cell_type": "markdown",
   "metadata": {},
   "source": [
    "Come si può notare tutti i modelli, a partire da quelli più semplici, fino ad arrivare a quelli deep hanno prodotto dei risultati fin troppo ottimi, pertanto potremmo essere andati incontro al fenmeno dell'ovevrfitting.Per valutare quindi in maniera più corretta la situazione proviamo ad addestrate e trainare i modelli utilizzando la tecnica del **Leave one person Out**.\n"
   ]
  },
  {
   "attachments": {},
   "cell_type": "markdown",
   "metadata": {},
   "source": [
    "Per fare questo dovrò prima ottenere gli indici sui quali dividere la x e la Y, in modo tale da lasciare ogni volta una sola persona fuori.Per fare questo sfrutto il vettore group_sequences creato durante la creazione del dataset."
   ]
  },
  {
   "cell_type": "code",
   "execution_count": 186,
   "metadata": {},
   "outputs": [],
   "source": [
    "people_index=[]\n",
    "flag=[]\n",
    "for value in range(0,np.max(group_sequences)+1):\n",
    "    person=[]\n",
    "    i=0\n",
    "    while i < len(group_sequences):\n",
    "        if group_sequences[i] == value:\n",
    "            person.append(i)\n",
    "        else:\n",
    "            flag.append(i)\n",
    "        i=i+1\n",
    "    people_index.append(person)\n",
    "    #i=flag[-1]#in modo tale che non riparta dall'inizio ma dal primo valore diverso trovato\n",
    "    \n",
    "    "
   ]
  },
  {
   "attachments": {},
   "cell_type": "markdown",
   "metadata": {},
   "source": [
    "Proviamo a creare i nostri x, y train e x,y test considerno come set di test la fold che contiene solamente i video apparteneti alla persona a cui è stata associata l'identificativo 0"
   ]
  },
  {
   "cell_type": "code",
   "execution_count": 215,
   "metadata": {},
   "outputs": [],
   "source": [
    "new_y_test = np.array([sample for sample in y[people_index[0]]])\n",
    "new_X_test = np.array([sample for sample in X[people_index[0]]])"
   ]
  },
  {
   "attachments": {},
   "cell_type": "markdown",
   "metadata": {},
   "source": [
    "Troviamo gli indici delle altre persone che andranno a comporre il set di training"
   ]
  },
  {
   "cell_type": "code",
   "execution_count": 216,
   "metadata": {},
   "outputs": [],
   "source": [
    "reamainig_people = [index for tupl in people_index[1:] for index in tupl]"
   ]
  },
  {
   "cell_type": "code",
   "execution_count": 217,
   "metadata": {},
   "outputs": [],
   "source": [
    "new_y_train = np.array([sample for sample in y[reamainig_people]])\n",
    "new_X_train = np.array([sample for sample in X[reamainig_people]])"
   ]
  },
  {
   "attachments": {},
   "cell_type": "markdown",
   "metadata": {},
   "source": [
    "Possiamo osservare che il risultato otenuto è corretto in quanto i valori delle shape sono complementari : \n",
    "*164 + 2435 = 2599*"
   ]
  },
  {
   "cell_type": "code",
   "execution_count": 218,
   "metadata": {},
   "outputs": [
    {
     "name": "stdout",
     "output_type": "stream",
     "text": [
      "(164, 45, 51)\n",
      "(2435, 45, 51)\n",
      "(164,)\n",
      "(2435,)\n"
     ]
    }
   ],
   "source": [
    "print(new_X_test.shape)\n",
    "print(new_X_train.shape)\n",
    "print(new_y_test.shape)\n",
    "print(new_y_train.shape)"
   ]
  },
  {
   "attachments": {},
   "cell_type": "markdown",
   "metadata": {},
   "source": [
    "Ripeto lo stesso passaggio effettuato precedentemente per poter usare i modelli 'semplici' e quelli deep."
   ]
  },
  {
   "cell_type": "code",
   "execution_count": 219,
   "metadata": {},
   "outputs": [],
   "source": [
    "new_X_train_ML = new_X_train.reshape(2435,(45*51))\n",
    "new_X_test_ML = new_X_test.reshape(164,(45*51))"
   ]
  },
  {
   "cell_type": "code",
   "execution_count": 221,
   "metadata": {},
   "outputs": [
    {
     "name": "stdout",
     "output_type": "stream",
     "text": [
      "(2435, 2295)\n",
      "(164, 2295)\n",
      "(2435,)\n",
      "(164,)\n"
     ]
    }
   ],
   "source": [
    "print(new_X_train_ML.shape)\n",
    "print(new_X_test_ML.shape)\n",
    "print(new_y_train.shape)\n",
    "print(new_y_test.shape)\n"
   ]
  },
  {
   "cell_type": "code",
   "execution_count": 233,
   "metadata": {},
   "outputs": [],
   "source": [
    "new_y_test_DL = to_categorical(new_y_test).astype(int)\n",
    "new_y_train_DL= to_categorical(new_y_train).astype(int)"
   ]
  },
  {
   "cell_type": "code",
   "execution_count": 234,
   "metadata": {},
   "outputs": [
    {
     "name": "stdout",
     "output_type": "stream",
     "text": [
      "(164, 6)\n",
      "(2435, 6)\n"
     ]
    }
   ],
   "source": [
    "print(new_y_test_DL.shape)\n",
    "print(new_y_train_DL.shape)"
   ]
  },
  {
   "attachments": {},
   "cell_type": "markdown",
   "metadata": {},
   "source": [
    "##### **SVM**"
   ]
  },
  {
   "attachments": {},
   "cell_type": "markdown",
   "metadata": {},
   "source": [
    "Per addestrae SVM utilizzo come iper-parametri i parametri indivuati nella fasse precedente di validation\n",
    "**classifier__C': 10, 'classifier__gamma': 0.01, 'classifier__kernel': 'rbf'}**"
   ]
  },
  {
   "cell_type": "code",
   "execution_count": 224,
   "metadata": {},
   "outputs": [],
   "source": [
    "model_svm = SVC(C= 10, gamma = 0.01, kernel = 'rbf')"
   ]
  },
  {
   "cell_type": "code",
   "execution_count": 226,
   "metadata": {},
   "outputs": [],
   "source": [
    "model_svm.fit(new_X_train_ML, new_y_train)\n",
    "y_test_predict = model_svm.predict(new_X_test_ML)"
   ]
  },
  {
   "cell_type": "code",
   "execution_count": 230,
   "metadata": {},
   "outputs": [
    {
     "name": "stdout",
     "output_type": "stream",
     "text": [
      "accuracy: 0.9817073170731707\n",
      "precision: 0.9827160493827161\n",
      "recall: 0.9852801519468186\n",
      "f1: 0.9836940691447649\n"
     ]
    },
    {
     "data": {
      "text/plain": [
       "[]"
      ]
     },
     "execution_count": 230,
     "metadata": {},
     "output_type": "execute_result"
    },
    {
     "data": {
      "image/png": "[encoded data removed]",
      "text/plain": [
       "<Figure size 432x288 with 2 Axes>"
      ]
     },
     "metadata": {
      "needs_background": "light"
     },
     "output_type": "display_data"
    }
   ],
   "source": [
    "# calcoliamo le metriche di valutazione\n",
    "accuracy = accuracy_score(new_y_test, y_test_predict)\n",
    "precision = precision_score(new_y_test, y_test_predict, average='macro')\n",
    "recall = recall_score(new_y_test, y_test_predict, average='macro')\n",
    "f1 = f1_score(new_y_test, y_test_predict, average='macro')\n",
    "\n",
    "ConfusionMatrixDisplay.from_predictions(new_y_test, \n",
    "                                        y_test_predict, \n",
    "                                        cmap=plt.cm.Blues)\n",
    "\n",
    "print(f'accuracy: {accuracy}')\n",
    "print(f'precision: {precision}')\n",
    "print(f'recall: {recall}')\n",
    "print(f'f1: {f1}')\n",
    "\n",
    "\n",
    "plt.plot()"
   ]
  },
  {
   "attachments": {},
   "cell_type": "markdown",
   "metadata": {},
   "source": [
    "##### **RANDOM FOREST**"
   ]
  },
  {
   "attachments": {},
   "cell_type": "markdown",
   "metadata": {},
   "source": [
    "Per addestrae RANDOM FOREST utilizzo come iper-parametri i parametri indivuati nella fasse precedente di validation\n",
    "**{'classifier__max_depth': 10, 'classifier__n_estimators': 200}**"
   ]
  },
  {
   "cell_type": "code",
   "execution_count": 231,
   "metadata": {},
   "outputs": [],
   "source": [
    "model_rf= RandomForestClassifier(max_depth=10,n_estimators=200)\n",
    "\n",
    "model_rf.fit(new_X_train_ML, new_y_train)\n",
    "y_test_predict = model_rf.predict(new_X_test_ML)"
   ]
  },
  {
   "cell_type": "code",
   "execution_count": 232,
   "metadata": {},
   "outputs": [
    {
     "name": "stdout",
     "output_type": "stream",
     "text": [
      "accuracy: 0.9634146341463414\n",
      "precision: 0.9662835249042147\n",
      "recall: 0.9634615384615385\n",
      "f1: 0.9635691755829056\n"
     ]
    },
    {
     "data": {
      "text/plain": [
       "[]"
      ]
     },
     "execution_count": 232,
     "metadata": {},
     "output_type": "execute_result"
    },
    {
     "data": {
      "image/png": "[encoded data removed]",
      "text/plain": [
       "<Figure size 432x288 with 2 Axes>"
      ]
     },
     "metadata": {
      "needs_background": "light"
     },
     "output_type": "display_data"
    }
   ],
   "source": [
    "# calcoliamo le metriche di valutazione\n",
    "accuracy = accuracy_score(new_y_test, y_test_predict)\n",
    "precision = precision_score(new_y_test, y_test_predict, average='macro')\n",
    "recall = recall_score(new_y_test, y_test_predict, average='macro')\n",
    "f1 = f1_score(new_y_test, y_test_predict, average='macro')\n",
    "\n",
    "ConfusionMatrixDisplay.from_predictions(new_y_test, \n",
    "                                        y_test_predict, \n",
    "                                        cmap=plt.cm.Blues)\n",
    "\n",
    "print(f'accuracy: {accuracy}')\n",
    "print(f'precision: {precision}')\n",
    "print(f'recall: {recall}')\n",
    "print(f'f1: {f1}')\n",
    "\n",
    "\n",
    "plt.plot()"
   ]
  },
  {
   "attachments": {},
   "cell_type": "markdown",
   "metadata": {},
   "source": [
    "##### **LSTM**"
   ]
  },
  {
   "cell_type": "code",
   "execution_count": 235,
   "metadata": {},
   "outputs": [],
   "source": [
    "new_model_lstm= Sequential()\n",
    "\n",
    "new_model_lstm.add(LSTM(64, return_sequences=True, activation='relu', input_shape=(45,51)))\n",
    "new_model_lstm.add(LSTM(128, return_sequences=True, activation='relu'))\n",
    "new_model_lstm.add(LSTM(64, return_sequences=False, activation='relu'))\n",
    "new_model_lstm.add(Dense(64, activation='relu'))\n",
    "new_model_lstm.add(Dense(32, activation='relu'))\n",
    "new_model_lstm.add(Dense(actions.shape[0], activation='softmax'))"
   ]
  },
  {
   "cell_type": "code",
   "execution_count": 236,
   "metadata": {},
   "outputs": [],
   "source": [
    "new_model_lstm.compile(optimizer ='Adam', \n",
    "              loss='categorical_crossentropy',\n",
    "              metrics=['categorical_accuracy'])"
   ]
  },
  {
   "cell_type": "code",
   "execution_count": 239,
   "metadata": {},
   "outputs": [
    {
     "name": "stdout",
     "output_type": "stream",
     "text": [
      "Epoch 1/50\n",
      "77/77 [==============================] - 13s 95ms/step - loss: 1.6380 - categorical_accuracy: 0.4312\n",
      "Epoch 2/50\n",
      "77/77 [==============================] - 7s 92ms/step - loss: 1.0730 - categorical_accuracy: 0.5967\n",
      "Epoch 3/50\n",
      "77/77 [==============================] - 7s 92ms/step - loss: 0.7792 - categorical_accuracy: 0.7150\n",
      "Epoch 4/50\n",
      "77/77 [==============================] - 7s 93ms/step - loss: 0.5359 - categorical_accuracy: 0.8341\n",
      "Epoch 5/50\n",
      "77/77 [==============================] - 7s 94ms/step - loss: 0.7129 - categorical_accuracy: 0.7770\n",
      "Epoch 6/50\n",
      "77/77 [==============================] - 7s 96ms/step - loss: 66.3654 - categorical_accuracy: 0.7811\n",
      "Epoch 7/50\n",
      "77/77 [==============================] - 8s 104ms/step - loss: 27.4977 - categorical_accuracy: 0.3647\n",
      "Epoch 8/50\n",
      "77/77 [==============================] - 7s 95ms/step - loss: 1.0724 - categorical_accuracy: 0.5622\n",
      "Epoch 9/50\n",
      "77/77 [==============================] - 7s 96ms/step - loss: 0.7813 - categorical_accuracy: 0.6825\n",
      "Epoch 10/50\n",
      "77/77 [==============================] - 7s 93ms/step - loss: 0.6306 - categorical_accuracy: 0.7717\n",
      "Epoch 11/50\n",
      "77/77 [==============================] - 7s 92ms/step - loss: 0.4473 - categorical_accuracy: 0.8456\n",
      "Epoch 12/50\n",
      "77/77 [==============================] - 7s 92ms/step - loss: 0.4024 - categorical_accuracy: 0.8653\n",
      "Epoch 13/50\n",
      "77/77 [==============================] - 7s 92ms/step - loss: 0.3407 - categorical_accuracy: 0.8780\n",
      "Epoch 14/50\n",
      "77/77 [==============================] - 7s 93ms/step - loss: 0.3013 - categorical_accuracy: 0.8973\n",
      "Epoch 15/50\n",
      "77/77 [==============================] - 7s 94ms/step - loss: 0.3533 - categorical_accuracy: 0.8825\n",
      "Epoch 16/50\n",
      "77/77 [==============================] - 7s 92ms/step - loss: 0.2519 - categorical_accuracy: 0.9228\n",
      "Epoch 17/50\n",
      "77/77 [==============================] - 7s 94ms/step - loss: 0.2611 - categorical_accuracy: 0.9125\n",
      "Epoch 18/50\n",
      "77/77 [==============================] - 7s 94ms/step - loss: 0.2217 - categorical_accuracy: 0.9322\n",
      "Epoch 19/50\n",
      "77/77 [==============================] - 7s 93ms/step - loss: 0.2086 - categorical_accuracy: 0.9339\n",
      "Epoch 20/50\n",
      "77/77 [==============================] - 7s 96ms/step - loss: 0.2123 - categorical_accuracy: 0.9372\n",
      "Epoch 21/50\n",
      "77/77 [==============================] - 7s 94ms/step - loss: 0.2307 - categorical_accuracy: 0.9277\n",
      "Epoch 22/50\n",
      "77/77 [==============================] - 7s 93ms/step - loss: 0.2782 - categorical_accuracy: 0.9113\n",
      "Epoch 23/50\n",
      "77/77 [==============================] - 7s 95ms/step - loss: 0.1672 - categorical_accuracy: 0.9499\n",
      "Epoch 24/50\n",
      "77/77 [==============================] - 7s 96ms/step - loss: 0.1637 - categorical_accuracy: 0.9532\n",
      "Epoch 25/50\n",
      "77/77 [==============================] - 8s 98ms/step - loss: 0.1957 - categorical_accuracy: 0.9372\n",
      "Epoch 26/50\n",
      "77/77 [==============================] - 7s 94ms/step - loss: 0.1808 - categorical_accuracy: 0.9429\n",
      "Epoch 27/50\n",
      "77/77 [==============================] - 7s 94ms/step - loss: 0.2066 - categorical_accuracy: 0.9331\n",
      "Epoch 28/50\n",
      "77/77 [==============================] - 7s 94ms/step - loss: 0.1678 - categorical_accuracy: 0.9520\n",
      "Epoch 29/50\n",
      "77/77 [==============================] - 7s 95ms/step - loss: 0.1449 - categorical_accuracy: 0.9585\n",
      "Epoch 30/50\n",
      "77/77 [==============================] - 7s 95ms/step - loss: 0.1500 - categorical_accuracy: 0.9528\n",
      "Epoch 31/50\n",
      "77/77 [==============================] - 7s 94ms/step - loss: 0.1245 - categorical_accuracy: 0.9634\n",
      "Epoch 32/50\n",
      "77/77 [==============================] - 7s 94ms/step - loss: 0.1301 - categorical_accuracy: 0.9585\n",
      "Epoch 33/50\n",
      "77/77 [==============================] - 7s 94ms/step - loss: 0.2719 - categorical_accuracy: 0.9253\n",
      "Epoch 34/50\n",
      "77/77 [==============================] - 7s 94ms/step - loss: 0.1787 - categorical_accuracy: 0.9483\n",
      "Epoch 35/50\n",
      "77/77 [==============================] - 7s 94ms/step - loss: 0.1401 - categorical_accuracy: 0.9589\n",
      "Epoch 36/50\n",
      "77/77 [==============================] - 7s 93ms/step - loss: 0.1459 - categorical_accuracy: 0.9552\n",
      "Epoch 37/50\n",
      "77/77 [==============================] - 7s 94ms/step - loss: 0.1658 - categorical_accuracy: 0.9503\n",
      "Epoch 38/50\n",
      "77/77 [==============================] - 7s 94ms/step - loss: 0.1691 - categorical_accuracy: 0.9511\n",
      "Epoch 39/50\n",
      "77/77 [==============================] - 7s 94ms/step - loss: 0.1565 - categorical_accuracy: 0.9532\n",
      "Epoch 40/50\n",
      "77/77 [==============================] - 8s 99ms/step - loss: 0.1447 - categorical_accuracy: 0.9552\n",
      "Epoch 41/50\n",
      "77/77 [==============================] - 7s 97ms/step - loss: 0.1349 - categorical_accuracy: 0.9573\n",
      "Epoch 42/50\n",
      "77/77 [==============================] - 8s 109ms/step - loss: 0.1204 - categorical_accuracy: 0.9618\n",
      "Epoch 43/50\n",
      "77/77 [==============================] - 8s 102ms/step - loss: 0.1838 - categorical_accuracy: 0.9396\n",
      "Epoch 44/50\n",
      "77/77 [==============================] - 8s 104ms/step - loss: 0.1546 - categorical_accuracy: 0.9524\n",
      "Epoch 45/50\n",
      "77/77 [==============================] - 8s 101ms/step - loss: 0.1204 - categorical_accuracy: 0.9610\n",
      "Epoch 46/50\n",
      "77/77 [==============================] - 7s 94ms/step - loss: 0.2513 - categorical_accuracy: 0.9326\n",
      "Epoch 47/50\n",
      "77/77 [==============================] - 7s 94ms/step - loss: 0.1499 - categorical_accuracy: 0.9565\n",
      "Epoch 48/50\n",
      "77/77 [==============================] - 7s 94ms/step - loss: 0.1316 - categorical_accuracy: 0.9593\n",
      "Epoch 49/50\n",
      "77/77 [==============================] - 7s 94ms/step - loss: 0.1392 - categorical_accuracy: 0.9569\n",
      "Epoch 50/50\n",
      "77/77 [==============================] - 7s 95ms/step - loss: 0.1521 - categorical_accuracy: 0.9487\n"
     ]
    }
   ],
   "source": [
    "lstm_h=new_model_lstm.fit(new_X_train, new_y_train_DL, epochs=50)"
   ]
  },
  {
   "cell_type": "code",
   "execution_count": 240,
   "metadata": {},
   "outputs": [
    {
     "name": "stdout",
     "output_type": "stream",
     "text": [
      "6/6 [==============================] - 1s 36ms/step\n"
     ]
    }
   ],
   "source": [
    "y_test_predict = new_model_lstm.predict(new_X_test)"
   ]
  },
  {
   "cell_type": "code",
   "execution_count": 242,
   "metadata": {},
   "outputs": [
    {
     "name": "stdout",
     "output_type": "stream",
     "text": [
      "accuracy: 0.9329268292682927\n",
      "accuracy: 0.9329268292682927\n",
      "precision: 0.9468759018759019\n",
      "recall: 0.9281779948446616\n",
      "f1: 0.9362302974883733\n"
     ]
    },
    {
     "data": {
      "image/png": "[encoded data removed]",
      "text/plain": [
       "<Figure size 432x288 with 2 Axes>"
      ]
     },
     "metadata": {
      "needs_background": "light"
     },
     "output_type": "display_data"
    }
   ],
   "source": [
    "accuracy = accuracy_score(actions[np.argmax(new_y_test_DL,axis =1).tolist()],\n",
    "                          actions[np.argmax(y_test_predict, axis=1).tolist()])\n",
    "\n",
    "precision = precision_score(actions[np.argmax(new_y_test_DL,axis =1).tolist()],\n",
    "                            actions[np.argmax(y_test_predict, axis=1).tolist()],\n",
    "                            average='macro')\n",
    "\n",
    "recall = recall_score(actions[np.argmax(new_y_test_DL,axis =1).tolist()],\n",
    "                      actions[np.argmax(y_test_predict, axis=1).tolist()],\n",
    "                      average='macro')\n",
    "\n",
    "f1 = f1_score(actions[np.argmax(new_y_test_DL,axis =1).tolist()],\n",
    "              actions[np.argmax(y_test_predict, axis=1).tolist()],\n",
    "              average='macro')\n",
    "\n",
    "\n",
    "ConfusionMatrixDisplay.from_predictions(actions[np.argmax(new_y_test_DL,axis =1).tolist()], \n",
    "                                        actions[np.argmax(y_test_predict, axis=1).tolist()], \n",
    "                                        cmap=plt.cm.Blues)\n",
    "\n",
    "print(f'accuracy: {accuracy}')\n",
    "print(f'accuracy: {accuracy}')\n",
    "print(f'precision: {precision}')\n",
    "print(f'recall: {recall}')\n",
    "print(f'f1: {f1}')"
   ]
  },
  {
   "attachments": {},
   "cell_type": "markdown",
   "metadata": {},
   "source": [
    "##### **GRU**"
   ]
  },
  {
   "cell_type": "code",
   "execution_count": 243,
   "metadata": {},
   "outputs": [],
   "source": [
    "new_model_gru= Sequential()\n",
    "\n",
    "new_model_gru.add(GRU(64, return_sequences=True, activation='relu', input_shape=(45,51)))\n",
    "new_model_gru.add(GRU(128, return_sequences=True, activation='relu'))\n",
    "new_model_gru.add(GRU(64, return_sequences=False, activation='relu'))\n",
    "new_model_gru.add(Dense(64, activation='relu'))\n",
    "new_model_gru.add(Dense(32, activation='relu'))\n",
    "new_model_gru.add(Dense(actions.shape[0], activation='softmax'))"
   ]
  },
  {
   "cell_type": "code",
   "execution_count": 244,
   "metadata": {},
   "outputs": [],
   "source": [
    "new_model_gru.compile(optimizer ='Adam', \n",
    "              loss='categorical_crossentropy',\n",
    "              metrics=['categorical_accuracy'])"
   ]
  },
  {
   "cell_type": "code",
   "execution_count": 245,
   "metadata": {},
   "outputs": [
    {
     "name": "stdout",
     "output_type": "stream",
     "text": [
      "Epoch 1/50\n",
      "77/77 [==============================] - 14s 81ms/step - loss: 1.0167 - categorical_accuracy: 0.6353\n",
      "Epoch 2/50\n",
      "77/77 [==============================] - 6s 81ms/step - loss: 0.5270 - categorical_accuracy: 0.7552\n",
      "Epoch 3/50\n",
      "77/77 [==============================] - 6s 82ms/step - loss: 0.3843 - categorical_accuracy: 0.8427\n",
      "Epoch 4/50\n",
      "77/77 [==============================] - 6s 82ms/step - loss: 0.3079 - categorical_accuracy: 0.8867\n",
      "Epoch 5/50\n",
      "77/77 [==============================] - 6s 83ms/step - loss: 0.2514 - categorical_accuracy: 0.9129\n",
      "Epoch 6/50\n",
      "77/77 [==============================] - 6s 82ms/step - loss: 0.1848 - categorical_accuracy: 0.9470\n",
      "Epoch 7/50\n",
      "77/77 [==============================] - 6s 82ms/step - loss: 0.2943 - categorical_accuracy: 0.9043\n",
      "Epoch 8/50\n",
      "77/77 [==============================] - 6s 82ms/step - loss: 0.1427 - categorical_accuracy: 0.9598\n",
      "Epoch 9/50\n",
      "77/77 [==============================] - 6s 82ms/step - loss: 0.1460 - categorical_accuracy: 0.9569\n",
      "Epoch 10/50\n",
      "77/77 [==============================] - 6s 82ms/step - loss: 0.1421 - categorical_accuracy: 0.9556\n",
      "Epoch 11/50\n",
      "77/77 [==============================] - 6s 84ms/step - loss: 0.1574 - categorical_accuracy: 0.9536\n",
      "Epoch 12/50\n",
      "77/77 [==============================] - 6s 83ms/step - loss: 0.1312 - categorical_accuracy: 0.9639\n",
      "Epoch 13/50\n",
      "77/77 [==============================] - 6s 82ms/step - loss: 0.1123 - categorical_accuracy: 0.9667\n",
      "Epoch 14/50\n",
      "77/77 [==============================] - 6s 83ms/step - loss: 0.1078 - categorical_accuracy: 0.9700\n",
      "Epoch 15/50\n",
      "77/77 [==============================] - 6s 83ms/step - loss: 0.1191 - categorical_accuracy: 0.9639\n",
      "Epoch 16/50\n",
      "77/77 [==============================] - 6s 83ms/step - loss: 0.0971 - categorical_accuracy: 0.9729\n",
      "Epoch 17/50\n",
      "77/77 [==============================] - 6s 83ms/step - loss: 0.1130 - categorical_accuracy: 0.9692\n",
      "Epoch 18/50\n",
      "77/77 [==============================] - 6s 83ms/step - loss: 0.1281 - categorical_accuracy: 0.9634\n",
      "Epoch 19/50\n",
      "77/77 [==============================] - 6s 83ms/step - loss: 0.0832 - categorical_accuracy: 0.9770\n",
      "Epoch 20/50\n",
      "77/77 [==============================] - 6s 84ms/step - loss: 0.0871 - categorical_accuracy: 0.9770\n",
      "Epoch 21/50\n",
      "77/77 [==============================] - 7s 92ms/step - loss: 0.0930 - categorical_accuracy: 0.9749\n",
      "Epoch 22/50\n",
      "77/77 [==============================] - 7s 87ms/step - loss: 0.0929 - categorical_accuracy: 0.9745\n",
      "Epoch 23/50\n",
      "77/77 [==============================] - 6s 82ms/step - loss: 0.0763 - categorical_accuracy: 0.9799\n",
      "Epoch 24/50\n",
      "77/77 [==============================] - 6s 84ms/step - loss: 0.0838 - categorical_accuracy: 0.9766\n",
      "Epoch 25/50\n",
      "77/77 [==============================] - 6s 84ms/step - loss: 0.0746 - categorical_accuracy: 0.9762\n",
      "Epoch 26/50\n",
      "77/77 [==============================] - 6s 83ms/step - loss: 0.0862 - categorical_accuracy: 0.9758\n",
      "Epoch 27/50\n",
      "77/77 [==============================] - 6s 82ms/step - loss: 0.0941 - categorical_accuracy: 0.9762\n",
      "Epoch 28/50\n",
      "77/77 [==============================] - 6s 83ms/step - loss: 0.0953 - categorical_accuracy: 0.9741\n",
      "Epoch 29/50\n",
      "77/77 [==============================] - 7s 85ms/step - loss: 0.0645 - categorical_accuracy: 0.9828\n",
      "Epoch 30/50\n",
      "77/77 [==============================] - 7s 85ms/step - loss: 0.0660 - categorical_accuracy: 0.9823\n",
      "Epoch 31/50\n",
      "77/77 [==============================] - 6s 84ms/step - loss: 0.0655 - categorical_accuracy: 0.9832\n",
      "Epoch 32/50\n",
      "77/77 [==============================] - 6s 83ms/step - loss: 0.0686 - categorical_accuracy: 0.9819\n",
      "Epoch 33/50\n",
      "77/77 [==============================] - 6s 83ms/step - loss: 0.0621 - categorical_accuracy: 0.9840\n",
      "Epoch 34/50\n",
      "77/77 [==============================] - 6s 83ms/step - loss: 0.0897 - categorical_accuracy: 0.9754\n",
      "Epoch 35/50\n",
      "77/77 [==============================] - 6s 83ms/step - loss: 0.0625 - categorical_accuracy: 0.9823\n",
      "Epoch 36/50\n",
      "77/77 [==============================] - 6s 84ms/step - loss: 0.0651 - categorical_accuracy: 0.9811\n",
      "Epoch 37/50\n",
      "77/77 [==============================] - 7s 85ms/step - loss: 0.0559 - categorical_accuracy: 0.9848\n",
      "Epoch 38/50\n",
      "77/77 [==============================] - 6s 83ms/step - loss: 0.0738 - categorical_accuracy: 0.9803\n",
      "Epoch 39/50\n",
      "77/77 [==============================] - 6s 83ms/step - loss: 0.1015 - categorical_accuracy: 0.9713\n",
      "Epoch 40/50\n",
      "77/77 [==============================] - 6s 82ms/step - loss: 0.3389 - categorical_accuracy: 0.9014\n",
      "Epoch 41/50\n",
      "77/77 [==============================] - 6s 83ms/step - loss: 0.0882 - categorical_accuracy: 0.9778\n",
      "Epoch 42/50\n",
      "77/77 [==============================] - 6s 83ms/step - loss: 0.0706 - categorical_accuracy: 0.9807\n",
      "Epoch 43/50\n",
      "77/77 [==============================] - 6s 82ms/step - loss: 0.0931 - categorical_accuracy: 0.9741\n",
      "Epoch 44/50\n",
      "77/77 [==============================] - 6s 83ms/step - loss: 0.0621 - categorical_accuracy: 0.9823\n",
      "Epoch 45/50\n",
      "77/77 [==============================] - 6s 83ms/step - loss: 0.0564 - categorical_accuracy: 0.9840\n",
      "Epoch 46/50\n",
      "77/77 [==============================] - 6s 83ms/step - loss: 0.0542 - categorical_accuracy: 0.9844\n",
      "Epoch 47/50\n",
      "77/77 [==============================] - 6s 82ms/step - loss: 0.0493 - categorical_accuracy: 0.9877\n",
      "Epoch 48/50\n",
      "77/77 [==============================] - 6s 82ms/step - loss: 0.1761 - categorical_accuracy: 0.9507\n",
      "Epoch 49/50\n",
      "77/77 [==============================] - 6s 83ms/step - loss: 0.0559 - categorical_accuracy: 0.9852\n",
      "Epoch 50/50\n",
      "77/77 [==============================] - 6s 83ms/step - loss: 0.0557 - categorical_accuracy: 0.9848\n"
     ]
    }
   ],
   "source": [
    "gru_h=new_model_gru.fit(new_X_train, new_y_train_DL, epochs=50)"
   ]
  },
  {
   "cell_type": "code",
   "execution_count": 246,
   "metadata": {},
   "outputs": [
    {
     "name": "stdout",
     "output_type": "stream",
     "text": [
      "accuracy: 0.9329268292682927\n",
      "accuracy: 0.9329268292682927\n",
      "precision: 0.9468759018759019\n",
      "recall: 0.9281779948446616\n",
      "f1: 0.9362302974883733\n"
     ]
    },
    {
     "data": {
      "image/png": "[encoded data removed]",
      "text/plain": [
       "<Figure size 432x288 with 2 Axes>"
      ]
     },
     "metadata": {
      "needs_background": "light"
     },
     "output_type": "display_data"
    }
   ],
   "source": [
    "accuracy = accuracy_score(actions[np.argmax(new_y_test_DL,axis =1).tolist()],\n",
    "                          actions[np.argmax(y_test_predict, axis=1).tolist()])\n",
    "\n",
    "precision = precision_score(actions[np.argmax(new_y_test_DL,axis =1).tolist()],\n",
    "                            actions[np.argmax(y_test_predict, axis=1).tolist()],\n",
    "                            average='macro')\n",
    "\n",
    "recall = recall_score(actions[np.argmax(new_y_test_DL,axis =1).tolist()],\n",
    "                      actions[np.argmax(y_test_predict, axis=1).tolist()],\n",
    "                      average='macro')\n",
    "\n",
    "f1 = f1_score(actions[np.argmax(new_y_test_DL,axis =1).tolist()],\n",
    "              actions[np.argmax(y_test_predict, axis=1).tolist()],\n",
    "              average='macro')\n",
    "\n",
    "\n",
    "ConfusionMatrixDisplay.from_predictions(actions[np.argmax(new_y_test_DL,axis =1).tolist()], \n",
    "                                        actions[np.argmax(y_test_predict, axis=1).tolist()], \n",
    "                                        cmap=plt.cm.Blues)\n",
    "\n",
    "print(f'accuracy: {accuracy}')\n",
    "print(f'accuracy: {accuracy}')\n",
    "print(f'precision: {precision}')\n",
    "print(f'recall: {recall}')\n",
    "print(f'f1: {f1}')"
   ]
  },
  {
   "attachments": {},
   "cell_type": "markdown",
   "metadata": {},
   "source": [
    "Poichè i risultati ottenuti sono equivalenti a quelli ottenuti precedenti possiamo affermare che prima i nostri modelli non soffrivano di over-fitting e lo si può appurare anche dal fatto che i modelli funzionano bene anche in real-time.\n"
   ]
  },
  {
   "attachments": {},
   "cell_type": "markdown",
   "metadata": {},
   "source": [
    "Quindi ora proviamo ad addestrare i nostri modelli effettuando un shuffle sul nostro dataset poichè la struttura sequenziale del nostro dataset potrebbe influenzare i risultati dei nostri modelli, specialmente i modelli deep.Utilizzo ora il dataset iniziale e non quello creato per il leave one person out"
   ]
  },
  {
   "cell_type": "code",
   "execution_count": 257,
   "metadata": {},
   "outputs": [],
   "source": [
    "shuffle_X_train, shuffle_y_DL_train = shuffle(X_train, y_train_DL, random_state=11)"
   ]
  },
  {
   "cell_type": "code",
   "execution_count": 258,
   "metadata": {},
   "outputs": [],
   "source": [
    "shuffle_model_gru= Sequential()\n",
    "\n",
    "shuffle_model_gru.add(GRU(64, return_sequences=True, activation='relu', input_shape=(45,51)))\n",
    "shuffle_model_gru.add(GRU(128, return_sequences=True, activation='relu'))\n",
    "shuffle_model_gru.add(GRU(64, return_sequences=False, activation='relu'))\n",
    "shuffle_model_gru.add(Dense(64, activation='relu'))\n",
    "shuffle_model_gru.add(Dense(32, activation='relu'))\n",
    "shuffle_model_gru.add(Dense(actions.shape[0], activation='softmax'))\n"
   ]
  },
  {
   "cell_type": "code",
   "execution_count": 259,
   "metadata": {},
   "outputs": [],
   "source": [
    "shuffle_model_gru.compile(optimizer ='Adam', \n",
    "              loss='categorical_crossentropy',\n",
    "              metrics=['categorical_accuracy'])"
   ]
  },
  {
   "cell_type": "code",
   "execution_count": 260,
   "metadata": {},
   "outputs": [
    {
     "name": "stdout",
     "output_type": "stream",
     "text": [
      "Epoch 1/50\n",
      "65/65 [==============================] - 12s 83ms/step - loss: 1.1556 - categorical_accuracy: 0.5993\n",
      "Epoch 2/50\n",
      "65/65 [==============================] - 6s 86ms/step - loss: 0.4946 - categorical_accuracy: 0.7951\n",
      "Epoch 3/50\n",
      "65/65 [==============================] - 6s 85ms/step - loss: 0.4167 - categorical_accuracy: 0.8389\n",
      "Epoch 4/50\n",
      "65/65 [==============================] - 6s 86ms/step - loss: 0.2805 - categorical_accuracy: 0.8923\n",
      "Epoch 5/50\n",
      "65/65 [==============================] - 5s 84ms/step - loss: 0.2349 - categorical_accuracy: 0.9197\n",
      "Epoch 6/50\n",
      "65/65 [==============================] - 5s 84ms/step - loss: 0.2542 - categorical_accuracy: 0.9158\n",
      "Epoch 7/50\n",
      "65/65 [==============================] - 6s 85ms/step - loss: 0.1582 - categorical_accuracy: 0.9495\n",
      "Epoch 8/50\n",
      "65/65 [==============================] - 6s 86ms/step - loss: 0.1704 - categorical_accuracy: 0.9452\n",
      "Epoch 9/50\n",
      "65/65 [==============================] - 5s 85ms/step - loss: 0.1643 - categorical_accuracy: 0.9519\n",
      "Epoch 10/50\n",
      "65/65 [==============================] - 5s 84ms/step - loss: 0.1456 - categorical_accuracy: 0.9553\n",
      "Epoch 11/50\n",
      "65/65 [==============================] - 6s 85ms/step - loss: 0.2193 - categorical_accuracy: 0.9288\n",
      "Epoch 12/50\n",
      "65/65 [==============================] - 6s 85ms/step - loss: 0.1224 - categorical_accuracy: 0.9663\n",
      "Epoch 13/50\n",
      "65/65 [==============================] - 6s 86ms/step - loss: 0.1181 - categorical_accuracy: 0.9639\n",
      "Epoch 14/50\n",
      "65/65 [==============================] - 5s 84ms/step - loss: 0.1077 - categorical_accuracy: 0.9697\n",
      "Epoch 15/50\n",
      "65/65 [==============================] - 6s 84ms/step - loss: 0.0996 - categorical_accuracy: 0.9702\n",
      "Epoch 16/50\n",
      "65/65 [==============================] - 6s 86ms/step - loss: 0.1723 - categorical_accuracy: 0.9514\n",
      "Epoch 17/50\n",
      "65/65 [==============================] - 6s 87ms/step - loss: 0.1201 - categorical_accuracy: 0.9683\n",
      "Epoch 18/50\n",
      "65/65 [==============================] - 6s 87ms/step - loss: 0.1008 - categorical_accuracy: 0.9721\n",
      "Epoch 19/50\n",
      "65/65 [==============================] - 6s 88ms/step - loss: 0.1049 - categorical_accuracy: 0.9697\n",
      "Epoch 20/50\n",
      "65/65 [==============================] - 6s 87ms/step - loss: 0.0978 - categorical_accuracy: 0.9731\n",
      "Epoch 21/50\n",
      "65/65 [==============================] - 6s 85ms/step - loss: 0.1004 - categorical_accuracy: 0.9716\n",
      "Epoch 22/50\n",
      "65/65 [==============================] - 6s 87ms/step - loss: 0.0885 - categorical_accuracy: 0.9769\n",
      "Epoch 23/50\n",
      "65/65 [==============================] - 6s 87ms/step - loss: 0.0970 - categorical_accuracy: 0.9740\n",
      "Epoch 24/50\n",
      "65/65 [==============================] - 6s 86ms/step - loss: 0.0817 - categorical_accuracy: 0.9808\n",
      "Epoch 25/50\n",
      "65/65 [==============================] - 6s 86ms/step - loss: 0.0995 - categorical_accuracy: 0.9707\n",
      "Epoch 26/50\n",
      "65/65 [==============================] - 5s 84ms/step - loss: 0.0834 - categorical_accuracy: 0.9774\n",
      "Epoch 27/50\n",
      "65/65 [==============================] - 6s 86ms/step - loss: 0.0694 - categorical_accuracy: 0.9817\n",
      "Epoch 28/50\n",
      "65/65 [==============================] - 6s 86ms/step - loss: 0.0714 - categorical_accuracy: 0.9808\n",
      "Epoch 29/50\n",
      "65/65 [==============================] - 6s 87ms/step - loss: 0.0625 - categorical_accuracy: 0.9832\n",
      "Epoch 30/50\n",
      "65/65 [==============================] - 5s 84ms/step - loss: 0.0802 - categorical_accuracy: 0.9769\n",
      "Epoch 31/50\n",
      "65/65 [==============================] - 6s 86ms/step - loss: 0.0908 - categorical_accuracy: 0.9755\n",
      "Epoch 32/50\n",
      "65/65 [==============================] - 6s 86ms/step - loss: 0.2131 - categorical_accuracy: 0.9442\n",
      "Epoch 33/50\n",
      "65/65 [==============================] - 6s 86ms/step - loss: 0.0703 - categorical_accuracy: 0.9841\n",
      "Epoch 34/50\n",
      "65/65 [==============================] - 6s 87ms/step - loss: 0.0627 - categorical_accuracy: 0.9827\n",
      "Epoch 35/50\n",
      "65/65 [==============================] - 6s 85ms/step - loss: 0.0619 - categorical_accuracy: 0.9817\n",
      "Epoch 36/50\n",
      "65/65 [==============================] - 6s 85ms/step - loss: 0.0639 - categorical_accuracy: 0.9817\n",
      "Epoch 37/50\n",
      "65/65 [==============================] - 6s 90ms/step - loss: 0.0684 - categorical_accuracy: 0.9822\n",
      "Epoch 38/50\n",
      "65/65 [==============================] - 5s 83ms/step - loss: 0.0621 - categorical_accuracy: 0.9827\n",
      "Epoch 39/50\n",
      "65/65 [==============================] - 5s 83ms/step - loss: 0.0890 - categorical_accuracy: 0.9721\n",
      "Epoch 40/50\n",
      "65/65 [==============================] - 6s 85ms/step - loss: 0.0662 - categorical_accuracy: 0.9788\n",
      "Epoch 41/50\n",
      "65/65 [==============================] - 5s 82ms/step - loss: 0.0605 - categorical_accuracy: 0.9827\n",
      "Epoch 42/50\n",
      "65/65 [==============================] - 5s 81ms/step - loss: 0.0525 - categorical_accuracy: 0.9870\n",
      "Epoch 43/50\n",
      "65/65 [==============================] - 5s 82ms/step - loss: 0.0881 - categorical_accuracy: 0.9760\n",
      "Epoch 44/50\n",
      "65/65 [==============================] - 5s 82ms/step - loss: 0.0528 - categorical_accuracy: 0.9861\n",
      "Epoch 45/50\n",
      "65/65 [==============================] - 5s 82ms/step - loss: 0.0651 - categorical_accuracy: 0.9803\n",
      "Epoch 46/50\n",
      "65/65 [==============================] - 5s 83ms/step - loss: 0.0581 - categorical_accuracy: 0.9836\n",
      "Epoch 47/50\n",
      "65/65 [==============================] - 5s 84ms/step - loss: 0.0765 - categorical_accuracy: 0.9745\n",
      "Epoch 48/50\n",
      "65/65 [==============================] - 6s 86ms/step - loss: 0.1127 - categorical_accuracy: 0.9649\n",
      "Epoch 49/50\n",
      "65/65 [==============================] - 5s 82ms/step - loss: 0.0565 - categorical_accuracy: 0.9865\n",
      "Epoch 50/50\n",
      "65/65 [==============================] - 5s 84ms/step - loss: 0.0427 - categorical_accuracy: 0.9894\n"
     ]
    }
   ],
   "source": [
    "gru_h=shuffle_model_gru.fit(shuffle_X_train, shuffle_y_DL_train, epochs=50)"
   ]
  },
  {
   "cell_type": "code",
   "execution_count": 261,
   "metadata": {},
   "outputs": [
    {
     "name": "stdout",
     "output_type": "stream",
     "text": [
      "17/17 [==============================] - 1s 29ms/step\n"
     ]
    }
   ],
   "source": [
    "y_test_predict = shuffle_model_gru.predict(X_test)"
   ]
  },
  {
   "cell_type": "code",
   "execution_count": 262,
   "metadata": {},
   "outputs": [
    {
     "name": "stdout",
     "output_type": "stream",
     "text": [
      "accuracy: 0.9826923076923076\n",
      "accuracy: 0.9826923076923076\n",
      "precision: 0.9831364648640396\n",
      "recall: 0.982584497404085\n",
      "f1: 0.9828074512724124\n"
     ]
    },
    {
     "data": {
      "image/png": "[encoded data removed]",
      "text/plain": [
       "<Figure size 432x288 with 2 Axes>"
      ]
     },
     "metadata": {
      "needs_background": "light"
     },
     "output_type": "display_data"
    }
   ],
   "source": [
    "accuracy = accuracy_score(actions[np.argmax(y_test_DL,axis =1).tolist()],\n",
    "                          actions[np.argmax(y_test_predict, axis=1).tolist()])\n",
    "\n",
    "precision = precision_score(actions[np.argmax(y_test_DL,axis =1).tolist()],\n",
    "                            actions[np.argmax(y_test_predict, axis=1).tolist()],\n",
    "                            average='macro')\n",
    "\n",
    "recall = recall_score(actions[np.argmax(y_test_DL,axis =1).tolist()],\n",
    "                      actions[np.argmax(y_test_predict, axis=1).tolist()],\n",
    "                      average='macro')\n",
    "\n",
    "f1 = f1_score(actions[np.argmax(y_test_DL,axis =1).tolist()],\n",
    "              actions[np.argmax(y_test_predict, axis=1).tolist()],\n",
    "              average='macro')\n",
    "\n",
    "\n",
    "ConfusionMatrixDisplay.from_predictions(actions[np.argmax(y_test_DL,axis =1).tolist()], \n",
    "                                        actions[np.argmax(y_test_predict, axis=1).tolist()], \n",
    "                                        cmap=plt.cm.Blues)\n",
    "\n",
    "print(f'accuracy: {accuracy}')\n",
    "print(f'accuracy: {accuracy}')\n",
    "print(f'precision: {precision}')\n",
    "print(f'recall: {recall}')\n",
    "print(f'f1: {f1}')"
   ]
  },
  {
   "attachments": {},
   "cell_type": "markdown",
   "metadata": {},
   "source": [
    "I risultati ottenuti sono ugual ai primi "
   ]
  },
  {
   "attachments": {},
   "cell_type": "markdown",
   "metadata": {},
   "source": [
    "Prova in real-time"
   ]
  },
  {
   "attachments": {},
   "cell_type": "markdown",
   "metadata": {},
   "source": [
    "Definisco una funzione che mostri a schermo la propabilità con la quale la posa che si sta eseguendo appartenga ad una delle 6 classi"
   ]
  },
  {
   "cell_type": "code",
   "execution_count": null,
   "metadata": {},
   "outputs": [],
   "source": [
    "def prob_viz(res,actions,input_frame):\n",
    "    output_frame =input_frame\n",
    "    for num, pro in enumerate(res):\n",
    "        cv2.rectangle(output_frame,(0,60+num*40), \n",
    "                      (int(pro*100), 90+num*40),(255,0,255), -1)\n",
    "        cv2.putText(output_frame, actions[num], (0,85+num*40), \n",
    "                    cv2.FONT_HERSHEY_SIMPLEX,1,(255,255,255),2, cv2.LINE_AA)\n",
    "    return output_frame"
   ]
  },
  {
   "cell_type": "code",
   "execution_count": null,
   "metadata": {},
   "outputs": [
    {
     "name": "stdout",
     "output_type": "stream",
     "text": [
      "1/1 [==============================] - 0s 68ms/step\n",
      "1/1 [==============================] - 0s 39ms/step\n",
      "1/1 [==============================] - 0s 42ms/step\n",
      "1/1 [==============================] - 0s 38ms/step\n",
      "1/1 [==============================] - 0s 60ms/step\n",
      "1/1 [==============================] - 0s 43ms/step\n",
      "1/1 [==============================] - 0s 38ms/step\n",
      "1/1 [==============================] - 0s 59ms/step\n",
      "1/1 [==============================] - 0s 40ms/step\n",
      "1/1 [==============================] - 0s 39ms/step\n",
      "1/1 [==============================] - 0s 71ms/step\n",
      "1/1 [==============================] - 0s 40ms/step\n",
      "1/1 [==============================] - 0s 67ms/step\n",
      "1/1 [==============================] - 0s 43ms/step\n",
      "1/1 [==============================] - 0s 41ms/step\n",
      "1/1 [==============================] - 0s 44ms/step\n",
      "1/1 [==============================] - 0s 40ms/step\n",
      "1/1 [==============================] - 0s 46ms/step\n",
      "1/1 [==============================] - 0s 54ms/step\n",
      "1/1 [==============================] - 0s 42ms/step\n",
      "1/1 [==============================] - 0s 45ms/step\n",
      "1/1 [==============================] - 0s 67ms/step\n",
      "1/1 [==============================] - 0s 36ms/step\n",
      "1/1 [==============================] - 0s 66ms/step\n",
      "1/1 [==============================] - 0s 41ms/step\n",
      "1/1 [==============================] - 0s 34ms/step\n",
      "1/1 [==============================] - 0s 39ms/step\n",
      "1/1 [==============================] - 0s 38ms/step\n",
      "1/1 [==============================] - 0s 52ms/step\n",
      "1/1 [==============================] - 0s 77ms/step\n",
      "1/1 [==============================] - 0s 47ms/step\n",
      "1/1 [==============================] - 0s 65ms/step\n",
      "1/1 [==============================] - 0s 52ms/step\n",
      "1/1 [==============================] - 0s 53ms/step\n",
      "1/1 [==============================] - 0s 59ms/step\n",
      "1/1 [==============================] - 0s 39ms/step\n",
      "1/1 [==============================] - 0s 75ms/step\n",
      "1/1 [==============================] - 0s 36ms/step\n",
      "1/1 [==============================] - 0s 35ms/step\n",
      "1/1 [==============================] - 0s 41ms/step\n",
      "1/1 [==============================] - 0s 36ms/step\n",
      "1/1 [==============================] - 0s 36ms/step\n",
      "1/1 [==============================] - 0s 43ms/step\n",
      "1/1 [==============================] - 0s 39ms/step\n",
      "1/1 [==============================] - 0s 42ms/step\n",
      "1/1 [==============================] - 0s 38ms/step\n",
      "1/1 [==============================] - 0s 36ms/step\n",
      "1/1 [==============================] - 0s 41ms/step\n",
      "1/1 [==============================] - 0s 46ms/step\n"
     ]
    }
   ],
   "source": [
    "sequence=[]\n",
    "predictions=[]\n",
    "posa=''\n",
    "\n",
    "cap = cv2.VideoCapture(0) \n",
    "# Load the input image.\n",
    "image_height, image_width = [480,640]\n",
    "crop_region = init_crop_region(image_height, image_width)\n",
    "while cap.isOpened():\n",
    "    ret,frame = cap.read()\n",
    "    image = frame\n",
    "    \n",
    "    keypoints_with_scores = run_inference(\n",
    "    movenet, image, crop_region,\n",
    "    crop_size=[256, 256])\n",
    "\n",
    "    crop_region = determine_crop_region(\n",
    "    keypoints_with_scores, image_height, image_width)\n",
    "    draw_skeleton(frame, keypoints_with_scores, 0.3)\n",
    "\n",
    "    #predict logic \n",
    "    keypoint = extract_keypoints(keypoints_with_scores)\n",
    "    sequence.append(keypoint)\n",
    "    sequence= sequence[-45:]\n",
    "    \n",
    "    if len(sequence)==45:\n",
    "        res = model_Rnn.predict(np.expand_dims(sequence,axis=0))[0]\n",
    "        predictions.append(np.argmax(res))\n",
    "    \n",
    "        #scrivere su schermo la scritta\n",
    "        if np.unique(predictions[-10:])[0]==np.argmax(res):# controlla che le ultime 10 predizioni siano uguali\n",
    "            if res[np.argmax(res)] > 0.3:\n",
    "                posa = actions[np.argmax(res)]\n",
    "\n",
    "         \n",
    "        image = prob_viz(res,actions, image)\n",
    "    \n",
    "    cv2.rectangle(image, (0,0), (640,40), (245,117,16), -1)\n",
    "    cv2.putText(image, posa, (3,30), cv2.FONT_HERSHEY_SIMPLEX,1,(255,255,255),2, cv2.LINE_AA)\n",
    "    \n",
    "    cv2.imshow('MoveNet', frame)\n",
    "    \n",
    "    if cv2.waitKey(10) & 0xFF == ord('q'):\n",
    "        break\n",
    "    \n",
    "cap.release()\n",
    "cv2.destroyAllWindows()\n"
   ]
  },
  {
   "attachments": {},
   "cell_type": "markdown",
   "metadata": {},
   "source": [
    "## **2. Correzione della posa**"
   ]
  },
  {
   "attachments": {},
   "cell_type": "markdown",
   "metadata": {},
   "source": [
    "In questa seconda fase del sistema verrà implementato un sistema che, come anticipato, permetterà la correzione della posa che si sta eseguendo.\n",
    "\n",
    "Si è deciso di implentare questo sistema sfruttando l'algoritmo **K Nearest Neighbors** **KNN**, il quale troverà il frame o i frame più simili (farà una media tra questi frame calcolando il centroide) al frame che si sta predendo in considerazione .\n",
    "\n",
    "A questo punto verranno calcolati gli angoli sia per il centroide che per il frame preso in considerazione  e verranno confrontati."
   ]
  },
  {
   "attachments": {},
   "cell_type": "markdown",
   "metadata": {},
   "source": [
    "Importo i moduli e le librerie di interesse, utili per la realizzazione di questa fase del sistema."
   ]
  },
  {
   "cell_type": "code",
   "execution_count": null,
   "metadata": {},
   "outputs": [],
   "source": [
    "from sklearn.neighbors import NearestNeighbors"
   ]
  },
  {
   "attachments": {},
   "cell_type": "markdown",
   "metadata": {},
   "source": [
    "### **Dataset**"
   ]
  },
  {
   "attachments": {},
   "cell_type": "markdown",
   "metadata": {},
   "source": [
    "#### **Creazione del dataset**"
   ]
  },
  {
   "attachments": {},
   "cell_type": "markdown",
   "metadata": {},
   "source": [
    "Per la correzione della posa si è deciso di non utilizzare il dataset creato per la fase precedente ma di creare un dataset apposito per ogni posa in modo tale che fosse più facile lavorare con dataset di dimensioni ridotte e con una struttura più facile da navigare;Inoltre lavorare con un dataset di dimensioni ridotte comporta sicuramente anche un minor costo computazionale.\n",
    "\n",
    "Più in dettaglio il vecchio dataset aveva una composizione di questo tipo: \n",
    "\n",
    "- *[Vettore contenente tutti i video composti da 45 frame[Vettore contenente 45 vettori di keypoint[vettore contenente 51 punti 17 punti * 3(x,y,confidence)]]]*                                         \n",
    "Quindi una shape di questo tipo **(2599, 45, 51)**\n",
    "\n",
    "Mentre il nuovo dataset avrà la seguente composizione per ogni posa:\n",
    "\n",
    "- *[Vettore contenete  tutti i frame[vettore contenente 51 punti 17 punti * 3(x,y,confidence)]]*      \n",
    "Quindi una shape di questo tipo **(17517, 51)**"
   ]
  },
  {
   "attachments": {},
   "cell_type": "markdown",
   "metadata": {},
   "source": [
    "Definisco la funzione per creare il dataset per ogni posa"
   ]
  },
  {
   "cell_type": "code",
   "execution_count": null,
   "metadata": {},
   "outputs": [],
   "source": [
    "def create_pose_dataset(pose):\n",
    "    dataset_pose=[]\n",
    "\n",
    "    file_path = os.path.join(DATA_PATH, pose)\n",
    "            \n",
    "    key_dir_list = []\n",
    "    for f in os.listdir(file_path):\n",
    "        name, ext = os.path.splitext(f)\n",
    "        if not ext == '.mp4':\n",
    "            key_dir_list.append(f)\n",
    "                \n",
    "    i=0\n",
    "    for keypoint_dir in key_dir_list:\n",
    "        for frame_num in range(1, info_videos[label_map[pose]][1][i][1]):#sostituire 5 forse con label map\n",
    "            window = []\n",
    "            frame_path = np.load(os.path.join(file_path,keypoint_dir,\"{}.npy\".format(frame_num)))\n",
    "            window.append(frame_path)\n",
    "            dataset_pose.append(window)\n",
    "        i+=1\n",
    "    return np.array(dataset_pose)\n",
    "    "
   ]
  },
  {
   "attachments": {},
   "cell_type": "markdown",
   "metadata": {},
   "source": [
    "Creo effettivamente i vari dataset"
   ]
  },
  {
   "cell_type": "code",
   "execution_count": null,
   "metadata": {},
   "outputs": [],
   "source": [
    "dataset_Cobra=create_pose_dataset('Cobra')\n",
    "dataset_Corpse=create_pose_dataset('Corpse')\n",
    "dataset_Lotus=create_pose_dataset('Lotus')\n",
    "dataset_Mountain=create_pose_dataset('Mountain')\n",
    "dataset_Tree=create_pose_dataset('Tree')\n",
    "dataset_Triangle=create_pose_dataset('Triangle')"
   ]
  },
  {
   "attachments": {},
   "cell_type": "markdown",
   "metadata": {},
   "source": [
    "Si noti come i dataset abbiao dimensione (17517, 1, 51), dove 1 indica che i video sono composti da 1 frame."
   ]
  },
  {
   "cell_type": "code",
   "execution_count": null,
   "metadata": {},
   "outputs": [
    {
     "name": "stdout",
     "output_type": "stream",
     "text": [
      "(20721, 1, 51)\n",
      "(20492, 1, 51)\n",
      "(17884, 1, 51)\n",
      "(20061, 1, 51)\n",
      "(22204, 1, 51)\n",
      "(17517, 1, 51)\n"
     ]
    }
   ],
   "source": [
    "print(dataset_Cobra.shape)\n",
    "print(dataset_Corpse.shape)\n",
    "print(dataset_Lotus.shape)\n",
    "print(dataset_Mountain.shape)\n",
    "print(dataset_Tree.shape)\n",
    "print(dataset_Triangle.shape)"
   ]
  },
  {
   "attachments": {},
   "cell_type": "markdown",
   "metadata": {},
   "source": [
    "Dobbiamo pertanto ricondurci alla shape descritta all'inizio (17517, 51), pertanto applico la seguente funzione"
   ]
  },
  {
   "cell_type": "code",
   "execution_count": null,
   "metadata": {},
   "outputs": [],
   "source": [
    "#numpy.squeeze() returns numpy.ndarray with all dimensions of size 1 removed.\n",
    "dataset_Cobra=np.squeeze(dataset_Cobra)\n",
    "dataset_Corpse=np.squeeze(dataset_Corpse)\n",
    "dataset_Lotus=np.squeeze(dataset_Lotus)\n",
    "dataset_Mountain=np.squeeze(dataset_Mountain)\n",
    "dataset_Tree=np.squeeze(dataset_Tree)\n",
    "dataset_Triangle=np.squeeze(dataset_Triangle)"
   ]
  },
  {
   "cell_type": "code",
   "execution_count": null,
   "metadata": {},
   "outputs": [
    {
     "name": "stdout",
     "output_type": "stream",
     "text": [
      "(20721, 51)\n",
      "(20492, 51)\n",
      "(17884, 51)\n",
      "(20061, 51)\n",
      "(22204, 51)\n",
      "(17517, 51)\n"
     ]
    }
   ],
   "source": [
    "print(dataset_Cobra.shape)\n",
    "print(dataset_Corpse.shape)\n",
    "print(dataset_Lotus.shape)\n",
    "print(dataset_Mountain.shape)\n",
    "print(dataset_Tree.shape)\n",
    "print(dataset_Triangle.shape)"
   ]
  },
  {
   "attachments": {},
   "cell_type": "markdown",
   "metadata": {},
   "source": [
    "Per poter semplicare acond di più l'accesso ai valori x,y per ogni keypoint effettuo il seguente reshape al dataset. "
   ]
  },
  {
   "cell_type": "code",
   "execution_count": null,
   "metadata": {},
   "outputs": [],
   "source": [
    "dataset_Cobra=dataset_Cobra.reshape(20721, 17,3)\n",
    "dataset_Corpse=dataset_Corpse.reshape(20492, 17,3)\n",
    "dataset_Lotus=dataset_Lotus.reshape(17884, 17,3)\n",
    "dataset_Mountain=dataset_Mountain.reshape(20061, 17,3)\n",
    "dataset_Tree=dataset_Tree.reshape(22204, 17,3)\n",
    "dataset_Triangle=dataset_Triangle.reshape(17517, 17,3)"
   ]
  },
  {
   "cell_type": "code",
   "execution_count": null,
   "metadata": {},
   "outputs": [
    {
     "name": "stdout",
     "output_type": "stream",
     "text": [
      "(20721, 17, 3)\n",
      "(20492, 17, 3)\n",
      "(17884, 17, 3)\n",
      "(20061, 17, 3)\n",
      "(22204, 17, 3)\n",
      "(17517, 17, 3)\n"
     ]
    }
   ],
   "source": [
    "print(dataset_Cobra.shape)\n",
    "print(dataset_Corpse.shape)\n",
    "print(dataset_Lotus.shape)\n",
    "print(dataset_Mountain.shape)\n",
    "print(dataset_Tree.shape)\n",
    "print(dataset_Triangle.shape)"
   ]
  },
  {
   "cell_type": "code",
   "execution_count": null,
   "metadata": {},
   "outputs": [],
   "source": [
    "npy_path = os.path.join(\"./dataset_checker/\",\"dataset_Cobra\")\n",
    "np.save(npy_path, dataset_Cobra)\n",
    "npy_path = os.path.join(\"./dataset_checker/\",\"dataset_Corpse\")\n",
    "np.save(npy_path, dataset_Corpse)   \n",
    "npy_path = os.path.join(\"./dataset_checker/\",\"dataset_Lotus\")\n",
    "np.save(npy_path, dataset_Lotus)   \n",
    "npy_path = os.path.join(\"./dataset_checker/\",\"dataset_Mountain\")\n",
    "np.save(npy_path, dataset_Mountain)   \n",
    "npy_path = os.path.join(\"./dataset_checker/\",\"dataset_Tree\")\n",
    "np.save(npy_path, dataset_Tree)   \n",
    "npy_path = os.path.join(\"./dataset_checker/\",\"dataset_Triangle\")\n",
    "np.save(npy_path, dataset_Triangle)   "
   ]
  },
  {
   "attachments": {},
   "cell_type": "markdown",
   "metadata": {},
   "source": [
    "Definisco un dizionario che vada a definire quali sono gli **angoli** che andremo a calcolare sulla base dei 17 punti individuati da MoveNet "
   ]
  },
  {
   "cell_type": "code",
   "execution_count": null,
   "metadata": {},
   "outputs": [],
   "source": [
    "ANGL_DICT = {\n",
    "    'angl_left_elbow': [10,8,6],\n",
    "    'angl_left_shoulder': [8,6,12],\n",
    "    'angl_left_hip': [6,12,14],\n",
    "    'angl_left_knee': [12,14,16],\n",
    "    'angl_right_elbow': [9,7,5],\n",
    "    'angl_right_shoulder': [7,5,11],\n",
    "    'angl_right_hip': [5,11,13],\n",
    "    'angl_right_knee': [11,13,15],\n",
    "}"
   ]
  },
  {
   "attachments": {},
   "cell_type": "markdown",
   "metadata": {},
   "source": [
    "Definisco la funzione che calcola i gradi di un angolo a partire da 3 vettori dati in input, contenenti i valory di x e y per oguno dei 3 punti presi in considerazione"
   ]
  },
  {
   "cell_type": "code",
   "execution_count": null,
   "metadata": {},
   "outputs": [],
   "source": [
    "def calculate_angle(a,b,c):\n",
    "#a,b e c sono array e dovrebbero essere composti da punti x,y, e confidence\n",
    "    a=np.array(a) #first \n",
    "    b=np.array(b) #mid\n",
    "    c=np.array(c) #end\n",
    "\n",
    "    radians = np.arctan2(c[1]-b[1], c[0]-b[0])- np.arctan2(a[1]-b[1], a[0]-b[0])\n",
    "    angle = int(np.abs(radians*180.0/np.pi))\n",
    "\n",
    "    if angle > 180.0:\n",
    "        angle = 360 - angle\n",
    "    \n",
    "    return angle"
   ]
  },
  {
   "attachments": {},
   "cell_type": "markdown",
   "metadata": {},
   "source": [
    "Definisco una funzione che mi andrà a calcolare gli angoli per tutti 17 i punti individuati da MoveNet"
   ]
  },
  {
   "cell_type": "code",
   "execution_count": null,
   "metadata": {},
   "outputs": [],
   "source": [
    "def calculate_all_angles(keypoints):\n",
    "    agles_list=[]\n",
    "    for key in ANGL_DICT:\n",
    "            first_point=keypoints[ANGL_DICT[key][0]]\n",
    "            second_point=keypoints[ANGL_DICT[key][1]]\n",
    "            third_point=keypoints[ANGL_DICT[key][2]]\n",
    "            angle=calculate_angle(first_point,second_point,third_point)\n",
    "            agles_list.append([key,angle])\n",
    "    return agles_list\n",
    "    \n",
    "    "
   ]
  },
  {
   "attachments": {},
   "cell_type": "markdown",
   "metadata": {},
   "source": [
    "Definisco una funzione che implementi il KNN, che quindi trovi 1 o più frame vicini, faccia la media calcolando il centroide e che calcoli infine per questo frame trovato gli angoli per tutti i 17 punti."
   ]
  },
  {
   "cell_type": "code",
   "execution_count": null,
   "metadata": {},
   "outputs": [],
   "source": [
    "def knn_angoli(n_neighbors,samples,keypoint):\n",
    "    two_dimension_samples=samples.reshape(samples.shape[0], 51)\n",
    "    \n",
    "    neigh = NearestNeighbors(n_neighbors=n_neighbors)\n",
    "    neigh.fit(two_dimension_samples)\n",
    "    \n",
    "    two_dimension_keypoint = keypoint.reshape(1, -1)\n",
    "    index=neigh.kneighbors(two_dimension_keypoint,#keypoint/frame\n",
    "                        n_neighbors=n_neighbors, return_distance=False)\n",
    "    #print(index)\n",
    "    #print(index.shape)\n",
    "    #print(index[0][0])\n",
    "    #print(samples[index[0][0]])\n",
    "    \n",
    "    if(n_neighbors==1):\n",
    "        angles_vid=calculate_all_angles(samples[index[0][0]])\n",
    "    else:\n",
    "        centroide=np.zeros((17,3))\n",
    "        i=0\n",
    "        for j in index[0]:\n",
    "\n",
    "            centroide+=samples[j]\n",
    "            i+=1\n",
    "        centroide=centroide/i\n",
    "        \n",
    "        angles_vid=calculate_all_angles(centroide)\n",
    "    \n",
    "    return angles_vid\n",
    "    "
   ]
  },
  {
   "attachments": {},
   "cell_type": "markdown",
   "metadata": {},
   "source": [
    "Definisco una funzione che verifichi la correttezza degli angoli generati dalla posa esguita"
   ]
  },
  {
   "cell_type": "code",
   "execution_count": null,
   "metadata": {},
   "outputs": [],
   "source": [
    "def correct_angles(threshold, angles_vid, angles_u):\n",
    "    for i in range(len(angles_vid)):\n",
    "        diff=abs(angles_vid[i][1] - angles_u[i][1])\n",
    "        if diff < threshold:\n",
    "            print(\"angolo sbagliato di: \", diff)\n",
    "            print(angles_vid[i][0])\n",
    "            "
   ]
  },
  {
   "attachments": {},
   "cell_type": "markdown",
   "metadata": {},
   "source": [
    "Per ogni posa definisco una funzione che verifichi la correttezza degli angoli e che dia un feedback"
   ]
  },
  {
   "cell_type": "code",
   "execution_count": null,
   "metadata": {},
   "outputs": [],
   "source": [
    "def correct_angles(threshold, angles_vid, angles_u,posa):\n",
    "    if posa == 'Cobra':\n",
    "        correct_angles_cobra(threshold, angles_vid, angles_u)\n",
    "    elif posa== 'Corpse':\n",
    "        correct_angles_corpse(threshold, angles_vid, angles_u)        \n",
    "    elif posa== 'Lotus':\n",
    "        correct_angles_lotus(threshold, angles_vid, angles_u)\n",
    "    elif posa== 'Mountain':\n",
    "        correct_angles_mountain(threshold, angles_vid, angles_u)        \n",
    "    elif posa== 'Tree':\n",
    "        correct_angles_tree(threshold, angles_vid, angles_u)        \n",
    "    elif posa== 'Triangle':\n",
    "        correct_angles_triangle(threshold, angles_vid, angles_u)\n",
    "        "
   ]
  },
  {
   "cell_type": "code",
   "execution_count": null,
   "metadata": {},
   "outputs": [],
   "source": [
    "def correct_angles_cobra(threshold, angles_vid, angles_u):\n",
    "\n",
    "    for i in range(len(angles_vid)):\n",
    "        diff=abs(angles_vid[i][1] - angles_u[i][1])\n",
    "        if diff > threshold:\n",
    "            if i == 0 or i == 4:\n",
    "                print(\"Angolo {} sbagliato di: {} gradi\".format(angles_vid[i][0], diff))\n",
    "                print(\"Distendi le braccia\")\n",
    "            elif i == 2 or i == 5:\n",
    "                print(\"Angolo {} sbagliato di: {} gradi\".format(angles_vid[i][0], diff))\n",
    "                print(\"Mantieni le mani larghezza spalle\")\n",
    "            elif i == 3 or i == 6:\n",
    "                print(\"Angolo {} sbagliato di: {} gradi\".format(angles_vid[i][0], diff))\n",
    "                print(\"Mantieni le gambe largezza spalle\")\n",
    "            elif i == 4 or i == 7:\n",
    "                print(\"Angolo {} sbagliato di: {} gradi\".format(angles_vid[i][0], diff))\n",
    "                print(\"Distendi le gambe\")\n",
    "            else :\n",
    "                print(\"posizione corretta\")              \n",
    "                "
   ]
  },
  {
   "cell_type": "code",
   "execution_count": null,
   "metadata": {},
   "outputs": [],
   "source": [
    "def correct_angles_corpse(threshold, angles_vid, angles_u):\n",
    "    for i in range(len(angles_vid)):\n",
    "        diff=abs(angles_vid[i][1] - angles_u[i][1])\n",
    "        if diff > threshold:\n",
    "            if i == 0 or i == 4:\n",
    "                print(\"Angolo {} sbagliato di: {} gradi\".format(angles_vid[i][0], diff))\n",
    "                print(\"Distendi meglio le braccia\")\n",
    "            elif i == 2 or i == 5:\n",
    "                print(\"Angolo {} sbagliato di: {} gradi\".format(angles_vid[i][0], diff))\n",
    "                print(\"Disponi le braccia lungo i fianchi\")\n",
    "            elif i == 3 or i == 6:\n",
    "                print(\"Angolo {} sbagliato di: {} gradi\".format(angles_vid[i][0], diff))\n",
    "                print(\"Mantieni le gambe largezza spalle\")\n",
    "            elif i == 4 or i == 7:\n",
    "                print(\"Angolo {} sbagliato di: {} gradi\".format(angles_vid[i][0], diff))\n",
    "                print(\"Distendi meglio le gambe\")\n",
    "            else :\n",
    "                print(\"posizione corretta\")    "
   ]
  },
  {
   "cell_type": "code",
   "execution_count": null,
   "metadata": {},
   "outputs": [],
   "source": [
    "def correct_angles_lotus(threshold, angles_vid, angles_u):\n",
    "    for i in range(len(angles_vid)):\n",
    "        diff=abs(angles_vid[i][1] - angles_u[i][1])\n",
    "        if diff > threshold:\n",
    "            if i == 0 or i == 4:\n",
    "                print(\"Angolo {} sbagliato di: {} gradi\".format(angles_vid[i][0], diff))\n",
    "                print(\"Distendi meglio le braccia\")\n",
    "            elif i == 2 or i == 5:\n",
    "                print(\"Angolo {} sbagliato di: {} gradi\".format(angles_vid[i][0], diff))\n",
    "                print(\"Mantenendo il busto dritto lascia cadere le braccia\")#TO DO scrivere qualcosa di meglio\n",
    "            elif i == 3 or i == 6:\n",
    "                print(\"Angolo {} sbagliato di: {} gradi\".format(angles_vid[i][0], diff))\n",
    "                print(\"Mantieni le gambe largezza spalle\")\n",
    "            elif i == 4 or i == 7:\n",
    "                print(\"Angolo {} sbagliato di: {} gradi\".format(angles_vid[i][0], diff))\n",
    "                print(\"Incrocia meglio le gambe\")\n",
    "            else :\n",
    "                print(\"posizione corretta\")  "
   ]
  },
  {
   "cell_type": "code",
   "execution_count": null,
   "metadata": {},
   "outputs": [],
   "source": [
    "def correct_angles_mountain(threshold, angles_vid, angles_u):\n",
    "    for i in range(len(angles_vid)):\n",
    "        diff=abs(angles_vid[i][1] - angles_u[i][1])\n",
    "        if diff > threshold:\n",
    "            if i == 0 or i == 4:\n",
    "                print(\"Angolo {} sbagliato di: {} gradi\".format(angles_vid[i][0], diff))\n",
    "                print(\"Distendi meglio le braccia\")\n",
    "            elif i == 2 or i == 5:\n",
    "                print(\"Angolo {} sbagliato di: {} gradi\".format(angles_vid[i][0], diff))\n",
    "                print(\"Tira manggiormente le braccia verticalmente\")\n",
    "            elif i == 3 or i == 6:\n",
    "                print(\"Angolo {} sbagliato di: {} gradi\".format(angles_vid[i][0], diff))\n",
    "                print(\"Mantieni le gambe largezza spalle\")\n",
    "            elif i == 4 or i == 7:\n",
    "                print(\"Angolo {} sbagliato di: {} gradi\".format(angles_vid[i][0], diff))\n",
    "                print(\"Distendi meglio le gambe e sali maggiormente sulle punte dei piedi\")\n",
    "            else :\n",
    "                print(\"posizione corretta\")  "
   ]
  },
  {
   "cell_type": "code",
   "execution_count": null,
   "metadata": {},
   "outputs": [],
   "source": [
    "def correct_angles_tree(threshold, angles_vid, angles_u):\n",
    "    for i in range(len(angles_vid)):\n",
    "        diff=abs(angles_vid[i][1] - angles_u[i][1])\n",
    "        if diff > threshold:\n",
    "            if i == 0 or i == 4:\n",
    "                print(\"Angolo {} sbagliato di: {} gradi\".format(angles_vid[i][0], diff))\n",
    "                print(\"Unendo le mani cerca di fomare un angolo retto con il gomito\")\n",
    "            elif i == 2 or i == 5:\n",
    "                print(\"Angolo {} sbagliato di: {} gradi\".format(angles_vid[i][0], diff))\n",
    "                print(\"Non tenere i gomiti esternamente ma lasciali vicino al corpo\")\n",
    "            elif i == 3 or i == 6:\n",
    "                print(\"Angolo {} sbagliato di: {} gradi\".format(angles_vid[i][0], diff))\n",
    "                print(\"Mantieni le gambe largezza spalle piegandone una\")\n",
    "            elif i == 4 or i == 7:\n",
    "                print(\"Angolo {} sbagliato di: {} gradi\".format(angles_vid[i][0], diff))\n",
    "                print(\"Distendi meglio una gamba e cerca di portare il piede in prossimità del ginochhio\")\n",
    "            else :\n",
    "                print(\"posizione corretta\")  "
   ]
  },
  {
   "cell_type": "code",
   "execution_count": null,
   "metadata": {},
   "outputs": [],
   "source": [
    "def correct_angles_triangle(threshold, angles_vid, angles_u):\n",
    "    for i in range(len(angles_vid)):\n",
    "        diff=abs(angles_vid[i][1] - angles_u[i][1])\n",
    "        if diff > threshold:\n",
    "            if i == 0 or i == 4:\n",
    "                print(\"Angolo {} sbagliato di: {} gradi\".format(angles_vid[i][0], diff))\n",
    "                print(\"Distedi meglio le braccia \")\n",
    "            elif i == 2 or i == 5:\n",
    "                print(\"Angolo {} sbagliato di: {} gradi\".format(angles_vid[i][0], diff))\n",
    "                print(\"Disponi le braccia orizzontalmente e cerca di piegarti maggiormente verso la punta del piede\")#TO DO scrivere qualcosa di meglio\n",
    "            elif i == 3 or i == 6:\n",
    "                print(\"Angolo {} sbagliato di: {} gradi\".format(angles_vid[i][0], diff))\n",
    "                print(\"Metti le gambe un po' più larghe rispetto alle spalle\")\n",
    "            elif i == 4 or i == 7:\n",
    "                print(\"Angolo {} sbagliato di: {} gradi\".format(angles_vid[i][0], diff))\n",
    "                print(\"Mantieni le gambe distese\")\n",
    "            else :\n",
    "                print(\"posizione corretta\")  "
   ]
  },
  {
   "attachments": {},
   "cell_type": "markdown",
   "metadata": {},
   "source": [
    "Definisco una funzione che mostri a schermo gli angoli"
   ]
  },
  {
   "cell_type": "code",
   "execution_count": null,
   "metadata": {},
   "outputs": [],
   "source": [
    "def draw_angles(angles_u,input_frame):\n",
    "    output_frame =input_frame\n",
    "    for i in range(len(angles_u)):\n",
    "        cv2.putText(output_frame, angles_u[i][0]+\": \"+ str(angles_u[i][1]), (450,85+i*40), \n",
    "                    cv2.FONT_HERSHEY_SIMPLEX,0.5,(255,255,255),1, cv2.LINE_AA)\n",
    "    return output_frame"
   ]
  },
  {
   "attachments": {},
   "cell_type": "markdown",
   "metadata": {},
   "source": [
    "Prova in real-time"
   ]
  },
  {
   "cell_type": "code",
   "execution_count": null,
   "metadata": {},
   "outputs": [],
   "source": [
    "cap = cv2.VideoCapture(0) \n",
    "# Load the input image.\n",
    "image_height, image_width = [480,640]\n",
    "crop_region = init_crop_region(image_height, image_width)\n",
    "while cap.isOpened():\n",
    "    ret,frame = cap.read()\n",
    "    image = frame\n",
    "    \n",
    "    keypoints_with_scores = run_inference(\n",
    "    movenet, image, crop_region,\n",
    "    crop_size=[256, 256])\n",
    "\n",
    "    crop_region = determine_crop_region(\n",
    "    keypoints_with_scores, image_height, image_width)\n",
    "    draw_skeleton(frame, keypoints_with_scores, 0.3)\n",
    "\n",
    "    keypoint = extract_keypoints(keypoints_with_scores)\n",
    "\n",
    "    angl_vid=knn_angoli(4,dataset_Triangle,keypoint)\n",
    "\n",
    "\n",
    "    keypoint = keypoint.reshape((17,3))      \n",
    "    angl_u=calculate_all_angles(keypoint)\n",
    "\n",
    "    image = draw_angles(angl_u,image)\n",
    "    \n",
    "    #correct_angles(15,angl_vid,angl_u)\n",
    "    \n",
    "    \n",
    "    cv2.imshow('MoveNet', frame)\n",
    "    \n",
    "    if cv2.waitKey(10) & 0xFF == ord('q'):\n",
    "        break\n",
    "    \n",
    "cap.release()\n",
    "cv2.destroyAllWindows()\n"
   ]
  },
  {
   "attachments": {},
   "cell_type": "markdown",
   "metadata": {},
   "source": [
    "## **Demo del sistema completo**"
   ]
  },
  {
   "attachments": {},
   "cell_type": "markdown",
   "metadata": {},
   "source": [
    "Demo del sistema completo in cui avvien sia la classificazione che la correzione delle pose di yoga"
   ]
  },
  {
   "cell_type": "code",
   "execution_count": null,
   "metadata": {},
   "outputs": [
    {
     "name": "stdout",
     "output_type": "stream",
     "text": [
      "1/1 [==============================] - 0s 364ms/step\n",
      "Angolo angl_left_hip sbagliato di: 4 gradi\n",
      "Disponi le braccia lungo i fianchi\n",
      "1/1 [==============================] - 0s 106ms/step\n",
      "Angolo angl_left_hip sbagliato di: 7 gradi\n",
      "Disponi le braccia lungo i fianchi\n",
      "1/1 [==============================] - 0s 83ms/step\n",
      "posizione corretta\n",
      "1/1 [==============================] - 0s 70ms/step\n",
      "Angolo angl_left_hip sbagliato di: 9 gradi\n",
      "Disponi le braccia lungo i fianchi\n",
      "Angolo angl_left_knee sbagliato di: 9 gradi\n",
      "Mantieni le gambe largezza spalle\n",
      "1/1 [==============================] - 0s 95ms/step\n",
      "posizione corretta\n",
      "Angolo angl_left_hip sbagliato di: 13 gradi\n",
      "Disponi le braccia lungo i fianchi\n",
      "Angolo angl_left_knee sbagliato di: 11 gradi\n",
      "Mantieni le gambe largezza spalle\n",
      "1/1 [==============================] - 0s 82ms/step\n",
      "Angolo angl_left_hip sbagliato di: 10 gradi\n",
      "Disponi le braccia lungo i fianchi\n",
      "1/1 [==============================] - 0s 96ms/step\n",
      "Angolo angl_right_elbow sbagliato di: 9 gradi\n",
      "Distendi meglio le braccia\n",
      "Angolo angl_right_shoulder sbagliato di: 12 gradi\n",
      "Disponi le braccia lungo i fianchi\n",
      "1/1 [==============================] - 0s 84ms/step\n",
      "Angolo angl_left_hip sbagliato di: 11 gradi\n",
      "Disponi le braccia lungo i fianchi\n",
      "Angolo angl_right_elbow sbagliato di: 10 gradi\n",
      "Distendi meglio le braccia\n",
      "1/1 [==============================] - 0s 66ms/step\n",
      "Angolo angl_left_elbow sbagliato di: 10 gradi\n",
      "Distendi meglio le braccia\n",
      "posizione corretta\n",
      "Angolo angl_right_hip sbagliato di: 5 gradi\n",
      "Mantieni le gambe largezza spalle\n",
      "1/1 [==============================] - 0s 44ms/step\n",
      "Angolo angl_left_elbow sbagliato di: 7 gradi\n",
      "Distendi meglio le braccia\n",
      "posizione corretta\n",
      "Angolo angl_left_hip sbagliato di: 1 gradi\n",
      "Disponi le braccia lungo i fianchi\n",
      "Angolo angl_left_knee sbagliato di: 6 gradi\n",
      "Mantieni le gambe largezza spalle\n",
      "Angolo angl_right_shoulder sbagliato di: 10 gradi\n",
      "Disponi le braccia lungo i fianchi\n",
      "1/1 [==============================] - 0s 50ms/step\n",
      "posizione corretta\n",
      "Angolo angl_right_shoulder sbagliato di: 12 gradi\n",
      "Disponi le braccia lungo i fianchi\n",
      "Angolo angl_right_hip sbagliato di: 13 gradi\n",
      "Mantieni le gambe largezza spalle\n",
      "1/1 [==============================] - 0s 65ms/step\n",
      "posizione corretta\n",
      "Angolo angl_left_hip sbagliato di: 10 gradi\n",
      "Disponi le braccia lungo i fianchi\n",
      "Angolo angl_right_hip sbagliato di: 2 gradi\n",
      "Mantieni le gambe largezza spalle\n",
      "1/1 [==============================] - 0s 54ms/step\n",
      "posizione corretta\n",
      "Angolo angl_right_shoulder sbagliato di: 11 gradi\n",
      "Disponi le braccia lungo i fianchi\n",
      "Angolo angl_right_hip sbagliato di: 13 gradi\n",
      "Mantieni le gambe largezza spalle\n",
      "1/1 [==============================] - 0s 48ms/step\n",
      "posizione corretta\n",
      "1/1 [==============================] - 0s 63ms/step\n",
      "posizione corretta\n",
      "Angolo angl_right_hip sbagliato di: 14 gradi\n",
      "Mantieni le gambe largezza spalle\n",
      "1/1 [==============================] - 0s 43ms/step\n",
      "posizione corretta\n",
      "Angolo angl_right_hip sbagliato di: 13 gradi\n",
      "Mantieni le gambe largezza spalle\n",
      "1/1 [==============================] - 0s 49ms/step\n",
      "posizione corretta\n",
      "Angolo angl_right_hip sbagliato di: 6 gradi\n",
      "Mantieni le gambe largezza spalle\n",
      "1/1 [==============================] - 0s 51ms/step\n",
      "posizione corretta\n",
      "Angolo angl_right_hip sbagliato di: 14 gradi\n",
      "Mantieni le gambe largezza spalle\n",
      "1/1 [==============================] - 0s 48ms/step\n",
      "posizione corretta\n",
      "1/1 [==============================] - 0s 48ms/step\n",
      "posizione corretta\n",
      "Angolo angl_left_hip sbagliato di: 10 gradi\n",
      "Disponi le braccia lungo i fianchi\n",
      "Angolo angl_right_hip sbagliato di: 4 gradi\n",
      "Mantieni le gambe largezza spalle\n",
      "1/1 [==============================] - 0s 47ms/step\n",
      "posizione corretta\n",
      "Angolo angl_left_hip sbagliato di: 11 gradi\n",
      "Disponi le braccia lungo i fianchi\n",
      "Angolo angl_right_hip sbagliato di: 10 gradi\n",
      "Mantieni le gambe largezza spalle\n",
      "1/1 [==============================] - 0s 46ms/step\n",
      "posizione corretta\n",
      "Angolo angl_right_shoulder sbagliato di: 14 gradi\n",
      "Disponi le braccia lungo i fianchi\n",
      "Angolo angl_right_hip sbagliato di: 8 gradi\n",
      "Mantieni le gambe largezza spalle\n",
      "1/1 [==============================] - 0s 74ms/step\n",
      "posizione corretta\n",
      "Angolo angl_right_hip sbagliato di: 12 gradi\n",
      "Mantieni le gambe largezza spalle\n",
      "1/1 [==============================] - 0s 54ms/step\n",
      "posizione corretta\n",
      "Angolo angl_right_hip sbagliato di: 9 gradi\n",
      "Mantieni le gambe largezza spalle\n",
      "1/1 [==============================] - 0s 59ms/step\n",
      "posizione corretta\n",
      "Angolo angl_right_hip sbagliato di: 11 gradi\n",
      "Mantieni le gambe largezza spalle\n",
      "1/1 [==============================] - 0s 59ms/step\n",
      "posizione corretta\n",
      "Angolo angl_right_hip sbagliato di: 10 gradi\n",
      "Mantieni le gambe largezza spalle\n",
      "Angolo angl_right_knee sbagliato di: 13 gradi\n",
      "Distendi meglio le gambe\n",
      "1/1 [==============================] - 0s 62ms/step\n",
      "posizione corretta\n",
      "Angolo angl_right_hip sbagliato di: 13 gradi\n",
      "Mantieni le gambe largezza spalle\n",
      "Angolo angl_right_knee sbagliato di: 8 gradi\n",
      "Distendi meglio le gambe\n",
      "1/1 [==============================] - 0s 43ms/step\n",
      "posizione corretta\n",
      "Angolo angl_right_hip sbagliato di: 14 gradi\n",
      "Mantieni le gambe largezza spalle\n",
      "Angolo angl_right_knee sbagliato di: 8 gradi\n",
      "Distendi meglio le gambe\n",
      "1/1 [==============================] - 0s 39ms/step\n",
      "posizione corretta\n",
      "1/1 [==============================] - 0s 44ms/step\n",
      "1/1 [==============================] - 0s 44ms/step\n",
      "posizione corretta\n",
      "1/1 [==============================] - 0s 52ms/step\n",
      "posizione corretta\n",
      "1/1 [==============================] - 0s 57ms/step\n",
      "posizione corretta\n",
      "Angolo angl_right_hip sbagliato di: 9 gradi\n",
      "Mantieni le gambe largezza spalle\n",
      "1/1 [==============================] - 0s 74ms/step\n",
      "posizione corretta\n",
      "Angolo angl_left_knee sbagliato di: 14 gradi\n",
      "Mantieni le gambe largezza spalle\n",
      "1/1 [==============================] - 0s 41ms/step\n",
      "posizione corretta\n",
      "Angolo angl_left_hip sbagliato di: 12 gradi\n",
      "Disponi le braccia lungo i fianchi\n",
      "Angolo angl_right_hip sbagliato di: 7 gradi\n",
      "Mantieni le gambe largezza spalle\n"
     ]
    }
   ],
   "source": [
    "sequence=[]\n",
    "predictions=[]\n",
    "posa='nessuno'\n",
    "dataset_posa=None\n",
    "\n",
    "cap = cv2.VideoCapture(0) \n",
    "# Load the input image.\n",
    "image_height, image_width = [480,640]\n",
    "crop_region = init_crop_region(image_height, image_width)\n",
    "while cap.isOpened():\n",
    "    ret,frame = cap.read()\n",
    "    image = frame\n",
    "    \n",
    "    keypoints_with_scores = run_inference(\n",
    "    movenet, image, crop_region,\n",
    "    crop_size=[256, 256])\n",
    "\n",
    "    crop_region = determine_crop_region(\n",
    "    keypoints_with_scores, image_height, image_width)\n",
    "    draw_skeleton(frame, keypoints_with_scores, 0.3)\n",
    "\n",
    "    #predict logic \n",
    "    keypoint = extract_keypoints(keypoints_with_scores)\n",
    "    sequence.append(keypoint)\n",
    "    sequence= sequence[-45:]\n",
    "    \n",
    "    if len(sequence)==45:\n",
    "        res = model_Rnn.predict(np.expand_dims(sequence,axis=0))[0]\n",
    "        predictions.append(np.argmax(res))\n",
    "    \n",
    "        #scrivere su schermo la scritta\n",
    "        if np.unique(predictions[-10:])[0]==np.argmax(res):# controlla che le ultime 10 predizioni siano uguali\n",
    "            if res[np.argmax(res)] > 0.3:\n",
    "                posa = actions[np.argmax(res)]\n",
    "                dataset_posa = eval('dataset_'+ posa)#fa il parsing tra stringa e variabile\n",
    "         \n",
    "        image = prob_viz(res,actions, image)\n",
    "    \n",
    "    cv2.rectangle(image, (0,0), (640,40), (245,117,16), -1)\n",
    "    cv2.putText(image, posa, (3,30), cv2.FONT_HERSHEY_SIMPLEX,1,(255,255,255),2, cv2.LINE_AA)\n",
    "    \n",
    "    if posa != 'nessuno':\n",
    "        angl_vid=knn_angoli(4,dataset_posa,keypoint)\n",
    "\n",
    "\n",
    "        keypoint = keypoint.reshape((17,3))      \n",
    "        angl_u=calculate_all_angles(keypoint)\n",
    "\n",
    "        image = draw_angles(angl_u,image)\n",
    "        \n",
    "        correct_angles(15,angl_vid,angl_u,posa)\n",
    "    \n",
    "    cv2.imshow('MoveNet', frame)\n",
    "    \n",
    "    if cv2.waitKey(10) & 0xFF == ord('q'):\n",
    "        break\n",
    "    \n",
    "cap.release()\n",
    "cv2.destroyAllWindows()"
   ]
  }
 ],
 "metadata": {
  "kernelspec": {
   "display_name": "base",
   "language": "python",
   "name": "python3"
  },
  "language_info": {
   "codemirror_mode": {
    "name": "ipython",
    "version": 3
   },
   "file_extension": ".py",
   "mimetype": "text/x-python",
   "name": "python",
   "nbconvert_exporter": "python",
   "pygments_lexer": "ipython3",
   "version": "3.8.3"
  },
  "orig_nbformat": 4,
  "vscode": {
   "interpreter": {
    "hash": "ad2bdc8ecc057115af97d19610ffacc2b4e99fae6737bb82f5d7fb13d2f2c186"
   }
  }
 },
 "nbformat": 4,
 "nbformat_minor": 2
}
