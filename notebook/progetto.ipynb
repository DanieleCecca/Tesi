{
 "cells": [
  {
   "attachments": {},
   "cell_type": "markdown",
   "metadata": {},
   "source": [
    "# **Progetto di Tesi: Classificazione e Correzione delle pose di yoga**"
   ]
  },
  {
   "attachments": {},
   "cell_type": "markdown",
   "metadata": {},
   "source": [
    "Questo progetto si pone come obbiettivo quello di creare un sistema, che poi verrà utilizzato all'interno di una web-app, che permette la classificazione e la successiva correzione delle pose di yoga sia in real-time che in differita;\n",
    "\n",
    "Pertanto questo progetto si articolerà in 2 fasi principali:\n",
    "\n",
    "1. **Classificazione delle pose**\n",
    "2. **Correzione delle pose**"
   ]
  },
  {
   "attachments": {},
   "cell_type": "markdown",
   "metadata": {},
   "source": [
    "## **1. Classificazione delle pose**"
   ]
  },
  {
   "attachments": {},
   "cell_type": "markdown",
   "metadata": {},
   "source": [
    "In questa prima fase del sistema verrà implementato un sistema che, come anticipato, permetterà la classificazione delle varie pose eseguite.\n",
    "\n",
    "In questa fase non verrà utilizzato un solo modello per la classificazione ma verranno confrontati una serie di modelli, per determinare quale tra questi risulta il migliore non solo in termini di efficacia ma anche in termini di efficienza, ossia in relazione alla complessità spaziale e temporale e quindi alle risorse utilizzate.\n",
    "\n",
    "I modelli confrontati saranno sia modelli di **Deep Learning**, sia modelli di **Machine Learning** più semplici:\n",
    "\n",
    "- **SVM**\n",
    "- **Random Forest**\n",
    "- **LSTM**\n",
    "- **GRU**\n",
    "- **RNN**\n"
   ]
  },
  {
   "attachments": {},
   "cell_type": "markdown",
   "metadata": {},
   "source": [
    "Importo i moduli e le librerie di interesse, utili per la realizzazione di questa fase del sistema."
   ]
  },
  {
   "cell_type": "code",
   "execution_count": 1,
   "metadata": {},
   "outputs": [],
   "source": [
    "import cv2\n",
    "import tensorflow as tf\n",
    "import numpy as np\n",
    "import os \n",
    "from matplotlib import pyplot as plt\n",
    "import time\n",
    "import seaborn as sns\n",
    "import pandas as pd\n",
    "\n",
    "from sklearn.model_selection import train_test_split \n",
    "from tensorflow.keras.utils import to_categorical\n",
    "from sklearn.preprocessing import LabelEncoder\n",
    "\n",
    "#Deep Learning\n",
    "from tensorflow.keras.models import Sequential\n",
    "from tensorflow.keras.layers import Input,LSTM,Dense, GRU,SimpleRNN\n",
    "from tensorflow.keras.callbacks import TensorBoard\n",
    "\n",
    "#Metriche di valutazione\n",
    "from sklearn.metrics import ConfusionMatrixDisplay \n",
    "from sklearn.metrics import precision_score\n",
    "from sklearn.metrics import recall_score\n",
    "from sklearn.metrics import f1_score\n",
    "from sklearn.metrics import accuracy_score"
   ]
  },
  {
   "attachments": {},
   "cell_type": "markdown",
   "metadata": {},
   "source": [
    "### **Dataset**"
   ]
  },
  {
   "attachments": {},
   "cell_type": "markdown",
   "metadata": {},
   "source": [
    "#### **Organizzazione & Analisi Esplorativa dei Dati video**"
   ]
  },
  {
   "attachments": {},
   "cell_type": "markdown",
   "metadata": {},
   "source": [
    "Il nostro dataset si compone di una serie di video(al momento 88) , rappresentati sia uomini che donne di diversa età, che svolgono diverse pose di yoga(al momento 6).\n",
    "\n",
    "Tali video sono stati poi ripartiti manualmente in 6 diverse cartelle rappresentati le 6 diverse pose.\n",
    "\n",
    "Per poter garantire una futura aggiunta di video e pose, sono stati realizzati una serie di script che permettono di lavorare con cartelle e file."
   ]
  },
  {
   "attachments": {},
   "cell_type": "markdown",
   "metadata": {},
   "source": [
    "Innazitutto definiamo il percorso del nostro dataset"
   ]
  },
  {
   "cell_type": "code",
   "execution_count": 2,
   "metadata": {},
   "outputs": [
    {
     "name": "stdout",
     "output_type": "stream",
     "text": [
      "/tesi/notebook/dataset\n"
     ]
    }
   ],
   "source": [
    "DATA_PATH = os.path.join('/tesi/notebook/','dataset')\n",
    "print(DATA_PATH)"
   ]
  },
  {
   "attachments": {},
   "cell_type": "markdown",
   "metadata": {},
   "source": [
    "Raccogliamo le pose disponibili all'interno di una lista, in modo tale che in futuro sia più facile aggiungere nuove posizioni, sfruttando questa lista.\n",
    "\n",
    "In particolare in questo momento avremo le seguenti 6 pose:\n",
    "\n",
    "- **Cobra (Bhuj)**\n",
    "- **Tree (Vriksh)**\n",
    "- **Mountain (Tada)**\n",
    "- **Lotus (Padam)**\n",
    "- **Triangle (Trik)**\n",
    "- **Corpse (Shav)**"
   ]
  },
  {
   "cell_type": "code",
   "execution_count": 3,
   "metadata": {},
   "outputs": [
    {
     "name": "stdout",
     "output_type": "stream",
     "text": [
      "['Cobra' 'Corpse' 'Lotus' 'Mountain' 'Tree' 'Triangle']\n"
     ]
    }
   ],
   "source": [
    "dir_list = os.listdir(DATA_PATH) \n",
    "actions = dir_list\n",
    "actions=np.array(actions)\n",
    "print(actions)"
   ]
  },
  {
   "attachments": {},
   "cell_type": "markdown",
   "metadata": {},
   "source": [
    "Creiamo una funzione che, sfruttando gli script prima creati, ci permetta di raccogliere tutti i video all'interno di una lista(il percorso dei video)."
   ]
  },
  {
   "cell_type": "code",
   "execution_count": 4,
   "metadata": {},
   "outputs": [],
   "source": [
    "def get_video_list(data_path,actions):\n",
    "        video_list = []\n",
    "        for file in actions:\n",
    "                file_path = os.path.join(DATA_PATH, file)\n",
    "                \n",
    "                for f in os.listdir(file_path):\n",
    "                        name, ext = os.path.splitext(f)\n",
    "                        if ext == '.mp4':\n",
    "                                video_list.append(f)\n",
    "\n",
    "        return video_list"
   ]
  },
  {
   "attachments": {},
   "cell_type": "markdown",
   "metadata": {},
   "source": [
    "Analizziamo ora il nostro dataset in maniera più approfondita, creando una serie di funzioni che ci permettarà una serie di informazioni che ci potranno risultare utili anche in fasi più avanzate del nostro sistema."
   ]
  },
  {
   "attachments": {},
   "cell_type": "markdown",
   "metadata": {},
   "source": [
    "Definisco una funzione che mi permette di contare il numero di video presenti nel nostro dataset, per ognuna delle quali è stata creata, come anticipato prima, una cartella."
   ]
  },
  {
   "cell_type": "code",
   "execution_count": 5,
   "metadata": {},
   "outputs": [],
   "source": [
    "def count_videos(directory_path, actions):\n",
    "    num_videos = 0\n",
    "    for file in actions:\n",
    "        file_path = os.path.join(directory_path, file)\n",
    "        for f in os.listdir(file_path):\n",
    "            name, ext = os.path.splitext(f)\n",
    "            if ext == '.mp4':\n",
    "                num_videos+=1\n",
    "    return num_videos\n",
    "\n",
    "    "
   ]
  },
  {
   "attachments": {},
   "cell_type": "markdown",
   "metadata": {},
   "source": [
    "Definisco la funzione che mi permette di ottenere per ogni video la seguente tupla:\n",
    "\n",
    "**[nome video, frames totali, fps, durata in sec]**.\n",
    "\n",
    "Pertanto questa funzione restituirà una matrice che raccoglierà tutte queste tuple per ogni tipo di posa:\n",
    "\n",
    "**[nome posa [tupla precedente]]**"
   ]
  },
  {
   "cell_type": "code",
   "execution_count": 6,
   "metadata": {},
   "outputs": [],
   "source": [
    "def videos_lenght(directory_path, actions):\n",
    "    \n",
    "    all_videos=[]\n",
    "    for file in actions:\n",
    "        file_path = os.path.join(directory_path, file)\n",
    "        \n",
    "        video_list = []\n",
    "        for f in os.listdir(file_path):\n",
    "            name, ext = os.path.splitext(f)\n",
    "            if ext == '.mp4':\n",
    "                video_list.append(f)\n",
    "        \n",
    "        directory_videos = []\n",
    "        for video in video_list:\n",
    "            video_path = os.path.join(file_path,video)\n",
    "            \n",
    "            cap = cv2.VideoCapture(video_path)   \n",
    "            \n",
    "            frames = cap.get(cv2.CAP_PROP_FRAME_COUNT)\n",
    "            fps = cap.get(cv2.CAP_PROP_FPS)\n",
    "            \n",
    "            # calculate duration of the video\n",
    "            seconds = round(frames / fps)\n",
    "\n",
    "            directory_videos.append([video, int(frames), int(fps), int(seconds)])\n",
    "            \n",
    "            cap.release()\n",
    "            \n",
    "        all_videos.append([file, directory_videos])\n",
    "        \n",
    "    return all_videos\n",
    "    \n",
    "    \n",
    "    "
   ]
  },
  {
   "attachments": {},
   "cell_type": "markdown",
   "metadata": {},
   "source": [
    "Osserviamo quindi il nostro dataset stampando il risultato delle due funzioni precedenti."
   ]
  },
  {
   "cell_type": "code",
   "execution_count": 7,
   "metadata": {},
   "outputs": [
    {
     "name": "stdout",
     "output_type": "stream",
     "text": [
      "88\n",
      "[['Cobra', [['Abhay_Bhuj.mp4', 545, 30, 18], ['Kaustuk_Bhuj.mp4', 1263, 30, 42], ['Santosh_Bhuj2.mp4', 932, 30, 31], ['Veena_Bhu.mp4', 1489, 30, 50], ['Ameya_Bhuj.mp4', 1413, 30, 47], ['Bhumi_Bhuj.mp4', 1227, 30, 41], ['deepa_bhujan.mp4', 1257, 30, 42], ['Dristi_Bhuj.mp4', 1607, 30, 54], ['Harshav_Bhuj.mp4', 1468, 30, 49], ['lakshmi_bhujang.mp4', 1254, 30, 42], ['Piyush_Bhuj.mp4', 1411, 30, 47], ['Pranshul_Bhuj.mp4', 1242, 30, 41], ['Rakesh_Bhuj.mp4', 1774, 30, 59], ['Santosh_Bhuj.mp4', 818, 30, 27], ['Sarthak_Bhuj.mp4', 1140, 30, 38], ['Shiv_bhuj.mp4', 1897, 30, 63]]], ['Corpse', [['Shiva_Shavasana.mp4', 1391, 30, 46], ['Dristi_Shav.mp4', 1764, 30, 59], ['Harshav_Shav.mp4', 1262, 30, 42], ['Piyush_Shav.mp4', 1247, 30, 42], ['Santosh_Shav.mp4', 929, 30, 31], ['Sathak_shav.mp4', 937, 30, 31], ['Veena_Shav.mp4', 1345, 30, 45], ['Abhay_Shav.mp4', 1307, 30, 44], ['Ameya_Shav.mp4', 1592, 30, 53], ['Bhumi_Shav.mp4', 1239, 30, 41], ['deepa_shava.mp4', 1258, 30, 42], ['Kaustuk_Shav.mp4', 1606, 30, 54], ['Pranshul_Shav.mp4', 1352, 30, 45], ['Rakesh_Shav.mp4', 1973, 30, 66], ['lakshmi_savasan.mp4', 1305, 30, 43]]], ['Lotus', [['veena_padmasan.mp4', 1281, 30, 43], ['Ameya_Padam.mp4', 1338, 30, 45], ['Abhay_Padam.mp4', 867, 30, 29], ['Harshav_Padam.mp4', 1280, 30, 43], ['lakshmi_padam.mp4', 1258, 30, 42], ['Piyush_Padam.mp4', 1250, 30, 42], ['Rakesh_Padam.mp4', 1421, 30, 47], ['Santosh_Padam.mp4', 767, 30, 26], ['Sarthak_padam.mp4', 1409, 30, 47], ['deepa_padmasan.mp4', 1258, 30, 42], ['Bhumi_Padam.mp4', 1330, 30, 44], ['Dristi_Padam.mp4', 1807, 30, 60], ['Shiv_Padam.mp4', 1322, 30, 44], ['Kaustuk_Padam.mp4', 1310, 30, 44]]], ['Mountain', [['Shiva_Tadasana.mp4', 1291, 30, 43], ['veena_tadasna.mp4', 1297, 30, 43], ['Abhay_Tada.mp4', 1521, 30, 51], ['Ameya_Tadasan.mp4', 1563, 30, 52], ['deepa_tadasan.mp4', 1247, 30, 42], ['Dristi_Tadasan.mp4', 1509, 30, 50], ['Pranshul_Tad.mp4', 1232, 30, 41], ['Rakesh_Tadasna.mp4', 1548, 30, 52], ['Bhumi_Tad.mp4', 1234, 30, 41], ['Kaustuk_Tadasan.mp4', 1294, 30, 43], ['Piyush_Tad.mp4', 1233, 30, 41], ['Santosh_Tada.mp4', 927, 30, 31], ['Sarthak_Tada.mp4', 1636, 30, 55], ['Harshav_Tad.mp4', 1278, 30, 43], ['lakshmi_tadasan.mp4', 1266, 30, 42]]], ['Tree', [['Abhay_Vriksh.mp4', 1776, 30, 59], ['Ameya_Vriksh.mp4', 1557, 30, 52], ['Bhumi_Vriksh.mp4', 1530, 30, 51], ['deepa_vriksh.mp4', 1243, 30, 41], ['Dristi_Vriksh.mp4', 1727, 30, 58], ['Harshav_Vriksh.mp4', 1462, 30, 49], ['Kaustuk_Vriksh.mp4', 1344, 30, 45], ['lakshmi_vriksh.mp4', 1262, 30, 42], ['Piyush_Vriksh.mp4', 1234, 30, 41], ['Rakesh_Vriksh.mp4', 1560, 30, 52], ['Santosh_vriksh.mp4', 1553, 30, 52], ['Sarthak_Vriksh.mp4', 1610, 30, 54], ['Shiva_Vriksh.mp4', 1877, 30, 63], ['veena_vriksh.mp4', 1253, 30, 42], ['Pranshul_Vriksh.mp4', 1231, 30, 41]]], ['Triangle', [['Pranshul_Trik.mp4', 1217, 30, 41], ['Rakesh_Trik.mp4', 1457, 30, 49], ['Sarthak_Trik.mp4', 1228, 30, 41], ['Shiva_Trik.mp4', 1474, 30, 49], ['Piyush_Trikon.mp4', 1243, 30, 41], ['Abhay_Trik.mp4', 1332, 30, 44], ['Bhumi_Trik.mp4', 1262, 30, 42], ['deepa_trikon.mp4', 1179, 30, 39], ['Dristi_Trik.mp4', 1550, 30, 52], ['Harshav_Trikon.mp4', 1448, 30, 48], ['Kaustuk_Trik.mp4', 1383, 30, 46], ['Ameya_Trikonasana.mp4', 1514, 30, 50], ['Santosh_Trik.mp4', 1243, 30, 41]]]]\n"
     ]
    }
   ],
   "source": [
    "num_videos = count_videos(DATA_PATH, actions)\n",
    "print(num_videos)\n",
    "\n",
    "info_videos = videos_lenght(DATA_PATH, actions)\n",
    "print(info_videos)\n"
   ]
  },
  {
   "cell_type": "code",
   "execution_count": 8,
   "metadata": {},
   "outputs": [],
   "source": [
    "info_videos=np.array(info_videos,dtype=object)"
   ]
  },
  {
   "cell_type": "code",
   "execution_count": 9,
   "metadata": {},
   "outputs": [],
   "source": [
    "#info_videos[5][1][3][1]# tip_posa tuple/nomeposa qualetuple nome/frame/fps/"
   ]
  },
  {
   "attachments": {},
   "cell_type": "markdown",
   "metadata": {},
   "source": [
    "#### **Human Pose Estimation: MoveNet**"
   ]
  },
  {
   "attachments": {},
   "cell_type": "markdown",
   "metadata": {},
   "source": [
    "Il nostro dataset si compone di una serie di video ripartiti in diverse cartelle, a seconda della posa, in cui vengono eseguite le diverse pose.\n",
    "Per poter effettuare però una classificazione dei video, dobbiamo affrontare il problema della **Human pose Estimation**.\n",
    "\n",
    "Per risolvere tale problema si è decisio di utilizzare **MoveNet**:\n",
    "\n",
    "\n",
    "**MoveNet** è un modello ultra veloce e preciso che rileva **17 punti chiave** di un corpo. Il modello è offerto su *TF Hub* con due varianti, note come *Lightning* e *Thunder*.\n",
    "Lightning è destinato ad applicazioni critiche per la latenza, mentre Thunder è destinato ad applicazioni che richiedono un'elevata precisione. \n",
    "Entrambi i modelli funzionano più velocemente del tempo reale (oltre 30 FPS) sulla maggior parte dei desktop, laptop e telefoni moderni, il che si rivela fondamentale per le applicazioni di fitness, salute e benessere dal vivo."
   ]
  },
  {
   "attachments": {
    "image.png": {
     "image/png": "[encoded data removed]"
    }
   },
   "cell_type": "markdown",
   "metadata": {},
   "source": [
    "![image.png](attachment:image.png)"
   ]
  },
  {
   "attachments": {},
   "cell_type": "markdown",
   "metadata": {},
   "source": [
    "Carico il modello MoveNet scaricato dall'hub di tensorflow"
   ]
  },
  {
   "cell_type": "code",
   "execution_count": 10,
   "metadata": {},
   "outputs": [],
   "source": [
    "# Initialize the TFLite interpreter\n",
    "interpreter = tf.lite.Interpreter(model_path=\"lite-model_movenet_singlepose_thunder_3.tflite\")\n",
    "interpreter.allocate_tensors()"
   ]
  },
  {
   "attachments": {},
   "cell_type": "markdown",
   "metadata": {},
   "source": [
    "Definisco una funzione che effettui la predizioze dei landmarks che in questo caso saranno i joints"
   ]
  },
  {
   "cell_type": "code",
   "execution_count": 11,
   "metadata": {},
   "outputs": [],
   "source": [
    "def movenet(input_image):\n",
    "    \n",
    "    input_image = tf.cast(input_image, dtype = tf.float32)\n",
    "        \n",
    "    # Setup input and output\n",
    "    input_details = interpreter.get_input_details()\n",
    "    output_details = interpreter.get_output_details()\n",
    "    \n",
    "    # Make Predictions\n",
    "    interpreter.set_tensor(input_details[0]['index'], input_image.numpy())\n",
    "    interpreter.invoke()\n",
    "    keypoints_with_scores = interpreter.get_tensor(output_details[0]['index'])\n",
    "    \n",
    "    return keypoints_with_scores\n",
    "\n",
    "    "
   ]
  },
  {
   "attachments": {},
   "cell_type": "markdown",
   "metadata": {},
   "source": [
    "Definisco un dizionario che mappi i joint trovati al corrispettivo termine che rappresenta il joint."
   ]
  },
  {
   "cell_type": "code",
   "execution_count": 12,
   "metadata": {},
   "outputs": [],
   "source": [
    "# Dictionary that maps from joint names to keypoint indices.\n",
    "KEYPOINT_DICT = {\n",
    "    'nose': 0,\n",
    "    'left_eye': 1,\n",
    "    'right_eye': 2,\n",
    "    'left_ear': 3,\n",
    "    'right_ear': 4,\n",
    "    'left_shoulder': 5,\n",
    "    'right_shoulder': 6,\n",
    "    'left_elbow': 7,\n",
    "    'right_elbow': 8,\n",
    "    'left_wrist': 9,\n",
    "    'right_wrist': 10,\n",
    "    'left_hip': 11,\n",
    "    'right_hip': 12,\n",
    "    'left_knee': 13,\n",
    "    'right_knee': 14,\n",
    "    'left_ankle': 15,\n",
    "    'right_ankle': 16\n",
    "}"
   ]
  },
  {
   "attachments": {},
   "cell_type": "markdown",
   "metadata": {},
   "source": [
    "Poichè movenet lavora con immagini in input di dimensione molto bassa affinchè funzioni in maniera corretta, specialmente nel caso dei video definisco una serie di funzioni che mi permette di croppare le immagini sul soggetto di interesse, in modo tale che i keypoint vengano individuati in maniera corretta."
   ]
  },
  {
   "cell_type": "code",
   "execution_count": 13,
   "metadata": {},
   "outputs": [],
   "source": [
    "# Confidence score to determine whether a keypoint prediction is reliable.\n",
    "MIN_CROP_KEYPOINT_SCORE = 0.2\n",
    "\n",
    "def init_crop_region(image_height, image_width):\n",
    "  \"\"\"Defines the default crop region.\n",
    "\n",
    "  The function provides the initial crop region (pads the full image from both\n",
    "  sides to make it a square image) when the algorithm cannot reliably determine\n",
    "  the crop region from the previous frame.\n",
    "  \"\"\"\n",
    "  if image_width > image_height:\n",
    "    box_height = image_width / image_height\n",
    "    box_width = 1.0\n",
    "    y_min = (image_height / 2 - image_width / 2) / image_height\n",
    "    x_min = 0.0\n",
    "  else:\n",
    "    box_height = 1.0\n",
    "    box_width = image_height / image_width\n",
    "    y_min = 0.0\n",
    "    x_min = (image_width / 2 - image_height / 2) / image_width\n",
    "\n",
    "  return {\n",
    "    'y_min': y_min,\n",
    "    'x_min': x_min,\n",
    "    'y_max': y_min + box_height,\n",
    "    'x_max': x_min + box_width,\n",
    "    'height': box_height,\n",
    "    'width': box_width\n",
    "  }\n",
    "\n",
    "def torso_visible(keypoints):\n",
    "  \"\"\"Checks whether there are enough torso keypoints.\n",
    "\n",
    "  This function checks whether the model is confident at predicting one of the\n",
    "  shoulders/hips which is required to determine a good crop region.\n",
    "  \"\"\"\n",
    "  return ((keypoints[0, 0, KEYPOINT_DICT['left_hip'], 2] >\n",
    "           MIN_CROP_KEYPOINT_SCORE or\n",
    "          keypoints[0, 0, KEYPOINT_DICT['right_hip'], 2] >\n",
    "           MIN_CROP_KEYPOINT_SCORE) and\n",
    "          (keypoints[0, 0, KEYPOINT_DICT['left_shoulder'], 2] >\n",
    "           MIN_CROP_KEYPOINT_SCORE or\n",
    "          keypoints[0, 0, KEYPOINT_DICT['right_shoulder'], 2] >\n",
    "           MIN_CROP_KEYPOINT_SCORE))\n",
    "\n",
    "def determine_torso_and_body_range(\n",
    "    keypoints, target_keypoints, center_y, center_x):\n",
    "  \"\"\"Calculates the maximum distance from each keypoints to the center location.\n",
    "\n",
    "  The function returns the maximum distances from the two sets of keypoints:\n",
    "  full 17 keypoints and 4 torso keypoints. The returned information will be\n",
    "  used to determine the crop size. See determineCropRegion for more detail.\n",
    "  \"\"\"\n",
    "  torso_joints = ['left_shoulder', 'right_shoulder', 'left_hip', 'right_hip']\n",
    "  max_torso_yrange = 0.0\n",
    "  max_torso_xrange = 0.0\n",
    "  for joint in torso_joints:\n",
    "    dist_y = abs(center_y - target_keypoints[joint][0])\n",
    "    dist_x = abs(center_x - target_keypoints[joint][1])\n",
    "    if dist_y > max_torso_yrange:\n",
    "      max_torso_yrange = dist_y\n",
    "    if dist_x > max_torso_xrange:\n",
    "      max_torso_xrange = dist_x\n",
    "\n",
    "  max_body_yrange = 0.0\n",
    "  max_body_xrange = 0.0\n",
    "  for joint in KEYPOINT_DICT.keys():\n",
    "    if keypoints[0, 0, KEYPOINT_DICT[joint], 2] < MIN_CROP_KEYPOINT_SCORE:\n",
    "      continue\n",
    "    dist_y = abs(center_y - target_keypoints[joint][0]);\n",
    "    dist_x = abs(center_x - target_keypoints[joint][1]);\n",
    "    if dist_y > max_body_yrange:\n",
    "      max_body_yrange = dist_y\n",
    "\n",
    "    if dist_x > max_body_xrange:\n",
    "      max_body_xrange = dist_x\n",
    "\n",
    "  return [max_torso_yrange, max_torso_xrange, max_body_yrange, max_body_xrange]\n",
    "\n",
    "def determine_crop_region(\n",
    "      keypoints, image_height,\n",
    "      image_width):\n",
    "  \"\"\"Determines the region to crop the image for the model to run inference on.\n",
    "\n",
    "  The algorithm uses the detected joints from the previous frame to estimate\n",
    "  the square region that encloses the full body of the target person and\n",
    "  centers at the midpoint of two hip joints. The crop size is determined by\n",
    "  the distances between each joints and the center point.\n",
    "  When the model is not confident with the four torso joint predictions, the\n",
    "  function returns a default crop which is the full image padded to square.\n",
    "  \"\"\"\n",
    "  target_keypoints = {}\n",
    "  for joint in KEYPOINT_DICT.keys():\n",
    "    target_keypoints[joint] = [\n",
    "      keypoints[0, 0, KEYPOINT_DICT[joint], 0] * image_height,\n",
    "      keypoints[0, 0, KEYPOINT_DICT[joint], 1] * image_width\n",
    "    ]\n",
    "\n",
    "  if torso_visible(keypoints):\n",
    "    center_y = (target_keypoints['left_hip'][0] +\n",
    "                target_keypoints['right_hip'][0]) / 2;\n",
    "    center_x = (target_keypoints['left_hip'][1] +\n",
    "                target_keypoints['right_hip'][1]) / 2;\n",
    "\n",
    "    (max_torso_yrange, max_torso_xrange,\n",
    "      max_body_yrange, max_body_xrange) = determine_torso_and_body_range(\n",
    "          keypoints, target_keypoints, center_y, center_x)\n",
    "\n",
    "    crop_length_half = np.amax(\n",
    "        [max_torso_xrange * 1.9, max_torso_yrange * 1.9,\n",
    "          max_body_yrange * 1.2, max_body_xrange * 1.2])\n",
    "\n",
    "    tmp = np.array(\n",
    "        [center_x, image_width - center_x, center_y, image_height - center_y])\n",
    "    crop_length_half = np.amin(\n",
    "        [crop_length_half, np.amax(tmp)]);\n",
    "\n",
    "    crop_corner = [center_y - crop_length_half, center_x - crop_length_half];\n",
    "\n",
    "    if crop_length_half > max(image_width, image_height) / 2:\n",
    "      return init_crop_region(image_height, image_width)\n",
    "    else:\n",
    "      crop_length = crop_length_half * 2;\n",
    "      return {\n",
    "        'y_min': crop_corner[0] / image_height,\n",
    "        'x_min': crop_corner[1] / image_width,\n",
    "        'y_max': (crop_corner[0] + crop_length) / image_height,\n",
    "        'x_max': (crop_corner[1] + crop_length) / image_width,\n",
    "        'height': (crop_corner[0] + crop_length) / image_height -\n",
    "            crop_corner[0] / image_height,\n",
    "        'width': (crop_corner[1] + crop_length) / image_width -\n",
    "            crop_corner[1] / image_width\n",
    "      }\n",
    "  else:\n",
    "    return init_crop_region(image_height, image_width)\n",
    "\n",
    "def crop_and_resize(image, crop_region, crop_size):\n",
    "  \"\"\"Crops and resize the image to prepare for the model input.\"\"\"\n",
    "  boxes=[[crop_region['y_min'], crop_region['x_min'],\n",
    "          crop_region['y_max'], crop_region['x_max']]]\n",
    "  output_image = tf.image.crop_and_resize(\n",
    "      image, box_indices=[0], boxes=boxes, crop_size=crop_size)\n",
    "  return output_image"
   ]
  },
  {
   "attachments": {},
   "cell_type": "markdown",
   "metadata": {},
   "source": [
    "Definisco la funzione che faccia l'inferenza sull'immagine/video dopo aver effettuato il crop."
   ]
  },
  {
   "cell_type": "code",
   "execution_count": 14,
   "metadata": {},
   "outputs": [],
   "source": [
    "def run_inference(movenet, image, crop_region, crop_size):\n",
    "  \"\"\"Runs model inferece on the cropped region.\n",
    "\n",
    "  The function runs the model inference on the cropped region and updates the\n",
    "  model output to the original image coordinate system.\n",
    "  \"\"\"\n",
    "  image_height, image_width, _ = image.shape\n",
    "  input_image = crop_and_resize(\n",
    "    tf.expand_dims(image, axis=0), crop_region, crop_size=crop_size)\n",
    "  # Run model inference.\n",
    "  keypoints_with_scores = movenet(input_image)\n",
    "  # Update the coordinates.\n",
    "  for idx in range(17):\n",
    "    keypoints_with_scores[0, 0, idx, 0] = (\n",
    "        crop_region['y_min'] * image_height +\n",
    "        crop_region['height'] * image_height *\n",
    "        keypoints_with_scores[0, 0, idx, 0]) / image_height\n",
    "    keypoints_with_scores[0, 0, idx, 1] = (\n",
    "        crop_region['x_min'] * image_width +\n",
    "        crop_region['width'] * image_width *\n",
    "        keypoints_with_scores[0, 0, idx, 1]) / image_width\n",
    "  return keypoints_with_scores"
   ]
  },
  {
   "attachments": {},
   "cell_type": "markdown",
   "metadata": {},
   "source": [
    "Per poter mostare a schermo lo scheletro del corpo umano, definito dai 17 punti e dagli che collegano questi ultimi defino 2 funzioni, una per i punti e una per gli archi.\n"
   ]
  },
  {
   "attachments": {},
   "cell_type": "markdown",
   "metadata": {},
   "source": [
    "Definisco la funzione che disegni i landmarks su schermo. \n",
    "Come si può notare dal codice i landmarks calcolati devono essere denomalizzati per ottenere la loro effettiva posizione su schermo."
   ]
  },
  {
   "cell_type": "code",
   "execution_count": 15,
   "metadata": {},
   "outputs": [],
   "source": [
    "def draw_keypoints(frame, keypoints, threshold):\n",
    "        \n",
    "    y, x, c = frame.shape\n",
    "    # Denormalize the coordinates : multiply the normalized coordinates by the input_size(width,height)\n",
    "    denormalized_coordinates = np.squeeze(np.multiply(keypoints, [y,x,1]))\n",
    "    # Iterate through the points\n",
    "    for keypoint in denormalized_coordinates:\n",
    "        # Unpack the keypoint values : y, x, confidence score\n",
    "        keypoint_y, keypoint_x, keypoint_confidence = keypoint\n",
    "        if keypoint_confidence > threshold:\n",
    "     \n",
    "            cv2.circle(\n",
    "                img=frame, \n",
    "                center=(int(keypoint_x), int(keypoint_y)), \n",
    "                radius=3, \n",
    "                color=(255,0,0),\n",
    "                thickness=-1\n",
    "            )"
   ]
  },
  {
   "attachments": {},
   "cell_type": "markdown",
   "metadata": {},
   "source": [
    "Definisco la funzione che disegna gli archi che collegano i vari joints su schermo.\n",
    "Prima di andare a definire tale funzione però, definisco il dizionario che per ogni coppia di joints, assegna un colore, che verrà poi usato all'interno della funzione.\n",
    "\n",
    "*La definzione delle coppe si trova nella doc*."
   ]
  },
  {
   "cell_type": "code",
   "execution_count": 16,
   "metadata": {},
   "outputs": [],
   "source": [
    "cyan = (255, 255, 0)\n",
    "magenta = (255, 0, 255)\n",
    "\n",
    "EDGE_COLORS = {\n",
    "    (0, 1): magenta,\n",
    "    (0, 2): cyan,\n",
    "    (1, 3): magenta,\n",
    "    (2, 4): cyan,\n",
    "    (0, 5): magenta,\n",
    "    (0, 6): cyan,\n",
    "    (5, 7): magenta,\n",
    "    (7, 9): cyan,\n",
    "    (6, 8): magenta,\n",
    "    (8, 10): cyan,\n",
    "    (5, 6): magenta,\n",
    "    (5, 11): cyan,\n",
    "    (6, 12): magenta,\n",
    "    (11, 12): cyan,\n",
    "    (11, 13): magenta,\n",
    "    (13, 15): cyan,\n",
    "    (12, 14): magenta,\n",
    "    (14, 16): cyan\n",
    "}"
   ]
  },
  {
   "cell_type": "code",
   "execution_count": 17,
   "metadata": {},
   "outputs": [],
   "source": [
    "def draw_edges(denormalized_coordinates,keypoints, frame, edges_colors, threshold):\n",
    "    \n",
    "    y,x,c = frame.shape\n",
    "    denormalized_coordinates = np.squeeze(np.multiply(keypoints, [y,x,1]))\n",
    "    # Iterate through the edges \n",
    "    for edge, color in edges_colors.items():\n",
    "        # Get the dict value associated to the actual edge\n",
    "        p1, p2 = edge\n",
    "        # Get the points\n",
    "        y1, x1, confidence_1 = denormalized_coordinates[p1]\n",
    "        y2, x2, confidence_2 = denormalized_coordinates[p2]\n",
    "        # Draw the line from point 1 to point 2, the confidence > threshold\n",
    "        if (confidence_1 > threshold) & (confidence_2 > threshold):      \n",
    "            cv2.line(\n",
    "                img=frame, \n",
    "                pt1=(int(x1), int(y1)),\n",
    "                pt2=(int(x2), int(y2)), \n",
    "                color=color, \n",
    "                thickness=1, \n",
    "                lineType=cv2.LINE_AA # Gives anti-aliased (smoothed) line which looks great for curves\n",
    "            )"
   ]
  },
  {
   "attachments": {},
   "cell_type": "markdown",
   "metadata": {},
   "source": [
    "Definisco ora una funzione che metta insieme le due funzioni e che effettui quindi il render sia dei punti che degli archi, ossia dello scheletro."
   ]
  },
  {
   "cell_type": "code",
   "execution_count": 18,
   "metadata": {},
   "outputs": [],
   "source": [
    "def draw_skeleton(frame, keypoints_with_scores, threshold):\n",
    "        draw_keypoints(frame , keypoints_with_scores, threshold)\n",
    "        draw_edges(frame,keypoints_with_scores, frame, EDGE_COLORS, threshold)"
   ]
  },
  {
   "attachments": {},
   "cell_type": "markdown",
   "metadata": {},
   "source": [
    "#### **Creazione del dataset**"
   ]
  },
  {
   "attachments": {},
   "cell_type": "markdown",
   "metadata": {},
   "source": [
    "Arrivati a questo punto inizia la parte di creazione del nostro dataset effttivo, che non sarà composto da video o frames ma dai landmarks individuati e restituiti da MoveNet."
   ]
  },
  {
   "attachments": {},
   "cell_type": "markdown",
   "metadata": {},
   "source": [
    "Definisco ora una funzione che effettui l'estrazione dei landmarks;\n",
    "\n",
    "Movenet, per ogni frame restituirà un tensore pertanto trasformo questo tensore in un array bidimensionale che avrà 17 righe corrispondenti ai 17 joints e 3 colonne corrispondenti a x, y e confidence.\n",
    "\n",
    "Rendiamo poi il nostro vettore a 2 dimensioni flatten ossia ad una dimensione.\n",
    "Tale vettore sarà poi ritornato dalla funzione."
   ]
  },
  {
   "attachments": {},
   "cell_type": "markdown",
   "metadata": {},
   "source": [
    "Quindi saremo passati da:\n",
    "- **(1, 1, 17, 3)**\n",
    "- **(17, 3)**\n",
    "- **(51,)**\n",
    "\n",
    "\n",
    "Abbiamo reso il nostro vettore a 2 dimensioni flatten ossia ad una dimensione, perchè le LSTM lavorano con questo tipo di input."
   ]
  },
  {
   "cell_type": "code",
   "execution_count": 19,
   "metadata": {},
   "outputs": [],
   "source": [
    "def extract_keypoints(keypoints_with_scores):\n",
    "    pose = []\n",
    "    i=0\n",
    "    while i < len(keypoints_with_scores[0][0][:]):\n",
    "        #row che sarà composta da x y e confidence dell' i-esimo keypoint/joint\n",
    "        row = np.array([keypoints_with_scores[0][0][i][0], keypoints_with_scores[0][0][i][1], keypoints_with_scores[0][0][i][2]])\n",
    "        pose.append(row)\n",
    "        i+=1\n",
    "    #redo il vettore a 1D\n",
    "    pose = np.array(pose).flatten()\n",
    "    return pose"
   ]
  },
  {
   "attachments": {},
   "cell_type": "markdown",
   "metadata": {},
   "source": [
    "Per organizzare i nostri dati in maniera ordinata e congrua all'organizzazione fino ad ora vista,\n",
    "definisco una funzione che creai una cartella per ogni video, nominata con \"nome video + _landmarks\",all'interno della quale verranno salvati i keypoint raccolti per ogni frame."
   ]
  },
  {
   "cell_type": "code",
   "execution_count": 20,
   "metadata": {},
   "outputs": [],
   "source": [
    "def make_dir_keypoints(directory_path, actions):\n",
    "    for file in actions:\n",
    "        file_path = os.path.join(directory_path, file)\n",
    "        \n",
    "        video_list = []\n",
    "        for f in os.listdir(file_path):\n",
    "            name, ext = os.path.splitext(f)\n",
    "            if ext == '.mp4':\n",
    "                video_list.append(f)\n",
    "\n",
    "        #se esiste già salta\n",
    "        for video in video_list:\n",
    "            try:\n",
    "                os.makedirs(os.path.join(file_path, video +\"_landmarks\"))\n",
    "            except:\n",
    "                pass\n",
    "\n"
   ]
  },
  {
   "cell_type": "code",
   "execution_count": 21,
   "metadata": {},
   "outputs": [],
   "source": [
    "make_dir_keypoints(DATA_PATH,actions)"
   ]
  },
  {
   "attachments": {},
   "cell_type": "markdown",
   "metadata": {},
   "source": [
    "codice per elimnare cartelle create"
   ]
  },
  {
   "cell_type": "markdown",
   "metadata": {},
   "source": [
    "for file in actions:\n",
    "        \n",
    "    file_path = os.path.join(DATA_PATH, file)\n",
    "    video_list = os.listdir(file_path)\n",
    "\n",
    "    video_list = []\n",
    "    for f in os.listdir(file_path):\n",
    "        name, ext = os.path.splitext(f)\n",
    "        if ext == '.npy':\n",
    "            video_list.append(f)\n",
    "    \n",
    "    for video in video_list:\n",
    "        os.remove(os.path.join(file_path, video))\n"
   ]
  },
  {
   "cell_type": "markdown",
   "metadata": {},
   "source": [
    "for file in actions:\n",
    "        \n",
    "    file_path = os.path.join(DATA_PATH, file)\n",
    "    video_list = os.listdir(file_path)\n",
    "\n",
    "    cartella_list = os.listdir(file_path)\n",
    "    \n",
    "    for cartella in cartella_list:\n",
    "        os.remove(os.path.join(file_path, cartella))"
   ]
  },
  {
   "cell_type": "markdown",
   "metadata": {},
   "source": [
    "for file in actions:\n",
    "        \n",
    "    file_path = os.path.join(DATA_PATH, file)\n",
    "    video_list = os.listdir(file_path)\n",
    "\n",
    "    cartelle = []\n",
    "    for f in os.listdir(file_path):\n",
    "        name, ext = os.path.splitext(f)\n",
    "        if not ext == '.mp4':\n",
    "            cartelle.append(f)\n",
    "    \n",
    "   \n",
    "    for cartella in cartelle:\n",
    "        try:\n",
    "            os.remove(os.path.join(file_path,cartella, \"23.npy\"))\n",
    "        except:\n",
    "            pass"
   ]
  },
  {
   "attachments": {},
   "cell_type": "markdown",
   "metadata": {},
   "source": [
    "Definisco ora la funzione che andrà a creare effettivamente il nostro dataset, composto da keyoints.\n",
    "I keypoinyts, per ogni frame verranno salvati sottoforma di numpy array all'interno delle cartelle sopra create."
   ]
  },
  {
   "cell_type": "code",
   "execution_count": 22,
   "metadata": {},
   "outputs": [],
   "source": [
    "def extract_all_keypoints(directory_path,actions):\n",
    "     for file in actions:\n",
    "        \n",
    "        file_path = os.path.join(directory_path, file)\n",
    "\n",
    "        video_list = []\n",
    "        for f in os.listdir(file_path):\n",
    "            name, ext = os.path.splitext(f)\n",
    "            if ext == '.mp4':\n",
    "                video_list.append(f)\n",
    "    \n",
    "        for video in video_list:\n",
    "            \n",
    "            video_path = os.path.join(file_path,video) \n",
    "            cap = cv2.VideoCapture(video_path)\n",
    "            \n",
    "            #Ottengo il numero di frames totali\n",
    "            video_frames_count= int(cap.get(cv2.CAP_PROP_FRAME_COUNT))\n",
    "                        \n",
    "            video_height, video_width = [768, 1366]# sostituire con funzione\n",
    "            crop_region = init_crop_region(video_height, video_width)\n",
    "            \n",
    "            i=1\n",
    "       \n",
    "            for frame_counter in range(video_frames_count):\n",
    "                try:                \n",
    "                    #leggo il frame               \n",
    "                    ret,frame = cap.read()\n",
    "                    \n",
    "                    #se non viene letto esco\n",
    "                    if not ret:\n",
    "                        break\n",
    "                    \n",
    "                    image = frame.copy()\n",
    "                    cv2.cvtColor(image, cv2.COLOR_BGR2RGB)\n",
    "                \n",
    "                    keypoints_with_scores = run_inference(\n",
    "                    movenet, image, crop_region,\n",
    "                    crop_size=[256, 256])# sostituire con variabile\n",
    "\n",
    "                    crop_region = determine_crop_region(\n",
    "                    keypoints_with_scores, video_height, video_width)\n",
    "                    \n",
    "                    keypoints = extract_keypoints(keypoints_with_scores)\n",
    "                \n",
    "                    npy_path = os.path.join(file_path,video +\"_landmarks\",str(i))\n",
    "                    np.save(npy_path, keypoints)                                        \n",
    "                    i+=1\n",
    "                    print(i)\n",
    "                    print(npy_path)\n",
    "                except:\n",
    "                    pass\n",
    "\n",
    "            cap.release()\n",
    "            cv2.destroyAllWindows()\n",
    "\n"
   ]
  },
  {
   "cell_type": "markdown",
   "metadata": {},
   "source": [
    "extract_all_keypoints(DATA_PATH,actions)"
   ]
  },
  {
   "attachments": {},
   "cell_type": "markdown",
   "metadata": {},
   "source": [
    "### **Divisione del Dataset**\n"
   ]
  },
  {
   "attachments": {},
   "cell_type": "markdown",
   "metadata": {},
   "source": [
    "Andiamo a definire un dizionrio che associa ad ogni video una label, che andrà a indicare la classe di appartenenza."
   ]
  },
  {
   "cell_type": "code",
   "execution_count": 23,
   "metadata": {},
   "outputs": [],
   "source": [
    "label_map = {label: num for num, label in enumerate(actions)}\n"
   ]
  },
  {
   "cell_type": "code",
   "execution_count": 24,
   "metadata": {},
   "outputs": [
    {
     "data": {
      "text/plain": [
       "{'Cobra': 0, 'Corpse': 1, 'Lotus': 2, 'Mountain': 3, 'Tree': 4, 'Triangle': 5}"
      ]
     },
     "execution_count": 24,
     "metadata": {},
     "output_type": "execute_result"
    }
   ],
   "source": [
    "label_map"
   ]
  },
  {
   "attachments": {},
   "cell_type": "markdown",
   "metadata": {},
   "source": [
    "In particolare si è deciso di dividere i frames di ogni video in subset di 45 frames, ed assegnare ad ognuno di questi una label."
   ]
  },
  {
   "attachments": {},
   "cell_type": "markdown",
   "metadata": {},
   "source": [
    "Inoltre creo un vettore dove saranno indicati tramite un identificativo numerico quale delle persone presenti nel dataset sta svolgendo l'esercizio.Poichè questo vettore potrà risultare utile per test futuri. "
   ]
  },
  {
   "cell_type": "code",
   "execution_count": 25,
   "metadata": {},
   "outputs": [],
   "source": [
    "#creare una funzione\n",
    "sequences=[]\n",
    "group_sequences=[]\n",
    "group=[]\n",
    "labels=[]\n",
    "j=0\n",
    "for file in actions:\n",
    "        file_path = os.path.join(DATA_PATH, file)\n",
    "        \n",
    "        key_dir_list = []\n",
    "        for f in os.listdir(file_path):\n",
    "            name, ext = os.path.splitext(f)\n",
    "            if not ext == '.mp4':\n",
    "                key_dir_list.append(f)\n",
    "                \n",
    "\n",
    "        i=0\n",
    "        for keypoint_dir in key_dir_list:\n",
    "            window = []\n",
    "            for frame_num in range(1, info_videos[j][1][i][1]):\n",
    "                group=[x for x in range(len(key_dir_list))]\n",
    "                frame_path = np.load(os.path.join(file_path,keypoint_dir,\"{}.npy\".format(frame_num)))\n",
    "                window.append(frame_path)\n",
    "                if frame_num%45==0:    \n",
    "                    sequences.append(window)\n",
    "                    group_sequences.append(group[i])\n",
    "                    labels.append(label_map[file])\n",
    "                    window=[]                             \n",
    "                    \n",
    "            i+=1\n",
    "        j+=1"
   ]
  },
  {
   "attachments": {},
   "cell_type": "markdown",
   "metadata": {},
   "source": [
    "In questo modo avremo quindi un array composto da 2599 video, ognuno dei quali composto da 45 framese.\n",
    "Per ogni frame sono stati calcolati 17 keypoints ognuno composto da x y e c ossia 51 punti, essendo 51 = 17*3"
   ]
  },
  {
   "cell_type": "code",
   "execution_count": 26,
   "metadata": {},
   "outputs": [
    {
     "data": {
      "text/plain": [
       "(2599, 45, 51)"
      ]
     },
     "execution_count": 26,
     "metadata": {},
     "output_type": "execute_result"
    }
   ],
   "source": [
    "np.array(sequences).shape"
   ]
  },
  {
   "attachments": {},
   "cell_type": "markdown",
   "metadata": {},
   "source": [
    "Allo stesso modo ora tutti i vettori di keypoints rappresentati il video avranno la label corrispondente alla posa"
   ]
  },
  {
   "cell_type": "code",
   "execution_count": 27,
   "metadata": {},
   "outputs": [
    {
     "data": {
      "text/plain": [
       "(2599,)"
      ]
     },
     "execution_count": 27,
     "metadata": {},
     "output_type": "execute_result"
    }
   ],
   "source": [
    "np.array(labels).shape"
   ]
  },
  {
   "attachments": {},
   "cell_type": "markdown",
   "metadata": {},
   "source": [
    "Ho quindi creato una colonna rappresentante la persona che sta eseguendo il video.Pertanto la dimensione(il numero di righe) corrisponde al numero di video eseguiti"
   ]
  },
  {
   "cell_type": "code",
   "execution_count": 28,
   "metadata": {},
   "outputs": [
    {
     "data": {
      "text/plain": [
       "(2599,)"
      ]
     },
     "execution_count": 28,
     "metadata": {},
     "output_type": "execute_result"
    }
   ],
   "source": [
    "np.array(group_sequences).shape"
   ]
  },
  {
   "attachments": {},
   "cell_type": "markdown",
   "metadata": {},
   "source": [
    "Quindi ora avremo le nostre **feature input** e la nostra **feature target**"
   ]
  },
  {
   "cell_type": "code",
   "execution_count": 29,
   "metadata": {},
   "outputs": [],
   "source": [
    "X = np.array(sequences)"
   ]
  },
  {
   "cell_type": "code",
   "execution_count": 30,
   "metadata": {},
   "outputs": [],
   "source": [
    "y = np.array(labels)"
   ]
  },
  {
   "attachments": {},
   "cell_type": "markdown",
   "metadata": {},
   "source": [
    "Osserviamo come il nostro dataset sia bilanciato"
   ]
  },
  {
   "cell_type": "code",
   "execution_count": 31,
   "metadata": {},
   "outputs": [
    {
     "name": "stdout",
     "output_type": "stream",
     "text": [
      "Cobra 0: 454\n",
      "Corpse 1: 447\n",
      "Lotus 2: 391\n",
      "Mountain 3: 438\n",
      "Tree 4: 485\n",
      "Triangle 5: 384\n",
      "Percentage of 0: 17.47\n",
      "Percentage of 1: 17.2\n",
      "Percentage of 2: 15.040000000000001\n",
      "Percentage of 3: 16.85\n",
      "Percentage of 4: 18.66\n",
      "Percentage of 5: 14.77\n"
     ]
    },
    {
     "data": {
      "text/plain": [
       "<matplotlib.axes._subplots.AxesSubplot at 0x2552e51c310>"
      ]
     },
     "execution_count": 31,
     "metadata": {},
     "output_type": "execute_result"
    },
    {
     "data": {
      "image/png": "[encoded data removed]",
      "text/plain": [
       "<Figure size 432x288 with 1 Axes>"
      ]
     },
     "metadata": {
      "needs_background": "light"
     },
     "output_type": "display_data"
    }
   ],
   "source": [
    "target_count=pd.DataFrame(data=y)[0].value_counts()\n",
    "print(f'Cobra 0: {target_count[0]}')\n",
    "print(f'Corpse 1: {target_count[1]}')\n",
    "print(f'Lotus 2: {target_count[2]}')\n",
    "print(f'Mountain 3: {target_count[3]}')\n",
    "print(f'Tree 4: {target_count[4]}')\n",
    "print(f'Triangle 5: {target_count[5]}')\n",
    "print(f'Percentage of 0: {round(target_count[0] / sum(target_count), 4)*100}')\n",
    "print(f'Percentage of 1: {round(target_count[1] / sum(target_count), 4)*100}')\n",
    "print(f'Percentage of 2: {round(target_count[2] / sum(target_count), 4)*100}')\n",
    "print(f'Percentage of 3: {round(target_count[3] / sum(target_count), 4)*100}')\n",
    "print(f'Percentage of 4: {round(target_count[4] / sum(target_count), 4)*100}')\n",
    "print(f'Percentage of 5: {round(target_count[5] / sum(target_count), 4)*100}')\n",
    "\n",
    "\n",
    "target_count.plot(kind='bar', title='Count (target)')"
   ]
  },
  {
   "attachments": {},
   "cell_type": "markdown",
   "metadata": {},
   "source": [
    "Splittiamo effetivamente i nostri dati"
   ]
  },
  {
   "cell_type": "code",
   "execution_count": 32,
   "metadata": {},
   "outputs": [],
   "source": [
    "X_train, X_test, y_train, y_test = train_test_split(X, y, test_size=0.2, stratify=y, random_state=11)"
   ]
  },
  {
   "attachments": {},
   "cell_type": "markdown",
   "metadata": {},
   "source": [
    "Osseviamo la dimensione del nostro set di train e di test:\n",
    "- 520 video per il test\n",
    "- 2079 video per il train"
   ]
  },
  {
   "cell_type": "code",
   "execution_count": 33,
   "metadata": {},
   "outputs": [
    {
     "name": "stdout",
     "output_type": "stream",
     "text": [
      "(520, 45, 51)\n",
      "(2079, 45, 51)\n",
      "(520,)\n",
      "(2079,)\n"
     ]
    }
   ],
   "source": [
    "\n",
    "print(X_test.shape)\n",
    "print(X_train.shape)\n",
    "print(y_test.shape)\n",
    "print(y_train.shape)\n"
   ]
  },
  {
   "attachments": {},
   "cell_type": "markdown",
   "metadata": {},
   "source": [
    "### **Costruzione dei modelli & Addestramento**"
   ]
  },
  {
   "attachments": {},
   "cell_type": "markdown",
   "metadata": {},
   "source": [
    "Definiamo gli import che andremo ad utilizzare"
   ]
  },
  {
   "cell_type": "code",
   "execution_count": 34,
   "metadata": {},
   "outputs": [],
   "source": [
    "from sklearn.tree import DecisionTreeClassifier, plot_tree\n",
    "from sklearn.naive_bayes import GaussianNB\n",
    "from sklearn.ensemble import RandomForestClassifier\n",
    "from sklearn.ensemble import GradientBoostingClassifier\n",
    "from sklearn.svm import SVC\n",
    "\n",
    "from imblearn.pipeline import Pipeline as imbpipeline\n",
    "from sklearn.model_selection import train_test_split, GridSearchCV, StratifiedKFold, LeaveOneGroupOut\n",
    "\n",
    "from sklearn.utils import shuffle"
   ]
  },
  {
   "attachments": {},
   "cell_type": "markdown",
   "metadata": {},
   "source": [
    "Valuteremo i modelli sulle seguenti metriche:\n",
    "\n",
    "- accuracy\n",
    "- recall\n",
    "- precision\n",
    "- f1"
   ]
  },
  {
   "attachments": {},
   "cell_type": "markdown",
   "metadata": {},
   "source": [
    "#### **Classificazione con modelli semplici di ML**"
   ]
  },
  {
   "attachments": {},
   "cell_type": "markdown",
   "metadata": {},
   "source": [
    "Per poter addestrare modelli di ML, come i seguenti, devo modificare la struttura delle nostre input features.\n",
    "In particolare dovremo passare da una struttura a 3 dimensioni ad una struttura a 2 dimensioni"
   ]
  },
  {
   "cell_type": "code",
   "execution_count": 35,
   "metadata": {},
   "outputs": [],
   "source": [
    "X_train_ML = X_train.reshape(2079,(45*51))"
   ]
  },
  {
   "cell_type": "code",
   "execution_count": 36,
   "metadata": {},
   "outputs": [],
   "source": [
    "X_test_ML = X_test.reshape(520,(45*51))"
   ]
  },
  {
   "cell_type": "code",
   "execution_count": 37,
   "metadata": {},
   "outputs": [
    {
     "name": "stdout",
     "output_type": "stream",
     "text": [
      "(2079, 2295)\n",
      "(520, 2295)\n"
     ]
    }
   ],
   "source": [
    "print(X_train_ML.shape)\n",
    "print(X_test_ML.shape)"
   ]
  },
  {
   "attachments": {},
   "cell_type": "markdown",
   "metadata": {},
   "source": [
    "Per effettuare le classificazione definiremo una pipeline all'interno della quale andremo adefinire il classifier , ossia il modello utilizzato.\n",
    "\n",
    "Inoltre prima della fase di test, per questi modelli effettueremo una fase di validation in cui verrà effettuata una stratify cross validation, in modo tale che le proporzioni tra le varie classi rimangano le stess.\n",
    "Grazie a queste fase riuscire ad ottenere il modello con i settings migliori."
   ]
  },
  {
   "attachments": {},
   "cell_type": "markdown",
   "metadata": {},
   "source": [
    "##### **Classificazione con SVM**"
   ]
  },
  {
   "attachments": {},
   "cell_type": "markdown",
   "metadata": {},
   "source": [
    "Definiamo la pipeline"
   ]
  },
  {
   "cell_type": "code",
   "execution_count": 38,
   "metadata": {},
   "outputs": [],
   "source": [
    "pipeline = imbpipeline(steps = [['classifier',SVC(kernel=None,\n",
    "                                                  gamma=None,\n",
    "                                                  probability=True,\n",
    "                                                  C=None)]])"
   ]
  },
  {
   "attachments": {},
   "cell_type": "markdown",
   "metadata": {},
   "source": [
    "Creiamo un'istanza della classe StratifiedKFold che ci permette di andare a definire un tipo di Cross Validation"
   ]
  },
  {
   "cell_type": "code",
   "execution_count": 39,
   "metadata": {},
   "outputs": [],
   "source": [
    "stratified_kfold = StratifiedKFold(n_splits=3,\n",
    "                                       shuffle=True,\n",
    "                                       random_state=11)"
   ]
  },
  {
   "attachments": {},
   "cell_type": "markdown",
   "metadata": {},
   "source": [
    "Definiamo l'insieme degli iper-parametri, su cui verrà effettuato un tuning durante la fase di test.\n",
    "\n",
    "Definiamo anche un'istanza di GridSearchCV, che ci permetterà ci combinare la cross validation con la pipeline."
   ]
  },
  {
   "cell_type": "code",
   "execution_count": 40,
   "metadata": {},
   "outputs": [],
   "source": [
    "# in param_grid sono definiti gli iperparametri\n",
    "param_grid = {'C': [0.1, 1, 10, 100, 1000], \n",
    "              'gamma': [1, 0.1, 0.01, 0.001, 0.0001],\n",
    "              'kernel': ['rbf']\n",
    "              }\n",
    "\n",
    "new_params = {'classifier__' + key: param_grid[key] for key in param_grid}\n",
    "\n",
    "grid_search = GridSearchCV(estimator=pipeline,\n",
    "                           param_grid=new_params,\n",
    "                           scoring='accuracy',\n",
    "                           cv=stratified_kfold,\n",
    "                           verbose = 5,\n",
    "                           )"
   ]
  },
  {
   "attachments": {},
   "cell_type": "markdown",
   "metadata": {},
   "source": [
    "Adattiamo il nostro modello di training sul set di training e runniamo la funzione grid_search.fit, al termine della quale otterremo il modello migliore."
   ]
  },
  {
   "cell_type": "code",
   "execution_count": 41,
   "metadata": {},
   "outputs": [
    {
     "name": "stdout",
     "output_type": "stream",
     "text": [
      "Fitting 3 folds for each of 25 candidates, totalling 75 fits\n",
      "[CV 1/3] END classifier__C=0.1, classifier__gamma=1, classifier__kernel=rbf;, score=0.188 total time=  36.3s\n",
      "[CV 2/3] END classifier__C=0.1, classifier__gamma=1, classifier__kernel=rbf;, score=0.186 total time=  33.5s\n",
      "[CV 3/3] END classifier__C=0.1, classifier__gamma=1, classifier__kernel=rbf;, score=0.186 total time=  33.4s\n",
      "[CV 1/3] END classifier__C=0.1, classifier__gamma=0.1, classifier__kernel=rbf;, score=0.877 total time=  24.0s\n",
      "[CV 2/3] END classifier__C=0.1, classifier__gamma=0.1, classifier__kernel=rbf;, score=0.903 total time=  23.9s\n",
      "[CV 3/3] END classifier__C=0.1, classifier__gamma=0.1, classifier__kernel=rbf;, score=0.895 total time=  28.0s\n",
      "[CV 1/3] END classifier__C=0.1, classifier__gamma=0.01, classifier__kernel=rbf;, score=0.960 total time=  14.1s\n",
      "[CV 2/3] END classifier__C=0.1, classifier__gamma=0.01, classifier__kernel=rbf;, score=0.961 total time=  13.7s\n",
      "[CV 3/3] END classifier__C=0.1, classifier__gamma=0.01, classifier__kernel=rbf;, score=0.941 total time=  13.3s\n",
      "[CV 1/3] END classifier__C=0.1, classifier__gamma=0.001, classifier__kernel=rbf;, score=0.644 total time=  25.2s\n",
      "[CV 2/3] END classifier__C=0.1, classifier__gamma=0.001, classifier__kernel=rbf;, score=0.649 total time=  24.9s\n",
      "[CV 3/3] END classifier__C=0.1, classifier__gamma=0.001, classifier__kernel=rbf;, score=0.642 total time=  25.6s\n",
      "[CV 1/3] END classifier__C=0.1, classifier__gamma=0.0001, classifier__kernel=rbf;, score=0.261 total time=  33.7s\n",
      "[CV 2/3] END classifier__C=0.1, classifier__gamma=0.0001, classifier__kernel=rbf;, score=0.270 total time=  36.0s\n",
      "[CV 3/3] END classifier__C=0.1, classifier__gamma=0.0001, classifier__kernel=rbf;, score=0.258 total time=  34.3s\n",
      "[CV 1/3] END classifier__C=1, classifier__gamma=1, classifier__kernel=rbf;, score=0.238 total time=  36.2s\n",
      "[CV 2/3] END classifier__C=1, classifier__gamma=1, classifier__kernel=rbf;, score=0.214 total time=  35.6s\n",
      "[CV 3/3] END classifier__C=1, classifier__gamma=1, classifier__kernel=rbf;, score=0.219 total time=  35.6s\n",
      "[CV 1/3] END classifier__C=1, classifier__gamma=0.1, classifier__kernel=rbf;, score=0.981 total time=  20.8s\n",
      "[CV 2/3] END classifier__C=1, classifier__gamma=0.1, classifier__kernel=rbf;, score=0.974 total time=  20.8s\n",
      "[CV 3/3] END classifier__C=1, classifier__gamma=0.1, classifier__kernel=rbf;, score=0.973 total time=  20.4s\n",
      "[CV 1/3] END classifier__C=1, classifier__gamma=0.01, classifier__kernel=rbf;, score=0.986 total time=   5.7s\n",
      "[CV 2/3] END classifier__C=1, classifier__gamma=0.01, classifier__kernel=rbf;, score=0.975 total time=   5.8s\n",
      "[CV 3/3] END classifier__C=1, classifier__gamma=0.01, classifier__kernel=rbf;, score=0.973 total time=   5.8s\n",
      "[CV 1/3] END classifier__C=1, classifier__gamma=0.001, classifier__kernel=rbf;, score=0.960 total time=  10.0s\n",
      "[CV 2/3] END classifier__C=1, classifier__gamma=0.001, classifier__kernel=rbf;, score=0.962 total time=   9.9s\n",
      "[CV 3/3] END classifier__C=1, classifier__gamma=0.001, classifier__kernel=rbf;, score=0.944 total time=   9.6s\n",
      "[CV 1/3] END classifier__C=1, classifier__gamma=0.0001, classifier__kernel=rbf;, score=0.646 total time=  24.5s\n",
      "[CV 2/3] END classifier__C=1, classifier__gamma=0.0001, classifier__kernel=rbf;, score=0.648 total time=  24.5s\n",
      "[CV 3/3] END classifier__C=1, classifier__gamma=0.0001, classifier__kernel=rbf;, score=0.646 total time=  24.1s\n",
      "[CV 1/3] END classifier__C=10, classifier__gamma=1, classifier__kernel=rbf;, score=0.289 total time=  34.5s\n",
      "[CV 2/3] END classifier__C=10, classifier__gamma=1, classifier__kernel=rbf;, score=0.245 total time=  34.7s\n",
      "[CV 3/3] END classifier__C=10, classifier__gamma=1, classifier__kernel=rbf;, score=0.267 total time=  34.4s\n",
      "[CV 1/3] END classifier__C=10, classifier__gamma=0.1, classifier__kernel=rbf;, score=0.981 total time=  20.3s\n",
      "[CV 2/3] END classifier__C=10, classifier__gamma=0.1, classifier__kernel=rbf;, score=0.975 total time=  20.5s\n",
      "[CV 3/3] END classifier__C=10, classifier__gamma=0.1, classifier__kernel=rbf;, score=0.974 total time=  19.9s\n",
      "[CV 1/3] END classifier__C=10, classifier__gamma=0.01, classifier__kernel=rbf;, score=0.990 total time=   5.1s\n",
      "[CV 2/3] END classifier__C=10, classifier__gamma=0.01, classifier__kernel=rbf;, score=0.990 total time=   4.9s\n",
      "[CV 3/3] END classifier__C=10, classifier__gamma=0.01, classifier__kernel=rbf;, score=0.984 total time=   4.9s\n",
      "[CV 1/3] END classifier__C=10, classifier__gamma=0.001, classifier__kernel=rbf;, score=0.987 total time=   4.1s\n",
      "[CV 2/3] END classifier__C=10, classifier__gamma=0.001, classifier__kernel=rbf;, score=0.977 total time=   3.8s\n",
      "[CV 3/3] END classifier__C=10, classifier__gamma=0.001, classifier__kernel=rbf;, score=0.974 total time=   3.6s\n",
      "[CV 1/3] END classifier__C=10, classifier__gamma=0.0001, classifier__kernel=rbf;, score=0.960 total time=   8.9s\n",
      "[CV 2/3] END classifier__C=10, classifier__gamma=0.0001, classifier__kernel=rbf;, score=0.962 total time=   9.0s\n",
      "[CV 3/3] END classifier__C=10, classifier__gamma=0.0001, classifier__kernel=rbf;, score=0.944 total time=   8.7s\n",
      "[CV 1/3] END classifier__C=100, classifier__gamma=1, classifier__kernel=rbf;, score=0.289 total time=  34.8s\n",
      "[CV 2/3] END classifier__C=100, classifier__gamma=1, classifier__kernel=rbf;, score=0.245 total time=  36.8s\n",
      "[CV 3/3] END classifier__C=100, classifier__gamma=1, classifier__kernel=rbf;, score=0.267 total time=  35.9s\n",
      "[CV 1/3] END classifier__C=100, classifier__gamma=0.1, classifier__kernel=rbf;, score=0.981 total time=  20.8s\n",
      "[CV 2/3] END classifier__C=100, classifier__gamma=0.1, classifier__kernel=rbf;, score=0.975 total time=  21.5s\n",
      "[CV 3/3] END classifier__C=100, classifier__gamma=0.1, classifier__kernel=rbf;, score=0.974 total time=  20.5s\n",
      "[CV 1/3] END classifier__C=100, classifier__gamma=0.01, classifier__kernel=rbf;, score=0.990 total time=   5.2s\n",
      "[CV 2/3] END classifier__C=100, classifier__gamma=0.01, classifier__kernel=rbf;, score=0.990 total time=   4.8s\n",
      "[CV 3/3] END classifier__C=100, classifier__gamma=0.01, classifier__kernel=rbf;, score=0.984 total time=   5.1s\n",
      "[CV 1/3] END classifier__C=100, classifier__gamma=0.001, classifier__kernel=rbf;, score=0.993 total time=   3.6s\n",
      "[CV 2/3] END classifier__C=100, classifier__gamma=0.001, classifier__kernel=rbf;, score=0.986 total time=   3.4s\n",
      "[CV 3/3] END classifier__C=100, classifier__gamma=0.001, classifier__kernel=rbf;, score=0.984 total time=   3.4s\n",
      "[CV 1/3] END classifier__C=100, classifier__gamma=0.0001, classifier__kernel=rbf;, score=0.987 total time=   3.8s\n",
      "[CV 2/3] END classifier__C=100, classifier__gamma=0.0001, classifier__kernel=rbf;, score=0.978 total time=   3.6s\n",
      "[CV 3/3] END classifier__C=100, classifier__gamma=0.0001, classifier__kernel=rbf;, score=0.974 total time=   3.8s\n",
      "[CV 1/3] END classifier__C=1000, classifier__gamma=1, classifier__kernel=rbf;, score=0.289 total time=  35.2s\n",
      "[CV 2/3] END classifier__C=1000, classifier__gamma=1, classifier__kernel=rbf;, score=0.245 total time=  34.5s\n",
      "[CV 3/3] END classifier__C=1000, classifier__gamma=1, classifier__kernel=rbf;, score=0.267 total time=  34.5s\n",
      "[CV 1/3] END classifier__C=1000, classifier__gamma=0.1, classifier__kernel=rbf;, score=0.981 total time=  20.2s\n",
      "[CV 2/3] END classifier__C=1000, classifier__gamma=0.1, classifier__kernel=rbf;, score=0.975 total time=  20.5s\n",
      "[CV 3/3] END classifier__C=1000, classifier__gamma=0.1, classifier__kernel=rbf;, score=0.974 total time=  20.0s\n",
      "[CV 1/3] END classifier__C=1000, classifier__gamma=0.01, classifier__kernel=rbf;, score=0.990 total time=   5.2s\n",
      "[CV 2/3] END classifier__C=1000, classifier__gamma=0.01, classifier__kernel=rbf;, score=0.990 total time=   5.0s\n",
      "[CV 3/3] END classifier__C=1000, classifier__gamma=0.01, classifier__kernel=rbf;, score=0.984 total time=   4.8s\n",
      "[CV 1/3] END classifier__C=1000, classifier__gamma=0.001, classifier__kernel=rbf;, score=0.993 total time=   4.0s\n",
      "[CV 2/3] END classifier__C=1000, classifier__gamma=0.001, classifier__kernel=rbf;, score=0.983 total time=   3.6s\n",
      "[CV 3/3] END classifier__C=1000, classifier__gamma=0.001, classifier__kernel=rbf;, score=0.983 total time=   3.5s\n",
      "[CV 1/3] END classifier__C=1000, classifier__gamma=0.0001, classifier__kernel=rbf;, score=0.993 total time=   3.6s\n",
      "[CV 2/3] END classifier__C=1000, classifier__gamma=0.0001, classifier__kernel=rbf;, score=0.986 total time=   3.4s\n",
      "[CV 3/3] END classifier__C=1000, classifier__gamma=0.0001, classifier__kernel=rbf;, score=0.984 total time=   3.3s\n",
      "Best parameters: {'classifier__C': 10, 'classifier__gamma': 0.01, 'classifier__kernel': 'rbf'}\n",
      "Cross-validation score: 0.987974987974988\n"
     ]
    }
   ],
   "source": [
    "# troviamo il modello migliore\n",
    "grid_search.fit(X_train_ML, y_train)\n",
    "\n",
    "cv_score = grid_search.best_score_\n",
    "best_params = grid_search.best_params_\n",
    "\n",
    "print(f'Best parameters: {best_params}')\n",
    "print(f'Cross-validation score: {cv_score}')\n"
   ]
  },
  {
   "attachments": {},
   "cell_type": "markdown",
   "metadata": {},
   "source": [
    "Passiamo in seguito alla fase di test e prediciamo le classi di abitabilità sui campioni X_test."
   ]
  },
  {
   "cell_type": "code",
   "execution_count": 42,
   "metadata": {},
   "outputs": [],
   "source": [
    "# effetuamo la predizione sul set di test\n",
    "y_test_predict = grid_search.predict(X_test_ML)"
   ]
  },
  {
   "cell_type": "code",
   "execution_count": 43,
   "metadata": {},
   "outputs": [],
   "source": [
    "y_test_predict_prob=grid_search.predict_proba(X_test_ML)"
   ]
  },
  {
   "cell_type": "code",
   "execution_count": 44,
   "metadata": {},
   "outputs": [
    {
     "name": "stdout",
     "output_type": "stream",
     "text": [
      "accuracy: 0.9826923076923076\n",
      "precision: 0.9839426523297491\n",
      "recall: 0.98250589616569\n",
      "f1: 0.9830119080797531\n"
     ]
    },
    {
     "data": {
      "text/plain": [
       "[]"
      ]
     },
     "execution_count": 44,
     "metadata": {},
     "output_type": "execute_result"
    },
    {
     "data": {
      "image/png": "[encoded data removed]",
      "text/plain": [
       "<Figure size 432x288 with 2 Axes>"
      ]
     },
     "metadata": {
      "needs_background": "light"
     },
     "output_type": "display_data"
    }
   ],
   "source": [
    "# calcoliamo le metriche di valutazione\n",
    "accuracy = accuracy_score(y_test, y_test_predict)\n",
    "precision = precision_score(y_test, y_test_predict, average='macro')\n",
    "recall = recall_score(y_test, y_test_predict, average='macro')\n",
    "f1 = f1_score(y_test, y_test_predict, average='macro')\n",
    "\n",
    "ConfusionMatrixDisplay.from_predictions(y_test, \n",
    "                                        y_test_predict, \n",
    "                                        cmap=plt.cm.Blues)\n",
    "\n",
    "print(f'accuracy: {accuracy}')\n",
    "print(f'precision: {precision}')\n",
    "print(f'recall: {recall}')\n",
    "print(f'f1: {f1}')\n",
    "\n",
    "\n",
    "plt.plot()"
   ]
  },
  {
   "cell_type": "code",
   "execution_count": 45,
   "metadata": {},
   "outputs": [],
   "source": [
    "scoring_list = []\n",
    "scoring_list.append(dict([\n",
    "    ('Model', 'SVM'),\n",
    "    ('Test Accuracy', round(accuracy, 3)),\n",
    "    ('Precision', round(precision, 3)),\n",
    "    ('Recall', round(recall, 3)),\n",
    "    ('F1', round(f1, 3))]))"
   ]
  },
  {
   "cell_type": "code",
   "execution_count": 46,
   "metadata": {},
   "outputs": [],
   "source": [
    "import pickle"
   ]
  },
  {
   "cell_type": "code",
   "execution_count": 47,
   "metadata": {},
   "outputs": [],
   "source": [
    "model_svm = grid_search.best_estimator_\n",
    "filename = \"my_model_svm.pickle\"\n",
    "\n",
    "# save model\n",
    "pickle.dump(model_svm, open(filename, \"wb\"))\n",
    "\n",
    "\n"
   ]
  },
  {
   "attachments": {},
   "cell_type": "markdown",
   "metadata": {},
   "source": [
    "##### **Classificazione con Random Forest**"
   ]
  },
  {
   "cell_type": "code",
   "execution_count": null,
   "metadata": {},
   "outputs": [],
   "source": [
    "pipeline = imbpipeline(steps = [['classifier', RandomForestClassifier(max_depth=None, random_state=None)]]) #decidete se mettere q"
   ]
  },
  {
   "cell_type": "code",
   "execution_count": null,
   "metadata": {},
   "outputs": [],
   "source": [
    "stratified_kfold = StratifiedKFold(n_splits=3,\n",
    "                                       shuffle=True,\n",
    "                                       random_state=12)"
   ]
  },
  {
   "cell_type": "code",
   "execution_count": null,
   "metadata": {},
   "outputs": [],
   "source": [
    "# in param_grid sono definiti gli iperparametri\n",
    "param_grid = {\n",
    "                'n_estimators': [50, 100, 200],\n",
    "                'max_depth': [4, 6, 10, 12],\n",
    "                }\n",
    "\n",
    "new_params = {'classifier__' + key: param_grid[key] for key in param_grid}\n",
    "\n",
    "grid_search = GridSearchCV(estimator=pipeline,\n",
    "                           param_grid=new_params,\n",
    "                           scoring='accuracy',\n",
    "                           cv=stratified_kfold,\n",
    "                           verbose = 5,\n",
    "                           n_jobs=-1) # utilizzerà tutti i processori disponibili"
   ]
  },
  {
   "cell_type": "code",
   "execution_count": null,
   "metadata": {},
   "outputs": [
    {
     "name": "stdout",
     "output_type": "stream",
     "text": [
      "Fitting 3 folds for each of 12 candidates, totalling 36 fits\n",
      "Best parameters: {'classifier__max_depth': 12, 'classifier__n_estimators': 100}\n",
      "Cross-validation score: 0.9855699855699855\n"
     ]
    }
   ],
   "source": [
    "# troviamo il modello migliore\n",
    "grid_search.fit(X_train_ML, y_train)\n",
    "\n",
    "cv_score = grid_search.best_score_\n",
    "best_params = grid_search.best_params_\n",
    "\n",
    "print(f'Best parameters: {best_params}')\n",
    "print(f'Cross-validation score: {cv_score}')\n"
   ]
  },
  {
   "cell_type": "code",
   "execution_count": null,
   "metadata": {},
   "outputs": [],
   "source": [
    "# effetuamo la predizione sul set di test\n",
    "y_test_predict = grid_search.predict(X_test_ML)"
   ]
  },
  {
   "cell_type": "code",
   "execution_count": null,
   "metadata": {},
   "outputs": [
    {
     "name": "stdout",
     "output_type": "stream",
     "text": [
      "accuracy: 0.9788461538461538\n",
      "precision: 0.9809351806829779\n",
      "recall: 0.9782930084896376\n",
      "f1: 0.9792064633651226\n"
     ]
    },
    {
     "data": {
      "text/plain": [
       "[]"
      ]
     },
     "execution_count": 50,
     "metadata": {},
     "output_type": "execute_result"
    },
    {
     "data": {
      "image/png": "[encoded data removed]",
      "text/plain": [
       "<Figure size 432x288 with 2 Axes>"
      ]
     },
     "metadata": {
      "needs_background": "light"
     },
     "output_type": "display_data"
    }
   ],
   "source": [
    "# calcoliamo le metriche di valutazione\n",
    "accuracy = accuracy_score(y_test, y_test_predict)\n",
    "precision = precision_score(y_test, y_test_predict, average='macro')\n",
    "recall = recall_score(y_test, y_test_predict, average='macro')\n",
    "f1 = f1_score(y_test, y_test_predict, average='macro')\n",
    "\n",
    "ConfusionMatrixDisplay.from_predictions(y_test, \n",
    "                                        y_test_predict, \n",
    "                                        cmap=plt.cm.Blues)\n",
    "\n",
    "print(f'accuracy: {accuracy}')\n",
    "print(f'precision: {precision}')\n",
    "print(f'recall: {recall}')\n",
    "print(f'f1: {f1}')\n",
    "\n",
    "\n",
    "plt.plot()"
   ]
  },
  {
   "cell_type": "code",
   "execution_count": null,
   "metadata": {},
   "outputs": [],
   "source": [
    "scoring_list.append(dict([\n",
    "    ('Model', 'Random Forest'),\n",
    "    ('Test Accuracy', round(accuracy, 3)),\n",
    "    ('Precision', round(precision, 3)),\n",
    "    ('Recall', round(recall, 3)),\n",
    "    ('F1', round(f1, 3))\n",
    "     ]))"
   ]
  },
  {
   "attachments": {},
   "cell_type": "markdown",
   "metadata": {},
   "source": [
    "#### **Classificazione con modelli di DL**"
   ]
  },
  {
   "attachments": {},
   "cell_type": "markdown",
   "metadata": {},
   "source": [
    "Come già anticipato keras nel caso si tratti di feautures target, lavora con la codifica One-Hot, pertanto modifichiamo le noste target features."
   ]
  },
  {
   "cell_type": "code",
   "execution_count": null,
   "metadata": {},
   "outputs": [],
   "source": [
    "y_test_DL = to_categorical(y_test).astype(int)\n",
    "y_train_DL= to_categorical(y_train).astype(int)"
   ]
  },
  {
   "cell_type": "code",
   "execution_count": null,
   "metadata": {},
   "outputs": [
    {
     "name": "stdout",
     "output_type": "stream",
     "text": [
      "(520, 6)\n",
      "(2079, 6)\n"
     ]
    }
   ],
   "source": [
    "print(y_test_DL.shape)\n",
    "print(y_train_DL.shape)"
   ]
  },
  {
   "cell_type": "code",
   "execution_count": null,
   "metadata": {},
   "outputs": [
    {
     "name": "stdout",
     "output_type": "stream",
     "text": [
      "[[0 0 0 0 0 1]\n",
      " [0 0 1 0 0 0]\n",
      " [0 1 0 0 0 0]\n",
      " ...\n",
      " [0 1 0 0 0 0]\n",
      " [0 1 0 0 0 0]\n",
      " [0 0 0 1 0 0]]\n"
     ]
    }
   ],
   "source": [
    "print(y_train_DL)"
   ]
  },
  {
   "attachments": {},
   "cell_type": "markdown",
   "metadata": {},
   "source": [
    "##### **Classificazione con Simple RNN**"
   ]
  },
  {
   "cell_type": "code",
   "execution_count": null,
   "metadata": {},
   "outputs": [],
   "source": [
    "log_dir =os.path.join(\"../notebook/\",'Logs_RNN')\n",
    "tb_callback = TensorBoard(log_dir = log_dir)"
   ]
  },
  {
   "cell_type": "code",
   "execution_count": null,
   "metadata": {},
   "outputs": [],
   "source": [
    "#definiamo l'architettura del modello\n",
    "model_Rnn= Sequential()\n",
    "\n",
    "model_Rnn.add(SimpleRNN(64, return_sequences=True, activation='relu', input_shape=(45,51)))\n",
    "model_Rnn.add(SimpleRNN(128, return_sequences=True, activation='relu'))\n",
    "model_Rnn.add(SimpleRNN(64, return_sequences=False, activation='relu'))\n",
    "model_Rnn.add(Dense(64, activation='relu'))\n",
    "model_Rnn.add(Dense(32, activation='relu'))\n",
    "model_Rnn.add(Dense(actions.shape[0], activation='softmax'))"
   ]
  },
  {
   "cell_type": "code",
   "execution_count": null,
   "metadata": {},
   "outputs": [],
   "source": [
    "model_Rnn.compile(optimizer ='Adam', \n",
    "              loss='categorical_crossentropy',\n",
    "              metrics=['categorical_accuracy'])"
   ]
  },
  {
   "cell_type": "code",
   "execution_count": null,
   "metadata": {},
   "outputs": [
    {
     "name": "stdout",
     "output_type": "stream",
     "text": [
      "Epoch 1/50\n",
      "65/65 [==============================] - 8s 34ms/step - loss: 1.0447 - categorical_accuracy: 0.5695\n",
      "Epoch 2/50\n",
      "65/65 [==============================] - 2s 34ms/step - loss: 0.4867 - categorical_accuracy: 0.8283\n",
      "Epoch 3/50\n",
      "65/65 [==============================] - 2s 32ms/step - loss: 0.2497 - categorical_accuracy: 0.9206\n",
      "Epoch 4/50\n",
      "65/65 [==============================] - 2s 33ms/step - loss: 0.2144 - categorical_accuracy: 0.9351\n",
      "Epoch 5/50\n",
      "65/65 [==============================] - 2s 33ms/step - loss: 0.2420 - categorical_accuracy: 0.9250\n",
      "Epoch 6/50\n",
      "65/65 [==============================] - 2s 33ms/step - loss: 0.1519 - categorical_accuracy: 0.9601\n",
      "Epoch 7/50\n",
      "65/65 [==============================] - 2s 37ms/step - loss: 0.1780 - categorical_accuracy: 0.9476\n",
      "Epoch 8/50\n",
      "65/65 [==============================] - 2s 34ms/step - loss: 0.1615 - categorical_accuracy: 0.9509\n",
      "Epoch 9/50\n",
      "65/65 [==============================] - 3s 41ms/step - loss: 0.1846 - categorical_accuracy: 0.9481\n",
      "Epoch 10/50\n",
      "65/65 [==============================] - 2s 36ms/step - loss: 0.1154 - categorical_accuracy: 0.9697\n",
      "Epoch 11/50\n",
      "65/65 [==============================] - 3s 40ms/step - loss: 0.1551 - categorical_accuracy: 0.9543\n",
      "Epoch 12/50\n",
      "65/65 [==============================] - 3s 40ms/step - loss: 0.1739 - categorical_accuracy: 0.9538\n",
      "Epoch 13/50\n",
      "65/65 [==============================] - 3s 47ms/step - loss: 0.1136 - categorical_accuracy: 0.9673\n",
      "Epoch 14/50\n",
      "65/65 [==============================] - 3s 46ms/step - loss: 0.4544 - categorical_accuracy: 0.8466\n",
      "Epoch 15/50\n",
      "65/65 [==============================] - 3s 47ms/step - loss: 0.2945 - categorical_accuracy: 0.9062\n",
      "Epoch 16/50\n",
      "65/65 [==============================] - 2s 36ms/step - loss: 0.1714 - categorical_accuracy: 0.9476\n",
      "Epoch 17/50\n",
      "65/65 [==============================] - 2s 35ms/step - loss: 0.1386 - categorical_accuracy: 0.9606\n",
      "Epoch 18/50\n",
      "65/65 [==============================] - 2s 38ms/step - loss: 0.1265 - categorical_accuracy: 0.9606\n",
      "Epoch 19/50\n",
      "65/65 [==============================] - 2s 35ms/step - loss: 0.0945 - categorical_accuracy: 0.9745\n",
      "Epoch 20/50\n",
      "65/65 [==============================] - 2s 35ms/step - loss: 0.0926 - categorical_accuracy: 0.9769\n",
      "Epoch 21/50\n",
      "65/65 [==============================] - 2s 34ms/step - loss: 0.1192 - categorical_accuracy: 0.9663\n",
      "Epoch 22/50\n",
      "65/65 [==============================] - 2s 35ms/step - loss: 0.0949 - categorical_accuracy: 0.9721\n",
      "Epoch 23/50\n",
      "65/65 [==============================] - 2s 37ms/step - loss: 0.0870 - categorical_accuracy: 0.9755\n",
      "Epoch 24/50\n",
      "65/65 [==============================] - 3s 41ms/step - loss: 0.0955 - categorical_accuracy: 0.9692\n",
      "Epoch 25/50\n",
      "65/65 [==============================] - 2s 35ms/step - loss: 0.1498 - categorical_accuracy: 0.9553\n",
      "Epoch 26/50\n",
      "65/65 [==============================] - 2s 37ms/step - loss: 0.1490 - categorical_accuracy: 0.9591\n",
      "Epoch 27/50\n",
      "65/65 [==============================] - 2s 34ms/step - loss: 0.0693 - categorical_accuracy: 0.9808\n",
      "Epoch 28/50\n",
      "65/65 [==============================] - 2s 35ms/step - loss: 7.7249 - categorical_accuracy: 0.6777\n",
      "Epoch 29/50\n",
      "65/65 [==============================] - 2s 34ms/step - loss: 0.7225 - categorical_accuracy: 0.6830\n",
      "Epoch 30/50\n",
      "65/65 [==============================] - 2s 34ms/step - loss: 0.5375 - categorical_accuracy: 0.7417\n",
      "Epoch 31/50\n",
      "65/65 [==============================] - 2s 34ms/step - loss: 0.4197 - categorical_accuracy: 0.8163\n",
      "Epoch 32/50\n",
      "65/65 [==============================] - 2s 34ms/step - loss: 0.4156 - categorical_accuracy: 0.8278\n",
      "Epoch 33/50\n",
      "65/65 [==============================] - 2s 36ms/step - loss: 0.3628 - categorical_accuracy: 0.8644\n",
      "Epoch 34/50\n",
      "65/65 [==============================] - 2s 34ms/step - loss: 0.4073 - categorical_accuracy: 0.8533\n",
      "Epoch 35/50\n",
      "65/65 [==============================] - 2s 35ms/step - loss: 0.2691 - categorical_accuracy: 0.9206\n",
      "Epoch 36/50\n",
      "65/65 [==============================] - 2s 35ms/step - loss: 0.2230 - categorical_accuracy: 0.9355\n",
      "Epoch 37/50\n",
      "65/65 [==============================] - 3s 39ms/step - loss: 0.1983 - categorical_accuracy: 0.9447\n",
      "Epoch 38/50\n",
      "65/65 [==============================] - 2s 36ms/step - loss: 0.1613 - categorical_accuracy: 0.9538\n",
      "Epoch 39/50\n",
      "65/65 [==============================] - 2s 34ms/step - loss: 0.1554 - categorical_accuracy: 0.9557\n",
      "Epoch 40/50\n",
      "65/65 [==============================] - 2s 34ms/step - loss: 0.1418 - categorical_accuracy: 0.9639\n",
      "Epoch 41/50\n",
      "65/65 [==============================] - 2s 34ms/step - loss: 0.1359 - categorical_accuracy: 0.9639\n",
      "Epoch 42/50\n",
      "65/65 [==============================] - 2s 33ms/step - loss: 0.1114 - categorical_accuracy: 0.9702\n",
      "Epoch 43/50\n",
      "65/65 [==============================] - 2s 34ms/step - loss: 0.1306 - categorical_accuracy: 0.9625\n",
      "Epoch 44/50\n",
      "65/65 [==============================] - 2s 33ms/step - loss: 0.1268 - categorical_accuracy: 0.9625\n",
      "Epoch 45/50\n",
      "65/65 [==============================] - 2s 34ms/step - loss: 0.0956 - categorical_accuracy: 0.9750\n",
      "Epoch 46/50\n",
      "65/65 [==============================] - 2s 34ms/step - loss: 0.1102 - categorical_accuracy: 0.9707\n",
      "Epoch 47/50\n",
      "65/65 [==============================] - 2s 35ms/step - loss: 0.1205 - categorical_accuracy: 0.9658\n",
      "Epoch 48/50\n",
      "65/65 [==============================] - 2s 34ms/step - loss: 0.1800 - categorical_accuracy: 0.9500\n",
      "Epoch 49/50\n",
      "65/65 [==============================] - 2s 33ms/step - loss: 0.0912 - categorical_accuracy: 0.9755\n",
      "Epoch 50/50\n",
      "65/65 [==============================] - 2s 38ms/step - loss: 0.0983 - categorical_accuracy: 0.9707\n"
     ]
    }
   ],
   "source": [
    "rnn_h=model_Rnn.fit(X_train, y_train_DL, epochs=50, callbacks =[tb_callback])"
   ]
  },
  {
   "cell_type": "code",
   "execution_count": null,
   "metadata": {},
   "outputs": [
    {
     "name": "stdout",
     "output_type": "stream",
     "text": [
      "Model: \"sequential\"\n",
      "_________________________________________________________________\n",
      " Layer (type)                Output Shape              Param #   \n",
      "=================================================================\n",
      " simple_rnn (SimpleRNN)      (None, 45, 64)            7424      \n",
      "                                                                 \n",
      " simple_rnn_1 (SimpleRNN)    (None, 45, 128)           24704     \n",
      "                                                                 \n",
      " simple_rnn_2 (SimpleRNN)    (None, 64)                12352     \n",
      "                                                                 \n",
      " dense (Dense)               (None, 64)                4160      \n",
      "                                                                 \n",
      " dense_1 (Dense)             (None, 32)                2080      \n",
      "                                                                 \n",
      " dense_2 (Dense)             (None, 6)                 198       \n",
      "                                                                 \n",
      "=================================================================\n",
      "Total params: 50,918\n",
      "Trainable params: 50,918\n",
      "Non-trainable params: 0\n",
      "_________________________________________________________________\n"
     ]
    }
   ],
   "source": [
    "model_Rnn.summary()"
   ]
  },
  {
   "cell_type": "code",
   "execution_count": null,
   "metadata": {},
   "outputs": [
    {
     "name": "stdout",
     "output_type": "stream",
     "text": [
      "17/17 [==============================] - 1s 13ms/step\n"
     ]
    }
   ],
   "source": [
    "y_test_predict = model_Rnn.predict(X_test)"
   ]
  },
  {
   "cell_type": "code",
   "execution_count": null,
   "metadata": {},
   "outputs": [
    {
     "name": "stdout",
     "output_type": "stream",
     "text": [
      "accuracy: 0.9596153846153846\n",
      "accuracy: 0.9596153846153846\n",
      "precision: 0.96342504883462\n",
      "recall: 0.9566489222388098\n",
      "f1: 0.9586039392372435\n"
     ]
    },
    {
     "data": {
      "image/png": "[encoded data removed]",
      "text/plain": [
       "<Figure size 432x288 with 2 Axes>"
      ]
     },
     "metadata": {
      "needs_background": "light"
     },
     "output_type": "display_data"
    }
   ],
   "source": [
    "accuracy = accuracy_score(actions[np.argmax(y_test_DL,axis =1).tolist()],\n",
    "                          actions[np.argmax(y_test_predict, axis=1).tolist()])\n",
    "\n",
    "precision = precision_score(actions[np.argmax(y_test_DL,axis =1).tolist()],\n",
    "                            actions[np.argmax(y_test_predict, axis=1).tolist()],\n",
    "                            average='macro')\n",
    "\n",
    "recall = recall_score(actions[np.argmax(y_test_DL,axis =1).tolist()],\n",
    "                      actions[np.argmax(y_test_predict, axis=1).tolist()],\n",
    "                      average='macro')\n",
    "\n",
    "f1 = f1_score(actions[np.argmax(y_test_DL,axis =1).tolist()],\n",
    "              actions[np.argmax(y_test_predict, axis=1).tolist()],\n",
    "              average='macro')\n",
    "\n",
    "\n",
    "ConfusionMatrixDisplay.from_predictions(actions[np.argmax(y_test_DL,axis =1).tolist()], \n",
    "                                        actions[np.argmax(y_test_predict, axis=1).tolist()], \n",
    "                                        cmap=plt.cm.Blues)\n",
    "\n",
    "print(f'accuracy: {accuracy}')\n",
    "print(f'accuracy: {accuracy}')\n",
    "print(f'precision: {precision}')\n",
    "print(f'recall: {recall}')\n",
    "print(f'f1: {f1}')"
   ]
  },
  {
   "cell_type": "code",
   "execution_count": null,
   "metadata": {},
   "outputs": [],
   "source": [
    "scoring_list.append(dict([\n",
    "    ('Model', 'RNN'),\n",
    "    ('Test Accuracy', round(accuracy, 3)),\n",
    "    ('Precision', round(precision, 3)),\n",
    "    ('Recall', round(recall, 3)),\n",
    "    ('F1', round(f1, 3))\n",
    "     ]))"
   ]
  },
  {
   "cell_type": "code",
   "execution_count": null,
   "metadata": {},
   "outputs": [
    {
     "name": "stderr",
     "output_type": "stream",
     "text": [
      "WARNING:absl:Found untraced functions such as _update_step_xla while saving (showing 1 of 1). These functions will not be directly callable after loading.\n"
     ]
    },
    {
     "name": "stdout",
     "output_type": "stream",
     "text": [
      "INFO:tensorflow:Assets written to: ../notebook/model_RNN/assets\n"
     ]
    },
    {
     "name": "stderr",
     "output_type": "stream",
     "text": [
      "INFO:tensorflow:Assets written to: ../notebook/model_RNN/assets\n"
     ]
    }
   ],
   "source": [
    "model_Rnn.save('../notebook/model_RNN/')"
   ]
  },
  {
   "attachments": {},
   "cell_type": "markdown",
   "metadata": {},
   "source": [
    "##### **Classificazione con LSTM**"
   ]
  },
  {
   "cell_type": "code",
   "execution_count": null,
   "metadata": {},
   "outputs": [],
   "source": [
    "log_dir_lst =os.path.join(\"../notebook/\",'Logs_LSTM')\n",
    "tb_callback = TensorBoard(log_dir = log_dir_lst)"
   ]
  },
  {
   "cell_type": "code",
   "execution_count": null,
   "metadata": {},
   "outputs": [],
   "source": [
    "model_lstm= Sequential()\n",
    "\n",
    "model_lstm.add(LSTM(64, return_sequences=True, activation='relu', input_shape=(45,51)))\n",
    "model_lstm.add(LSTM(128, return_sequences=True, activation='relu'))\n",
    "model_lstm.add(LSTM(64, return_sequences=False, activation='relu'))\n",
    "model_lstm.add(Dense(64, activation='relu'))\n",
    "model_lstm.add(Dense(32, activation='relu'))\n",
    "model_lstm.add(Dense(actions.shape[0], activation='softmax'))"
   ]
  },
  {
   "cell_type": "code",
   "execution_count": null,
   "metadata": {},
   "outputs": [],
   "source": [
    "model_lstm.compile(optimizer ='Adam', \n",
    "              loss='categorical_crossentropy',\n",
    "              metrics=['categorical_accuracy'])"
   ]
  },
  {
   "cell_type": "code",
   "execution_count": null,
   "metadata": {},
   "outputs": [
    {
     "name": "stdout",
     "output_type": "stream",
     "text": [
      "Epoch 1/50\n",
      "65/65 [==============================] - 13s 100ms/step - loss: 1.9610 - categorical_accuracy: 0.4026\n",
      "Epoch 2/50\n",
      "65/65 [==============================] - 7s 105ms/step - loss: 1.1603 - categorical_accuracy: 0.6061\n",
      "Epoch 3/50\n",
      "65/65 [==============================] - 7s 106ms/step - loss: 39.4526 - categorical_accuracy: 0.7335\n",
      "Epoch 4/50\n",
      "65/65 [==============================] - 7s 105ms/step - loss: 207.9376 - categorical_accuracy: 0.1972\n",
      "Epoch 5/50\n",
      "65/65 [==============================] - 7s 102ms/step - loss: 1.6542 - categorical_accuracy: 0.3348\n",
      "Epoch 6/50\n",
      "65/65 [==============================] - 7s 103ms/step - loss: 1.7636 - categorical_accuracy: 0.4796\n",
      "Epoch 7/50\n",
      "65/65 [==============================] - 7s 111ms/step - loss: 1.1320 - categorical_accuracy: 0.6219\n",
      "Epoch 8/50\n",
      "65/65 [==============================] - 7s 102ms/step - loss: 0.5464 - categorical_accuracy: 0.8413\n",
      "Epoch 9/50\n",
      "65/65 [==============================] - 7s 102ms/step - loss: 0.4394 - categorical_accuracy: 0.8692\n",
      "Epoch 10/50\n",
      "65/65 [==============================] - 7s 104ms/step - loss: 0.3261 - categorical_accuracy: 0.8918\n",
      "Epoch 11/50\n",
      "65/65 [==============================] - 7s 108ms/step - loss: 0.3313 - categorical_accuracy: 0.8951\n",
      "Epoch 12/50\n",
      "65/65 [==============================] - 7s 109ms/step - loss: 0.2885 - categorical_accuracy: 0.9028\n",
      "Epoch 13/50\n",
      "65/65 [==============================] - 7s 105ms/step - loss: 0.2432 - categorical_accuracy: 0.9221\n",
      "Epoch 14/50\n",
      "65/65 [==============================] - 7s 105ms/step - loss: 0.2116 - categorical_accuracy: 0.9404\n",
      "Epoch 15/50\n",
      "65/65 [==============================] - 8s 116ms/step - loss: 0.2015 - categorical_accuracy: 0.9399\n",
      "Epoch 16/50\n",
      "65/65 [==============================] - 7s 115ms/step - loss: 0.1945 - categorical_accuracy: 0.9408\n",
      "Epoch 17/50\n",
      "65/65 [==============================] - 7s 110ms/step - loss: 0.2303 - categorical_accuracy: 0.9245\n",
      "Epoch 18/50\n",
      "65/65 [==============================] - 7s 109ms/step - loss: 0.1789 - categorical_accuracy: 0.9500\n",
      "Epoch 19/50\n",
      "65/65 [==============================] - 7s 108ms/step - loss: 0.1906 - categorical_accuracy: 0.9481\n",
      "Epoch 20/50\n",
      "65/65 [==============================] - 8s 120ms/step - loss: 0.1641 - categorical_accuracy: 0.9524\n",
      "Epoch 21/50\n",
      "65/65 [==============================] - 7s 112ms/step - loss: 0.1714 - categorical_accuracy: 0.9485\n",
      "Epoch 22/50\n",
      "65/65 [==============================] - 7s 111ms/step - loss: 0.1531 - categorical_accuracy: 0.9596\n",
      "Epoch 23/50\n",
      "65/65 [==============================] - 7s 110ms/step - loss: 0.1793 - categorical_accuracy: 0.9413\n",
      "Epoch 24/50\n",
      "65/65 [==============================] - 9s 131ms/step - loss: 0.1462 - categorical_accuracy: 0.9577\n",
      "Epoch 25/50\n",
      "65/65 [==============================] - 7s 112ms/step - loss: 0.1702 - categorical_accuracy: 0.9476\n",
      "Epoch 26/50\n",
      "65/65 [==============================] - 7s 109ms/step - loss: 0.1534 - categorical_accuracy: 0.9529\n",
      "Epoch 27/50\n",
      "65/65 [==============================] - 8s 116ms/step - loss: 0.1572 - categorical_accuracy: 0.9548\n",
      "Epoch 28/50\n",
      "65/65 [==============================] - 8s 122ms/step - loss: 0.1368 - categorical_accuracy: 0.9615\n",
      "Epoch 29/50\n",
      "65/65 [==============================] - 7s 111ms/step - loss: 0.1898 - categorical_accuracy: 0.9452\n",
      "Epoch 30/50\n",
      "65/65 [==============================] - 7s 110ms/step - loss: 0.1424 - categorical_accuracy: 0.9557\n",
      "Epoch 31/50\n",
      "65/65 [==============================] - 7s 110ms/step - loss: 0.1346 - categorical_accuracy: 0.9625\n",
      "Epoch 32/50\n",
      "65/65 [==============================] - 7s 111ms/step - loss: 0.1559 - categorical_accuracy: 0.9524\n",
      "Epoch 33/50\n",
      "65/65 [==============================] - 7s 110ms/step - loss: 0.1492 - categorical_accuracy: 0.9562\n",
      "Epoch 34/50\n",
      "65/65 [==============================] - 7s 111ms/step - loss: 0.1743 - categorical_accuracy: 0.9471\n",
      "Epoch 35/50\n",
      "65/65 [==============================] - 8s 120ms/step - loss: 0.1620 - categorical_accuracy: 0.9495\n",
      "Epoch 36/50\n",
      "65/65 [==============================] - 9s 140ms/step - loss: 0.1273 - categorical_accuracy: 0.9673\n",
      "Epoch 37/50\n",
      "65/65 [==============================] - 8s 126ms/step - loss: 0.1308 - categorical_accuracy: 0.9596\n",
      "Epoch 38/50\n",
      "65/65 [==============================] - 9s 134ms/step - loss: 0.3572 - categorical_accuracy: 0.8947\n",
      "Epoch 39/50\n",
      "65/65 [==============================] - 9s 138ms/step - loss: 0.1695 - categorical_accuracy: 0.9495\n",
      "Epoch 40/50\n",
      "65/65 [==============================] - 8s 117ms/step - loss: 0.1328 - categorical_accuracy: 0.9586\n",
      "Epoch 41/50\n",
      "65/65 [==============================] - 9s 142ms/step - loss: 0.1133 - categorical_accuracy: 0.9702\n",
      "Epoch 42/50\n",
      "65/65 [==============================] - 9s 145ms/step - loss: 0.1352 - categorical_accuracy: 0.9630\n",
      "Epoch 43/50\n",
      "65/65 [==============================] - 9s 141ms/step - loss: 0.1263 - categorical_accuracy: 0.9644\n",
      "Epoch 44/50\n",
      "65/65 [==============================] - 9s 135ms/step - loss: 0.1483 - categorical_accuracy: 0.9596\n",
      "Epoch 45/50\n",
      "65/65 [==============================] - 9s 136ms/step - loss: 0.1333 - categorical_accuracy: 0.9606\n",
      "Epoch 46/50\n",
      "65/65 [==============================] - 10s 146ms/step - loss: 0.1109 - categorical_accuracy: 0.9668\n",
      "Epoch 47/50\n",
      "65/65 [==============================] - 9s 136ms/step - loss: 0.1189 - categorical_accuracy: 0.9620\n",
      "Epoch 48/50\n",
      "65/65 [==============================] - 8s 127ms/step - loss: 0.1199 - categorical_accuracy: 0.9634\n",
      "Epoch 49/50\n",
      "65/65 [==============================] - 9s 140ms/step - loss: 0.1175 - categorical_accuracy: 0.9658\n",
      "Epoch 50/50\n",
      "65/65 [==============================] - 9s 141ms/step - loss: 0.1171 - categorical_accuracy: 0.9663\n"
     ]
    }
   ],
   "source": [
    "lstm_h=model_lstm.fit(X_train, y_train_DL, epochs=50, callbacks =[tb_callback])"
   ]
  },
  {
   "cell_type": "code",
   "execution_count": null,
   "metadata": {},
   "outputs": [
    {
     "name": "stdout",
     "output_type": "stream",
     "text": [
      "Model: \"sequential_1\"\n",
      "_________________________________________________________________\n",
      " Layer (type)                Output Shape              Param #   \n",
      "=================================================================\n",
      " lstm (LSTM)                 (None, 45, 64)            29696     \n",
      "                                                                 \n",
      " lstm_1 (LSTM)               (None, 45, 128)           98816     \n",
      "                                                                 \n",
      " lstm_2 (LSTM)               (None, 64)                49408     \n",
      "                                                                 \n",
      " dense_3 (Dense)             (None, 64)                4160      \n",
      "                                                                 \n",
      " dense_4 (Dense)             (None, 32)                2080      \n",
      "                                                                 \n",
      " dense_5 (Dense)             (None, 6)                 198       \n",
      "                                                                 \n",
      "=================================================================\n",
      "Total params: 184,358\n",
      "Trainable params: 184,358\n",
      "Non-trainable params: 0\n",
      "_________________________________________________________________\n"
     ]
    }
   ],
   "source": [
    "model_lstm.summary()"
   ]
  },
  {
   "cell_type": "code",
   "execution_count": null,
   "metadata": {},
   "outputs": [
    {
     "name": "stdout",
     "output_type": "stream",
     "text": [
      "17/17 [==============================] - 2s 47ms/step\n"
     ]
    }
   ],
   "source": [
    "y_test_predict = model_lstm.predict(X_test)"
   ]
  },
  {
   "cell_type": "code",
   "execution_count": null,
   "metadata": {},
   "outputs": [
    {
     "name": "stdout",
     "output_type": "stream",
     "text": [
      "accuracy: 0.9538461538461539\n",
      "accuracy: 0.9538461538461539\n",
      "precision: 0.9567968673965136\n",
      "recall: 0.9528346466910698\n",
      "f1: 0.9536375894472574\n"
     ]
    },
    {
     "data": {
      "image/png": "[encoded data removed]",
      "text/plain": [
       "<Figure size 432x288 with 2 Axes>"
      ]
     },
     "metadata": {
      "needs_background": "light"
     },
     "output_type": "display_data"
    }
   ],
   "source": [
    "accuracy = accuracy_score(actions[np.argmax(y_test_DL,axis =1).tolist()],\n",
    "                          actions[np.argmax(y_test_predict, axis=1).tolist()])\n",
    "\n",
    "precision = precision_score(actions[np.argmax(y_test_DL,axis =1).tolist()],\n",
    "                            actions[np.argmax(y_test_predict, axis=1).tolist()],\n",
    "                            average='macro')\n",
    "\n",
    "recall = recall_score(actions[np.argmax(y_test_DL,axis =1).tolist()],\n",
    "                      actions[np.argmax(y_test_predict, axis=1).tolist()],\n",
    "                      average='macro')\n",
    "\n",
    "f1 = f1_score(actions[np.argmax(y_test_DL,axis =1).tolist()],\n",
    "              actions[np.argmax(y_test_predict, axis=1).tolist()],\n",
    "              average='macro')\n",
    "\n",
    "\n",
    "ConfusionMatrixDisplay.from_predictions(actions[np.argmax(y_test_DL,axis =1).tolist()], \n",
    "                                        actions[np.argmax(y_test_predict, axis=1).tolist()], \n",
    "                                        cmap=plt.cm.Blues)\n",
    "\n",
    "print(f'accuracy: {accuracy}')\n",
    "print(f'accuracy: {accuracy}')\n",
    "print(f'precision: {precision}')\n",
    "print(f'recall: {recall}')\n",
    "print(f'f1: {f1}')"
   ]
  },
  {
   "cell_type": "code",
   "execution_count": null,
   "metadata": {},
   "outputs": [],
   "source": [
    "scoring_list.append(dict([\n",
    "    ('Model', 'LSTM'),\n",
    "    ('Test Accuracy', round(accuracy, 3)),\n",
    "    ('Precision', round(precision, 3)),\n",
    "    ('Recall', round(recall, 3)),\n",
    "    ('F1', round(f1, 3))\n",
    "     ]))"
   ]
  },
  {
   "cell_type": "code",
   "execution_count": null,
   "metadata": {},
   "outputs": [
    {
     "name": "stderr",
     "output_type": "stream",
     "text": [
      "WARNING:absl:Found untraced functions such as _update_step_xla while saving (showing 1 of 1). These functions will not be directly callable after loading.\n"
     ]
    },
    {
     "name": "stdout",
     "output_type": "stream",
     "text": [
      "INFO:tensorflow:Assets written to: ../notebook/model_LSTM/assets\n"
     ]
    },
    {
     "name": "stderr",
     "output_type": "stream",
     "text": [
      "INFO:tensorflow:Assets written to: ../notebook/model_LSTM/assets\n"
     ]
    }
   ],
   "source": [
    "model_lstm.save('../notebook/model_LSTM/')"
   ]
  },
  {
   "attachments": {},
   "cell_type": "markdown",
   "metadata": {},
   "source": [
    "##### **Classificazione con GRU**"
   ]
  },
  {
   "cell_type": "code",
   "execution_count": null,
   "metadata": {},
   "outputs": [],
   "source": [
    "log_dir =os.path.join(\"../notebook/\",'Logs_GRU')\n",
    "tb_callback = TensorBoard(log_dir = log_dir)"
   ]
  },
  {
   "cell_type": "code",
   "execution_count": null,
   "metadata": {},
   "outputs": [],
   "source": [
    "model_gru= Sequential()\n",
    "\n",
    "model_gru.add(GRU(64, return_sequences=True, activation='relu', input_shape=(45,51)))\n",
    "model_gru.add(GRU(128, return_sequences=True, activation='relu'))\n",
    "model_gru.add(GRU(64, return_sequences=False, activation='relu'))\n",
    "model_gru.add(Dense(64, activation='relu'))\n",
    "model_gru.add(Dense(32, activation='relu'))\n",
    "model_gru.add(Dense(actions.shape[0], activation='softmax'))\n"
   ]
  },
  {
   "cell_type": "code",
   "execution_count": null,
   "metadata": {},
   "outputs": [],
   "source": [
    "model_gru.compile(optimizer ='Adam', \n",
    "              loss='categorical_crossentropy',\n",
    "              metrics=['categorical_accuracy'])"
   ]
  },
  {
   "cell_type": "code",
   "execution_count": null,
   "metadata": {},
   "outputs": [
    {
     "name": "stdout",
     "output_type": "stream",
     "text": [
      "Model: \"sequential_2\"\n",
      "_________________________________________________________________\n",
      " Layer (type)                Output Shape              Param #   \n",
      "=================================================================\n",
      " gru (GRU)                   (None, 45, 64)            22464     \n",
      "                                                                 \n",
      " gru_1 (GRU)                 (None, 45, 128)           74496     \n",
      "                                                                 \n",
      " gru_2 (GRU)                 (None, 64)                37248     \n",
      "                                                                 \n",
      " dense_6 (Dense)             (None, 64)                4160      \n",
      "                                                                 \n",
      " dense_7 (Dense)             (None, 32)                2080      \n",
      "                                                                 \n",
      " dense_8 (Dense)             (None, 6)                 198       \n",
      "                                                                 \n",
      "=================================================================\n",
      "Total params: 140,646\n",
      "Trainable params: 140,646\n",
      "Non-trainable params: 0\n",
      "_________________________________________________________________\n"
     ]
    }
   ],
   "source": [
    "model_gru.summary()"
   ]
  },
  {
   "cell_type": "code",
   "execution_count": null,
   "metadata": {},
   "outputs": [
    {
     "name": "stdout",
     "output_type": "stream",
     "text": [
      "Epoch 1/50\n",
      "65/65 [==============================] - 13s 90ms/step - loss: 1.1387 - categorical_accuracy: 0.5556\n",
      "Epoch 2/50\n",
      "65/65 [==============================] - 6s 93ms/step - loss: 0.5095 - categorical_accuracy: 0.7773\n",
      "Epoch 3/50\n",
      "65/65 [==============================] - 7s 102ms/step - loss: 0.3876 - categorical_accuracy: 0.8307\n",
      "Epoch 4/50\n",
      "65/65 [==============================] - 6s 100ms/step - loss: 0.2707 - categorical_accuracy: 0.9125\n",
      "Epoch 5/50\n",
      "65/65 [==============================] - 7s 109ms/step - loss: 0.1841 - categorical_accuracy: 0.9447\n",
      "Epoch 6/50\n",
      "65/65 [==============================] - 6s 99ms/step - loss: 0.2033 - categorical_accuracy: 0.9317\n",
      "Epoch 7/50\n",
      "65/65 [==============================] - 6s 98ms/step - loss: 0.1588 - categorical_accuracy: 0.9543\n",
      "Epoch 8/50\n",
      "65/65 [==============================] - 6s 99ms/step - loss: 0.1141 - categorical_accuracy: 0.9692\n",
      "Epoch 9/50\n",
      "65/65 [==============================] - 7s 102ms/step - loss: 0.2115 - categorical_accuracy: 0.9351\n",
      "Epoch 10/50\n",
      "65/65 [==============================] - 7s 109ms/step - loss: 0.1355 - categorical_accuracy: 0.9620\n",
      "Epoch 11/50\n",
      "65/65 [==============================] - 7s 106ms/step - loss: 0.1152 - categorical_accuracy: 0.9678\n",
      "Epoch 12/50\n",
      "65/65 [==============================] - 7s 101ms/step - loss: 0.1619 - categorical_accuracy: 0.9423\n",
      "Epoch 13/50\n",
      "65/65 [==============================] - 7s 107ms/step - loss: 0.0978 - categorical_accuracy: 0.9745\n",
      "Epoch 14/50\n",
      "65/65 [==============================] - 7s 110ms/step - loss: 0.1047 - categorical_accuracy: 0.9716\n",
      "Epoch 15/50\n",
      "65/65 [==============================] - 7s 104ms/step - loss: 0.1232 - categorical_accuracy: 0.9639\n",
      "Epoch 16/50\n",
      "65/65 [==============================] - 7s 104ms/step - loss: 0.0934 - categorical_accuracy: 0.9735\n",
      "Epoch 17/50\n",
      "65/65 [==============================] - 7s 103ms/step - loss: 0.0971 - categorical_accuracy: 0.9716\n",
      "Epoch 18/50\n",
      "65/65 [==============================] - 7s 112ms/step - loss: 0.1038 - categorical_accuracy: 0.9673\n",
      "Epoch 19/50\n",
      "65/65 [==============================] - 7s 107ms/step - loss: 0.1076 - categorical_accuracy: 0.9707\n",
      "Epoch 20/50\n",
      "65/65 [==============================] - 7s 104ms/step - loss: 0.0839 - categorical_accuracy: 0.9798\n",
      "Epoch 21/50\n",
      "65/65 [==============================] - 7s 113ms/step - loss: 0.1633 - categorical_accuracy: 0.9413\n",
      "Epoch 22/50\n",
      "65/65 [==============================] - 7s 115ms/step - loss: 0.0854 - categorical_accuracy: 0.9774\n",
      "Epoch 23/50\n",
      "65/65 [==============================] - 7s 108ms/step - loss: 0.0832 - categorical_accuracy: 0.9784\n",
      "Epoch 24/50\n",
      "65/65 [==============================] - 7s 106ms/step - loss: 0.0844 - categorical_accuracy: 0.9755\n",
      "Epoch 25/50\n",
      "65/65 [==============================] - 7s 107ms/step - loss: 0.0869 - categorical_accuracy: 0.9735\n",
      "Epoch 26/50\n",
      "65/65 [==============================] - 7s 108ms/step - loss: 0.0714 - categorical_accuracy: 0.9788\n",
      "Epoch 27/50\n",
      "65/65 [==============================] - 8s 119ms/step - loss: 0.0774 - categorical_accuracy: 0.9774\n",
      "Epoch 28/50\n",
      "65/65 [==============================] - 7s 104ms/step - loss: 0.0799 - categorical_accuracy: 0.9793\n",
      "Epoch 29/50\n",
      "65/65 [==============================] - 7s 105ms/step - loss: 0.1070 - categorical_accuracy: 0.9668\n",
      "Epoch 30/50\n",
      "65/65 [==============================] - 7s 115ms/step - loss: 0.1545 - categorical_accuracy: 0.9557\n",
      "Epoch 31/50\n",
      "65/65 [==============================] - 7s 114ms/step - loss: 0.0989 - categorical_accuracy: 0.9683\n",
      "Epoch 32/50\n",
      "65/65 [==============================] - 7s 106ms/step - loss: 0.0792 - categorical_accuracy: 0.9774\n",
      "Epoch 33/50\n",
      "65/65 [==============================] - 7s 109ms/step - loss: 0.0665 - categorical_accuracy: 0.9808\n",
      "Epoch 34/50\n",
      "65/65 [==============================] - 7s 102ms/step - loss: 0.0717 - categorical_accuracy: 0.9779\n",
      "Epoch 35/50\n",
      "65/65 [==============================] - 7s 109ms/step - loss: 0.0618 - categorical_accuracy: 0.9827\n",
      "Epoch 36/50\n",
      "65/65 [==============================] - 7s 102ms/step - loss: 0.0609 - categorical_accuracy: 0.9846\n",
      "Epoch 37/50\n",
      "65/65 [==============================] - 6s 100ms/step - loss: 0.0595 - categorical_accuracy: 0.9841\n",
      "Epoch 38/50\n",
      "65/65 [==============================] - 7s 103ms/step - loss: 0.1139 - categorical_accuracy: 0.9639\n",
      "Epoch 39/50\n",
      "65/65 [==============================] - 7s 104ms/step - loss: 0.0745 - categorical_accuracy: 0.9760\n",
      "Epoch 40/50\n",
      "65/65 [==============================] - 7s 113ms/step - loss: 0.0660 - categorical_accuracy: 0.9827\n",
      "Epoch 41/50\n",
      "65/65 [==============================] - 9s 133ms/step - loss: 0.0544 - categorical_accuracy: 0.9856\n",
      "Epoch 42/50\n",
      "65/65 [==============================] - 8s 115ms/step - loss: 0.0558 - categorical_accuracy: 0.9846\n",
      "Epoch 43/50\n",
      "65/65 [==============================] - 7s 104ms/step - loss: 0.0498 - categorical_accuracy: 0.9870\n",
      "Epoch 44/50\n",
      "65/65 [==============================] - 7s 107ms/step - loss: 0.0500 - categorical_accuracy: 0.9865\n",
      "Epoch 45/50\n",
      "65/65 [==============================] - 7s 103ms/step - loss: 0.0562 - categorical_accuracy: 0.9817\n",
      "Epoch 46/50\n",
      "65/65 [==============================] - 7s 107ms/step - loss: 0.0680 - categorical_accuracy: 0.9760\n",
      "Epoch 47/50\n",
      "65/65 [==============================] - 7s 106ms/step - loss: 0.0474 - categorical_accuracy: 0.9865\n",
      "Epoch 48/50\n",
      "65/65 [==============================] - 7s 113ms/step - loss: 0.0515 - categorical_accuracy: 0.9880\n",
      "Epoch 49/50\n",
      "65/65 [==============================] - 7s 108ms/step - loss: 0.0506 - categorical_accuracy: 0.9851\n",
      "Epoch 50/50\n",
      "65/65 [==============================] - 7s 106ms/step - loss: 0.0464 - categorical_accuracy: 0.9870\n"
     ]
    }
   ],
   "source": [
    "gru_h=model_gru.fit(X_train, y_train_DL, epochs=50, callbacks =[tb_callback])"
   ]
  },
  {
   "cell_type": "code",
   "execution_count": null,
   "metadata": {},
   "outputs": [
    {
     "name": "stdout",
     "output_type": "stream",
     "text": [
      "17/17 [==============================] - 1s 28ms/step\n"
     ]
    }
   ],
   "source": [
    "y_test_predict = model_gru.predict(X_test)"
   ]
  },
  {
   "cell_type": "code",
   "execution_count": null,
   "metadata": {},
   "outputs": [
    {
     "name": "stdout",
     "output_type": "stream",
     "text": [
      "accuracy: 0.9711538461538461\n",
      "accuracy: 0.9711538461538461\n",
      "precision: 0.9719481862223797\n",
      "recall: 0.9720634519154733\n",
      "f1: 0.9716922627502504\n"
     ]
    },
    {
     "data": {
      "image/png": "[encoded data removed]",
      "text/plain": [
       "<Figure size 432x288 with 2 Axes>"
      ]
     },
     "metadata": {
      "needs_background": "light"
     },
     "output_type": "display_data"
    }
   ],
   "source": [
    "accuracy = accuracy_score(actions[np.argmax(y_test_DL,axis =1).tolist()],\n",
    "                          actions[np.argmax(y_test_predict, axis=1).tolist()])\n",
    "\n",
    "precision = precision_score(actions[np.argmax(y_test_DL,axis =1).tolist()],\n",
    "                            actions[np.argmax(y_test_predict, axis=1).tolist()],\n",
    "                            average='macro')\n",
    "\n",
    "recall = recall_score(actions[np.argmax(y_test_DL,axis =1).tolist()],\n",
    "                      actions[np.argmax(y_test_predict, axis=1).tolist()],\n",
    "                      average='macro')\n",
    "\n",
    "f1 = f1_score(actions[np.argmax(y_test_DL,axis =1).tolist()],\n",
    "              actions[np.argmax(y_test_predict, axis=1).tolist()],\n",
    "              average='macro')\n",
    "\n",
    "\n",
    "ConfusionMatrixDisplay.from_predictions(actions[np.argmax(y_test_DL,axis =1).tolist()], \n",
    "                                        actions[np.argmax(y_test_predict, axis=1).tolist()], \n",
    "                                        cmap=plt.cm.Blues)\n",
    "\n",
    "print(f'accuracy: {accuracy}')\n",
    "print(f'accuracy: {accuracy}')\n",
    "print(f'precision: {precision}')\n",
    "print(f'recall: {recall}')\n",
    "print(f'f1: {f1}')"
   ]
  },
  {
   "cell_type": "code",
   "execution_count": null,
   "metadata": {},
   "outputs": [],
   "source": [
    "scoring_list.append(dict([\n",
    "    ('Model', 'GRU'),\n",
    "    ('Test Accuracy', round(accuracy, 3)),\n",
    "    ('Precision', round(precision, 3)),\n",
    "    ('Recall', round(recall, 3)),\n",
    "    ('F1', round(f1, 3))\n",
    "     ]))"
   ]
  },
  {
   "cell_type": "code",
   "execution_count": null,
   "metadata": {},
   "outputs": [
    {
     "name": "stderr",
     "output_type": "stream",
     "text": [
      "WARNING:absl:Found untraced functions such as _update_step_xla while saving (showing 1 of 1). These functions will not be directly callable after loading.\n"
     ]
    },
    {
     "name": "stdout",
     "output_type": "stream",
     "text": [
      "INFO:tensorflow:Assets written to: ../notebook/model_GRU/assets\n"
     ]
    },
    {
     "name": "stderr",
     "output_type": "stream",
     "text": [
      "INFO:tensorflow:Assets written to: ../notebook/model_GRU/assets\n"
     ]
    }
   ],
   "source": [
    "model_gru.save('../notebook/model_GRU/')"
   ]
  },
  {
   "attachments": {},
   "cell_type": "markdown",
   "metadata": {},
   "source": [
    "### **Confronto Riassiuntivo**"
   ]
  },
  {
   "attachments": {},
   "cell_type": "markdown",
   "metadata": {},
   "source": [
    "Confrontiamo ora i vari modelli di reti neurali ricorrenti"
   ]
  },
  {
   "cell_type": "code",
   "execution_count": null,
   "metadata": {},
   "outputs": [
    {
     "data": {
      "image/png": "[encoded data removed]",
      "text/plain": [
       "<Figure size 432x288 with 1 Axes>"
      ]
     },
     "metadata": {
      "needs_background": "light"
     },
     "output_type": "display_data"
    },
    {
     "data": {
      "text/plain": [
       "<Figure size 1440x864 with 0 Axes>"
      ]
     },
     "metadata": {},
     "output_type": "display_data"
    }
   ],
   "source": [
    "#grafico del Loss\n",
    "f, ax = plt.subplots()\n",
    "plt.figure(figsize=(20,12))\n",
    "ax.set_title('MSE / Epoche')\n",
    "ax.plot(rnn_h.history['loss'], color='orange')\n",
    "ax.plot(lstm_h.history['loss'], color = 'red')\n",
    "ax.plot(gru_h.history['loss'], color = 'brown')\n",
    "ax.legend(['RNN', 'LSTM', 'GRU'], loc = 0)\n",
    "plt.show()"
   ]
  },
  {
   "cell_type": "code",
   "execution_count": null,
   "metadata": {},
   "outputs": [
    {
     "data": {
      "image/png": "[encoded data removed]",
      "text/plain": [
       "<Figure size 432x288 with 1 Axes>"
      ]
     },
     "metadata": {
      "needs_background": "light"
     },
     "output_type": "display_data"
    },
    {
     "data": {
      "text/plain": [
       "<Figure size 1440x864 with 0 Axes>"
      ]
     },
     "metadata": {},
     "output_type": "display_data"
    }
   ],
   "source": [
    "#grafico dell'accuratezza\n",
    "f, ax = plt.subplots()\n",
    "plt.figure(figsize=(20,12))\n",
    "ax.set_title('MSE / Epoche')\n",
    "ax.plot(rnn_h.history['categorical_accuracy'], color='orange')\n",
    "ax.plot(lstm_h.history['categorical_accuracy'], color = 'red')\n",
    "ax.plot(gru_h.history['categorical_accuracy'], color = 'brown')\n",
    "ax.legend(['RNN', 'LSTM', 'GRU'], loc = 0)\n",
    "plt.show()"
   ]
  },
  {
   "attachments": {},
   "cell_type": "markdown",
   "metadata": {},
   "source": [
    "Ora confrontiamo i vari modelli secondo le metriche usate"
   ]
  },
  {
   "cell_type": "code",
   "execution_count": null,
   "metadata": {},
   "outputs": [
    {
     "data": {
      "text/html": [
       "<div>\n",
       "<style scoped>\n",
       "    .dataframe tbody tr th:only-of-type {\n",
       "        vertical-align: middle;\n",
       "    }\n",
       "\n",
       "    .dataframe tbody tr th {\n",
       "        vertical-align: top;\n",
       "    }\n",
       "\n",
       "    .dataframe thead th {\n",
       "        text-align: right;\n",
       "    }\n",
       "</style>\n",
       "<table border=\"1\" class=\"dataframe\">\n",
       "  <thead>\n",
       "    <tr style=\"text-align: right;\">\n",
       "      <th></th>\n",
       "      <th>Model</th>\n",
       "      <th>Test Accuracy</th>\n",
       "      <th>Precision</th>\n",
       "      <th>Recall</th>\n",
       "      <th>F1</th>\n",
       "    </tr>\n",
       "  </thead>\n",
       "  <tbody>\n",
       "    <tr>\n",
       "      <th>0</th>\n",
       "      <td>SVM</td>\n",
       "      <td>0.983</td>\n",
       "      <td>0.984</td>\n",
       "      <td>0.983</td>\n",
       "      <td>0.983</td>\n",
       "    </tr>\n",
       "    <tr>\n",
       "      <th>1</th>\n",
       "      <td>Random Forest</td>\n",
       "      <td>0.979</td>\n",
       "      <td>0.981</td>\n",
       "      <td>0.978</td>\n",
       "      <td>0.979</td>\n",
       "    </tr>\n",
       "    <tr>\n",
       "      <th>4</th>\n",
       "      <td>GRU</td>\n",
       "      <td>0.971</td>\n",
       "      <td>0.972</td>\n",
       "      <td>0.972</td>\n",
       "      <td>0.972</td>\n",
       "    </tr>\n",
       "    <tr>\n",
       "      <th>2</th>\n",
       "      <td>RNN</td>\n",
       "      <td>0.960</td>\n",
       "      <td>0.963</td>\n",
       "      <td>0.957</td>\n",
       "      <td>0.959</td>\n",
       "    </tr>\n",
       "    <tr>\n",
       "      <th>3</th>\n",
       "      <td>LSTM</td>\n",
       "      <td>0.954</td>\n",
       "      <td>0.957</td>\n",
       "      <td>0.953</td>\n",
       "      <td>0.954</td>\n",
       "    </tr>\n",
       "  </tbody>\n",
       "</table>\n",
       "</div>"
      ],
      "text/plain": [
       "           Model  Test Accuracy  Precision  Recall     F1\n",
       "0            SVM          0.983      0.984   0.983  0.983\n",
       "1  Random Forest          0.979      0.981   0.978  0.979\n",
       "4            GRU          0.971      0.972   0.972  0.972\n",
       "2            RNN          0.960      0.963   0.957  0.959\n",
       "3           LSTM          0.954      0.957   0.953  0.954"
      ]
     },
     "execution_count": 83,
     "metadata": {},
     "output_type": "execute_result"
    }
   ],
   "source": [
    "results = pd.DataFrame(data=scoring_list)\n",
    "results = results[['Model',\n",
    "                   'Test Accuracy',\n",
    "                   'Precision',\n",
    "                   'Recall',\n",
    "                   'F1']]\n",
    "\n",
    "results = results.sort_values(by='Recall', ascending=False)\n",
    "\n",
    "results"
   ]
  },
  {
   "cell_type": "code",
   "execution_count": null,
   "metadata": {},
   "outputs": [
    {
     "data": {
      "image/png": "[encoded data removed]",
      "text/plain": [
       "<Figure size 432x288 with 1 Axes>"
      ]
     },
     "metadata": {},
     "output_type": "display_data"
    }
   ],
   "source": [
    "with sns.axes_style(\"darkgrid\"):\n",
    "    sns.barplot(data = results,\n",
    "                x=results['Model'],\n",
    "                y=results['Precision'],\n",
    "                palette = 'inferno').set(title = \"Confronto Classificatori - Precision\")"
   ]
  },
  {
   "cell_type": "code",
   "execution_count": null,
   "metadata": {},
   "outputs": [
    {
     "data": {
      "image/png": "[encoded data removed]",
      "text/plain": [
       "<Figure size 432x288 with 1 Axes>"
      ]
     },
     "metadata": {},
     "output_type": "display_data"
    }
   ],
   "source": [
    "with sns.axes_style(\"darkgrid\"):\n",
    "    sns.barplot(data = results,\n",
    "                x=results['Model'],\n",
    "                y=results['Recall'],\n",
    "                palette = 'inferno').set(title = \"Confronto Classificatori - Recall\")"
   ]
  },
  {
   "cell_type": "code",
   "execution_count": null,
   "metadata": {},
   "outputs": [
    {
     "data": {
      "image/png": "[encoded data removed]",
      "text/plain": [
       "<Figure size 432x288 with 1 Axes>"
      ]
     },
     "metadata": {},
     "output_type": "display_data"
    }
   ],
   "source": [
    "with sns.axes_style(\"darkgrid\"):\n",
    "    sns.barplot(data = results,\n",
    "                x=results['Model'],\n",
    "                y=results['F1'],\n",
    "                palette = 'inferno').set(title = \"Confronto Classificatori - F1\")"
   ]
  },
  {
   "attachments": {},
   "cell_type": "markdown",
   "metadata": {},
   "source": [
    "### **Conclusioni e Osservazioni**"
   ]
  },
  {
   "attachments": {},
   "cell_type": "markdown",
   "metadata": {},
   "source": [
    "Come si può notare tutti i modelli, a partire da quelli più semplici, fino ad arrivare a quelli deep hanno prodotto dei risultati fin troppo ottimi, pertanto potremmo essere andati incontro al fenmeno dell'ovevrfitting.Per valutare quindi in maniera più corretta la situazione proviamo ad addestrate e trainare i modelli utilizzando la tecnica del **Leave one person Out**.\n"
   ]
  },
  {
   "attachments": {},
   "cell_type": "markdown",
   "metadata": {},
   "source": [
    "Per fare questo dovrò prima ottenere gli indici sui quali dividere la x e la Y, in modo tale da lasciare ogni volta una sola persona fuori.Per fare questo sfrutto il vettore group_sequences creato durante la creazione del dataset."
   ]
  },
  {
   "cell_type": "code",
   "execution_count": null,
   "metadata": {},
   "outputs": [],
   "source": [
    "people_index=[]\n",
    "flag=[]\n",
    "for value in range(0,np.max(group_sequences)+1):\n",
    "    person=[]\n",
    "    i=0\n",
    "    while i < len(group_sequences):\n",
    "        if group_sequences[i] == value:\n",
    "            person.append(i)\n",
    "        else:\n",
    "            flag.append(i)\n",
    "        i=i+1\n",
    "    people_index.append(person)\n",
    "    #i=flag[-1]#in modo tale che non riparta dall'inizio ma dal primo valore diverso trovato\n",
    "    \n",
    "    "
   ]
  },
  {
   "attachments": {},
   "cell_type": "markdown",
   "metadata": {},
   "source": [
    "Proviamo a creare i nostri x, y train e x,y test considerno come set di test la fold che contiene solamente i video apparteneti alla persona a cui è stata associata l'identificativo 0"
   ]
  },
  {
   "cell_type": "code",
   "execution_count": null,
   "metadata": {},
   "outputs": [],
   "source": [
    "new_y_test = np.array([sample for sample in y[people_index[0]]])\n",
    "new_X_test = np.array([sample for sample in X[people_index[0]]])"
   ]
  },
  {
   "attachments": {},
   "cell_type": "markdown",
   "metadata": {},
   "source": [
    "Troviamo gli indici delle altre persone che andranno a comporre il set di training"
   ]
  },
  {
   "cell_type": "code",
   "execution_count": null,
   "metadata": {},
   "outputs": [],
   "source": [
    "reamainig_people = [index for tupl in people_index[1:] for index in tupl]"
   ]
  },
  {
   "cell_type": "code",
   "execution_count": null,
   "metadata": {},
   "outputs": [],
   "source": [
    "new_y_train = np.array([sample for sample in y[reamainig_people]])\n",
    "new_X_train = np.array([sample for sample in X[reamainig_people]])"
   ]
  },
  {
   "attachments": {},
   "cell_type": "markdown",
   "metadata": {},
   "source": [
    "Possiamo osservare che il risultato otenuto è corretto in quanto i valori delle shape sono complementari : \n",
    "*164 + 2435 = 2599*"
   ]
  },
  {
   "cell_type": "code",
   "execution_count": null,
   "metadata": {},
   "outputs": [
    {
     "name": "stdout",
     "output_type": "stream",
     "text": [
      "(164, 45, 51)\n",
      "(2435, 45, 51)\n",
      "(164,)\n",
      "(2435,)\n"
     ]
    }
   ],
   "source": [
    "print(new_X_test.shape)\n",
    "print(new_X_train.shape)\n",
    "print(new_y_test.shape)\n",
    "print(new_y_train.shape)"
   ]
  },
  {
   "attachments": {},
   "cell_type": "markdown",
   "metadata": {},
   "source": [
    "Ripeto lo stesso passaggio effettuato precedentemente per poter usare i modelli 'semplici' e quelli deep."
   ]
  },
  {
   "cell_type": "code",
   "execution_count": null,
   "metadata": {},
   "outputs": [],
   "source": [
    "new_X_train_ML = new_X_train.reshape(2435,(45*51))\n",
    "new_X_test_ML = new_X_test.reshape(164,(45*51))"
   ]
  },
  {
   "cell_type": "code",
   "execution_count": null,
   "metadata": {},
   "outputs": [
    {
     "name": "stdout",
     "output_type": "stream",
     "text": [
      "(2435, 2295)\n",
      "(164, 2295)\n",
      "(2435,)\n",
      "(164,)\n"
     ]
    }
   ],
   "source": [
    "print(new_X_train_ML.shape)\n",
    "print(new_X_test_ML.shape)\n",
    "print(new_y_train.shape)\n",
    "print(new_y_test.shape)\n"
   ]
  },
  {
   "cell_type": "code",
   "execution_count": null,
   "metadata": {},
   "outputs": [],
   "source": [
    "new_y_test_DL = to_categorical(new_y_test).astype(int)\n",
    "new_y_train_DL= to_categorical(new_y_train).astype(int)"
   ]
  },
  {
   "cell_type": "code",
   "execution_count": null,
   "metadata": {},
   "outputs": [
    {
     "name": "stdout",
     "output_type": "stream",
     "text": [
      "(164, 6)\n",
      "(2435, 6)\n"
     ]
    }
   ],
   "source": [
    "print(new_y_test_DL.shape)\n",
    "print(new_y_train_DL.shape)"
   ]
  },
  {
   "attachments": {},
   "cell_type": "markdown",
   "metadata": {},
   "source": [
    "##### **SVM**"
   ]
  },
  {
   "attachments": {},
   "cell_type": "markdown",
   "metadata": {},
   "source": [
    "Per addestrae SVM utilizzo come iper-parametri i parametri indivuati nella fasse precedente di validation\n",
    "**classifier__C': 10, 'classifier__gamma': 0.01, 'classifier__kernel': 'rbf'}**"
   ]
  },
  {
   "cell_type": "code",
   "execution_count": null,
   "metadata": {},
   "outputs": [],
   "source": [
    "model_svm = SVC(C= 10, gamma = 0.01, kernel = 'rbf')"
   ]
  },
  {
   "cell_type": "code",
   "execution_count": null,
   "metadata": {},
   "outputs": [],
   "source": [
    "model_svm.fit(new_X_train_ML, new_y_train)\n",
    "y_test_predict = model_svm.predict(new_X_test_ML)"
   ]
  },
  {
   "cell_type": "code",
   "execution_count": null,
   "metadata": {},
   "outputs": [
    {
     "name": "stdout",
     "output_type": "stream",
     "text": [
      "accuracy: 0.9817073170731707\n",
      "precision: 0.9827160493827161\n",
      "recall: 0.9852801519468186\n",
      "f1: 0.9836940691447649\n"
     ]
    },
    {
     "data": {
      "text/plain": [
       "[]"
      ]
     },
     "execution_count": 98,
     "metadata": {},
     "output_type": "execute_result"
    },
    {
     "data": {
      "image/png": "[encoded data removed]",
      "text/plain": [
       "<Figure size 432x288 with 2 Axes>"
      ]
     },
     "metadata": {
      "needs_background": "light"
     },
     "output_type": "display_data"
    }
   ],
   "source": [
    "# calcoliamo le metriche di valutazione\n",
    "accuracy = accuracy_score(new_y_test, y_test_predict)\n",
    "precision = precision_score(new_y_test, y_test_predict, average='macro')\n",
    "recall = recall_score(new_y_test, y_test_predict, average='macro')\n",
    "f1 = f1_score(new_y_test, y_test_predict, average='macro')\n",
    "\n",
    "ConfusionMatrixDisplay.from_predictions(new_y_test, \n",
    "                                        y_test_predict, \n",
    "                                        cmap=plt.cm.Blues)\n",
    "\n",
    "print(f'accuracy: {accuracy}')\n",
    "print(f'precision: {precision}')\n",
    "print(f'recall: {recall}')\n",
    "print(f'f1: {f1}')\n",
    "\n",
    "\n",
    "plt.plot()"
   ]
  },
  {
   "attachments": {},
   "cell_type": "markdown",
   "metadata": {},
   "source": [
    "##### **RANDOM FOREST**"
   ]
  },
  {
   "attachments": {},
   "cell_type": "markdown",
   "metadata": {},
   "source": [
    "Per addestrae RANDOM FOREST utilizzo come iper-parametri i parametri indivuati nella fasse precedente di validation\n",
    "**{'classifier__max_depth': 10, 'classifier__n_estimators': 200}**"
   ]
  },
  {
   "cell_type": "code",
   "execution_count": null,
   "metadata": {},
   "outputs": [],
   "source": [
    "model_rf= RandomForestClassifier(max_depth=10,n_estimators=200)\n",
    "\n",
    "model_rf.fit(new_X_train_ML, new_y_train)\n",
    "y_test_predict = model_rf.predict(new_X_test_ML)"
   ]
  },
  {
   "cell_type": "code",
   "execution_count": null,
   "metadata": {},
   "outputs": [
    {
     "name": "stdout",
     "output_type": "stream",
     "text": [
      "accuracy: 0.975609756097561\n",
      "precision: 0.9773822766036337\n",
      "recall: 0.9732905982905983\n",
      "f1: 0.9744783585240127\n"
     ]
    },
    {
     "data": {
      "text/plain": [
       "[]"
      ]
     },
     "execution_count": 100,
     "metadata": {},
     "output_type": "execute_result"
    },
    {
     "data": {
      "image/png": "[encoded data removed]",
      "text/plain": [
       "<Figure size 432x288 with 2 Axes>"
      ]
     },
     "metadata": {
      "needs_background": "light"
     },
     "output_type": "display_data"
    }
   ],
   "source": [
    "# calcoliamo le metriche di valutazione\n",
    "accuracy = accuracy_score(new_y_test, y_test_predict)\n",
    "precision = precision_score(new_y_test, y_test_predict, average='macro')\n",
    "recall = recall_score(new_y_test, y_test_predict, average='macro')\n",
    "f1 = f1_score(new_y_test, y_test_predict, average='macro')\n",
    "\n",
    "ConfusionMatrixDisplay.from_predictions(new_y_test, \n",
    "                                        y_test_predict, \n",
    "                                        cmap=plt.cm.Blues)\n",
    "\n",
    "print(f'accuracy: {accuracy}')\n",
    "print(f'precision: {precision}')\n",
    "print(f'recall: {recall}')\n",
    "print(f'f1: {f1}')\n",
    "\n",
    "\n",
    "plt.plot()"
   ]
  },
  {
   "attachments": {},
   "cell_type": "markdown",
   "metadata": {},
   "source": [
    "##### **LSTM**"
   ]
  },
  {
   "cell_type": "code",
   "execution_count": null,
   "metadata": {},
   "outputs": [],
   "source": [
    "new_model_lstm= Sequential()\n",
    "\n",
    "new_model_lstm.add(LSTM(64, return_sequences=True, activation='relu', input_shape=(45,51)))\n",
    "new_model_lstm.add(LSTM(128, return_sequences=True, activation='relu'))\n",
    "new_model_lstm.add(LSTM(64, return_sequences=False, activation='relu'))\n",
    "new_model_lstm.add(Dense(64, activation='relu'))\n",
    "new_model_lstm.add(Dense(32, activation='relu'))\n",
    "new_model_lstm.add(Dense(actions.shape[0], activation='softmax'))"
   ]
  },
  {
   "cell_type": "code",
   "execution_count": null,
   "metadata": {},
   "outputs": [],
   "source": [
    "new_model_lstm.compile(optimizer ='Adam', \n",
    "              loss='categorical_crossentropy',\n",
    "              metrics=['categorical_accuracy'])"
   ]
  },
  {
   "cell_type": "code",
   "execution_count": null,
   "metadata": {},
   "outputs": [
    {
     "name": "stdout",
     "output_type": "stream",
     "text": [
      "Epoch 1/50\n",
      "77/77 [==============================] - 18s 137ms/step - loss: 3.0440 - categorical_accuracy: 0.3766\n",
      "Epoch 2/50\n",
      "77/77 [==============================] - 13s 166ms/step - loss: 6.8298 - categorical_accuracy: 0.4189\n",
      "Epoch 3/50\n",
      "77/77 [==============================] - 10s 136ms/step - loss: 1.0327 - categorical_accuracy: 0.6123\n",
      "Epoch 4/50\n",
      "77/77 [==============================] - 13s 165ms/step - loss: 9.3694 - categorical_accuracy: 0.5450\n",
      "Epoch 5/50\n",
      "77/77 [==============================] - 13s 171ms/step - loss: 0.7809 - categorical_accuracy: 0.7002\n",
      "Epoch 6/50\n",
      "77/77 [==============================] - 11s 148ms/step - loss: 0.8236 - categorical_accuracy: 0.7047\n",
      "Epoch 7/50\n",
      "77/77 [==============================] - 10s 134ms/step - loss: 0.5643 - categorical_accuracy: 0.8292\n",
      "Epoch 8/50\n",
      "77/77 [==============================] - 10s 127ms/step - loss: 0.4569 - categorical_accuracy: 0.8665\n",
      "Epoch 9/50\n",
      "77/77 [==============================] - 10s 131ms/step - loss: 0.3594 - categorical_accuracy: 0.8912\n",
      "Epoch 10/50\n",
      "77/77 [==============================] - 11s 142ms/step - loss: 0.3715 - categorical_accuracy: 0.8825\n",
      "Epoch 11/50\n",
      "77/77 [==============================] - 10s 136ms/step - loss: 0.2664 - categorical_accuracy: 0.9265\n",
      "Epoch 12/50\n",
      "77/77 [==============================] - 10s 129ms/step - loss: 0.2656 - categorical_accuracy: 0.9228\n",
      "Epoch 13/50\n",
      "77/77 [==============================] - 10s 136ms/step - loss: 0.2069 - categorical_accuracy: 0.9441\n",
      "Epoch 14/50\n",
      "77/77 [==============================] - 10s 129ms/step - loss: 0.2210 - categorical_accuracy: 0.9265\n",
      "Epoch 15/50\n",
      "77/77 [==============================] - 10s 134ms/step - loss: 0.1772 - categorical_accuracy: 0.9478\n",
      "Epoch 16/50\n",
      "77/77 [==============================] - 11s 138ms/step - loss: 0.2186 - categorical_accuracy: 0.9318\n",
      "Epoch 17/50\n",
      "77/77 [==============================] - 10s 127ms/step - loss: 0.1821 - categorical_accuracy: 0.9466\n",
      "Epoch 18/50\n",
      "77/77 [==============================] - 10s 125ms/step - loss: 0.1666 - categorical_accuracy: 0.9544\n",
      "Epoch 19/50\n",
      "77/77 [==============================] - 12s 151ms/step - loss: 0.2740 - categorical_accuracy: 0.9281\n",
      "Epoch 20/50\n",
      "77/77 [==============================] - 11s 149ms/step - loss: 0.1674 - categorical_accuracy: 0.9503\n",
      "Epoch 21/50\n",
      "77/77 [==============================] - 13s 164ms/step - loss: 0.1534 - categorical_accuracy: 0.9544\n",
      "Epoch 22/50\n",
      "77/77 [==============================] - 11s 143ms/step - loss: 0.1672 - categorical_accuracy: 0.9491\n",
      "Epoch 23/50\n",
      "77/77 [==============================] - 10s 133ms/step - loss: 0.2040 - categorical_accuracy: 0.9326\n",
      "Epoch 24/50\n",
      "77/77 [==============================] - 10s 130ms/step - loss: 0.1430 - categorical_accuracy: 0.9606\n",
      "Epoch 25/50\n",
      "77/77 [==============================] - 10s 130ms/step - loss: 0.1263 - categorical_accuracy: 0.9647\n",
      "Epoch 26/50\n",
      "77/77 [==============================] - 10s 127ms/step - loss: 0.1233 - categorical_accuracy: 0.9622\n",
      "Epoch 27/50\n",
      "77/77 [==============================] - 12s 153ms/step - loss: 0.1217 - categorical_accuracy: 0.9643\n",
      "Epoch 28/50\n",
      "77/77 [==============================] - 12s 161ms/step - loss: 0.1193 - categorical_accuracy: 0.9639\n",
      "Epoch 29/50\n",
      "77/77 [==============================] - 12s 150ms/step - loss: 0.1116 - categorical_accuracy: 0.9655\n",
      "Epoch 30/50\n",
      "77/77 [==============================] - 11s 147ms/step - loss: 0.1448 - categorical_accuracy: 0.9561\n",
      "Epoch 31/50\n",
      "77/77 [==============================] - 12s 162ms/step - loss: 0.1139 - categorical_accuracy: 0.9688\n",
      "Epoch 32/50\n",
      "77/77 [==============================] - 11s 147ms/step - loss: 0.1172 - categorical_accuracy: 0.9655\n",
      "Epoch 33/50\n",
      "77/77 [==============================] - 13s 163ms/step - loss: 0.1346 - categorical_accuracy: 0.9589\n",
      "Epoch 34/50\n",
      "77/77 [==============================] - 11s 141ms/step - loss: 0.1126 - categorical_accuracy: 0.9663\n",
      "Epoch 35/50\n",
      "77/77 [==============================] - 12s 154ms/step - loss: 0.1180 - categorical_accuracy: 0.9634\n",
      "Epoch 36/50\n",
      "77/77 [==============================] - 11s 147ms/step - loss: 0.1012 - categorical_accuracy: 0.9692\n",
      "Epoch 37/50\n",
      "77/77 [==============================] - 13s 163ms/step - loss: 0.1097 - categorical_accuracy: 0.9655\n",
      "Epoch 38/50\n",
      "77/77 [==============================] - 11s 147ms/step - loss: 0.1142 - categorical_accuracy: 0.9630\n",
      "Epoch 39/50\n",
      "77/77 [==============================] - 11s 140ms/step - loss: 0.1084 - categorical_accuracy: 0.9680\n",
      "Epoch 40/50\n",
      "77/77 [==============================] - 13s 164ms/step - loss: 0.0998 - categorical_accuracy: 0.9708\n",
      "Epoch 41/50\n",
      "77/77 [==============================] - 12s 153ms/step - loss: 0.1210 - categorical_accuracy: 0.9639\n",
      "Epoch 42/50\n",
      "77/77 [==============================] - 11s 139ms/step - loss: 0.1149 - categorical_accuracy: 0.9655\n",
      "Epoch 43/50\n",
      "77/77 [==============================] - 12s 150ms/step - loss: 0.1100 - categorical_accuracy: 0.9680\n",
      "Epoch 44/50\n",
      "77/77 [==============================] - 11s 142ms/step - loss: 0.6158 - categorical_accuracy: 0.8246\n",
      "Epoch 45/50\n",
      "77/77 [==============================] - 12s 154ms/step - loss: 0.4559 - categorical_accuracy: 0.8341\n",
      "Epoch 46/50\n",
      "77/77 [==============================] - 11s 141ms/step - loss: 0.4076 - categorical_accuracy: 0.8468\n",
      "Epoch 47/50\n",
      "77/77 [==============================] - 11s 139ms/step - loss: 0.3487 - categorical_accuracy: 0.8809\n",
      "Epoch 48/50\n",
      "77/77 [==============================] - 12s 151ms/step - loss: 0.2583 - categorical_accuracy: 0.9207\n",
      "Epoch 49/50\n",
      "77/77 [==============================] - 11s 145ms/step - loss: 0.2194 - categorical_accuracy: 0.9253\n",
      "Epoch 50/50\n",
      "77/77 [==============================] - 11s 144ms/step - loss: 0.2516 - categorical_accuracy: 0.9129\n"
     ]
    }
   ],
   "source": [
    "lstm_h=new_model_lstm.fit(new_X_train, new_y_train_DL, epochs=50)"
   ]
  },
  {
   "cell_type": "code",
   "execution_count": null,
   "metadata": {},
   "outputs": [
    {
     "name": "stdout",
     "output_type": "stream",
     "text": [
      "6/6 [==============================] - 2s 61ms/step\n"
     ]
    }
   ],
   "source": [
    "y_test_predict = new_model_lstm.predict(new_X_test)"
   ]
  },
  {
   "cell_type": "code",
   "execution_count": null,
   "metadata": {},
   "outputs": [
    {
     "name": "stdout",
     "output_type": "stream",
     "text": [
      "accuracy: 0.9451219512195121\n",
      "accuracy: 0.9451219512195121\n",
      "precision: 0.9372766122766123\n",
      "recall: 0.9321903405236739\n",
      "f1: 0.9337976705423565\n"
     ]
    },
    {
     "data": {
      "image/png": "[encoded data removed]",
      "text/plain": [
       "<Figure size 432x288 with 2 Axes>"
      ]
     },
     "metadata": {
      "needs_background": "light"
     },
     "output_type": "display_data"
    }
   ],
   "source": [
    "accuracy = accuracy_score(actions[np.argmax(new_y_test_DL,axis =1).tolist()],\n",
    "                          actions[np.argmax(y_test_predict, axis=1).tolist()])\n",
    "\n",
    "precision = precision_score(actions[np.argmax(new_y_test_DL,axis =1).tolist()],\n",
    "                            actions[np.argmax(y_test_predict, axis=1).tolist()],\n",
    "                            average='macro')\n",
    "\n",
    "recall = recall_score(actions[np.argmax(new_y_test_DL,axis =1).tolist()],\n",
    "                      actions[np.argmax(y_test_predict, axis=1).tolist()],\n",
    "                      average='macro')\n",
    "\n",
    "f1 = f1_score(actions[np.argmax(new_y_test_DL,axis =1).tolist()],\n",
    "              actions[np.argmax(y_test_predict, axis=1).tolist()],\n",
    "              average='macro')\n",
    "\n",
    "\n",
    "ConfusionMatrixDisplay.from_predictions(actions[np.argmax(new_y_test_DL,axis =1).tolist()], \n",
    "                                        actions[np.argmax(y_test_predict, axis=1).tolist()], \n",
    "                                        cmap=plt.cm.Blues)\n",
    "\n",
    "print(f'accuracy: {accuracy}')\n",
    "print(f'accuracy: {accuracy}')\n",
    "print(f'precision: {precision}')\n",
    "print(f'recall: {recall}')\n",
    "print(f'f1: {f1}')"
   ]
  },
  {
   "attachments": {},
   "cell_type": "markdown",
   "metadata": {},
   "source": [
    "##### **GRU**"
   ]
  },
  {
   "cell_type": "code",
   "execution_count": null,
   "metadata": {},
   "outputs": [],
   "source": [
    "new_model_gru= Sequential()\n",
    "\n",
    "new_model_gru.add(GRU(64, return_sequences=True, activation='relu', input_shape=(45,51)))\n",
    "new_model_gru.add(GRU(128, return_sequences=True, activation='relu'))\n",
    "new_model_gru.add(GRU(64, return_sequences=False, activation='relu'))\n",
    "new_model_gru.add(Dense(64, activation='relu'))\n",
    "new_model_gru.add(Dense(32, activation='relu'))\n",
    "new_model_gru.add(Dense(actions.shape[0], activation='softmax'))"
   ]
  },
  {
   "cell_type": "code",
   "execution_count": null,
   "metadata": {},
   "outputs": [],
   "source": [
    "new_model_gru.compile(optimizer ='Adam', \n",
    "              loss='categorical_crossentropy',\n",
    "              metrics=['categorical_accuracy'])"
   ]
  },
  {
   "cell_type": "code",
   "execution_count": null,
   "metadata": {},
   "outputs": [
    {
     "name": "stdout",
     "output_type": "stream",
     "text": [
      "Epoch 1/50\n",
      "77/77 [==============================] - 15s 110ms/step - loss: 1.2004 - categorical_accuracy: 0.5396\n",
      "Epoch 2/50\n",
      "77/77 [==============================] - 9s 111ms/step - loss: 0.4108 - categorical_accuracy: 0.8526\n",
      "Epoch 3/50\n",
      "77/77 [==============================] - 10s 134ms/step - loss: 0.3525 - categorical_accuracy: 0.8838\n",
      "Epoch 4/50\n",
      "77/77 [==============================] - 9s 112ms/step - loss: 0.2769 - categorical_accuracy: 0.9068\n",
      "Epoch 5/50\n",
      "77/77 [==============================] - 8s 110ms/step - loss: 0.2134 - categorical_accuracy: 0.9335\n",
      "Epoch 6/50\n",
      "77/77 [==============================] - 10s 134ms/step - loss: 0.2090 - categorical_accuracy: 0.9318\n",
      "Epoch 7/50\n",
      "77/77 [==============================] - 10s 125ms/step - loss: 0.2151 - categorical_accuracy: 0.9302\n",
      "Epoch 8/50\n",
      "77/77 [==============================] - 10s 125ms/step - loss: 0.1764 - categorical_accuracy: 0.9474\n",
      "Epoch 9/50\n",
      "77/77 [==============================] - 10s 134ms/step - loss: 0.1705 - categorical_accuracy: 0.9458\n",
      "Epoch 10/50\n",
      "77/77 [==============================] - 10s 126ms/step - loss: 0.1676 - categorical_accuracy: 0.9454\n",
      "Epoch 11/50\n",
      "77/77 [==============================] - 10s 124ms/step - loss: 0.1245 - categorical_accuracy: 0.9639\n",
      "Epoch 12/50\n",
      "77/77 [==============================] - 10s 134ms/step - loss: 0.2240 - categorical_accuracy: 0.9359\n",
      "Epoch 13/50\n",
      "77/77 [==============================] - 11s 139ms/step - loss: 0.1286 - categorical_accuracy: 0.9647\n",
      "Epoch 14/50\n",
      "77/77 [==============================] - 10s 132ms/step - loss: 0.1184 - categorical_accuracy: 0.9630\n",
      "Epoch 15/50\n",
      "77/77 [==============================] - 11s 138ms/step - loss: 0.1186 - categorical_accuracy: 0.9630\n",
      "Epoch 16/50\n",
      "77/77 [==============================] - 11s 139ms/step - loss: 0.1047 - categorical_accuracy: 0.9676\n",
      "Epoch 17/50\n",
      "77/77 [==============================] - 11s 139ms/step - loss: 0.1275 - categorical_accuracy: 0.9659\n",
      "Epoch 18/50\n",
      "77/77 [==============================] - 10s 135ms/step - loss: 0.0984 - categorical_accuracy: 0.9717\n",
      "Epoch 19/50\n",
      "77/77 [==============================] - 10s 131ms/step - loss: 0.1372 - categorical_accuracy: 0.9569\n",
      "Epoch 20/50\n",
      "77/77 [==============================] - 10s 129ms/step - loss: 0.1111 - categorical_accuracy: 0.9671\n",
      "Epoch 21/50\n",
      "77/77 [==============================] - 10s 129ms/step - loss: 0.0692 - categorical_accuracy: 0.9815\n",
      "Epoch 22/50\n",
      "77/77 [==============================] - 10s 129ms/step - loss: 0.0987 - categorical_accuracy: 0.9708\n",
      "Epoch 23/50\n",
      "77/77 [==============================] - 10s 128ms/step - loss: 0.0862 - categorical_accuracy: 0.9745\n",
      "Epoch 24/50\n",
      "77/77 [==============================] - 10s 131ms/step - loss: 0.0849 - categorical_accuracy: 0.9729\n",
      "Epoch 25/50\n",
      "77/77 [==============================] - 10s 129ms/step - loss: 0.1262 - categorical_accuracy: 0.9634\n",
      "Epoch 26/50\n",
      "77/77 [==============================] - 10s 136ms/step - loss: 0.0667 - categorical_accuracy: 0.9828\n",
      "Epoch 27/50\n",
      "77/77 [==============================] - 11s 139ms/step - loss: 0.0747 - categorical_accuracy: 0.9795\n",
      "Epoch 28/50\n",
      "77/77 [==============================] - 10s 133ms/step - loss: 0.0570 - categorical_accuracy: 0.9856\n",
      "Epoch 29/50\n",
      "77/77 [==============================] - 10s 130ms/step - loss: 0.0645 - categorical_accuracy: 0.9799\n",
      "Epoch 30/50\n",
      "77/77 [==============================] - 10s 134ms/step - loss: 0.0819 - categorical_accuracy: 0.9766\n",
      "Epoch 31/50\n",
      "77/77 [==============================] - 10s 127ms/step - loss: 0.0808 - categorical_accuracy: 0.9770\n",
      "Epoch 32/50\n",
      "77/77 [==============================] - 10s 127ms/step - loss: 0.0588 - categorical_accuracy: 0.9848\n",
      "Epoch 33/50\n",
      "77/77 [==============================] - 11s 145ms/step - loss: 0.0509 - categorical_accuracy: 0.9860\n",
      "Epoch 34/50\n",
      "77/77 [==============================] - 10s 127ms/step - loss: 0.2602 - categorical_accuracy: 0.9105\n",
      "Epoch 35/50\n",
      "77/77 [==============================] - 10s 130ms/step - loss: 0.0851 - categorical_accuracy: 0.9729\n",
      "Epoch 36/50\n",
      "77/77 [==============================] - 10s 132ms/step - loss: 0.0774 - categorical_accuracy: 0.9774\n",
      "Epoch 37/50\n",
      "77/77 [==============================] - 9s 122ms/step - loss: 0.0689 - categorical_accuracy: 0.9811\n",
      "Epoch 38/50\n",
      "77/77 [==============================] - 9s 122ms/step - loss: 0.0789 - categorical_accuracy: 0.9778\n",
      "Epoch 39/50\n",
      "77/77 [==============================] - 10s 128ms/step - loss: 0.0823 - categorical_accuracy: 0.9749\n",
      "Epoch 40/50\n",
      "77/77 [==============================] - 10s 132ms/step - loss: 0.0614 - categorical_accuracy: 0.9811\n",
      "Epoch 41/50\n",
      "77/77 [==============================] - 10s 136ms/step - loss: 0.0680 - categorical_accuracy: 0.9819\n",
      "Epoch 42/50\n",
      "77/77 [==============================] - 10s 132ms/step - loss: 0.0836 - categorical_accuracy: 0.9766\n",
      "Epoch 43/50\n",
      "77/77 [==============================] - 10s 133ms/step - loss: 0.0877 - categorical_accuracy: 0.9762\n",
      "Epoch 44/50\n",
      "77/77 [==============================] - 11s 140ms/step - loss: 0.0643 - categorical_accuracy: 0.9823\n",
      "Epoch 45/50\n",
      "77/77 [==============================] - 10s 136ms/step - loss: 0.0710 - categorical_accuracy: 0.9807\n",
      "Epoch 46/50\n",
      "77/77 [==============================] - 10s 132ms/step - loss: 0.0497 - categorical_accuracy: 0.9844\n",
      "Epoch 47/50\n",
      "77/77 [==============================] - 10s 132ms/step - loss: 0.0546 - categorical_accuracy: 0.9840\n",
      "Epoch 48/50\n",
      "77/77 [==============================] - 10s 132ms/step - loss: 0.0421 - categorical_accuracy: 0.9873\n",
      "Epoch 49/50\n",
      "77/77 [==============================] - 10s 128ms/step - loss: 0.0738 - categorical_accuracy: 0.9762\n",
      "Epoch 50/50\n",
      "77/77 [==============================] - 10s 131ms/step - loss: 0.0486 - categorical_accuracy: 0.9852\n"
     ]
    }
   ],
   "source": [
    "gru_h=new_model_gru.fit(new_X_train, new_y_train_DL, epochs=50)"
   ]
  },
  {
   "cell_type": "code",
   "execution_count": null,
   "metadata": {},
   "outputs": [
    {
     "name": "stdout",
     "output_type": "stream",
     "text": [
      "accuracy: 0.9451219512195121\n",
      "accuracy: 0.9451219512195121\n",
      "precision: 0.9372766122766123\n",
      "recall: 0.9321903405236739\n",
      "f1: 0.9337976705423565\n"
     ]
    },
    {
     "data": {
      "image/png": "[encoded data removed]",
      "text/plain": [
       "<Figure size 432x288 with 2 Axes>"
      ]
     },
     "metadata": {
      "needs_background": "light"
     },
     "output_type": "display_data"
    }
   ],
   "source": [
    "accuracy = accuracy_score(actions[np.argmax(new_y_test_DL,axis =1).tolist()],\n",
    "                          actions[np.argmax(y_test_predict, axis=1).tolist()])\n",
    "\n",
    "precision = precision_score(actions[np.argmax(new_y_test_DL,axis =1).tolist()],\n",
    "                            actions[np.argmax(y_test_predict, axis=1).tolist()],\n",
    "                            average='macro')\n",
    "\n",
    "recall = recall_score(actions[np.argmax(new_y_test_DL,axis =1).tolist()],\n",
    "                      actions[np.argmax(y_test_predict, axis=1).tolist()],\n",
    "                      average='macro')\n",
    "\n",
    "f1 = f1_score(actions[np.argmax(new_y_test_DL,axis =1).tolist()],\n",
    "              actions[np.argmax(y_test_predict, axis=1).tolist()],\n",
    "              average='macro')\n",
    "\n",
    "\n",
    "ConfusionMatrixDisplay.from_predictions(actions[np.argmax(new_y_test_DL,axis =1).tolist()], \n",
    "                                        actions[np.argmax(y_test_predict, axis=1).tolist()], \n",
    "                                        cmap=plt.cm.Blues)\n",
    "\n",
    "print(f'accuracy: {accuracy}')\n",
    "print(f'accuracy: {accuracy}')\n",
    "print(f'precision: {precision}')\n",
    "print(f'recall: {recall}')\n",
    "print(f'f1: {f1}')"
   ]
  },
  {
   "attachments": {},
   "cell_type": "markdown",
   "metadata": {},
   "source": [
    "Poichè i risultati ottenuti sono equivalenti a quelli ottenuti precedenti possiamo affermare che prima i nostri modelli non soffrivano di over-fitting e lo si può appurare anche dal fatto che i modelli funzionano bene anche in real-time.\n"
   ]
  },
  {
   "attachments": {},
   "cell_type": "markdown",
   "metadata": {},
   "source": [
    "Quindi ora proviamo ad addestrare i nostri modelli effettuando un shuffle sul nostro dataset poichè la struttura sequenziale del nostro dataset potrebbe influenzare i risultati dei nostri modelli, specialmente i modelli deep.Utilizzo ora il dataset iniziale e non quello creato per il leave one person out"
   ]
  },
  {
   "cell_type": "code",
   "execution_count": null,
   "metadata": {},
   "outputs": [],
   "source": [
    "shuffle_X_train, shuffle_y_DL_train = shuffle(X_train, y_train_DL, random_state=11)"
   ]
  },
  {
   "cell_type": "code",
   "execution_count": null,
   "metadata": {},
   "outputs": [],
   "source": [
    "shuffle_model_gru= Sequential()\n",
    "\n",
    "shuffle_model_gru.add(GRU(64, return_sequences=True, activation='relu', input_shape=(45,51)))\n",
    "shuffle_model_gru.add(GRU(128, return_sequences=True, activation='relu'))\n",
    "shuffle_model_gru.add(GRU(64, return_sequences=False, activation='relu'))\n",
    "shuffle_model_gru.add(Dense(64, activation='relu'))\n",
    "shuffle_model_gru.add(Dense(32, activation='relu'))\n",
    "shuffle_model_gru.add(Dense(actions.shape[0], activation='softmax'))\n"
   ]
  },
  {
   "cell_type": "code",
   "execution_count": null,
   "metadata": {},
   "outputs": [],
   "source": [
    "shuffle_model_gru.compile(optimizer ='Adam', \n",
    "              loss='categorical_crossentropy',\n",
    "              metrics=['categorical_accuracy'])"
   ]
  },
  {
   "cell_type": "code",
   "execution_count": null,
   "metadata": {},
   "outputs": [
    {
     "name": "stdout",
     "output_type": "stream",
     "text": [
      "Epoch 1/50\n",
      "65/65 [==============================] - 17s 133ms/step - loss: 1.1341 - categorical_accuracy: 0.5618\n",
      "Epoch 2/50\n",
      "65/65 [==============================] - 10s 148ms/step - loss: 0.4246 - categorical_accuracy: 0.8389\n",
      "Epoch 3/50\n",
      "65/65 [==============================] - 9s 143ms/step - loss: 0.2936 - categorical_accuracy: 0.8923\n",
      "Epoch 4/50\n",
      "65/65 [==============================] - 9s 133ms/step - loss: 0.2292 - categorical_accuracy: 0.9182\n",
      "Epoch 5/50\n",
      "65/65 [==============================] - 9s 136ms/step - loss: 0.1988 - categorical_accuracy: 0.9399\n",
      "Epoch 6/50\n",
      "65/65 [==============================] - 9s 144ms/step - loss: 0.1962 - categorical_accuracy: 0.9355\n",
      "Epoch 7/50\n",
      "65/65 [==============================] - 10s 150ms/step - loss: 0.1632 - categorical_accuracy: 0.9476\n",
      "Epoch 8/50\n",
      "65/65 [==============================] - 10s 149ms/step - loss: 0.1588 - categorical_accuracy: 0.9529\n",
      "Epoch 9/50\n",
      "65/65 [==============================] - 9s 144ms/step - loss: 0.1418 - categorical_accuracy: 0.9533\n",
      "Epoch 10/50\n",
      "65/65 [==============================] - 9s 133ms/step - loss: 0.1394 - categorical_accuracy: 0.9567\n",
      "Epoch 11/50\n",
      "65/65 [==============================] - 8s 119ms/step - loss: 0.1541 - categorical_accuracy: 0.9490\n",
      "Epoch 12/50\n",
      "65/65 [==============================] - 8s 127ms/step - loss: 0.1418 - categorical_accuracy: 0.9577\n",
      "Epoch 13/50\n",
      "65/65 [==============================] - 9s 134ms/step - loss: 0.1280 - categorical_accuracy: 0.9615\n",
      "Epoch 14/50\n",
      "65/65 [==============================] - 8s 129ms/step - loss: 0.1547 - categorical_accuracy: 0.9524\n",
      "Epoch 15/50\n",
      "65/65 [==============================] - 8s 124ms/step - loss: 0.1807 - categorical_accuracy: 0.9423\n",
      "Epoch 16/50\n",
      "65/65 [==============================] - 8s 130ms/step - loss: 0.1013 - categorical_accuracy: 0.9735\n",
      "Epoch 17/50\n",
      "65/65 [==============================] - 8s 127ms/step - loss: 0.0991 - categorical_accuracy: 0.9750\n",
      "Epoch 18/50\n",
      "65/65 [==============================] - 8s 128ms/step - loss: 0.0909 - categorical_accuracy: 0.9755\n",
      "Epoch 19/50\n",
      "65/65 [==============================] - 8s 131ms/step - loss: 0.0864 - categorical_accuracy: 0.9760\n",
      "Epoch 20/50\n",
      "65/65 [==============================] - 9s 138ms/step - loss: 0.0882 - categorical_accuracy: 0.9755\n",
      "Epoch 21/50\n",
      "65/65 [==============================] - 9s 131ms/step - loss: 0.1009 - categorical_accuracy: 0.9702\n",
      "Epoch 22/50\n",
      "65/65 [==============================] - 8s 128ms/step - loss: 0.0986 - categorical_accuracy: 0.9692\n",
      "Epoch 23/50\n",
      "65/65 [==============================] - 9s 142ms/step - loss: 0.0940 - categorical_accuracy: 0.9711\n",
      "Epoch 24/50\n",
      "65/65 [==============================] - 9s 137ms/step - loss: 0.0849 - categorical_accuracy: 0.9769\n",
      "Epoch 25/50\n",
      "65/65 [==============================] - 8s 116ms/step - loss: 0.1216 - categorical_accuracy: 0.9644\n",
      "Epoch 26/50\n",
      "65/65 [==============================] - 7s 107ms/step - loss: 0.0888 - categorical_accuracy: 0.9731\n",
      "Epoch 27/50\n",
      "65/65 [==============================] - 8s 119ms/step - loss: 0.1285 - categorical_accuracy: 0.9644\n",
      "Epoch 28/50\n",
      "65/65 [==============================] - 7s 111ms/step - loss: 0.0869 - categorical_accuracy: 0.9779\n",
      "Epoch 29/50\n",
      "65/65 [==============================] - 7s 107ms/step - loss: 0.0794 - categorical_accuracy: 0.9760\n",
      "Epoch 30/50\n",
      "65/65 [==============================] - 8s 117ms/step - loss: 0.0778 - categorical_accuracy: 0.9788\n",
      "Epoch 31/50\n",
      "65/65 [==============================] - 8s 121ms/step - loss: 0.0821 - categorical_accuracy: 0.9774\n",
      "Epoch 32/50\n",
      "65/65 [==============================] - 7s 109ms/step - loss: 0.0794 - categorical_accuracy: 0.9769\n",
      "Epoch 33/50\n",
      "65/65 [==============================] - 7s 107ms/step - loss: 0.0746 - categorical_accuracy: 0.9798\n",
      "Epoch 34/50\n",
      "65/65 [==============================] - 7s 113ms/step - loss: 0.0825 - categorical_accuracy: 0.9755\n",
      "Epoch 35/50\n",
      "65/65 [==============================] - 8s 119ms/step - loss: 0.0742 - categorical_accuracy: 0.9779\n",
      "Epoch 36/50\n",
      "65/65 [==============================] - 8s 131ms/step - loss: 0.0984 - categorical_accuracy: 0.9707\n",
      "Epoch 37/50\n",
      "65/65 [==============================] - 7s 115ms/step - loss: 0.0850 - categorical_accuracy: 0.9750\n",
      "Epoch 38/50\n",
      "65/65 [==============================] - 8s 127ms/step - loss: 0.2073 - categorical_accuracy: 0.9399\n",
      "Epoch 39/50\n",
      "65/65 [==============================] - 9s 131ms/step - loss: 0.1006 - categorical_accuracy: 0.9702\n",
      "Epoch 40/50\n",
      "65/65 [==============================] - 8s 120ms/step - loss: 0.0686 - categorical_accuracy: 0.9817\n",
      "Epoch 41/50\n",
      "65/65 [==============================] - 7s 115ms/step - loss: 0.0669 - categorical_accuracy: 0.9812\n",
      "Epoch 42/50\n",
      "65/65 [==============================] - 7s 109ms/step - loss: 0.0562 - categorical_accuracy: 0.9841\n",
      "Epoch 43/50\n",
      "65/65 [==============================] - 7s 110ms/step - loss: 0.0602 - categorical_accuracy: 0.9846\n",
      "Epoch 44/50\n",
      "65/65 [==============================] - 7s 110ms/step - loss: 0.0530 - categorical_accuracy: 0.9846\n",
      "Epoch 45/50\n",
      "65/65 [==============================] - 7s 108ms/step - loss: 0.0557 - categorical_accuracy: 0.9827\n",
      "Epoch 46/50\n",
      "65/65 [==============================] - 7s 110ms/step - loss: 0.0817 - categorical_accuracy: 0.9764\n",
      "Epoch 47/50\n",
      "65/65 [==============================] - 7s 110ms/step - loss: 0.0651 - categorical_accuracy: 0.9827\n",
      "Epoch 48/50\n",
      "65/65 [==============================] - 7s 107ms/step - loss: 0.0601 - categorical_accuracy: 0.9803\n",
      "Epoch 49/50\n",
      "65/65 [==============================] - 7s 105ms/step - loss: 0.0514 - categorical_accuracy: 0.9856\n",
      "Epoch 50/50\n",
      "65/65 [==============================] - 7s 107ms/step - loss: 0.0777 - categorical_accuracy: 0.9745\n"
     ]
    }
   ],
   "source": [
    "gru_h=shuffle_model_gru.fit(shuffle_X_train, shuffle_y_DL_train, epochs=50)"
   ]
  },
  {
   "cell_type": "code",
   "execution_count": null,
   "metadata": {},
   "outputs": [
    {
     "name": "stdout",
     "output_type": "stream",
     "text": [
      "17/17 [==============================] - 1s 35ms/step\n"
     ]
    }
   ],
   "source": [
    "y_test_predict = shuffle_model_gru.predict(X_test)"
   ]
  },
  {
   "cell_type": "code",
   "execution_count": null,
   "metadata": {},
   "outputs": [
    {
     "name": "stdout",
     "output_type": "stream",
     "text": [
      "accuracy: 0.9788461538461538\n",
      "accuracy: 0.9788461538461538\n",
      "precision: 0.9793012224046707\n",
      "recall: 0.9788738665867126\n",
      "f1: 0.9790399644988631\n"
     ]
    },
    {
     "data": {
      "image/png": "[encoded data removed]",
      "text/plain": [
       "<Figure size 432x288 with 2 Axes>"
      ]
     },
     "metadata": {
      "needs_background": "light"
     },
     "output_type": "display_data"
    }
   ],
   "source": [
    "accuracy = accuracy_score(actions[np.argmax(y_test_DL,axis =1).tolist()],\n",
    "                          actions[np.argmax(y_test_predict, axis=1).tolist()])\n",
    "\n",
    "precision = precision_score(actions[np.argmax(y_test_DL,axis =1).tolist()],\n",
    "                            actions[np.argmax(y_test_predict, axis=1).tolist()],\n",
    "                            average='macro')\n",
    "\n",
    "recall = recall_score(actions[np.argmax(y_test_DL,axis =1).tolist()],\n",
    "                      actions[np.argmax(y_test_predict, axis=1).tolist()],\n",
    "                      average='macro')\n",
    "\n",
    "f1 = f1_score(actions[np.argmax(y_test_DL,axis =1).tolist()],\n",
    "              actions[np.argmax(y_test_predict, axis=1).tolist()],\n",
    "              average='macro')\n",
    "\n",
    "\n",
    "ConfusionMatrixDisplay.from_predictions(actions[np.argmax(y_test_DL,axis =1).tolist()], \n",
    "                                        actions[np.argmax(y_test_predict, axis=1).tolist()], \n",
    "                                        cmap=plt.cm.Blues)\n",
    "\n",
    "print(f'accuracy: {accuracy}')\n",
    "print(f'accuracy: {accuracy}')\n",
    "print(f'precision: {precision}')\n",
    "print(f'recall: {recall}')\n",
    "print(f'f1: {f1}')"
   ]
  },
  {
   "attachments": {},
   "cell_type": "markdown",
   "metadata": {},
   "source": [
    "I risultati ottenuti sono ugual ai primi "
   ]
  },
  {
   "attachments": {},
   "cell_type": "markdown",
   "metadata": {},
   "source": [
    "Prova in real-time"
   ]
  },
  {
   "attachments": {},
   "cell_type": "markdown",
   "metadata": {},
   "source": [
    "Definisco una funzione che mostri a schermo la propabilità con la quale la posa che si sta eseguendo appartenga ad una delle 6 classi"
   ]
  },
  {
   "cell_type": "code",
   "execution_count": null,
   "metadata": {},
   "outputs": [],
   "source": [
    "def prob_viz(res,actions,input_frame):\n",
    "    output_frame =input_frame\n",
    "    for num, pro in enumerate(res):\n",
    "        cv2.rectangle(output_frame,(0,60+num*40), \n",
    "                      (int(pro*100), 90+num*40),(255,0,255), -1)\n",
    "        cv2.putText(output_frame, actions[num], (0,85+num*40), \n",
    "                    cv2.FONT_HERSHEY_SIMPLEX,1,(255,255,255),2, cv2.LINE_AA)\n",
    "    return output_frame"
   ]
  },
  {
   "cell_type": "code",
   "execution_count": null,
   "metadata": {},
   "outputs": [
    {
     "name": "stdout",
     "output_type": "stream",
     "text": [
      "1/1 [==============================] - 0s 91ms/step\n"
     ]
    }
   ],
   "source": [
    "sequence=[]\n",
    "predictions=[]\n",
    "posa=''\n",
    "\n",
    "cap = cv2.VideoCapture(0) \n",
    "# Load the input image.\n",
    "image_height, image_width = [480,640]\n",
    "crop_region = init_crop_region(image_height, image_width)\n",
    "while cap.isOpened():\n",
    "    ret,frame = cap.read()\n",
    "    image = frame\n",
    "    \n",
    "    keypoints_with_scores = run_inference(\n",
    "    movenet, image, crop_region,\n",
    "    crop_size=[256, 256])\n",
    "\n",
    "    crop_region = determine_crop_region(\n",
    "    keypoints_with_scores, image_height, image_width)\n",
    "    draw_skeleton(frame, keypoints_with_scores, 0.3)\n",
    "\n",
    "    #predict logic \n",
    "    keypoint = extract_keypoints(keypoints_with_scores)\n",
    "    sequence.append(keypoint)\n",
    "    sequence= sequence[-45:]\n",
    "    \n",
    "    if len(sequence)==45:\n",
    "        res = model_Rnn.predict(np.expand_dims(sequence,axis=0))[0]\n",
    "        predictions.append(np.argmax(res))\n",
    "    \n",
    "        #scrivere su schermo la scritta\n",
    "        if np.unique(predictions[-10:])[0]==np.argmax(res):# controlla che le ultime 10 predizioni siano uguali\n",
    "            if res[np.argmax(res)] > 0.3:\n",
    "                posa = actions[np.argmax(res)]\n",
    "\n",
    "         \n",
    "        image = prob_viz(res,actions, image)\n",
    "    \n",
    "    cv2.rectangle(image, (0,0), (640,40), (245,117,16), -1)\n",
    "    cv2.putText(image, posa, (3,30), cv2.FONT_HERSHEY_SIMPLEX,1,(255,255,255),2, cv2.LINE_AA)\n",
    "    \n",
    "    cv2.imshow('MoveNet', frame)\n",
    "    \n",
    "    if cv2.waitKey(10) & 0xFF == ord('q'):\n",
    "        break\n",
    "    \n",
    "cap.release()\n",
    "cv2.destroyAllWindows()\n"
   ]
  },
  {
   "attachments": {},
   "cell_type": "markdown",
   "metadata": {},
   "source": [
    "## **2. Correzione della posa**"
   ]
  },
  {
   "attachments": {},
   "cell_type": "markdown",
   "metadata": {},
   "source": [
    "In questa seconda fase del sistema verrà implementato un sistema che, come anticipato, permetterà la correzione della posa che si sta eseguendo.\n",
    "\n",
    "Si è deciso di implentare questo sistema sfruttando l'algoritmo **K Nearest Neighbors** **KNN**, il quale troverà il frame o i frame più simili (farà una media tra questi frame calcolando il centroide) al frame che si sta predendo in considerazione .\n",
    "\n",
    "A questo punto verranno calcolati gli angoli sia per il centroide che per il frame preso in considerazione  e verranno confrontati."
   ]
  },
  {
   "attachments": {},
   "cell_type": "markdown",
   "metadata": {},
   "source": [
    "Importo i moduli e le librerie di interesse, utili per la realizzazione di questa fase del sistema."
   ]
  },
  {
   "cell_type": "code",
   "execution_count": null,
   "metadata": {},
   "outputs": [],
   "source": [
    "from sklearn.neighbors import NearestNeighbors"
   ]
  },
  {
   "attachments": {},
   "cell_type": "markdown",
   "metadata": {},
   "source": [
    "### **Dataset**"
   ]
  },
  {
   "attachments": {},
   "cell_type": "markdown",
   "metadata": {},
   "source": [
    "#### **Creazione del dataset**"
   ]
  },
  {
   "attachments": {},
   "cell_type": "markdown",
   "metadata": {},
   "source": [
    "Per la correzione della posa si è deciso di non utilizzare il dataset creato per la fase precedente ma di creare un dataset apposito per ogni posa in modo tale che fosse più facile lavorare con dataset di dimensioni ridotte e con una struttura più facile da navigare;Inoltre lavorare con un dataset di dimensioni ridotte comporta sicuramente anche un minor costo computazionale.\n",
    "\n",
    "Più in dettaglio il vecchio dataset aveva una composizione di questo tipo: \n",
    "\n",
    "- *[Vettore contenente tutti i video composti da 45 frame[Vettore contenente 45 vettori di keypoint[vettore contenente 51 punti 17 punti * 3(x,y,confidence)]]]*                                         \n",
    "Quindi una shape di questo tipo **(2599, 45, 51)**\n",
    "\n",
    "Mentre il nuovo dataset avrà la seguente composizione per ogni posa:\n",
    "\n",
    "- *[Vettore contenete  tutti i frame[vettore contenente 51 punti 17 punti * 3(x,y,confidence)]]*      \n",
    "Quindi una shape di questo tipo **(17517, 51)**"
   ]
  },
  {
   "attachments": {},
   "cell_type": "markdown",
   "metadata": {},
   "source": [
    "Definisco la funzione per creare il dataset per ogni posa"
   ]
  },
  {
   "cell_type": "code",
   "execution_count": null,
   "metadata": {},
   "outputs": [],
   "source": [
    "def create_pose_dataset(pose):\n",
    "    dataset_pose=[]\n",
    "\n",
    "    file_path = os.path.join(DATA_PATH, pose)\n",
    "            \n",
    "    key_dir_list = []\n",
    "    for f in os.listdir(file_path):\n",
    "        name, ext = os.path.splitext(f)\n",
    "        if not ext == '.mp4':\n",
    "            key_dir_list.append(f)\n",
    "                \n",
    "    i=0\n",
    "    for keypoint_dir in key_dir_list:\n",
    "        for frame_num in range(1, info_videos[label_map[pose]][1][i][1]):#sostituire 5 forse con label map\n",
    "            window = []\n",
    "            frame_path = np.load(os.path.join(file_path,keypoint_dir,\"{}.npy\".format(frame_num)))\n",
    "            window.append(frame_path)\n",
    "            dataset_pose.append(window)\n",
    "        i+=1\n",
    "    return np.array(dataset_pose)\n",
    "    "
   ]
  },
  {
   "attachments": {},
   "cell_type": "markdown",
   "metadata": {},
   "source": [
    "Creo effettivamente i vari dataset"
   ]
  },
  {
   "cell_type": "code",
   "execution_count": null,
   "metadata": {},
   "outputs": [],
   "source": [
    "dataset_Cobra=create_pose_dataset('Cobra')\n",
    "dataset_Corpse=create_pose_dataset('Corpse')\n",
    "dataset_Lotus=create_pose_dataset('Lotus')\n",
    "dataset_Mountain=create_pose_dataset('Mountain')\n",
    "dataset_Tree=create_pose_dataset('Tree')\n",
    "dataset_Triangle=create_pose_dataset('Triangle')"
   ]
  },
  {
   "attachments": {},
   "cell_type": "markdown",
   "metadata": {},
   "source": [
    "Si noti come i dataset abbiao dimensione (17517, 1, 51), dove 1 indica che i video sono composti da 1 frame."
   ]
  },
  {
   "cell_type": "code",
   "execution_count": null,
   "metadata": {},
   "outputs": [
    {
     "name": "stdout",
     "output_type": "stream",
     "text": [
      "(20721, 1, 51)\n",
      "(20492, 1, 51)\n",
      "(17884, 1, 51)\n",
      "(20061, 1, 51)\n",
      "(22204, 1, 51)\n",
      "(17517, 1, 51)\n"
     ]
    }
   ],
   "source": [
    "print(dataset_Cobra.shape)\n",
    "print(dataset_Corpse.shape)\n",
    "print(dataset_Lotus.shape)\n",
    "print(dataset_Mountain.shape)\n",
    "print(dataset_Tree.shape)\n",
    "print(dataset_Triangle.shape)"
   ]
  },
  {
   "attachments": {},
   "cell_type": "markdown",
   "metadata": {},
   "source": [
    "Dobbiamo pertanto ricondurci alla shape descritta all'inizio (17517, 51), pertanto applico la seguente funzione"
   ]
  },
  {
   "cell_type": "code",
   "execution_count": null,
   "metadata": {},
   "outputs": [],
   "source": [
    "#numpy.squeeze() returns numpy.ndarray with all dimensions of size 1 removed.\n",
    "dataset_Cobra=np.squeeze(dataset_Cobra)\n",
    "dataset_Corpse=np.squeeze(dataset_Corpse)\n",
    "dataset_Lotus=np.squeeze(dataset_Lotus)\n",
    "dataset_Mountain=np.squeeze(dataset_Mountain)\n",
    "dataset_Tree=np.squeeze(dataset_Tree)\n",
    "dataset_Triangle=np.squeeze(dataset_Triangle)"
   ]
  },
  {
   "cell_type": "code",
   "execution_count": null,
   "metadata": {},
   "outputs": [
    {
     "name": "stdout",
     "output_type": "stream",
     "text": [
      "(20721, 51)\n",
      "(20492, 51)\n",
      "(17884, 51)\n",
      "(20061, 51)\n",
      "(22204, 51)\n",
      "(17517, 51)\n"
     ]
    }
   ],
   "source": [
    "print(dataset_Cobra.shape)\n",
    "print(dataset_Corpse.shape)\n",
    "print(dataset_Lotus.shape)\n",
    "print(dataset_Mountain.shape)\n",
    "print(dataset_Tree.shape)\n",
    "print(dataset_Triangle.shape)"
   ]
  },
  {
   "attachments": {},
   "cell_type": "markdown",
   "metadata": {},
   "source": [
    "Per poter semplicare acond di più l'accesso ai valori x,y per ogni keypoint effettuo il seguente reshape al dataset. "
   ]
  },
  {
   "cell_type": "code",
   "execution_count": null,
   "metadata": {},
   "outputs": [],
   "source": [
    "dataset_Cobra=dataset_Cobra.reshape(20721, 17,3)\n",
    "dataset_Corpse=dataset_Corpse.reshape(20492, 17,3)\n",
    "dataset_Lotus=dataset_Lotus.reshape(17884, 17,3)\n",
    "dataset_Mountain=dataset_Mountain.reshape(20061, 17,3)\n",
    "dataset_Tree=dataset_Tree.reshape(22204, 17,3)\n",
    "dataset_Triangle=dataset_Triangle.reshape(17517, 17,3)"
   ]
  },
  {
   "cell_type": "code",
   "execution_count": null,
   "metadata": {},
   "outputs": [
    {
     "name": "stdout",
     "output_type": "stream",
     "text": [
      "(20721, 17, 3)\n",
      "(20492, 17, 3)\n",
      "(17884, 17, 3)\n",
      "(20061, 17, 3)\n",
      "(22204, 17, 3)\n",
      "(17517, 17, 3)\n"
     ]
    }
   ],
   "source": [
    "print(dataset_Cobra.shape)\n",
    "print(dataset_Corpse.shape)\n",
    "print(dataset_Lotus.shape)\n",
    "print(dataset_Mountain.shape)\n",
    "print(dataset_Tree.shape)\n",
    "print(dataset_Triangle.shape)"
   ]
  },
  {
   "cell_type": "code",
   "execution_count": null,
   "metadata": {},
   "outputs": [],
   "source": [
    "npy_path = os.path.join(\"./dataset_checker/\",\"dataset_Cobra\")\n",
    "np.save(npy_path, dataset_Cobra)\n",
    "npy_path = os.path.join(\"./dataset_checker/\",\"dataset_Corpse\")\n",
    "np.save(npy_path, dataset_Corpse)   \n",
    "npy_path = os.path.join(\"./dataset_checker/\",\"dataset_Lotus\")\n",
    "np.save(npy_path, dataset_Lotus)   \n",
    "npy_path = os.path.join(\"./dataset_checker/\",\"dataset_Mountain\")\n",
    "np.save(npy_path, dataset_Mountain)   \n",
    "npy_path = os.path.join(\"./dataset_checker/\",\"dataset_Tree\")\n",
    "np.save(npy_path, dataset_Tree)   \n",
    "npy_path = os.path.join(\"./dataset_checker/\",\"dataset_Triangle\")\n",
    "np.save(npy_path, dataset_Triangle)   "
   ]
  },
  {
   "attachments": {},
   "cell_type": "markdown",
   "metadata": {},
   "source": [
    "Definisco un dizionario che vada a definire quali sono gli **angoli** che andremo a calcolare sulla base dei 17 punti individuati da MoveNet "
   ]
  },
  {
   "cell_type": "code",
   "execution_count": null,
   "metadata": {},
   "outputs": [],
   "source": [
    "ANGL_DICT = {\n",
    "    'angl_left_elbow': [10,8,6],\n",
    "    'angl_left_shoulder': [8,6,12],\n",
    "    'angl_left_hip': [6,12,14],\n",
    "    'angl_left_knee': [12,14,16],\n",
    "    'angl_right_elbow': [9,7,5],\n",
    "    'angl_right_shoulder': [7,5,11],\n",
    "    'angl_right_hip': [5,11,13],\n",
    "    'angl_right_knee': [11,13,15],\n",
    "}"
   ]
  },
  {
   "attachments": {},
   "cell_type": "markdown",
   "metadata": {},
   "source": [
    "Definisco la funzione che calcola i gradi di un angolo a partire da 3 vettori dati in input, contenenti i valory di x e y per oguno dei 3 punti presi in considerazione"
   ]
  },
  {
   "cell_type": "code",
   "execution_count": null,
   "metadata": {},
   "outputs": [],
   "source": [
    "def calculate_angle(a,b,c):\n",
    "#a,b e c sono array e dovrebbero essere composti da punti x,y, e confidence\n",
    "    a=np.array(a) #first \n",
    "    b=np.array(b) #mid\n",
    "    c=np.array(c) #end\n",
    "\n",
    "    radians = np.arctan2(c[1]-b[1], c[0]-b[0])- np.arctan2(a[1]-b[1], a[0]-b[0])\n",
    "    angle = int(np.abs(radians*180.0/np.pi))\n",
    "\n",
    "    if angle > 180.0:\n",
    "        angle = 360 - angle\n",
    "    \n",
    "    return angle"
   ]
  },
  {
   "attachments": {},
   "cell_type": "markdown",
   "metadata": {},
   "source": [
    "Definisco una funzione che mi andrà a calcolare gli angoli per tutti 17 i punti individuati da MoveNet"
   ]
  },
  {
   "cell_type": "code",
   "execution_count": null,
   "metadata": {},
   "outputs": [],
   "source": [
    "def calculate_all_angles(keypoints):\n",
    "    agles_list=[]\n",
    "    for key in ANGL_DICT:\n",
    "            first_point=keypoints[ANGL_DICT[key][0]]\n",
    "            second_point=keypoints[ANGL_DICT[key][1]]\n",
    "            third_point=keypoints[ANGL_DICT[key][2]]\n",
    "            angle=calculate_angle(first_point,second_point,third_point)\n",
    "            agles_list.append([key,angle])\n",
    "    return agles_list\n",
    "    \n",
    "    "
   ]
  },
  {
   "attachments": {},
   "cell_type": "markdown",
   "metadata": {},
   "source": [
    "Definisco una funzione che implementi il KNN, che quindi trovi 1 o più frame vicini, faccia la media calcolando il centroide e che calcoli infine per questo frame trovato gli angoli per tutti i 17 punti."
   ]
  },
  {
   "cell_type": "code",
   "execution_count": null,
   "metadata": {},
   "outputs": [],
   "source": [
    "def knn_angoli(n_neighbors,samples,keypoint):\n",
    "    two_dimension_samples=samples.reshape(samples.shape[0], 51)\n",
    "    \n",
    "    neigh = NearestNeighbors(n_neighbors=n_neighbors)\n",
    "    neigh.fit(two_dimension_samples)\n",
    "    \n",
    "    two_dimension_keypoint = keypoint.reshape(1, -1)\n",
    "    index=neigh.kneighbors(two_dimension_keypoint,#keypoint/frame\n",
    "                        n_neighbors=n_neighbors, return_distance=False)\n",
    "    #print(index)\n",
    "    #print(index.shape)\n",
    "    #print(index[0][0])\n",
    "    #print(samples[index[0][0]])\n",
    "    \n",
    "    if(n_neighbors==1):\n",
    "        angles_vid=calculate_all_angles(samples[index[0][0]])\n",
    "    else:\n",
    "        centroide=np.zeros((17,3))\n",
    "        i=0\n",
    "        for j in index[0]:\n",
    "\n",
    "            centroide+=samples[j]\n",
    "            i+=1\n",
    "        centroide=centroide/i\n",
    "        \n",
    "        angles_vid=calculate_all_angles(centroide)\n",
    "    \n",
    "    return angles_vid\n",
    "    "
   ]
  },
  {
   "attachments": {},
   "cell_type": "markdown",
   "metadata": {},
   "source": [
    "Definisco una funzione che verifichi la correttezza degli angoli generati dalla posa esguita"
   ]
  },
  {
   "cell_type": "code",
   "execution_count": null,
   "metadata": {},
   "outputs": [],
   "source": [
    "def correct_angles(threshold, angles_vid, angles_u):\n",
    "    for i in range(len(angles_vid)):\n",
    "        diff=abs(angles_vid[i][1] - angles_u[i][1])\n",
    "        if diff < threshold:\n",
    "            print(\"angolo sbagliato di: \", diff)\n",
    "            print(angles_vid[i][0])\n",
    "            "
   ]
  },
  {
   "attachments": {},
   "cell_type": "markdown",
   "metadata": {},
   "source": [
    "Per ogni posa definisco una funzione che verifichi la correttezza degli angoli e che dia un feedback"
   ]
  },
  {
   "cell_type": "code",
   "execution_count": null,
   "metadata": {},
   "outputs": [],
   "source": [
    "def correct_angles(threshold, angles_vid, angles_u,posa):\n",
    "    if posa == 'Cobra':\n",
    "        correct_angles_cobra(threshold, angles_vid, angles_u)\n",
    "    elif posa== 'Corpse':\n",
    "        correct_angles_corpse(threshold, angles_vid, angles_u)        \n",
    "    elif posa== 'Lotus':\n",
    "        correct_angles_lotus(threshold, angles_vid, angles_u)\n",
    "    elif posa== 'Mountain':\n",
    "        correct_angles_mountain(threshold, angles_vid, angles_u)        \n",
    "    elif posa== 'Tree':\n",
    "        correct_angles_tree(threshold, angles_vid, angles_u)        \n",
    "    elif posa== 'Triangle':\n",
    "        correct_angles_triangle(threshold, angles_vid, angles_u)\n",
    "        "
   ]
  },
  {
   "cell_type": "code",
   "execution_count": null,
   "metadata": {},
   "outputs": [],
   "source": [
    "def correct_angles_cobra(threshold, angles_vid, angles_u):\n",
    "    correct_angles=0\n",
    "    for i in range(len(angles_vid)):\n",
    "        diff=abs(angles_vid[i][1] - angles_u[i][1])\n",
    "        if diff > threshold:\n",
    "            if i == 0 or i == 4:\n",
    "                print(\"Angolo {} sbagliato di: {} gradi\".format(angles_vid[i][0], diff))\n",
    "                print(\"Distendi le braccia\")\n",
    "                correct_angles+=1\n",
    "            elif i == 2 or i == 5:\n",
    "                print(\"Angolo {} sbagliato di: {} gradi\".format(angles_vid[i][0], diff))\n",
    "                print(\"Mantieni le mani larghezza spalle\")\n",
    "                correct_angles+=1\n",
    "            elif i == 3 or i == 6:\n",
    "                print(\"Angolo {} sbagliato di: {} gradi\".format(angles_vid[i][0], diff))\n",
    "                print(\"Mantieni le gambe largezza spalle\")\n",
    "                correct_angles+=1\n",
    "            elif i == 4 or i == 7:\n",
    "                print(\"Angolo {} sbagliato di: {} gradi\".format(angles_vid[i][0], diff))\n",
    "                print(\"Distendi le gambe\")\n",
    "        if correct_angles==0 :\n",
    "            print(\"posizione corretta\")              \n",
    "                "
   ]
  },
  {
   "cell_type": "code",
   "execution_count": null,
   "metadata": {},
   "outputs": [],
   "source": [
    "def correct_angles_corpse(threshold, angles_vid, angles_u):\n",
    "    correct_angles=0\n",
    "    for i in range(len(angles_vid)):\n",
    "        diff=abs(angles_vid[i][1] - angles_u[i][1])\n",
    "        if diff > threshold:\n",
    "            if i == 0 or i == 4:\n",
    "                print(\"Angolo {} sbagliato di: {} gradi\".format(angles_vid[i][0], diff))\n",
    "                print(\"Distendi meglio le braccia\")\n",
    "                correct_angles+=1\n",
    "            elif i == 2 or i == 5:\n",
    "                print(\"Angolo {} sbagliato di: {} gradi\".format(angles_vid[i][0], diff))\n",
    "                print(\"Disponi le braccia lungo i fianchi\")\n",
    "                correct_angles+=1\n",
    "            elif i == 3 or i == 6:\n",
    "                print(\"Angolo {} sbagliato di: {} gradi\".format(angles_vid[i][0], diff))\n",
    "                print(\"Mantieni le gambe largezza spalle\")\n",
    "                correct_angles+=1\n",
    "            elif i == 4 or i == 7:\n",
    "                print(\"Angolo {} sbagliato di: {} gradi\".format(angles_vid[i][0], diff))\n",
    "                print(\"Distendi meglio le gambe\")\n",
    "                correct_angles+=1\n",
    "        if correct_angles==0 :\n",
    "            print(\"posizione corretta\")      "
   ]
  },
  {
   "cell_type": "code",
   "execution_count": null,
   "metadata": {},
   "outputs": [],
   "source": [
    "def correct_angles_lotus(threshold, angles_vid, angles_u):\n",
    "    correct_angles=0\n",
    "    for i in range(len(angles_vid)):\n",
    "        diff=abs(angles_vid[i][1] - angles_u[i][1])\n",
    "        if diff > threshold:\n",
    "            if i == 0 or i == 4:\n",
    "                print(\"Angolo {} sbagliato di: {} gradi\".format(angles_vid[i][0], diff))\n",
    "                print(\"Distendi meglio le braccia\")\n",
    "                correct_angles+=1\n",
    "            elif i == 2 or i == 5:\n",
    "                print(\"Angolo {} sbagliato di: {} gradi\".format(angles_vid[i][0], diff))\n",
    "                print(\"Mantenendo il busto dritto lascia cadere le braccia\")\n",
    "                correct_angles+=1\n",
    "            elif i == 3 or i == 6:\n",
    "                print(\"Angolo {} sbagliato di: {} gradi\".format(angles_vid[i][0], diff))\n",
    "                print(\"Mantieni le gambe largezza spalle\")\n",
    "                correct_angles+=1\n",
    "            elif i == 4 or i == 7:\n",
    "                print(\"Angolo {} sbagliato di: {} gradi\".format(angles_vid[i][0], diff))\n",
    "                print(\"Incrocia meglio le gambe\")\n",
    "                correct_angles+=1\n",
    "        if correct_angles==0 :\n",
    "            print(\"posizione corretta\")  "
   ]
  },
  {
   "cell_type": "code",
   "execution_count": null,
   "metadata": {},
   "outputs": [],
   "source": [
    "def correct_angles_mountain(threshold, angles_vid, angles_u):\n",
    "    correct_angles=0\n",
    "    for i in range(len(angles_vid)):\n",
    "        diff=abs(angles_vid[i][1] - angles_u[i][1])\n",
    "        if diff > threshold:\n",
    "            if i == 0 or i == 4:\n",
    "                print(\"Angolo {} sbagliato di: {} gradi\".format(angles_vid[i][0], diff))\n",
    "                print(\"Distendi meglio le braccia\")\n",
    "                correct_angles+=1\n",
    "            elif i == 2 or i == 5:\n",
    "                print(\"Angolo {} sbagliato di: {} gradi\".format(angles_vid[i][0], diff))\n",
    "                print(\"Tira manggiormente le braccia verticalmente\")\n",
    "                correct_angles+=1\n",
    "            elif i == 3 or i == 6:\n",
    "                print(\"Angolo {} sbagliato di: {} gradi\".format(angles_vid[i][0], diff))\n",
    "                print(\"Mantieni le gambe largezza spalle\")\n",
    "                correct_angles+=1\n",
    "            elif i == 4 or i == 7:\n",
    "                print(\"Angolo {} sbagliato di: {} gradi\".format(angles_vid[i][0], diff))\n",
    "                print(\"Distendi meglio le gambe e sali maggiormente sulle punte dei piedi\")\n",
    "                correct_angles+=1\n",
    "        if correct_angles==0 :\n",
    "            print(\"posizione corretta\")  "
   ]
  },
  {
   "cell_type": "code",
   "execution_count": null,
   "metadata": {},
   "outputs": [],
   "source": [
    "def correct_angles_tree(threshold, angles_vid, angles_u):\n",
    "    correct_angles=0\n",
    "    for i in range(len(angles_vid)):\n",
    "        diff=abs(angles_vid[i][1] - angles_u[i][1])\n",
    "        if diff > threshold:\n",
    "            if i == 0 or i == 4:\n",
    "                print(\"Angolo {} sbagliato di: {} gradi\".format(angles_vid[i][0], diff))\n",
    "                print(\"Unendo le mani cerca di fomare un angolo retto con il gomito\")\n",
    "                correct_angles+=1\n",
    "            elif i == 2 or i == 5:\n",
    "                print(\"Angolo {} sbagliato di: {} gradi\".format(angles_vid[i][0], diff))\n",
    "                print(\"Non tenere i gomiti esternamente ma lasciali vicino al corpo\")\n",
    "                correct_angles+=1\n",
    "            elif i == 3 or i == 6:\n",
    "                print(\"Angolo {} sbagliato di: {} gradi\".format(angles_vid[i][0], diff))\n",
    "                print(\"Mantieni le gambe largezza spalle piegandone una\")\n",
    "                correct_angles+=1\n",
    "            elif i == 4 or i == 7:\n",
    "                print(\"Angolo {} sbagliato di: {} gradi\".format(angles_vid[i][0], diff))\n",
    "                print(\"Distendi meglio una gamba e cerca di portare il piede in prossimità del ginochhio\")\n",
    "                correct_angles+=1\n",
    "        if correct_angles==0 :\n",
    "            print(\"posizione corretta\")   "
   ]
  },
  {
   "cell_type": "code",
   "execution_count": null,
   "metadata": {},
   "outputs": [],
   "source": [
    "def correct_angles_triangle(threshold, angles_vid, angles_u):\n",
    "    correct_angles=0\n",
    "    for i in range(len(angles_vid)):\n",
    "        diff=abs(angles_vid[i][1] - angles_u[i][1])\n",
    "        if diff > threshold:\n",
    "            if i == 0 or i == 4:\n",
    "                print(\"Angolo {} sbagliato di: {} gradi\".format(angles_vid[i][0], diff))\n",
    "                print(\"Distedi meglio le braccia \")\n",
    "                correct_angles+=1\n",
    "            elif i == 2 or i == 5:\n",
    "                print(\"Angolo {} sbagliato di: {} gradi\".format(angles_vid[i][0], diff))\n",
    "                print(\"Disponi le braccia orizzontalmente e cerca di piegarti maggiormente verso la punta del piede\")\n",
    "                correct_angles+=1\n",
    "            elif i == 3 or i == 6:\n",
    "                print(\"Angolo {} sbagliato di: {} gradi\".format(angles_vid[i][0], diff))\n",
    "                print(\"Metti le gambe un po' più larghe rispetto alle spalle\")\n",
    "                correct_angles+=1\n",
    "            elif i == 4 or i == 7:\n",
    "                print(\"Angolo {} sbagliato di: {} gradi\".format(angles_vid[i][0], diff))\n",
    "                print(\"Mantieni le gambe distese\")\n",
    "                correct_angles+=1\n",
    "        if correct_angles==0 :\n",
    "            print(\"posizione corretta\")   "
   ]
  },
  {
   "attachments": {},
   "cell_type": "markdown",
   "metadata": {},
   "source": [
    "Definisco una funzione che mostri a schermo gli angoli"
   ]
  },
  {
   "cell_type": "code",
   "execution_count": null,
   "metadata": {},
   "outputs": [],
   "source": [
    "def draw_angles(angles_u,input_frame):\n",
    "    output_frame =input_frame\n",
    "    for i in range(len(angles_u)):\n",
    "        cv2.putText(output_frame, angles_u[i][0]+\": \"+ str(angles_u[i][1]), (450,85+i*40), \n",
    "                    cv2.FONT_HERSHEY_SIMPLEX,0.5,(255,255,255),1, cv2.LINE_AA)\n",
    "    return output_frame"
   ]
  },
  {
   "attachments": {},
   "cell_type": "markdown",
   "metadata": {},
   "source": [
    "Prova in real-time"
   ]
  },
  {
   "cell_type": "code",
   "execution_count": null,
   "metadata": {},
   "outputs": [],
   "source": [
    "cap = cv2.VideoCapture(0) \n",
    "# Load the input image.\n",
    "image_height, image_width = [480,640]\n",
    "crop_region = init_crop_region(image_height, image_width)\n",
    "while cap.isOpened():\n",
    "    ret,frame = cap.read()\n",
    "    image = frame\n",
    "    \n",
    "    keypoints_with_scores = run_inference(\n",
    "    movenet, image, crop_region,\n",
    "    crop_size=[256, 256])\n",
    "\n",
    "    crop_region = determine_crop_region(\n",
    "    keypoints_with_scores, image_height, image_width)\n",
    "    draw_skeleton(frame, keypoints_with_scores, 0.3)\n",
    "\n",
    "    keypoint = extract_keypoints(keypoints_with_scores)\n",
    "\n",
    "    angl_vid=knn_angoli(4,dataset_Triangle,keypoint)\n",
    "\n",
    "\n",
    "    keypoint = keypoint.reshape((17,3))      \n",
    "    angl_u=calculate_all_angles(keypoint)\n",
    "\n",
    "    image = draw_angles(angl_u,image)\n",
    "    \n",
    "    #correct_angles(15,angl_vid,angl_u)\n",
    "    \n",
    "    \n",
    "    cv2.imshow('MoveNet', frame)\n",
    "    \n",
    "    if cv2.waitKey(10) & 0xFF == ord('q'):\n",
    "        break\n",
    "    \n",
    "cap.release()\n",
    "cv2.destroyAllWindows()\n"
   ]
  },
  {
   "attachments": {},
   "cell_type": "markdown",
   "metadata": {},
   "source": [
    "## **Demo del sistema completo**"
   ]
  },
  {
   "attachments": {},
   "cell_type": "markdown",
   "metadata": {},
   "source": [
    "Demo del sistema completo in cui avvien sia la classificazione che la correzione delle pose di yoga"
   ]
  },
  {
   "cell_type": "code",
   "execution_count": null,
   "metadata": {},
   "outputs": [],
   "source": [
    "sequence=[]\n",
    "predictions=[]\n",
    "posa='nessuno'\n",
    "dataset_posa=None\n",
    "\n",
    "cap = cv2.VideoCapture(0) \n",
    "# Load the input image.\n",
    "image_height, image_width = [480,640]\n",
    "crop_region = init_crop_region(image_height, image_width)\n",
    "while cap.isOpened():\n",
    "    ret,frame = cap.read()\n",
    "    image = frame\n",
    "    \n",
    "    keypoints_with_scores = run_inference(\n",
    "    movenet, image, crop_region,\n",
    "    crop_size=[256, 256])\n",
    "\n",
    "    crop_region = determine_crop_region(\n",
    "    keypoints_with_scores, image_height, image_width)\n",
    "    draw_skeleton(frame, keypoints_with_scores, 0.3)\n",
    "\n",
    "    #predict logic \n",
    "    keypoint = extract_keypoints(keypoints_with_scores)\n",
    "    sequence.append(keypoint)\n",
    "    sequence= sequence[-45:]\n",
    "    \n",
    "    if len(sequence)==45:\n",
    "        res = model_Rnn.predict(np.expand_dims(sequence,axis=0))[0]\n",
    "        predictions.append(np.argmax(res))\n",
    "    \n",
    "        #scrivere su schermo la scritta\n",
    "        if np.unique(predictions[-10:])[0]==np.argmax(res):# controlla che le ultime 10 predizioni siano uguali\n",
    "            if res[np.argmax(res)] > 0.3:\n",
    "                posa = actions[np.argmax(res)]\n",
    "                dataset_posa = eval('dataset_'+ posa)#fa il parsing tra stringa e variabile\n",
    "         \n",
    "        image = prob_viz(res,actions, image)\n",
    "    \n",
    "    cv2.rectangle(image, (0,0), (640,40), (245,117,16), -1)\n",
    "    cv2.putText(image, posa, (3,30), cv2.FONT_HERSHEY_SIMPLEX,1,(255,255,255),2, cv2.LINE_AA)\n",
    "    \n",
    "    if posa != 'nessuno':\n",
    "        angl_vid=knn_angoli(4,dataset_posa,keypoint)\n",
    "\n",
    "\n",
    "        keypoint = keypoint.reshape((17,3))      \n",
    "        angl_u=calculate_all_angles(keypoint)\n",
    "\n",
    "        image = draw_angles(angl_u,image)\n",
    "        \n",
    "        correct_angles(15,angl_vid,angl_u,posa)\n",
    "    \n",
    "    cv2.imshow('MoveNet', frame)\n",
    "    \n",
    "    if cv2.waitKey(10) & 0xFF == ord('q'):\n",
    "        break\n",
    "    \n",
    "cap.release()\n",
    "cv2.destroyAllWindows()"
   ]
  }
 ],
 "metadata": {
  "kernelspec": {
   "display_name": "base",
   "language": "python",
   "name": "python3"
  },
  "language_info": {
   "codemirror_mode": {
    "name": "ipython",
    "version": 3
   },
   "file_extension": ".py",
   "mimetype": "text/x-python",
   "name": "python",
   "nbconvert_exporter": "python",
   "pygments_lexer": "ipython3",
   "version": "3.8.3"
  },
  "orig_nbformat": 4,
  "vscode": {
   "interpreter": {
    "hash": "ad2bdc8ecc057115af97d19610ffacc2b4e99fae6737bb82f5d7fb13d2f2c186"
   }
  }
 },
 "nbformat": 4,
 "nbformat_minor": 2
}
